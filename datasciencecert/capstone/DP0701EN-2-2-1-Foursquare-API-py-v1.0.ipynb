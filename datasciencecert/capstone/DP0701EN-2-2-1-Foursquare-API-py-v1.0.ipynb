{
 "cells": [
  {
   "cell_type": "markdown",
   "metadata": {
    "button": false,
    "new_sheet": false,
    "run_control": {
     "read_only": false
    }
   },
   "source": [
    "<a href=\"https://cognitiveclass.ai\"><img src = \"https://ibm.box.com/shared/static/9gegpsmnsoo25ikkbl4qzlvlyjbgxs5x.png\" width = 400> </a>\n",
    "\n",
    "<h1 align=center><font size = 5>Learning FourSquare API with Python</font></h1>"
   ]
  },
  {
   "cell_type": "markdown",
   "metadata": {
    "button": false,
    "new_sheet": false,
    "run_control": {
     "read_only": false
    }
   },
   "source": [
    "   "
   ]
  },
  {
   "cell_type": "markdown",
   "metadata": {
    "button": false,
    "new_sheet": false,
    "run_control": {
     "read_only": false
    }
   },
   "source": [
    "## Introduction\n",
    "\n",
    "In this lab, you will learn in details how to make calls to the Foursquare API for different purposes. You will learn how to construct a URL to send a request to the API to search for a specific type of venues, to explore a particular venue, to explore a Foursquare user, to explore a geographical location, and to get trending venues around a location. Also, you will learn how to use the visualization library, Folium, to visualize the results."
   ]
  },
  {
   "cell_type": "markdown",
   "metadata": {
    "button": false,
    "new_sheet": false,
    "run_control": {
     "read_only": false
    }
   },
   "source": [
    "## Table of Contents\n",
    "\n",
    "1. <a href=\"#item1\">Foursquare API Search Function</a>\n",
    "2. <a href=\"#item2\">Explore a Given Venue</a>  \n",
    "3. <a href=\"#item3\">Explore a User</a>  \n",
    "4. <a href=\"#item4\">Foursquare API Explore Function</a>  \n",
    "5. <a href=\"#item5\">Get Trending Venues</a>  "
   ]
  },
  {
   "cell_type": "markdown",
   "metadata": {
    "button": false,
    "new_sheet": false,
    "run_control": {
     "read_only": false
    }
   },
   "source": [
    "### Import necessary Libraries"
   ]
  },
  {
   "cell_type": "code",
   "execution_count": 1,
   "metadata": {
    "button": false,
    "new_sheet": false,
    "run_control": {
     "read_only": false
    }
   },
   "outputs": [
    {
     "name": "stdout",
     "output_type": "stream",
     "text": [
      "Collecting package metadata: done\n",
      "Solving environment: / \n",
      "The environment is inconsistent, please check the package plan carefully\n",
      "The following packages are causing the inconsistency:\n",
      "\n",
      "  - conda-forge/noarch::r-xtable==1.8_3=r351_2000\n",
      "  - conda-forge/noarch::r-modelr==0.1.4=r351h6115d3f_0\n",
      "  - conda-forge/noarch::r-irdisplay==0.7=r351_1000\n",
      "  - conda-forge/linux-64::r-kernsmooth==2.23_15=r351ha65eedd_1002\n",
      "  - conda-forge/noarch::r-quantmod==0.4_13=r351h6115d3f_1000\n",
      "  - conda-forge/noarch::r-dbplyr==1.4.0=r351h6115d3f_0\n",
      "  - conda-forge/linux-64::r-tibble==2.1.1=r351hcdcec82_0\n",
      "  - conda-forge/noarch::r-blob==1.1.1=r351_1001\n",
      "  - conda-forge/noarch::r-rcolorbrewer==1.1_2=r351h6115d3f_1001\n",
      "  - conda-forge/linux-64::r-readxl==1.3.1=r351h0357c0b_0\n",
      "  - conda-forge/noarch::r-nycflights13==1.0.0=r351_1000\n",
      "  - conda-forge/noarch::r-viridislite==0.3.0=r351h6115d3f_1001\n",
      "  - conda-forge/noarch::r-codetools==0.2_16=r351h6115d3f_1000\n",
      "  - conda-forge/linux-64::r-digest==0.6.18=r351h96ca727_1000\n",
      "  - conda-forge/noarch::r-rprojroot==1.3_2=r351h6115d3f_1001\n",
      "  - conda-forge/noarch::r-hms==0.4.2=r351h6115d3f_1000\n",
      "  - conda-forge/noarch::r-lava==1.6.5=r351h6115d3f_0\n",
      "  - conda-forge/noarch::r-clipr==0.6.0=r351h6115d3f_0\n",
      "  - conda-forge/linux-64::r-survival==2.44_1.1=r351hcdcec82_0\n",
      "  - conda-forge/noarch::r-magrittr==1.5=r351h6115d3f_1001\n",
      "  - conda-forge/linux-64::r-mass==7.3_51.3=r351hcdcec82_0\n",
      "  - conda-forge/linux-64::r-lattice==0.20_38=r351h96ca727_1000\n",
      "  - conda-forge/noarch::r-repr==0.19.2=r351h6115d3f_0\n",
      "  - conda-forge/noarch::r-r2d3==0.2.3=r351h6115d3f_1000\n",
      "  - conda-forge/linux-64::r-rcpproll==0.3.0=r351h29659fb_1000\n",
      "  - conda-forge/linux-64::r-sys==3.1=r351hcdcec82_0\n",
      "  - conda-forge/noarch::r-gtable==0.3.0=r351h6115d3f_0\n",
      "  - conda-forge/linux-64::r-rlang==0.3.4=r351hcdcec82_0\n",
      "  - conda-forge/noarch::r-pkgconfig==2.0.2=r351h6115d3f_1001\n",
      "  - conda-forge/linux-64::r-base==3.5.1=h271c98b_1006\n",
      "  - conda-forge/linux-64::r-utf8==1.1.4=r351h96ca727_1000\n",
      "  - conda-forge/noarch::r-stringr==1.4.0=r351h6115d3f_0\n",
      "  - conda-forge/noarch::r-cli==1.1.0=r351h6115d3f_0\n",
      "  - conda-forge/linux-64::r-readr==1.3.1=r351h29659fb_1000\n",
      "  - conda-forge/noarch::r-squarem==2017.10_1=r351h6115d3f_1001\n",
      "  - conda-forge/linux-64::r-stringi==1.4.3=r351h0357c0b_0\n",
      "  - conda-forge/linux-64::r-later==0.8.0=r351h29659fb_0\n",
      "  - conda-forge/linux-64::r-fs==1.2.7=r351h0357c0b_0\n",
      "  - conda-forge/linux-64::r-rcpparmadillo==0.9.300.2.0=r351h0357c0b_0\n",
      "  - conda-forge/linux-64::r-randomforest==4.6_14=r351ha65eedd_1000\n",
      "  - conda-forge/linux-64::r-colorspace==1.4_1=r351hcdcec82_0\n",
      "  - conda-forge/noarch::r-tidyverse==1.2.1=r351h6115d3f_1001\n",
      "  - conda-forge/linux-64::r-fracdiff==1.4_2=r351h96ca727_1002\n",
      "  - conda-forge/noarch::r-foreach==1.4.4=r351h6115d3f_1001\n",
      "  - conda-forge/noarch::r-forcats==0.4.0=r351h6115d3f_0\n",
      "  - conda-forge/linux-64::r-matrix==1.2_17=r351hcdcec82_0\n",
      "  - conda-forge/linux-64::r-zoo==1.8_5=r351hcdcec82_0\n",
      "  - conda-forge/noarch::r-evaluate==0.13=r351h6115d3f_1\n",
      "  - conda-forge/noarch::r-selectr==0.4_1=r351h6115d3f_1000\n",
      "  - conda-forge/linux-64::r-markdown==0.9=r351h96ca727_1000\n",
      "  - conda-forge/noarch::r-xfun==0.6=r351h6115d3f_0\n",
      "  - conda-forge/noarch::r-bh==1.69.0_1=r351h6115d3f_0\n",
      "  - conda-forge/linux-64::r-purrr==0.3.2=r351hcdcec82_0\n",
      "  - conda-forge/linux-64::r-data.table==1.12.2=r351hcdcec82_0\n",
      "  - conda-forge/linux-64::r-ttr==0.23_4=r351ha65eedd_1000\n",
      "  - conda-forge/linux-64::r-gower==0.2.0=r351h96ca727_0\n",
      "  - conda-forge/linux-64::r-bit==1.1_14=r351hcdcec82_0\n",
      "  - conda-forge/linux-64::r-rcurl==1.95_4.12=r351hcdcec82_0\n",
      "  - conda-forge/noarch::r-memoise==1.1.0=r351h6115d3f_1001\n",
      "  - conda-forge/noarch::r-htmlwidgets==1.2=r351h6115d3f_1000\n",
      "  - conda-forge/linux-64::r-git2r==0.25.2=r351h5ca76e2_0\n",
      "  - conda-forge/linux-64::r-prodlim==2018.04.18=r351h29659fb_1002\n",
      "  - conda-forge/noarch::r-dbi==1.0.0=r351h6115d3f_1001\n",
      "  - conda-forge/noarch::r-sparklyr==0.9.4=r351h6115d3f_0\n",
      "  - conda-forge/linux-64::r-hexbin==1.27.2=r351ha65eedd_1002\n",
      "  - conda-forge/noarch::r-labeling==0.3=r351h6115d3f_1001\n",
      "  - conda-forge/linux-64::r-bit64==0.9_7=r351h96ca727_1000\n",
      "  - conda-forge/linux-64::r-tidyselect==0.2.5=r351h29659fb_1000\n",
      "  - conda-forge/linux-64::r-ipred==0.9_8=r351h96ca727_1000\n",
      "  - conda-forge/linux-64::r-lubridate==1.7.4=r351h29659fb_1001\n",
      "  - conda-forge/noarch::r-progress==1.2.0=r351h6115d3f_1002\n",
      "  - conda-forge/linux-64::r-rpart==4.1_15=r351hcdcec82_0\n",
      "  - conda-forge/linux-64::r-caret==6.0_82=r351hcdcec82_0\n",
      "  - conda-forge/linux-64::r-curl==3.3=r351h96ca727_0\n",
      "  - conda-forge/linux-64::r-tseries==0.10_46=r351h9ac9557_1000\n",
      "  - conda-forge/noarch::r-generics==0.0.2=r351h6115d3f_1001\n",
      "  - conda-forge/linux-64::r-yaml==2.2.0=r351h96ca727_1001\n",
      "  - conda-forge/noarch::r-timedate==3043.102=r351h6115d3f_1000\n",
      "  - conda-forge/linux-64::r-nnet==7.3_12=r351h96ca727_1002\n",
      "  - conda-forge/linux-64::r-ellipsis==0.1.0=r351h96ca727_0\n",
      "  - conda-forge/noarch::r-withr==2.1.2=r351h6115d3f_1000\n",
      "  - conda-forge/linux-64::r-tidyr==0.8.3=r351h0357c0b_0\n",
      "  - conda-forge/noarch::r-ggplot2==3.1.1=r351h6115d3f_0\n",
      "  - conda-forge/noarch::r-rstudioapi==0.10=r351h6115d3f_0\n",
      "  - conda-forge/linux-64::r-ps==1.3.0=r351h96ca727_1000\n",
      "  - conda-forge/linux-64::r-class==7.3_15=r351h96ca727_1000\n",
      "  - conda-forge/linux-64::r-rcpp==1.0.1=r351h0357c0b_0\n",
      "  - conda-forge/noarch::r-httr==1.4.0=r351h6115d3f_1000\n",
      "  - conda-forge/linux-64::r-openssl==1.3=r351h9c8475f_0\n",
      "  - conda-forge/noarch::r-plogr==0.2.0=r351h6115d3f_1001\n",
      "  - conda-forge/linux-64::r-forecast==8.2=r351hf484d3e_1001\n",
      "  - conda-forge/linux-64::r-devtools==1.13.6=r351h6115d3f_1\n",
      "  - conda-forge/noarch::r-highr==0.8=r351h6115d3f_0\n",
      "  - conda-forge/noarch::r-r6==2.4.0=r351h6115d3f_0\n",
      "  - conda-forge/noarch::r-whisker==0.3_2=r351h6115d3f_1001\n",
      "  - conda-forge/noarch::r-rvest==0.3.3=r351h6115d3f_0\n",
      "  - conda-forge/linux-64::r-processx==3.3.0=r351hcdcec82_0\n",
      "  - conda-forge/noarch::r-rematch==1.0.1=r351h6115d3f_1001\n",
      "  - conda-forge/noarch::r-broom==0.5.2=r351h6115d3f_0\n",
      "  - conda-forge/noarch::r-pillar==1.3.1=r351h6115d3f_1000\n",
      "  - conda-forge/linux-64::r-haven==2.1.0=r351h29659fb_0\n",
      "  - conda-forge/linux-64::r-mime==0.6=r351h96ca727_1000\n",
      "  - conda-forge/noarch::r-rmarkdown==1.11=r351h6115d3f_1000\n",
      "  - conda-forge/noarch::r-iterators==1.0.10=r351h6115d3f_1001\n",
      "  - conda-forge/noarch::r-callr==3.2.0=r351h6115d3f_0\n",
      "  - conda-forge/noarch::r-shiny==1.2.0=r351_1000\n",
      "  - conda-forge/linux-64::r-promises==1.0.1=r351h29659fb_1000\n",
      "  - conda-forge/linux-64::r-modelmetrics==1.2.2=r351h0357c0b_0\n",
      "  - conda-forge/noarch::r-knitr==1.22=r351h6115d3f_0\n",
      "  - conda-forge/linux-64::r-glue==1.3.1=r351hcdcec82_0\n",
      "  - conda-forge/linux-64::r-sourcetools==0.1.7=r351hf484d3e_1000\n",
      "  - conda-forge/linux-64::r-quadprog==1.5_5=r351ha65eedd_1002\n",
      "  - conda-forge/linux-64::r-nlme==3.1_139=r351h9bbef5b_0\n",
      "  - conda-forge/linux-64::r-lazyeval==0.2.2=r351hcdcec82_0\n",
      "  - conda-forge/noarch::r-config==0.3=r351h6115d3f_1001\n",
      "  - conda-forge/linux-64::r-backports==1.1.4=r351hcdcec82_0\n",
      "  - conda-forge/linux-64::r-dplyr==0.8.0.1=r351h29659fb_1000\n",
      "  - conda-forge/linux-64::r-mgcv==1.8_28=r351hcdcec82_0\n",
      "  - conda-forge/noarch::r-recipes==0.1.5=r351h6115d3f_0\n",
      "  - conda-forge/noarch::r-munsell==0.5.0=r351h6115d3f_1001\n",
      "  - conda-forge/linux-64::r-xts==0.11_1=r351h96ca727_1000\n",
      "  - conda-forge/noarch::r-tinytex==0.12=r351h6115d3f_0\n",
      "  - conda-forge/noarch::r-assertthat==0.2.1=r351h6115d3f_0\n",
      "  - conda-forge/linux-64::r-askpass==1.1=r351h96ca727_0\n",
      "  - conda-forge/noarch::r-cellranger==1.1.0=r351h6115d3f_1001\n",
      "  - conda-forge/linux-64::r-pbdzmq==0.3_3=r351h193a840_1000\n",
      "  - conda-forge/linux-64::r-xml2==1.2.0=r351h29659fb_1002\n",
      "  - conda-forge/linux-64::r-base64enc==0.1_3=r351h96ca727_1002\n",
      "  - conda-forge/noarch::r-reprex==0.2.1=r351h6115d3f_1000\n",
      "  - conda-forge/noarch::r-crayon==1.3.4=r351h6115d3f_1001\n",
      "  - conda-forge/noarch::r-prettyunits==1.0.2=r351h6115d3f_1001\n",
      "  - conda-forge/linux-64::r-jsonlite==1.6=r351h96ca727_1000\n",
      "  - conda-forge/noarch::r-irkernel==0.8.15=r351h6115d3f_1001\n",
      "  - conda-forge/linux-64::r-plyr==1.8.4=r351h29659fb_1002\n",
      "  - conda-forge/linux-64::r-lmtest==0.9_36=r351ha65eedd_1000\n",
      "  - conda-forge/linux-64::r-fansi==0.4.0=r351h96ca727_1000\n",
      "  - conda-forge/linux-64::r-rsqlite==2.1.1=r351h29659fb_1000\n",
      "  - conda-forge/linux-64::r-reshape2==1.4.3=r351h29659fb_1003\n",
      "  - conda-forge/linux-64::r-bitops==1.0_6=r351h96ca727_1002\n",
      "  - conda-forge/linux-64::r-uuid==0.1_2=r351h96ca727_1001\n",
      "  - conda-forge/linux-64::r-httpuv==1.5.1=r351h0357c0b_0\n",
      "  - conda-forge/linux-64::r-scales==1.0.0=r351h29659fb_1001\n",
      "  - conda-forge/linux-64::r-rappdirs==0.3.1=r351h96ca727_1002\n",
      "  - conda-forge/noarch::r-forge==0.2.0=r351h6115d3f_0\n",
      "  - conda-forge/linux-64::rpy2==2.9.4=py37r351h941a26a_1\n",
      "  - conda-forge/linux-64::r-htmltools==0.3.6=r351hf484d3e_1002\n",
      "  - conda-forge/noarch::r-numderiv==2016.8_1=r351h6115d3f_1001\n",
      "  - conda-forge/linux-64::matplotlib==3.0.3=py37_1\n",
      "  - conda-forge/linux-64::scikit-image==0.14.2=py37hf484d3e_1\n",
      "  - conda-forge/linux-64::matplotlib-base==3.0.3=py37h5f35d83_1\n",
      "  - conda-forge/noarch::seaborn==0.9.0=py_0\n"
     ]
    },
    {
     "name": "stdout",
     "output_type": "stream",
     "text": [
      "done\n",
      "\n",
      "\n",
      "==> WARNING: A newer version of conda exists. <==\n",
      "  current version: 4.6.14\n",
      "  latest version: 4.7.11\n",
      "\n",
      "Please update conda by running\n",
      "\n",
      "    $ conda update -n base conda\n",
      "\n",
      "\n",
      "\n",
      "## Package Plan ##\n",
      "\n",
      "  environment location: /opt/conda\n",
      "\n",
      "  added / updated specs:\n",
      "    - geopy\n",
      "\n",
      "\n",
      "The following packages will be downloaded:\n",
      "\n",
      "    package                    |            build\n",
      "    ---------------------------|-----------------\n",
      "    geographiclib-1.49         |             py_0          32 KB  conda-forge\n",
      "    geopy-1.20.0               |             py_0          57 KB  conda-forge\n",
      "    ------------------------------------------------------------\n",
      "                                           Total:          90 KB\n",
      "\n",
      "The following NEW packages will be INSTALLED:\n",
      "\n",
      "  geographiclib      conda-forge/noarch::geographiclib-1.49-py_0\n",
      "  geopy              conda-forge/noarch::geopy-1.20.0-py_0\n",
      "\n",
      "\n",
      "\n",
      "Downloading and Extracting Packages\n",
      "geographiclib-1.49   | 32 KB     | ##################################### | 100% \n",
      "geopy-1.20.0         | 57 KB     | ##################################### | 100% \n",
      "Preparing transaction: done\n",
      "Verifying transaction: done\n",
      "Executing transaction: done\n",
      "Collecting package metadata: done\n",
      "Solving environment: \\ \n",
      "The environment is inconsistent, please check the package plan carefully\n",
      "The following packages are causing the inconsistency:\n",
      "\n",
      "  - conda-forge/noarch::r-xtable==1.8_3=r351_2000\n",
      "  - conda-forge/noarch::r-modelr==0.1.4=r351h6115d3f_0\n",
      "  - conda-forge/noarch::r-irdisplay==0.7=r351_1000\n",
      "  - conda-forge/linux-64::r-kernsmooth==2.23_15=r351ha65eedd_1002\n",
      "  - conda-forge/noarch::r-quantmod==0.4_13=r351h6115d3f_1000\n",
      "  - conda-forge/noarch::r-dbplyr==1.4.0=r351h6115d3f_0\n",
      "  - conda-forge/linux-64::r-tibble==2.1.1=r351hcdcec82_0\n",
      "  - conda-forge/noarch::r-blob==1.1.1=r351_1001\n",
      "  - conda-forge/noarch::r-rcolorbrewer==1.1_2=r351h6115d3f_1001\n",
      "  - conda-forge/linux-64::r-readxl==1.3.1=r351h0357c0b_0\n",
      "  - conda-forge/noarch::r-nycflights13==1.0.0=r351_1000\n",
      "  - conda-forge/noarch::r-viridislite==0.3.0=r351h6115d3f_1001\n",
      "  - conda-forge/noarch::r-codetools==0.2_16=r351h6115d3f_1000\n",
      "  - conda-forge/linux-64::r-digest==0.6.18=r351h96ca727_1000\n",
      "  - conda-forge/noarch::r-rprojroot==1.3_2=r351h6115d3f_1001\n",
      "  - conda-forge/noarch::r-hms==0.4.2=r351h6115d3f_1000\n",
      "  - conda-forge/noarch::r-lava==1.6.5=r351h6115d3f_0\n",
      "  - conda-forge/noarch::r-clipr==0.6.0=r351h6115d3f_0\n",
      "  - conda-forge/linux-64::r-survival==2.44_1.1=r351hcdcec82_0\n",
      "  - conda-forge/noarch::r-magrittr==1.5=r351h6115d3f_1001\n",
      "  - conda-forge/linux-64::r-mass==7.3_51.3=r351hcdcec82_0\n",
      "  - conda-forge/linux-64::r-lattice==0.20_38=r351h96ca727_1000\n",
      "  - conda-forge/noarch::r-repr==0.19.2=r351h6115d3f_0\n",
      "  - conda-forge/noarch::r-r2d3==0.2.3=r351h6115d3f_1000\n",
      "  - conda-forge/linux-64::r-rcpproll==0.3.0=r351h29659fb_1000\n",
      "  - conda-forge/linux-64::r-sys==3.1=r351hcdcec82_0\n",
      "  - conda-forge/noarch::r-gtable==0.3.0=r351h6115d3f_0\n",
      "  - conda-forge/linux-64::r-rlang==0.3.4=r351hcdcec82_0\n",
      "  - conda-forge/noarch::r-pkgconfig==2.0.2=r351h6115d3f_1001\n",
      "  - conda-forge/linux-64::r-base==3.5.1=h271c98b_1006\n",
      "  - conda-forge/linux-64::r-utf8==1.1.4=r351h96ca727_1000\n",
      "  - conda-forge/noarch::r-stringr==1.4.0=r351h6115d3f_0\n",
      "  - conda-forge/noarch::r-cli==1.1.0=r351h6115d3f_0\n",
      "  - conda-forge/linux-64::r-readr==1.3.1=r351h29659fb_1000\n",
      "  - conda-forge/noarch::r-squarem==2017.10_1=r351h6115d3f_1001\n",
      "  - conda-forge/linux-64::r-stringi==1.4.3=r351h0357c0b_0\n",
      "  - conda-forge/linux-64::r-later==0.8.0=r351h29659fb_0\n",
      "  - conda-forge/linux-64::r-fs==1.2.7=r351h0357c0b_0\n",
      "  - conda-forge/linux-64::r-rcpparmadillo==0.9.300.2.0=r351h0357c0b_0\n",
      "  - conda-forge/linux-64::r-randomforest==4.6_14=r351ha65eedd_1000\n",
      "  - conda-forge/linux-64::r-colorspace==1.4_1=r351hcdcec82_0\n",
      "  - conda-forge/noarch::r-tidyverse==1.2.1=r351h6115d3f_1001\n",
      "  - conda-forge/linux-64::r-fracdiff==1.4_2=r351h96ca727_1002\n",
      "  - conda-forge/noarch::r-foreach==1.4.4=r351h6115d3f_1001\n",
      "  - conda-forge/noarch::r-forcats==0.4.0=r351h6115d3f_0\n",
      "  - conda-forge/linux-64::r-matrix==1.2_17=r351hcdcec82_0\n",
      "  - conda-forge/linux-64::r-zoo==1.8_5=r351hcdcec82_0\n",
      "  - conda-forge/noarch::r-evaluate==0.13=r351h6115d3f_1\n",
      "  - conda-forge/noarch::r-selectr==0.4_1=r351h6115d3f_1000\n",
      "  - conda-forge/linux-64::r-markdown==0.9=r351h96ca727_1000\n",
      "  - conda-forge/noarch::r-xfun==0.6=r351h6115d3f_0\n",
      "  - conda-forge/noarch::r-bh==1.69.0_1=r351h6115d3f_0\n",
      "  - conda-forge/linux-64::r-purrr==0.3.2=r351hcdcec82_0\n",
      "  - conda-forge/linux-64::r-data.table==1.12.2=r351hcdcec82_0\n",
      "  - conda-forge/linux-64::r-ttr==0.23_4=r351ha65eedd_1000\n",
      "  - conda-forge/linux-64::r-gower==0.2.0=r351h96ca727_0\n",
      "  - conda-forge/linux-64::r-bit==1.1_14=r351hcdcec82_0\n",
      "  - conda-forge/linux-64::r-rcurl==1.95_4.12=r351hcdcec82_0\n",
      "  - conda-forge/noarch::r-memoise==1.1.0=r351h6115d3f_1001\n",
      "  - conda-forge/noarch::r-htmlwidgets==1.2=r351h6115d3f_1000\n",
      "  - conda-forge/linux-64::r-git2r==0.25.2=r351h5ca76e2_0\n",
      "  - conda-forge/linux-64::r-prodlim==2018.04.18=r351h29659fb_1002\n",
      "  - conda-forge/noarch::r-dbi==1.0.0=r351h6115d3f_1001\n",
      "  - conda-forge/noarch::r-sparklyr==0.9.4=r351h6115d3f_0\n",
      "  - conda-forge/linux-64::r-hexbin==1.27.2=r351ha65eedd_1002\n",
      "  - conda-forge/noarch::r-labeling==0.3=r351h6115d3f_1001\n",
      "  - conda-forge/linux-64::r-bit64==0.9_7=r351h96ca727_1000\n",
      "  - conda-forge/linux-64::r-tidyselect==0.2.5=r351h29659fb_1000\n",
      "  - conda-forge/linux-64::r-ipred==0.9_8=r351h96ca727_1000\n",
      "  - conda-forge/linux-64::r-lubridate==1.7.4=r351h29659fb_1001\n",
      "  - conda-forge/noarch::r-progress==1.2.0=r351h6115d3f_1002\n",
      "  - conda-forge/linux-64::r-rpart==4.1_15=r351hcdcec82_0\n",
      "  - conda-forge/linux-64::r-caret==6.0_82=r351hcdcec82_0\n",
      "  - conda-forge/linux-64::r-curl==3.3=r351h96ca727_0\n",
      "  - conda-forge/linux-64::r-tseries==0.10_46=r351h9ac9557_1000\n",
      "  - conda-forge/noarch::r-generics==0.0.2=r351h6115d3f_1001\n",
      "  - conda-forge/linux-64::r-yaml==2.2.0=r351h96ca727_1001\n",
      "  - conda-forge/noarch::r-timedate==3043.102=r351h6115d3f_1000\n",
      "  - conda-forge/linux-64::r-nnet==7.3_12=r351h96ca727_1002\n",
      "  - conda-forge/linux-64::r-ellipsis==0.1.0=r351h96ca727_0\n",
      "  - conda-forge/noarch::r-withr==2.1.2=r351h6115d3f_1000\n",
      "  - conda-forge/linux-64::r-tidyr==0.8.3=r351h0357c0b_0\n",
      "  - conda-forge/noarch::r-ggplot2==3.1.1=r351h6115d3f_0\n",
      "  - conda-forge/noarch::r-rstudioapi==0.10=r351h6115d3f_0\n",
      "  - conda-forge/linux-64::r-ps==1.3.0=r351h96ca727_1000\n",
      "  - conda-forge/linux-64::r-class==7.3_15=r351h96ca727_1000\n",
      "  - conda-forge/linux-64::r-rcpp==1.0.1=r351h0357c0b_0\n",
      "  - conda-forge/noarch::r-httr==1.4.0=r351h6115d3f_1000\n",
      "  - conda-forge/linux-64::r-openssl==1.3=r351h9c8475f_0\n",
      "  - conda-forge/noarch::r-plogr==0.2.0=r351h6115d3f_1001\n",
      "  - conda-forge/linux-64::r-forecast==8.2=r351hf484d3e_1001\n",
      "  - conda-forge/linux-64::r-devtools==1.13.6=r351h6115d3f_1\n",
      "  - conda-forge/noarch::r-highr==0.8=r351h6115d3f_0\n",
      "  - conda-forge/noarch::r-r6==2.4.0=r351h6115d3f_0\n",
      "  - conda-forge/noarch::r-whisker==0.3_2=r351h6115d3f_1001\n",
      "  - conda-forge/noarch::r-rvest==0.3.3=r351h6115d3f_0\n",
      "  - conda-forge/linux-64::r-processx==3.3.0=r351hcdcec82_0\n",
      "  - conda-forge/noarch::r-rematch==1.0.1=r351h6115d3f_1001\n",
      "  - conda-forge/noarch::r-broom==0.5.2=r351h6115d3f_0\n",
      "  - conda-forge/noarch::r-pillar==1.3.1=r351h6115d3f_1000\n",
      "  - conda-forge/linux-64::r-haven==2.1.0=r351h29659fb_0\n",
      "  - conda-forge/linux-64::r-mime==0.6=r351h96ca727_1000\n",
      "  - conda-forge/noarch::r-rmarkdown==1.11=r351h6115d3f_1000\n",
      "  - conda-forge/noarch::r-iterators==1.0.10=r351h6115d3f_1001\n",
      "  - conda-forge/noarch::r-callr==3.2.0=r351h6115d3f_0\n",
      "  - conda-forge/noarch::r-shiny==1.2.0=r351_1000\n",
      "  - conda-forge/linux-64::r-promises==1.0.1=r351h29659fb_1000\n",
      "  - conda-forge/linux-64::r-modelmetrics==1.2.2=r351h0357c0b_0\n",
      "  - conda-forge/noarch::r-knitr==1.22=r351h6115d3f_0\n",
      "  - conda-forge/linux-64::r-glue==1.3.1=r351hcdcec82_0\n",
      "  - conda-forge/linux-64::r-sourcetools==0.1.7=r351hf484d3e_1000\n",
      "  - conda-forge/linux-64::r-quadprog==1.5_5=r351ha65eedd_1002\n",
      "  - conda-forge/linux-64::r-nlme==3.1_139=r351h9bbef5b_0\n",
      "  - conda-forge/linux-64::r-lazyeval==0.2.2=r351hcdcec82_0\n",
      "  - conda-forge/noarch::r-config==0.3=r351h6115d3f_1001\n",
      "  - conda-forge/linux-64::r-backports==1.1.4=r351hcdcec82_0\n",
      "  - conda-forge/linux-64::r-dplyr==0.8.0.1=r351h29659fb_1000\n",
      "  - conda-forge/linux-64::r-mgcv==1.8_28=r351hcdcec82_0\n",
      "  - conda-forge/noarch::r-recipes==0.1.5=r351h6115d3f_0\n",
      "  - conda-forge/noarch::r-munsell==0.5.0=r351h6115d3f_1001\n",
      "  - conda-forge/linux-64::r-xts==0.11_1=r351h96ca727_1000\n",
      "  - conda-forge/noarch::r-tinytex==0.12=r351h6115d3f_0\n",
      "  - conda-forge/noarch::r-assertthat==0.2.1=r351h6115d3f_0\n",
      "  - conda-forge/linux-64::r-askpass==1.1=r351h96ca727_0\n",
      "  - conda-forge/noarch::r-cellranger==1.1.0=r351h6115d3f_1001\n",
      "  - conda-forge/linux-64::r-pbdzmq==0.3_3=r351h193a840_1000\n",
      "  - conda-forge/linux-64::r-xml2==1.2.0=r351h29659fb_1002\n",
      "  - conda-forge/linux-64::r-base64enc==0.1_3=r351h96ca727_1002\n",
      "  - conda-forge/noarch::r-reprex==0.2.1=r351h6115d3f_1000\n",
      "  - conda-forge/noarch::r-crayon==1.3.4=r351h6115d3f_1001\n",
      "  - conda-forge/noarch::r-prettyunits==1.0.2=r351h6115d3f_1001\n",
      "  - conda-forge/linux-64::r-jsonlite==1.6=r351h96ca727_1000\n",
      "  - conda-forge/noarch::r-irkernel==0.8.15=r351h6115d3f_1001\n",
      "  - conda-forge/linux-64::r-plyr==1.8.4=r351h29659fb_1002\n",
      "  - conda-forge/linux-64::r-lmtest==0.9_36=r351ha65eedd_1000\n",
      "  - conda-forge/linux-64::r-fansi==0.4.0=r351h96ca727_1000\n",
      "  - conda-forge/linux-64::r-rsqlite==2.1.1=r351h29659fb_1000\n",
      "  - conda-forge/linux-64::r-reshape2==1.4.3=r351h29659fb_1003\n",
      "  - conda-forge/linux-64::r-bitops==1.0_6=r351h96ca727_1002\n",
      "  - conda-forge/linux-64::r-uuid==0.1_2=r351h96ca727_1001\n",
      "  - conda-forge/linux-64::r-httpuv==1.5.1=r351h0357c0b_0\n",
      "  - conda-forge/linux-64::r-scales==1.0.0=r351h29659fb_1001\n",
      "  - conda-forge/linux-64::r-rappdirs==0.3.1=r351h96ca727_1002\n",
      "  - conda-forge/noarch::r-forge==0.2.0=r351h6115d3f_0\n",
      "  - conda-forge/linux-64::rpy2==2.9.4=py37r351h941a26a_1\n",
      "  - conda-forge/linux-64::r-htmltools==0.3.6=r351hf484d3e_1002\n",
      "  - conda-forge/noarch::r-numderiv==2016.8_1=r351h6115d3f_1001\n",
      "  - conda-forge/linux-64::matplotlib==3.0.3=py37_1\n",
      "  - conda-forge/linux-64::scikit-image==0.14.2=py37hf484d3e_1\n",
      "  - conda-forge/linux-64::matplotlib-base==3.0.3=py37h5f35d83_1\n",
      "  - conda-forge/noarch::seaborn==0.9.0=py_0\n"
     ]
    },
    {
     "name": "stdout",
     "output_type": "stream",
     "text": [
      "done\n",
      "\n",
      "\n",
      "==> WARNING: A newer version of conda exists. <==\n",
      "  current version: 4.6.14\n",
      "  latest version: 4.7.11\n",
      "\n",
      "Please update conda by running\n",
      "\n",
      "    $ conda update -n base conda\n",
      "\n",
      "\n",
      "\n",
      "## Package Plan ##\n",
      "\n",
      "  environment location: /opt/conda\n",
      "\n",
      "  added / updated specs:\n",
      "    - folium=0.5.0\n",
      "\n",
      "\n",
      "The following packages will be downloaded:\n",
      "\n",
      "    package                    |            build\n",
      "    ---------------------------|-----------------\n",
      "    altair-3.2.0               |           py37_0         773 KB  conda-forge\n",
      "    branca-0.3.1               |             py_0          25 KB  conda-forge\n",
      "    folium-0.5.0               |             py_0          45 KB  conda-forge\n",
      "    ------------------------------------------------------------\n",
      "                                           Total:         843 KB\n",
      "\n",
      "The following NEW packages will be INSTALLED:\n",
      "\n",
      "  altair             conda-forge/linux-64::altair-3.2.0-py37_0\n",
      "  branca             conda-forge/noarch::branca-0.3.1-py_0\n",
      "  folium             conda-forge/noarch::folium-0.5.0-py_0\n",
      "\n",
      "\n",
      "\n",
      "Downloading and Extracting Packages\n",
      "altair-3.2.0         | 773 KB    | ##################################### | 100% \n",
      "branca-0.3.1         | 25 KB     | ##################################### | 100% \n",
      "folium-0.5.0         | 45 KB     | ##################################### | 100% \n",
      "Preparing transaction: done\n",
      "Verifying transaction: done\n",
      "Executing transaction: done\n",
      "Folium installed\n",
      "Libraries imported.\n"
     ]
    }
   ],
   "source": [
    "import requests # library to handle requests\n",
    "import pandas as pd # library for data analsysis\n",
    "import numpy as np # library to handle data in a vectorized manner\n",
    "import random # library for random number generation\n",
    "\n",
    "!conda install -c conda-forge geopy --yes \n",
    "from geopy.geocoders import Nominatim # module to convert an address into latitude and longitude values\n",
    "\n",
    "# libraries for displaying images\n",
    "from IPython.display import Image \n",
    "from IPython.core.display import HTML \n",
    "    \n",
    "# tranforming json file into a pandas dataframe library\n",
    "from pandas.io.json import json_normalize\n",
    "\n",
    "!conda install -c conda-forge folium=0.5.0 --yes\n",
    "import folium # plotting library\n",
    "\n",
    "print('Folium installed')\n",
    "print('Libraries imported.')"
   ]
  },
  {
   "cell_type": "markdown",
   "metadata": {
    "button": false,
    "new_sheet": false,
    "run_control": {
     "read_only": false
    }
   },
   "source": [
    "### Define Foursquare Credentials and Version"
   ]
  },
  {
   "cell_type": "markdown",
   "metadata": {
    "button": false,
    "new_sheet": false,
    "run_control": {
     "read_only": false
    }
   },
   "source": [
    "##### Make sure that you have created a Foursquare developer account and have your credentials handy"
   ]
  },
  {
   "cell_type": "code",
   "execution_count": 2,
   "metadata": {
    "button": false,
    "new_sheet": false,
    "run_control": {
     "read_only": false
    }
   },
   "outputs": [
    {
     "name": "stdout",
     "output_type": "stream",
     "text": [
      "Your credentails:\n",
      "CLIENT_ID: KG4G5VV5QWE0LGO112E5YD4VR4FFXPTCQCXZANEYK5QY5BDO\n",
      "CLIENT_SECRET:NW22DVEESJEY1CSQ2G4TNDQS4PD515WA2HKXRU201UQZI4C1\n"
     ]
    }
   ],
   "source": [
    "CLIENT_ID = 'KG4G5VV5QWE0LGO112E5YD4VR4FFXPTCQCXZANEYK5QY5BDO' # your Foursquare ID\n",
    "CLIENT_SECRET = 'NW22DVEESJEY1CSQ2G4TNDQS4PD515WA2HKXRU201UQZI4C1' # your Foursquare Secret\n",
    "VERSION = '20180604'\n",
    "LIMIT = 30\n",
    "print('Your credentails:')\n",
    "print('CLIENT_ID: ' + CLIENT_ID)\n",
    "print('CLIENT_SECRET:' + CLIENT_SECRET)"
   ]
  },
  {
   "cell_type": "markdown",
   "metadata": {
    "button": false,
    "new_sheet": false,
    "run_control": {
     "read_only": false
    }
   },
   "source": [
    "  "
   ]
  },
  {
   "cell_type": "markdown",
   "metadata": {
    "button": false,
    "new_sheet": false,
    "run_control": {
     "read_only": false
    }
   },
   "source": [
    "#### Let's again assume that you are staying at the Conrad hotel. So let's start by converting the Contrad Hotel's address to its latitude and longitude coordinates."
   ]
  },
  {
   "cell_type": "markdown",
   "metadata": {},
   "source": [
    "In order to define an instance of the geocoder, we need to define a user_agent. We will name our agent <em>foursquare_agent</em>, as shown below."
   ]
  },
  {
   "cell_type": "code",
   "execution_count": 3,
   "metadata": {
    "button": false,
    "new_sheet": false,
    "run_control": {
     "read_only": false
    }
   },
   "outputs": [
    {
     "name": "stdout",
     "output_type": "stream",
     "text": [
      "40.7149555 -74.0153365\n"
     ]
    }
   ],
   "source": [
    "address = '102 North End Ave, New York, NY'\n",
    "\n",
    "geolocator = Nominatim(user_agent=\"foursquare_agent\")\n",
    "location = geolocator.geocode(address)\n",
    "latitude = location.latitude\n",
    "longitude = location.longitude\n",
    "print(latitude, longitude)"
   ]
  },
  {
   "cell_type": "markdown",
   "metadata": {
    "button": false,
    "new_sheet": false,
    "run_control": {
     "read_only": false
    }
   },
   "source": [
    "   "
   ]
  },
  {
   "cell_type": "markdown",
   "metadata": {
    "button": false,
    "new_sheet": false,
    "run_control": {
     "read_only": false
    }
   },
   "source": [
    "<a id=\"item1\"></a>"
   ]
  },
  {
   "cell_type": "markdown",
   "metadata": {
    "button": false,
    "new_sheet": false,
    "run_control": {
     "read_only": false
    }
   },
   "source": [
    "## 1. Search for a specific venue category\n",
    "> `https://api.foursquare.com/v2/venues/`**search**`?client_id=`**CLIENT_ID**`&client_secret=`**CLIENT_SECRET**`&ll=`**LATITUDE**`,`**LONGITUDE**`&v=`**VERSION**`&query=`**QUERY**`&radius=`**RADIUS**`&limit=`**LIMIT**"
   ]
  },
  {
   "cell_type": "markdown",
   "metadata": {
    "button": false,
    "new_sheet": false,
    "run_control": {
     "read_only": false
    }
   },
   "source": [
    "#### Now, let's assume that it is lunch time, and you are craving Italian food. So, let's define a query to search for Italian food that is within 500 metres from the Conrad Hotel. "
   ]
  },
  {
   "cell_type": "code",
   "execution_count": 4,
   "metadata": {
    "button": false,
    "new_sheet": false,
    "run_control": {
     "read_only": false
    },
    "scrolled": true
   },
   "outputs": [
    {
     "name": "stdout",
     "output_type": "stream",
     "text": [
      "Italian .... OK!\n"
     ]
    }
   ],
   "source": [
    "search_query = 'Italian'\n",
    "radius = 500\n",
    "print(search_query + ' .... OK!')"
   ]
  },
  {
   "cell_type": "markdown",
   "metadata": {
    "button": false,
    "new_sheet": false,
    "run_control": {
     "read_only": false
    }
   },
   "source": [
    "#### Define the corresponding URL"
   ]
  },
  {
   "cell_type": "code",
   "execution_count": 5,
   "metadata": {
    "button": false,
    "new_sheet": false,
    "run_control": {
     "read_only": false
    }
   },
   "outputs": [
    {
     "data": {
      "text/plain": [
       "'https://api.foursquare.com/v2/venues/search?client_id=KG4G5VV5QWE0LGO112E5YD4VR4FFXPTCQCXZANEYK5QY5BDO&client_secret=NW22DVEESJEY1CSQ2G4TNDQS4PD515WA2HKXRU201UQZI4C1&ll=40.7149555,-74.0153365&v=20180604&query=Italian&radius=500&limit=30'"
      ]
     },
     "execution_count": 5,
     "metadata": {},
     "output_type": "execute_result"
    }
   ],
   "source": [
    "url = 'https://api.foursquare.com/v2/venues/search?client_id={}&client_secret={}&ll={},{}&v={}&query={}&radius={}&limit={}'.format(CLIENT_ID, CLIENT_SECRET, latitude, longitude, VERSION, search_query, radius, LIMIT)\n",
    "url"
   ]
  },
  {
   "cell_type": "markdown",
   "metadata": {
    "button": false,
    "new_sheet": false,
    "run_control": {
     "read_only": false
    }
   },
   "source": [
    "#### Send the GET Request and examine the results"
   ]
  },
  {
   "cell_type": "code",
   "execution_count": 6,
   "metadata": {
    "button": false,
    "new_sheet": false,
    "run_control": {
     "read_only": false
    },
    "scrolled": true
   },
   "outputs": [
    {
     "data": {
      "text/plain": [
       "{'meta': {'code': 200, 'requestId': '5d5ad2572b274a002cdc8bc5'},\n",
       " 'response': {'venues': [{'id': '4fa862b3e4b0ebff2f749f06',\n",
       "    'name': \"Harry's Italian Pizza Bar\",\n",
       "    'location': {'address': '225 Murray St',\n",
       "     'lat': 40.71521779064671,\n",
       "     'lng': -74.01473940209351,\n",
       "     'labeledLatLngs': [{'label': 'display',\n",
       "       'lat': 40.71521779064671,\n",
       "       'lng': -74.01473940209351}],\n",
       "     'distance': 58,\n",
       "     'postalCode': '10282',\n",
       "     'cc': 'US',\n",
       "     'city': 'New York',\n",
       "     'state': 'NY',\n",
       "     'country': 'United States',\n",
       "     'formattedAddress': ['225 Murray St',\n",
       "      'New York, NY 10282',\n",
       "      'United States']},\n",
       "    'categories': [{'id': '4bf58dd8d48988d1ca941735',\n",
       "      'name': 'Pizza Place',\n",
       "      'pluralName': 'Pizza Places',\n",
       "      'shortName': 'Pizza',\n",
       "      'icon': {'prefix': 'https://ss3.4sqi.net/img/categories_v2/food/pizza_',\n",
       "       'suffix': '.png'},\n",
       "      'primary': True}],\n",
       "    'delivery': {'id': '294544',\n",
       "     'url': 'https://www.seamless.com/menu/harrys-italian-pizza-bar-225-murray-st-new-york/294544?affiliate=1131&utm_source=foursquare-affiliate-network&utm_medium=affiliate&utm_campaign=1131&utm_content=294544',\n",
       "     'provider': {'name': 'seamless',\n",
       "      'icon': {'prefix': 'https://fastly.4sqi.net/img/general/cap/',\n",
       "       'sizes': [40, 50],\n",
       "       'name': '/delivery_provider_seamless_20180129.png'}}},\n",
       "    'referralId': 'v-1566233175',\n",
       "    'hasPerk': False},\n",
       "   {'id': '4f3232e219836c91c7bfde94',\n",
       "    'name': 'Conca Cucina Italian Restaurant',\n",
       "    'location': {'address': '63 W Broadway',\n",
       "     'lat': 40.71446,\n",
       "     'lng': -74.010086,\n",
       "     'labeledLatLngs': [{'label': 'display',\n",
       "       'lat': 40.71446,\n",
       "       'lng': -74.010086}],\n",
       "     'distance': 446,\n",
       "     'postalCode': '10007',\n",
       "     'cc': 'US',\n",
       "     'city': 'New York',\n",
       "     'state': 'NY',\n",
       "     'country': 'United States',\n",
       "     'formattedAddress': ['63 W Broadway',\n",
       "      'New York, NY 10007',\n",
       "      'United States']},\n",
       "    'categories': [{'id': '4d4b7105d754a06374d81259',\n",
       "      'name': 'Food',\n",
       "      'pluralName': 'Food',\n",
       "      'shortName': 'Food',\n",
       "      'icon': {'prefix': 'https://ss3.4sqi.net/img/categories_v2/food/default_',\n",
       "       'suffix': '.png'},\n",
       "      'primary': True}],\n",
       "    'referralId': 'v-1566233175',\n",
       "    'hasPerk': False},\n",
       "   {'id': '3fd66200f964a520f4e41ee3',\n",
       "    'name': 'Ecco',\n",
       "    'location': {'address': '124 Chambers St',\n",
       "     'crossStreet': 'btwn Church St & W Broadway',\n",
       "     'lat': 40.71533713859952,\n",
       "     'lng': -74.00884766217825,\n",
       "     'labeledLatLngs': [{'label': 'display',\n",
       "       'lat': 40.71533713859952,\n",
       "       'lng': -74.00884766217825}],\n",
       "     'distance': 549,\n",
       "     'postalCode': '10007',\n",
       "     'cc': 'US',\n",
       "     'city': 'New York',\n",
       "     'state': 'NY',\n",
       "     'country': 'United States',\n",
       "     'formattedAddress': ['124 Chambers St (btwn Church St & W Broadway)',\n",
       "      'New York, NY 10007',\n",
       "      'United States']},\n",
       "    'categories': [{'id': '4bf58dd8d48988d110941735',\n",
       "      'name': 'Italian Restaurant',\n",
       "      'pluralName': 'Italian Restaurants',\n",
       "      'shortName': 'Italian',\n",
       "      'icon': {'prefix': 'https://ss3.4sqi.net/img/categories_v2/food/italian_',\n",
       "       'suffix': '.png'},\n",
       "      'primary': True}],\n",
       "    'referralId': 'v-1566233175',\n",
       "    'hasPerk': False}]}}"
      ]
     },
     "execution_count": 6,
     "metadata": {},
     "output_type": "execute_result"
    }
   ],
   "source": [
    "results = requests.get(url).json()\n",
    "results"
   ]
  },
  {
   "cell_type": "markdown",
   "metadata": {
    "button": false,
    "new_sheet": false,
    "run_control": {
     "read_only": false
    }
   },
   "source": [
    "#### Get relevant part of JSON and transform it into a *pandas* dataframe"
   ]
  },
  {
   "cell_type": "code",
   "execution_count": 7,
   "metadata": {
    "button": false,
    "new_sheet": false,
    "run_control": {
     "read_only": false
    }
   },
   "outputs": [
    {
     "data": {
      "text/html": [
       "<div>\n",
       "<style scoped>\n",
       "    .dataframe tbody tr th:only-of-type {\n",
       "        vertical-align: middle;\n",
       "    }\n",
       "\n",
       "    .dataframe tbody tr th {\n",
       "        vertical-align: top;\n",
       "    }\n",
       "\n",
       "    .dataframe thead th {\n",
       "        text-align: right;\n",
       "    }\n",
       "</style>\n",
       "<table border=\"1\" class=\"dataframe\">\n",
       "  <thead>\n",
       "    <tr style=\"text-align: right;\">\n",
       "      <th></th>\n",
       "      <th>categories</th>\n",
       "      <th>delivery.id</th>\n",
       "      <th>delivery.provider.icon.name</th>\n",
       "      <th>delivery.provider.icon.prefix</th>\n",
       "      <th>delivery.provider.icon.sizes</th>\n",
       "      <th>delivery.provider.name</th>\n",
       "      <th>delivery.url</th>\n",
       "      <th>hasPerk</th>\n",
       "      <th>id</th>\n",
       "      <th>location.address</th>\n",
       "      <th>...</th>\n",
       "      <th>location.crossStreet</th>\n",
       "      <th>location.distance</th>\n",
       "      <th>location.formattedAddress</th>\n",
       "      <th>location.labeledLatLngs</th>\n",
       "      <th>location.lat</th>\n",
       "      <th>location.lng</th>\n",
       "      <th>location.postalCode</th>\n",
       "      <th>location.state</th>\n",
       "      <th>name</th>\n",
       "      <th>referralId</th>\n",
       "    </tr>\n",
       "  </thead>\n",
       "  <tbody>\n",
       "    <tr>\n",
       "      <th>0</th>\n",
       "      <td>[{'id': '4bf58dd8d48988d1ca941735', 'name': 'P...</td>\n",
       "      <td>294544</td>\n",
       "      <td>/delivery_provider_seamless_20180129.png</td>\n",
       "      <td>https://fastly.4sqi.net/img/general/cap/</td>\n",
       "      <td>[40, 50]</td>\n",
       "      <td>seamless</td>\n",
       "      <td>https://www.seamless.com/menu/harrys-italian-p...</td>\n",
       "      <td>False</td>\n",
       "      <td>4fa862b3e4b0ebff2f749f06</td>\n",
       "      <td>225 Murray St</td>\n",
       "      <td>...</td>\n",
       "      <td>NaN</td>\n",
       "      <td>58</td>\n",
       "      <td>[225 Murray St, New York, NY 10282, United Sta...</td>\n",
       "      <td>[{'label': 'display', 'lat': 40.71521779064671...</td>\n",
       "      <td>40.715218</td>\n",
       "      <td>-74.014739</td>\n",
       "      <td>10282</td>\n",
       "      <td>NY</td>\n",
       "      <td>Harry's Italian Pizza Bar</td>\n",
       "      <td>v-1566233175</td>\n",
       "    </tr>\n",
       "    <tr>\n",
       "      <th>1</th>\n",
       "      <td>[{'id': '4d4b7105d754a06374d81259', 'name': 'F...</td>\n",
       "      <td>NaN</td>\n",
       "      <td>NaN</td>\n",
       "      <td>NaN</td>\n",
       "      <td>NaN</td>\n",
       "      <td>NaN</td>\n",
       "      <td>NaN</td>\n",
       "      <td>False</td>\n",
       "      <td>4f3232e219836c91c7bfde94</td>\n",
       "      <td>63 W Broadway</td>\n",
       "      <td>...</td>\n",
       "      <td>NaN</td>\n",
       "      <td>446</td>\n",
       "      <td>[63 W Broadway, New York, NY 10007, United Sta...</td>\n",
       "      <td>[{'label': 'display', 'lat': 40.71446, 'lng': ...</td>\n",
       "      <td>40.714460</td>\n",
       "      <td>-74.010086</td>\n",
       "      <td>10007</td>\n",
       "      <td>NY</td>\n",
       "      <td>Conca Cucina Italian Restaurant</td>\n",
       "      <td>v-1566233175</td>\n",
       "    </tr>\n",
       "    <tr>\n",
       "      <th>2</th>\n",
       "      <td>[{'id': '4bf58dd8d48988d110941735', 'name': 'I...</td>\n",
       "      <td>NaN</td>\n",
       "      <td>NaN</td>\n",
       "      <td>NaN</td>\n",
       "      <td>NaN</td>\n",
       "      <td>NaN</td>\n",
       "      <td>NaN</td>\n",
       "      <td>False</td>\n",
       "      <td>3fd66200f964a520f4e41ee3</td>\n",
       "      <td>124 Chambers St</td>\n",
       "      <td>...</td>\n",
       "      <td>btwn Church St &amp; W Broadway</td>\n",
       "      <td>549</td>\n",
       "      <td>[124 Chambers St (btwn Church St &amp; W Broadway)...</td>\n",
       "      <td>[{'label': 'display', 'lat': 40.71533713859952...</td>\n",
       "      <td>40.715337</td>\n",
       "      <td>-74.008848</td>\n",
       "      <td>10007</td>\n",
       "      <td>NY</td>\n",
       "      <td>Ecco</td>\n",
       "      <td>v-1566233175</td>\n",
       "    </tr>\n",
       "  </tbody>\n",
       "</table>\n",
       "<p>3 rows × 23 columns</p>\n",
       "</div>"
      ],
      "text/plain": [
       "                                          categories delivery.id  \\\n",
       "0  [{'id': '4bf58dd8d48988d1ca941735', 'name': 'P...      294544   \n",
       "1  [{'id': '4d4b7105d754a06374d81259', 'name': 'F...         NaN   \n",
       "2  [{'id': '4bf58dd8d48988d110941735', 'name': 'I...         NaN   \n",
       "\n",
       "                delivery.provider.icon.name  \\\n",
       "0  /delivery_provider_seamless_20180129.png   \n",
       "1                                       NaN   \n",
       "2                                       NaN   \n",
       "\n",
       "              delivery.provider.icon.prefix delivery.provider.icon.sizes  \\\n",
       "0  https://fastly.4sqi.net/img/general/cap/                     [40, 50]   \n",
       "1                                       NaN                          NaN   \n",
       "2                                       NaN                          NaN   \n",
       "\n",
       "  delivery.provider.name                                       delivery.url  \\\n",
       "0               seamless  https://www.seamless.com/menu/harrys-italian-p...   \n",
       "1                    NaN                                                NaN   \n",
       "2                    NaN                                                NaN   \n",
       "\n",
       "   hasPerk                        id location.address  ...  \\\n",
       "0    False  4fa862b3e4b0ebff2f749f06    225 Murray St  ...   \n",
       "1    False  4f3232e219836c91c7bfde94    63 W Broadway  ...   \n",
       "2    False  3fd66200f964a520f4e41ee3  124 Chambers St  ...   \n",
       "\n",
       "          location.crossStreet location.distance  \\\n",
       "0                          NaN                58   \n",
       "1                          NaN               446   \n",
       "2  btwn Church St & W Broadway               549   \n",
       "\n",
       "                           location.formattedAddress  \\\n",
       "0  [225 Murray St, New York, NY 10282, United Sta...   \n",
       "1  [63 W Broadway, New York, NY 10007, United Sta...   \n",
       "2  [124 Chambers St (btwn Church St & W Broadway)...   \n",
       "\n",
       "                             location.labeledLatLngs  location.lat  \\\n",
       "0  [{'label': 'display', 'lat': 40.71521779064671...     40.715218   \n",
       "1  [{'label': 'display', 'lat': 40.71446, 'lng': ...     40.714460   \n",
       "2  [{'label': 'display', 'lat': 40.71533713859952...     40.715337   \n",
       "\n",
       "  location.lng location.postalCode  location.state  \\\n",
       "0   -74.014739               10282              NY   \n",
       "1   -74.010086               10007              NY   \n",
       "2   -74.008848               10007              NY   \n",
       "\n",
       "                              name    referralId  \n",
       "0        Harry's Italian Pizza Bar  v-1566233175  \n",
       "1  Conca Cucina Italian Restaurant  v-1566233175  \n",
       "2                             Ecco  v-1566233175  \n",
       "\n",
       "[3 rows x 23 columns]"
      ]
     },
     "execution_count": 7,
     "metadata": {},
     "output_type": "execute_result"
    }
   ],
   "source": [
    "# assign relevant part of JSON to venues\n",
    "venues = results['response']['venues']\n",
    "\n",
    "# tranform venues into a dataframe\n",
    "dataframe = json_normalize(venues)\n",
    "dataframe.head()"
   ]
  },
  {
   "cell_type": "markdown",
   "metadata": {
    "button": false,
    "new_sheet": false,
    "run_control": {
     "read_only": false
    }
   },
   "source": [
    "#### Define information of interest and filter dataframe"
   ]
  },
  {
   "cell_type": "code",
   "execution_count": 8,
   "metadata": {
    "button": false,
    "new_sheet": false,
    "run_control": {
     "read_only": false
    },
    "scrolled": true
   },
   "outputs": [
    {
     "data": {
      "text/html": [
       "<div>\n",
       "<style scoped>\n",
       "    .dataframe tbody tr th:only-of-type {\n",
       "        vertical-align: middle;\n",
       "    }\n",
       "\n",
       "    .dataframe tbody tr th {\n",
       "        vertical-align: top;\n",
       "    }\n",
       "\n",
       "    .dataframe thead th {\n",
       "        text-align: right;\n",
       "    }\n",
       "</style>\n",
       "<table border=\"1\" class=\"dataframe\">\n",
       "  <thead>\n",
       "    <tr style=\"text-align: right;\">\n",
       "      <th></th>\n",
       "      <th>name</th>\n",
       "      <th>categories</th>\n",
       "      <th>address</th>\n",
       "      <th>cc</th>\n",
       "      <th>city</th>\n",
       "      <th>country</th>\n",
       "      <th>crossStreet</th>\n",
       "      <th>distance</th>\n",
       "      <th>formattedAddress</th>\n",
       "      <th>labeledLatLngs</th>\n",
       "      <th>lat</th>\n",
       "      <th>lng</th>\n",
       "      <th>postalCode</th>\n",
       "      <th>state</th>\n",
       "      <th>id</th>\n",
       "    </tr>\n",
       "  </thead>\n",
       "  <tbody>\n",
       "    <tr>\n",
       "      <th>0</th>\n",
       "      <td>Harry's Italian Pizza Bar</td>\n",
       "      <td>Pizza Place</td>\n",
       "      <td>225 Murray St</td>\n",
       "      <td>US</td>\n",
       "      <td>New York</td>\n",
       "      <td>United States</td>\n",
       "      <td>NaN</td>\n",
       "      <td>58</td>\n",
       "      <td>[225 Murray St, New York, NY 10282, United Sta...</td>\n",
       "      <td>[{'label': 'display', 'lat': 40.71521779064671...</td>\n",
       "      <td>40.715218</td>\n",
       "      <td>-74.014739</td>\n",
       "      <td>10282</td>\n",
       "      <td>NY</td>\n",
       "      <td>4fa862b3e4b0ebff2f749f06</td>\n",
       "    </tr>\n",
       "    <tr>\n",
       "      <th>1</th>\n",
       "      <td>Conca Cucina Italian Restaurant</td>\n",
       "      <td>Food</td>\n",
       "      <td>63 W Broadway</td>\n",
       "      <td>US</td>\n",
       "      <td>New York</td>\n",
       "      <td>United States</td>\n",
       "      <td>NaN</td>\n",
       "      <td>446</td>\n",
       "      <td>[63 W Broadway, New York, NY 10007, United Sta...</td>\n",
       "      <td>[{'label': 'display', 'lat': 40.71446, 'lng': ...</td>\n",
       "      <td>40.714460</td>\n",
       "      <td>-74.010086</td>\n",
       "      <td>10007</td>\n",
       "      <td>NY</td>\n",
       "      <td>4f3232e219836c91c7bfde94</td>\n",
       "    </tr>\n",
       "    <tr>\n",
       "      <th>2</th>\n",
       "      <td>Ecco</td>\n",
       "      <td>Italian Restaurant</td>\n",
       "      <td>124 Chambers St</td>\n",
       "      <td>US</td>\n",
       "      <td>New York</td>\n",
       "      <td>United States</td>\n",
       "      <td>btwn Church St &amp; W Broadway</td>\n",
       "      <td>549</td>\n",
       "      <td>[124 Chambers St (btwn Church St &amp; W Broadway)...</td>\n",
       "      <td>[{'label': 'display', 'lat': 40.71533713859952...</td>\n",
       "      <td>40.715337</td>\n",
       "      <td>-74.008848</td>\n",
       "      <td>10007</td>\n",
       "      <td>NY</td>\n",
       "      <td>3fd66200f964a520f4e41ee3</td>\n",
       "    </tr>\n",
       "  </tbody>\n",
       "</table>\n",
       "</div>"
      ],
      "text/plain": [
       "                              name          categories          address  cc  \\\n",
       "0        Harry's Italian Pizza Bar         Pizza Place    225 Murray St  US   \n",
       "1  Conca Cucina Italian Restaurant                Food    63 W Broadway  US   \n",
       "2                             Ecco  Italian Restaurant  124 Chambers St  US   \n",
       "\n",
       "       city        country                  crossStreet  distance  \\\n",
       "0  New York  United States                          NaN        58   \n",
       "1  New York  United States                          NaN       446   \n",
       "2  New York  United States  btwn Church St & W Broadway       549   \n",
       "\n",
       "                                    formattedAddress  \\\n",
       "0  [225 Murray St, New York, NY 10282, United Sta...   \n",
       "1  [63 W Broadway, New York, NY 10007, United Sta...   \n",
       "2  [124 Chambers St (btwn Church St & W Broadway)...   \n",
       "\n",
       "                                      labeledLatLngs        lat        lng  \\\n",
       "0  [{'label': 'display', 'lat': 40.71521779064671...  40.715218 -74.014739   \n",
       "1  [{'label': 'display', 'lat': 40.71446, 'lng': ...  40.714460 -74.010086   \n",
       "2  [{'label': 'display', 'lat': 40.71533713859952...  40.715337 -74.008848   \n",
       "\n",
       "  postalCode state                        id  \n",
       "0      10282    NY  4fa862b3e4b0ebff2f749f06  \n",
       "1      10007    NY  4f3232e219836c91c7bfde94  \n",
       "2      10007    NY  3fd66200f964a520f4e41ee3  "
      ]
     },
     "execution_count": 8,
     "metadata": {},
     "output_type": "execute_result"
    }
   ],
   "source": [
    "# keep only columns that include venue name, and anything that is associated with location\n",
    "filtered_columns = ['name', 'categories'] + [col for col in dataframe.columns if col.startswith('location.')] + ['id']\n",
    "dataframe_filtered = dataframe.loc[:, filtered_columns]\n",
    "\n",
    "# function that extracts the category of the venue\n",
    "def get_category_type(row):\n",
    "    try:\n",
    "        categories_list = row['categories']\n",
    "    except:\n",
    "        categories_list = row['venue.categories']\n",
    "        \n",
    "    if len(categories_list) == 0:\n",
    "        return None\n",
    "    else:\n",
    "        return categories_list[0]['name']\n",
    "\n",
    "# filter the category for each row\n",
    "dataframe_filtered['categories'] = dataframe_filtered.apply(get_category_type, axis=1)\n",
    "\n",
    "# clean column names by keeping only last term\n",
    "dataframe_filtered.columns = [column.split('.')[-1] for column in dataframe_filtered.columns]\n",
    "\n",
    "dataframe_filtered"
   ]
  },
  {
   "cell_type": "markdown",
   "metadata": {
    "button": false,
    "new_sheet": false,
    "run_control": {
     "read_only": false
    }
   },
   "source": [
    "#### Let's visualize the Italian restaurants that are nearby"
   ]
  },
  {
   "cell_type": "code",
   "execution_count": 9,
   "metadata": {
    "button": false,
    "new_sheet": false,
    "run_control": {
     "read_only": false
    }
   },
   "outputs": [
    {
     "data": {
      "text/plain": [
       "0          Harry's Italian Pizza Bar\n",
       "1    Conca Cucina Italian Restaurant\n",
       "2                               Ecco\n",
       "Name: name, dtype: object"
      ]
     },
     "execution_count": 9,
     "metadata": {},
     "output_type": "execute_result"
    }
   ],
   "source": [
    "dataframe_filtered.name"
   ]
  },
  {
   "cell_type": "code",
   "execution_count": 10,
   "metadata": {
    "button": false,
    "new_sheet": false,
    "run_control": {
     "read_only": false
    },
    "scrolled": false
   },
   "outputs": [
    {
     "data": {
      "text/html": [
       "<div style=\"width:100%;\"><div style=\"position:relative;width:100%;height:0;padding-bottom:60%;\"><iframe src=\"data:text/html;charset=utf-8;base64,PCFET0NUWVBFIGh0bWw+CjxoZWFkPiAgICAKICAgIDxtZXRhIGh0dHAtZXF1aXY9ImNvbnRlbnQtdHlwZSIgY29udGVudD0idGV4dC9odG1sOyBjaGFyc2V0PVVURi04IiAvPgogICAgPHNjcmlwdD5MX1BSRUZFUl9DQU5WQVMgPSBmYWxzZTsgTF9OT19UT1VDSCA9IGZhbHNlOyBMX0RJU0FCTEVfM0QgPSBmYWxzZTs8L3NjcmlwdD4KICAgIDxzY3JpcHQgc3JjPSJodHRwczovL2Nkbi5qc2RlbGl2ci5uZXQvbnBtL2xlYWZsZXRAMS4yLjAvZGlzdC9sZWFmbGV0LmpzIj48L3NjcmlwdD4KICAgIDxzY3JpcHQgc3JjPSJodHRwczovL2FqYXguZ29vZ2xlYXBpcy5jb20vYWpheC9saWJzL2pxdWVyeS8xLjExLjEvanF1ZXJ5Lm1pbi5qcyI+PC9zY3JpcHQ+CiAgICA8c2NyaXB0IHNyYz0iaHR0cHM6Ly9tYXhjZG4uYm9vdHN0cmFwY2RuLmNvbS9ib290c3RyYXAvMy4yLjAvanMvYm9vdHN0cmFwLm1pbi5qcyI+PC9zY3JpcHQ+CiAgICA8c2NyaXB0IHNyYz0iaHR0cHM6Ly9jZG5qcy5jbG91ZGZsYXJlLmNvbS9hamF4L2xpYnMvTGVhZmxldC5hd2Vzb21lLW1hcmtlcnMvMi4wLjIvbGVhZmxldC5hd2Vzb21lLW1hcmtlcnMuanMiPjwvc2NyaXB0PgogICAgPGxpbmsgcmVsPSJzdHlsZXNoZWV0IiBocmVmPSJodHRwczovL2Nkbi5qc2RlbGl2ci5uZXQvbnBtL2xlYWZsZXRAMS4yLjAvZGlzdC9sZWFmbGV0LmNzcyIvPgogICAgPGxpbmsgcmVsPSJzdHlsZXNoZWV0IiBocmVmPSJodHRwczovL21heGNkbi5ib290c3RyYXBjZG4uY29tL2Jvb3RzdHJhcC8zLjIuMC9jc3MvYm9vdHN0cmFwLm1pbi5jc3MiLz4KICAgIDxsaW5rIHJlbD0ic3R5bGVzaGVldCIgaHJlZj0iaHR0cHM6Ly9tYXhjZG4uYm9vdHN0cmFwY2RuLmNvbS9ib290c3RyYXAvMy4yLjAvY3NzL2Jvb3RzdHJhcC10aGVtZS5taW4uY3NzIi8+CiAgICA8bGluayByZWw9InN0eWxlc2hlZXQiIGhyZWY9Imh0dHBzOi8vbWF4Y2RuLmJvb3RzdHJhcGNkbi5jb20vZm9udC1hd2Vzb21lLzQuNi4zL2Nzcy9mb250LWF3ZXNvbWUubWluLmNzcyIvPgogICAgPGxpbmsgcmVsPSJzdHlsZXNoZWV0IiBocmVmPSJodHRwczovL2NkbmpzLmNsb3VkZmxhcmUuY29tL2FqYXgvbGlicy9MZWFmbGV0LmF3ZXNvbWUtbWFya2Vycy8yLjAuMi9sZWFmbGV0LmF3ZXNvbWUtbWFya2Vycy5jc3MiLz4KICAgIDxsaW5rIHJlbD0ic3R5bGVzaGVldCIgaHJlZj0iaHR0cHM6Ly9yYXdnaXQuY29tL3B5dGhvbi12aXN1YWxpemF0aW9uL2ZvbGl1bS9tYXN0ZXIvZm9saXVtL3RlbXBsYXRlcy9sZWFmbGV0LmF3ZXNvbWUucm90YXRlLmNzcyIvPgogICAgPHN0eWxlPmh0bWwsIGJvZHkge3dpZHRoOiAxMDAlO2hlaWdodDogMTAwJTttYXJnaW46IDA7cGFkZGluZzogMDt9PC9zdHlsZT4KICAgIDxzdHlsZT4jbWFwIHtwb3NpdGlvbjphYnNvbHV0ZTt0b3A6MDtib3R0b206MDtyaWdodDowO2xlZnQ6MDt9PC9zdHlsZT4KICAgIAogICAgICAgICAgICA8c3R5bGU+ICNtYXBfMTczODUyZjQzYmQzNDVlOGI5ZTJiYTNkMzQwMGM2NzMgewogICAgICAgICAgICAgICAgcG9zaXRpb24gOiByZWxhdGl2ZTsKICAgICAgICAgICAgICAgIHdpZHRoIDogMTAwLjAlOwogICAgICAgICAgICAgICAgaGVpZ2h0OiAxMDAuMCU7CiAgICAgICAgICAgICAgICBsZWZ0OiAwLjAlOwogICAgICAgICAgICAgICAgdG9wOiAwLjAlOwogICAgICAgICAgICAgICAgfQogICAgICAgICAgICA8L3N0eWxlPgogICAgICAgIAo8L2hlYWQ+Cjxib2R5PiAgICAKICAgIAogICAgICAgICAgICA8ZGl2IGNsYXNzPSJmb2xpdW0tbWFwIiBpZD0ibWFwXzE3Mzg1MmY0M2JkMzQ1ZThiOWUyYmEzZDM0MDBjNjczIiA+PC9kaXY+CiAgICAgICAgCjwvYm9keT4KPHNjcmlwdD4gICAgCiAgICAKCiAgICAgICAgICAgIAogICAgICAgICAgICAgICAgdmFyIGJvdW5kcyA9IG51bGw7CiAgICAgICAgICAgIAoKICAgICAgICAgICAgdmFyIG1hcF8xNzM4NTJmNDNiZDM0NWU4YjllMmJhM2QzNDAwYzY3MyA9IEwubWFwKAogICAgICAgICAgICAgICAgICAgICAgICAgICAgICAgICAgJ21hcF8xNzM4NTJmNDNiZDM0NWU4YjllMmJhM2QzNDAwYzY3MycsCiAgICAgICAgICAgICAgICAgICAgICAgICAgICAgICAgICB7Y2VudGVyOiBbNDAuNzE0OTU1NSwtNzQuMDE1MzM2NV0sCiAgICAgICAgICAgICAgICAgICAgICAgICAgICAgICAgICB6b29tOiAxMywKICAgICAgICAgICAgICAgICAgICAgICAgICAgICAgICAgIG1heEJvdW5kczogYm91bmRzLAogICAgICAgICAgICAgICAgICAgICAgICAgICAgICAgICAgbGF5ZXJzOiBbXSwKICAgICAgICAgICAgICAgICAgICAgICAgICAgICAgICAgIHdvcmxkQ29weUp1bXA6IGZhbHNlLAogICAgICAgICAgICAgICAgICAgICAgICAgICAgICAgICAgY3JzOiBMLkNSUy5FUFNHMzg1NwogICAgICAgICAgICAgICAgICAgICAgICAgICAgICAgICB9KTsKICAgICAgICAgICAgCiAgICAgICAgCiAgICAKICAgICAgICAgICAgdmFyIHRpbGVfbGF5ZXJfZTU0NzJkNDk5MDY5NGJkZThkMjM2Y2M4MjUyMDAxOGUgPSBMLnRpbGVMYXllcigKICAgICAgICAgICAgICAgICdodHRwczovL3tzfS50aWxlLm9wZW5zdHJlZXRtYXAub3JnL3t6fS97eH0ve3l9LnBuZycsCiAgICAgICAgICAgICAgICB7CiAgImF0dHJpYnV0aW9uIjogbnVsbCwKICAiZGV0ZWN0UmV0aW5hIjogZmFsc2UsCiAgIm1heFpvb20iOiAxOCwKICAibWluWm9vbSI6IDEsCiAgIm5vV3JhcCI6IGZhbHNlLAogICJzdWJkb21haW5zIjogImFiYyIKfQogICAgICAgICAgICAgICAgKS5hZGRUbyhtYXBfMTczODUyZjQzYmQzNDVlOGI5ZTJiYTNkMzQwMGM2NzMpOwogICAgICAgIAogICAgCiAgICAgICAgICAgIHZhciBjaXJjbGVfbWFya2VyX2U1YjEwOGU4OWMwZjRlZTdiM2MxOTAwNjliNmVmYzgyID0gTC5jaXJjbGVNYXJrZXIoCiAgICAgICAgICAgICAgICBbNDAuNzE0OTU1NSwtNzQuMDE1MzM2NV0sCiAgICAgICAgICAgICAgICB7CiAgImJ1YmJsaW5nTW91c2VFdmVudHMiOiB0cnVlLAogICJjb2xvciI6ICJyZWQiLAogICJkYXNoQXJyYXkiOiBudWxsLAogICJkYXNoT2Zmc2V0IjogbnVsbCwKICAiZmlsbCI6IHRydWUsCiAgImZpbGxDb2xvciI6ICJyZWQiLAogICJmaWxsT3BhY2l0eSI6IDAuNiwKICAiZmlsbFJ1bGUiOiAiZXZlbm9kZCIsCiAgImxpbmVDYXAiOiAicm91bmQiLAogICJsaW5lSm9pbiI6ICJyb3VuZCIsCiAgIm9wYWNpdHkiOiAxLjAsCiAgInJhZGl1cyI6IDEwLAogICJzdHJva2UiOiB0cnVlLAogICJ3ZWlnaHQiOiAzCn0KICAgICAgICAgICAgICAgICkuYWRkVG8obWFwXzE3Mzg1MmY0M2JkMzQ1ZThiOWUyYmEzZDM0MDBjNjczKTsKICAgICAgICAgICAgCiAgICAKICAgICAgICAgICAgdmFyIHBvcHVwXzJiNDAxZTBlZDkxYTQwYmU5YjVjM2FhMTNhNjkzZmY5ID0gTC5wb3B1cCh7bWF4V2lkdGg6ICczMDAnfSk7CgogICAgICAgICAgICAKICAgICAgICAgICAgICAgIHZhciBodG1sXzEwYzNlODkwNGYwMTRkYWZhOWU3MTAyOTI4YjkzYzg3ID0gJCgnPGRpdiBpZD0iaHRtbF8xMGMzZTg5MDRmMDE0ZGFmYTllNzEwMjkyOGI5M2M4NyIgc3R5bGU9IndpZHRoOiAxMDAuMCU7IGhlaWdodDogMTAwLjAlOyI+Q29ucmFkIEhvdGVsPC9kaXY+JylbMF07CiAgICAgICAgICAgICAgICBwb3B1cF8yYjQwMWUwZWQ5MWE0MGJlOWI1YzNhYTEzYTY5M2ZmOS5zZXRDb250ZW50KGh0bWxfMTBjM2U4OTA0ZjAxNGRhZmE5ZTcxMDI5MjhiOTNjODcpOwogICAgICAgICAgICAKCiAgICAgICAgICAgIGNpcmNsZV9tYXJrZXJfZTViMTA4ZTg5YzBmNGVlN2IzYzE5MDA2OWI2ZWZjODIuYmluZFBvcHVwKHBvcHVwXzJiNDAxZTBlZDkxYTQwYmU5YjVjM2FhMTNhNjkzZmY5KTsKCiAgICAgICAgICAgIAogICAgICAgIAogICAgCiAgICAgICAgICAgIHZhciBjaXJjbGVfbWFya2VyXzIwMjA1YTg1MDJjNzRkNWZhMmY2ZDZlMjViZGE0NTgyID0gTC5jaXJjbGVNYXJrZXIoCiAgICAgICAgICAgICAgICBbNDAuNzE1MjE3NzkwNjQ2NzEsLTc0LjAxNDczOTQwMjA5MzUxXSwKICAgICAgICAgICAgICAgIHsKICAiYnViYmxpbmdNb3VzZUV2ZW50cyI6IHRydWUsCiAgImNvbG9yIjogImJsdWUiLAogICJkYXNoQXJyYXkiOiBudWxsLAogICJkYXNoT2Zmc2V0IjogbnVsbCwKICAiZmlsbCI6IHRydWUsCiAgImZpbGxDb2xvciI6ICJibHVlIiwKICAiZmlsbE9wYWNpdHkiOiAwLjYsCiAgImZpbGxSdWxlIjogImV2ZW5vZGQiLAogICJsaW5lQ2FwIjogInJvdW5kIiwKICAibGluZUpvaW4iOiAicm91bmQiLAogICJvcGFjaXR5IjogMS4wLAogICJyYWRpdXMiOiA1LAogICJzdHJva2UiOiB0cnVlLAogICJ3ZWlnaHQiOiAzCn0KICAgICAgICAgICAgICAgICkuYWRkVG8obWFwXzE3Mzg1MmY0M2JkMzQ1ZThiOWUyYmEzZDM0MDBjNjczKTsKICAgICAgICAgICAgCiAgICAKICAgICAgICAgICAgdmFyIHBvcHVwXzk0MGM3NGU5ZDA2MDRmMTliNmMwY2RjNzhjZjgxNWE5ID0gTC5wb3B1cCh7bWF4V2lkdGg6ICczMDAnfSk7CgogICAgICAgICAgICAKICAgICAgICAgICAgICAgIHZhciBodG1sXzcxNjI5Mzg4NDYxZjRjOTRhYjgxODNhYzlhNjExZjE2ID0gJCgnPGRpdiBpZD0iaHRtbF83MTYyOTM4ODQ2MWY0Yzk0YWI4MTgzYWM5YTYxMWYxNiIgc3R5bGU9IndpZHRoOiAxMDAuMCU7IGhlaWdodDogMTAwLjAlOyI+UGl6emEgUGxhY2U8L2Rpdj4nKVswXTsKICAgICAgICAgICAgICAgIHBvcHVwXzk0MGM3NGU5ZDA2MDRmMTliNmMwY2RjNzhjZjgxNWE5LnNldENvbnRlbnQoaHRtbF83MTYyOTM4ODQ2MWY0Yzk0YWI4MTgzYWM5YTYxMWYxNik7CiAgICAgICAgICAgIAoKICAgICAgICAgICAgY2lyY2xlX21hcmtlcl8yMDIwNWE4NTAyYzc0ZDVmYTJmNmQ2ZTI1YmRhNDU4Mi5iaW5kUG9wdXAocG9wdXBfOTQwYzc0ZTlkMDYwNGYxOWI2YzBjZGM3OGNmODE1YTkpOwoKICAgICAgICAgICAgCiAgICAgICAgCiAgICAKICAgICAgICAgICAgdmFyIGNpcmNsZV9tYXJrZXJfYmJiYTk5MWYwMTE3NDBmOWEwZDQ1NjMzYWVjM2U3MzUgPSBMLmNpcmNsZU1hcmtlcigKICAgICAgICAgICAgICAgIFs0MC43MTQ0NiwtNzQuMDEwMDg2XSwKICAgICAgICAgICAgICAgIHsKICAiYnViYmxpbmdNb3VzZUV2ZW50cyI6IHRydWUsCiAgImNvbG9yIjogImJsdWUiLAogICJkYXNoQXJyYXkiOiBudWxsLAogICJkYXNoT2Zmc2V0IjogbnVsbCwKICAiZmlsbCI6IHRydWUsCiAgImZpbGxDb2xvciI6ICJibHVlIiwKICAiZmlsbE9wYWNpdHkiOiAwLjYsCiAgImZpbGxSdWxlIjogImV2ZW5vZGQiLAogICJsaW5lQ2FwIjogInJvdW5kIiwKICAibGluZUpvaW4iOiAicm91bmQiLAogICJvcGFjaXR5IjogMS4wLAogICJyYWRpdXMiOiA1LAogICJzdHJva2UiOiB0cnVlLAogICJ3ZWlnaHQiOiAzCn0KICAgICAgICAgICAgICAgICkuYWRkVG8obWFwXzE3Mzg1MmY0M2JkMzQ1ZThiOWUyYmEzZDM0MDBjNjczKTsKICAgICAgICAgICAgCiAgICAKICAgICAgICAgICAgdmFyIHBvcHVwXzg4MmUwNDU0ZDg1ZDQzMTg4OGZmZjJlOWEwZDBjMTBkID0gTC5wb3B1cCh7bWF4V2lkdGg6ICczMDAnfSk7CgogICAgICAgICAgICAKICAgICAgICAgICAgICAgIHZhciBodG1sXzdjODcwNjU4NzM3ZjQ4ZWI4MGE5ZmUyNjZiYTBjODQwID0gJCgnPGRpdiBpZD0iaHRtbF83Yzg3MDY1ODczN2Y0OGViODBhOWZlMjY2YmEwYzg0MCIgc3R5bGU9IndpZHRoOiAxMDAuMCU7IGhlaWdodDogMTAwLjAlOyI+Rm9vZDwvZGl2PicpWzBdOwogICAgICAgICAgICAgICAgcG9wdXBfODgyZTA0NTRkODVkNDMxODg4ZmZmMmU5YTBkMGMxMGQuc2V0Q29udGVudChodG1sXzdjODcwNjU4NzM3ZjQ4ZWI4MGE5ZmUyNjZiYTBjODQwKTsKICAgICAgICAgICAgCgogICAgICAgICAgICBjaXJjbGVfbWFya2VyX2JiYmE5OTFmMDExNzQwZjlhMGQ0NTYzM2FlYzNlNzM1LmJpbmRQb3B1cChwb3B1cF84ODJlMDQ1NGQ4NWQ0MzE4ODhmZmYyZTlhMGQwYzEwZCk7CgogICAgICAgICAgICAKICAgICAgICAKICAgIAogICAgICAgICAgICB2YXIgY2lyY2xlX21hcmtlcl80ZDYwYzgxMzU4ODc0ZTAwYWZmNGY1MGNhZmVmYmFjYyA9IEwuY2lyY2xlTWFya2VyKAogICAgICAgICAgICAgICAgWzQwLjcxNTMzNzEzODU5OTUyLC03NC4wMDg4NDc2NjIxNzgyNV0sCiAgICAgICAgICAgICAgICB7CiAgImJ1YmJsaW5nTW91c2VFdmVudHMiOiB0cnVlLAogICJjb2xvciI6ICJibHVlIiwKICAiZGFzaEFycmF5IjogbnVsbCwKICAiZGFzaE9mZnNldCI6IG51bGwsCiAgImZpbGwiOiB0cnVlLAogICJmaWxsQ29sb3IiOiAiYmx1ZSIsCiAgImZpbGxPcGFjaXR5IjogMC42LAogICJmaWxsUnVsZSI6ICJldmVub2RkIiwKICAibGluZUNhcCI6ICJyb3VuZCIsCiAgImxpbmVKb2luIjogInJvdW5kIiwKICAib3BhY2l0eSI6IDEuMCwKICAicmFkaXVzIjogNSwKICAic3Ryb2tlIjogdHJ1ZSwKICAid2VpZ2h0IjogMwp9CiAgICAgICAgICAgICAgICApLmFkZFRvKG1hcF8xNzM4NTJmNDNiZDM0NWU4YjllMmJhM2QzNDAwYzY3Myk7CiAgICAgICAgICAgIAogICAgCiAgICAgICAgICAgIHZhciBwb3B1cF85N2FiY2E4OWRlMmM0N2I3YWIyMjI2OTE2ZmU4NjQ4MSA9IEwucG9wdXAoe21heFdpZHRoOiAnMzAwJ30pOwoKICAgICAgICAgICAgCiAgICAgICAgICAgICAgICB2YXIgaHRtbF8wNDA0Nzg5ZmQ5Yzg0NGFjODdmMjUxNTExZTk3NTlmYyA9ICQoJzxkaXYgaWQ9Imh0bWxfMDQwNDc4OWZkOWM4NDRhYzg3ZjI1MTUxMWU5NzU5ZmMiIHN0eWxlPSJ3aWR0aDogMTAwLjAlOyBoZWlnaHQ6IDEwMC4wJTsiPkl0YWxpYW4gUmVzdGF1cmFudDwvZGl2PicpWzBdOwogICAgICAgICAgICAgICAgcG9wdXBfOTdhYmNhODlkZTJjNDdiN2FiMjIyNjkxNmZlODY0ODEuc2V0Q29udGVudChodG1sXzA0MDQ3ODlmZDljODQ0YWM4N2YyNTE1MTFlOTc1OWZjKTsKICAgICAgICAgICAgCgogICAgICAgICAgICBjaXJjbGVfbWFya2VyXzRkNjBjODEzNTg4NzRlMDBhZmY0ZjUwY2FmZWZiYWNjLmJpbmRQb3B1cChwb3B1cF85N2FiY2E4OWRlMmM0N2I3YWIyMjI2OTE2ZmU4NjQ4MSk7CgogICAgICAgICAgICAKICAgICAgICAKPC9zY3JpcHQ+\" style=\"position:absolute;width:100%;height:100%;left:0;top:0;border:none !important;\" allowfullscreen webkitallowfullscreen mozallowfullscreen></iframe></div></div>"
      ],
      "text/plain": [
       "<folium.folium.Map at 0x7f025aa31908>"
      ]
     },
     "execution_count": 10,
     "metadata": {},
     "output_type": "execute_result"
    }
   ],
   "source": [
    "venues_map = folium.Map(location=[latitude, longitude], zoom_start=13) # generate map centred around the Conrad Hotel\n",
    "\n",
    "# add a red circle marker to represent the Conrad Hotel\n",
    "folium.features.CircleMarker(\n",
    "    [latitude, longitude],\n",
    "    radius=10,\n",
    "    color='red',\n",
    "    popup='Conrad Hotel',\n",
    "    fill = True,\n",
    "    fill_color = 'red',\n",
    "    fill_opacity = 0.6\n",
    ").add_to(venues_map)\n",
    "\n",
    "# add the Italian restaurants as blue circle markers\n",
    "for lat, lng, label in zip(dataframe_filtered.lat, dataframe_filtered.lng, dataframe_filtered.categories):\n",
    "    folium.features.CircleMarker(\n",
    "        [lat, lng],\n",
    "        radius=5,\n",
    "        color='blue',\n",
    "        popup=label,\n",
    "        fill = True,\n",
    "        fill_color='blue',\n",
    "        fill_opacity=0.6\n",
    "    ).add_to(venues_map)\n",
    "\n",
    "# display map\n",
    "venues_map"
   ]
  },
  {
   "cell_type": "markdown",
   "metadata": {
    "button": false,
    "new_sheet": false,
    "run_control": {
     "read_only": false
    }
   },
   "source": [
    "   "
   ]
  },
  {
   "cell_type": "markdown",
   "metadata": {
    "button": false,
    "new_sheet": false,
    "run_control": {
     "read_only": false
    }
   },
   "source": [
    "<a id=\"item2\"></a>"
   ]
  },
  {
   "cell_type": "markdown",
   "metadata": {
    "button": false,
    "new_sheet": false,
    "run_control": {
     "read_only": false
    }
   },
   "source": [
    "## 2. Explore a Given Venue\n",
    "> `https://api.foursquare.com/v2/venues/`**VENUE_ID**`?client_id=`**CLIENT_ID**`&client_secret=`**CLIENT_SECRET**`&v=`**VERSION**"
   ]
  },
  {
   "cell_type": "markdown",
   "metadata": {
    "button": false,
    "new_sheet": false,
    "run_control": {
     "read_only": false
    }
   },
   "source": [
    "### A. Let's explore the closest Italian restaurant -- _Harry's Italian Pizza Bar_"
   ]
  },
  {
   "cell_type": "code",
   "execution_count": null,
   "metadata": {
    "button": false,
    "new_sheet": false,
    "run_control": {
     "read_only": false
    }
   },
   "outputs": [],
   "source": [
    "venue_id = '4fa862b3e4b0ebff2f749f06' # ID of Harry's Italian Pizza Bar\n",
    "url = 'https://api.foursquare.com/v2/venues/{}?client_id={}&client_secret={}&v={}'.format(venue_id, CLIENT_ID, CLIENT_SECRET, VERSION)\n",
    "url"
   ]
  },
  {
   "cell_type": "markdown",
   "metadata": {
    "button": false,
    "new_sheet": false,
    "run_control": {
     "read_only": false
    }
   },
   "source": [
    "#### Send GET request for result"
   ]
  },
  {
   "cell_type": "code",
   "execution_count": null,
   "metadata": {
    "button": false,
    "new_sheet": false,
    "run_control": {
     "read_only": false
    }
   },
   "outputs": [],
   "source": [
    "result = requests.get(url).json()\n",
    "print(result['response']['venue'].keys())\n",
    "result['response']['venue']"
   ]
  },
  {
   "cell_type": "markdown",
   "metadata": {
    "button": false,
    "new_sheet": false,
    "run_control": {
     "read_only": false
    }
   },
   "source": [
    "### B. Get the venue's overall rating"
   ]
  },
  {
   "cell_type": "code",
   "execution_count": null,
   "metadata": {
    "button": false,
    "new_sheet": false,
    "run_control": {
     "read_only": false
    }
   },
   "outputs": [],
   "source": [
    "try:\n",
    "    print(result['response']['venue']['rating'])\n",
    "except:\n",
    "    print('This venue has not been rated yet.')"
   ]
  },
  {
   "cell_type": "markdown",
   "metadata": {
    "button": false,
    "new_sheet": false,
    "run_control": {
     "read_only": false
    }
   },
   "source": [
    "That is not a very good rating. Let's check the rating of the second closest Italian restaurant."
   ]
  },
  {
   "cell_type": "code",
   "execution_count": null,
   "metadata": {
    "button": false,
    "new_sheet": false,
    "run_control": {
     "read_only": false
    }
   },
   "outputs": [],
   "source": [
    "venue_id = '4f3232e219836c91c7bfde94' # ID of Conca Cucina Italian Restaurant\n",
    "url = 'https://api.foursquare.com/v2/venues/{}?client_id={}&client_secret={}&v={}'.format(venue_id, CLIENT_ID, CLIENT_SECRET, VERSION)\n",
    "\n",
    "result = requests.get(url).json()\n",
    "try:\n",
    "    print(result['response']['venue']['rating'])\n",
    "except:\n",
    "    print('This venue has not been rated yet.')"
   ]
  },
  {
   "cell_type": "markdown",
   "metadata": {
    "button": false,
    "new_sheet": false,
    "run_control": {
     "read_only": false
    }
   },
   "source": [
    "Since this restaurant has no ratings, let's check the third restaurant."
   ]
  },
  {
   "cell_type": "code",
   "execution_count": null,
   "metadata": {
    "button": false,
    "new_sheet": false,
    "run_control": {
     "read_only": false
    }
   },
   "outputs": [],
   "source": [
    "venue_id = '3fd66200f964a520f4e41ee3' # ID of Ecco\n",
    "url = 'https://api.foursquare.com/v2/venues/{}?client_id={}&client_secret={}&v={}'.format(venue_id, CLIENT_ID, CLIENT_SECRET, VERSION)\n",
    "\n",
    "result = requests.get(url).json()\n",
    "try:\n",
    "    print(result['response']['venue']['rating'])\n",
    "except:\n",
    "    print('This venue has not been rated yet.')"
   ]
  },
  {
   "cell_type": "markdown",
   "metadata": {
    "button": false,
    "new_sheet": false,
    "run_control": {
     "read_only": false
    }
   },
   "source": [
    "Since this restaurant has a slightly better rating, let's explore it further."
   ]
  },
  {
   "cell_type": "markdown",
   "metadata": {
    "button": false,
    "new_sheet": false,
    "run_control": {
     "read_only": false
    }
   },
   "source": [
    "### C. Get the number of tips"
   ]
  },
  {
   "cell_type": "code",
   "execution_count": null,
   "metadata": {
    "button": false,
    "new_sheet": false,
    "run_control": {
     "read_only": false
    }
   },
   "outputs": [],
   "source": [
    "result['response']['venue']['tips']['count']"
   ]
  },
  {
   "cell_type": "markdown",
   "metadata": {
    "button": false,
    "new_sheet": false,
    "run_control": {
     "read_only": false
    }
   },
   "source": [
    "### D. Get the venue's tips\n",
    "> `https://api.foursquare.com/v2/venues/`**VENUE_ID**`/tips?client_id=`**CLIENT_ID**`&client_secret=`**CLIENT_SECRET**`&v=`**VERSION**`&limit=`**LIMIT**"
   ]
  },
  {
   "cell_type": "markdown",
   "metadata": {
    "button": false,
    "new_sheet": false,
    "run_control": {
     "read_only": false
    }
   },
   "source": [
    "#### Create URL and send GET request. Make sure to set limit to get all tips"
   ]
  },
  {
   "cell_type": "code",
   "execution_count": null,
   "metadata": {
    "button": false,
    "new_sheet": false,
    "run_control": {
     "read_only": false
    }
   },
   "outputs": [],
   "source": [
    "## Ecco Tips\n",
    "limit = 15 # set limit to be greater than or equal to the total number of tips\n",
    "url = 'https://api.foursquare.com/v2/venues/{}/tips?client_id={}&client_secret={}&v={}&limit={}'.format(venue_id, CLIENT_ID, CLIENT_SECRET, VERSION, limit)\n",
    "\n",
    "results = requests.get(url).json()\n",
    "results"
   ]
  },
  {
   "cell_type": "markdown",
   "metadata": {
    "button": false,
    "new_sheet": false,
    "run_control": {
     "read_only": false
    }
   },
   "source": [
    "#### Get tips and list of associated features"
   ]
  },
  {
   "cell_type": "code",
   "execution_count": null,
   "metadata": {
    "button": false,
    "new_sheet": false,
    "run_control": {
     "read_only": false
    }
   },
   "outputs": [],
   "source": [
    "tips = results['response']['tips']['items']\n",
    "\n",
    "tip = results['response']['tips']['items'][0]\n",
    "tip.keys()"
   ]
  },
  {
   "cell_type": "markdown",
   "metadata": {
    "button": false,
    "new_sheet": false,
    "run_control": {
     "read_only": false
    }
   },
   "source": [
    "#### Format column width and display all tips"
   ]
  },
  {
   "cell_type": "code",
   "execution_count": null,
   "metadata": {
    "button": false,
    "new_sheet": false,
    "run_control": {
     "read_only": false
    },
    "scrolled": false
   },
   "outputs": [],
   "source": [
    "pd.set_option('display.max_colwidth', -1)\n",
    "\n",
    "tips_df = json_normalize(tips) # json normalize tips\n",
    "\n",
    "# columns to keep\n",
    "filtered_columns = ['text', 'agreeCount', 'disagreeCount', 'id', 'user.firstName', 'user.lastName', 'user.gender', 'user.id']\n",
    "tips_filtered = tips_df.loc[:, filtered_columns]\n",
    "\n",
    "# display tips\n",
    "tips_filtered"
   ]
  },
  {
   "cell_type": "markdown",
   "metadata": {
    "button": false,
    "new_sheet": false,
    "run_control": {
     "read_only": false
    }
   },
   "source": [
    "Now remember that because we are using a personal developer account, then we can access only 2 of the restaurant's tips, instead of all 15 tips."
   ]
  },
  {
   "cell_type": "markdown",
   "metadata": {
    "button": false,
    "new_sheet": false,
    "run_control": {
     "read_only": false
    }
   },
   "source": [
    "   "
   ]
  },
  {
   "cell_type": "markdown",
   "metadata": {
    "button": false,
    "new_sheet": false,
    "run_control": {
     "read_only": false
    }
   },
   "source": [
    "<a id=\"item3\"></a>"
   ]
  },
  {
   "cell_type": "markdown",
   "metadata": {
    "button": false,
    "new_sheet": false,
    "run_control": {
     "read_only": false
    }
   },
   "source": [
    "## 3. Search a Foursquare User\n",
    "> `https://api.foursquare.com/v2/users/`**USER_ID**`?client_id=`**CLIENT_ID**`&client_secret=`**CLIENT_SECRET**`&v=`**VERSION**"
   ]
  },
  {
   "cell_type": "markdown",
   "metadata": {
    "button": false,
    "new_sheet": false,
    "run_control": {
     "read_only": false
    }
   },
   "source": [
    "### Define URL, send GET request and display features associated with user"
   ]
  },
  {
   "cell_type": "code",
   "execution_count": null,
   "metadata": {
    "button": false,
    "new_sheet": false,
    "run_control": {
     "read_only": false
    }
   },
   "outputs": [],
   "source": [
    "user_id = '484542633' # user ID with most agree counts and complete profile\n",
    "\n",
    "url = 'https://api.foursquare.com/v2/users/{}?client_id={}&client_secret={}&v={}'.format(user_id, CLIENT_ID, CLIENT_SECRET, VERSION) # define URL\n",
    "\n",
    "# send GET request\n",
    "results = requests.get(url).json()\n",
    "user_data = results['response']['user']\n",
    "\n",
    "# display features associated with user\n",
    "user_data.keys()"
   ]
  },
  {
   "cell_type": "code",
   "execution_count": null,
   "metadata": {
    "button": false,
    "new_sheet": false,
    "run_control": {
     "read_only": false
    }
   },
   "outputs": [],
   "source": [
    "print('First Name: ' + user_data['firstName'])\n",
    "print('Last Name: ' + user_data['lastName'])\n",
    "print('Home City: ' + user_data['homeCity'])"
   ]
  },
  {
   "cell_type": "markdown",
   "metadata": {
    "button": false,
    "new_sheet": false,
    "run_control": {
     "read_only": false
    }
   },
   "source": [
    "#### How many tips has this user submitted?"
   ]
  },
  {
   "cell_type": "code",
   "execution_count": null,
   "metadata": {
    "button": false,
    "new_sheet": false,
    "run_control": {
     "read_only": false
    }
   },
   "outputs": [],
   "source": [
    "user_data['tips']"
   ]
  },
  {
   "cell_type": "markdown",
   "metadata": {
    "button": false,
    "new_sheet": false,
    "run_control": {
     "read_only": false
    }
   },
   "source": [
    "Wow! So it turns out that Nick is a very active Foursquare user, with more than 250 tips."
   ]
  },
  {
   "cell_type": "markdown",
   "metadata": {
    "button": false,
    "new_sheet": false,
    "run_control": {
     "read_only": false
    }
   },
   "source": [
    "### Get User's tips"
   ]
  },
  {
   "cell_type": "code",
   "execution_count": null,
   "metadata": {
    "button": false,
    "new_sheet": false,
    "run_control": {
     "read_only": false
    },
    "scrolled": false
   },
   "outputs": [],
   "source": [
    "# define tips URL\n",
    "url = 'https://api.foursquare.com/v2/users/{}/tips?client_id={}&client_secret={}&v={}&limit={}'.format(user_id, CLIENT_ID, CLIENT_SECRET, VERSION, limit)\n",
    "\n",
    "# send GET request and get user's tips\n",
    "results = requests.get(url).json()\n",
    "tips = results['response']['tips']['items']\n",
    "\n",
    "# format column width\n",
    "pd.set_option('display.max_colwidth', -1)\n",
    "\n",
    "tips_df = json_normalize(tips)\n",
    "\n",
    "# filter columns\n",
    "filtered_columns = ['text', 'agreeCount', 'disagreeCount', 'id']\n",
    "tips_filtered = tips_df.loc[:, filtered_columns]\n",
    "\n",
    "# display user's tips\n",
    "tips_filtered"
   ]
  },
  {
   "cell_type": "markdown",
   "metadata": {
    "button": false,
    "new_sheet": false,
    "run_control": {
     "read_only": false
    }
   },
   "source": [
    "#### Let's get the venue for the tip with the greatest number of agree counts"
   ]
  },
  {
   "cell_type": "code",
   "execution_count": null,
   "metadata": {
    "button": false,
    "new_sheet": false,
    "run_control": {
     "read_only": false
    }
   },
   "outputs": [],
   "source": [
    "tip_id = '5ab5575d73fe2516ad8f363b' # tip id\n",
    "\n",
    "# define URL\n",
    "url = 'http://api.foursquare.com/v2/tips/{}?client_id={}&client_secret={}&v={}'.format(tip_id, CLIENT_ID, CLIENT_SECRET, VERSION)\n",
    "\n",
    "# send GET Request and examine results\n",
    "result = requests.get(url).json()\n",
    "print(result['response']['tip']['venue']['name'])\n",
    "print(result['response']['tip']['venue']['location'])"
   ]
  },
  {
   "cell_type": "markdown",
   "metadata": {
    "button": false,
    "new_sheet": false,
    "run_control": {
     "read_only": false
    }
   },
   "source": [
    "### Get User's friends"
   ]
  },
  {
   "cell_type": "code",
   "execution_count": null,
   "metadata": {
    "button": false,
    "new_sheet": false,
    "run_control": {
     "read_only": false
    },
    "scrolled": false
   },
   "outputs": [],
   "source": [
    "user_friends = json_normalize(user_data['friends']['groups'][0]['items'])\n",
    "user_friends"
   ]
  },
  {
   "cell_type": "markdown",
   "metadata": {
    "button": false,
    "new_sheet": false,
    "run_control": {
     "read_only": false
    }
   },
   "source": [
    "Interesting. Despite being very active, it turns out that Nick does not have any friends on Foursquare. This might definitely change in the future."
   ]
  },
  {
   "cell_type": "markdown",
   "metadata": {
    "button": false,
    "new_sheet": false,
    "run_control": {
     "read_only": false
    }
   },
   "source": [
    "### Retrieve the User's Profile Image"
   ]
  },
  {
   "cell_type": "code",
   "execution_count": null,
   "metadata": {
    "button": false,
    "new_sheet": false,
    "run_control": {
     "read_only": false
    },
    "scrolled": true
   },
   "outputs": [],
   "source": [
    "user_data"
   ]
  },
  {
   "cell_type": "code",
   "execution_count": null,
   "metadata": {
    "button": false,
    "new_sheet": false,
    "run_control": {
     "read_only": false
    }
   },
   "outputs": [],
   "source": [
    "# 1. grab prefix of photo\n",
    "# 2. grab suffix of photo\n",
    "# 3. concatenate them using the image size  \n",
    "Image(url='https://igx.4sqi.net/img/user/300x300/484542633_mK2Yum7T_7Tn9fWpndidJsmw2Hof_6T5vJBKCHPLMK5OL-U5ZiJGj51iwBstcpDLYa3Zvhvis.jpg')"
   ]
  },
  {
   "cell_type": "markdown",
   "metadata": {
    "button": false,
    "new_sheet": false,
    "run_control": {
     "read_only": false
    }
   },
   "source": [
    "  "
   ]
  },
  {
   "cell_type": "markdown",
   "metadata": {
    "button": false,
    "new_sheet": false,
    "run_control": {
     "read_only": false
    }
   },
   "source": [
    "<a id=\"item4\"></a>"
   ]
  },
  {
   "cell_type": "markdown",
   "metadata": {
    "button": false,
    "new_sheet": false,
    "run_control": {
     "read_only": false
    }
   },
   "source": [
    "## 4. Explore a location\n",
    "> `https://api.foursquare.com/v2/venues/`**explore**`?client_id=`**CLIENT_ID**`&client_secret=`**CLIENT_SECRET**`&ll=`**LATITUDE**`,`**LONGITUDE**`&v=`**VERSION**`&limit=`**LIMIT**"
   ]
  },
  {
   "cell_type": "markdown",
   "metadata": {
    "button": false,
    "new_sheet": false,
    "run_control": {
     "read_only": false
    }
   },
   "source": [
    "#### So, you just finished your gourmet dish at Ecco, and are just curious about the popular spots around the restaurant. In order to explore the area, let's start by getting the latitude and longitude values of Ecco Restaurant."
   ]
  },
  {
   "cell_type": "code",
   "execution_count": null,
   "metadata": {
    "button": false,
    "collapsed": true,
    "new_sheet": false,
    "run_control": {
     "read_only": false
    }
   },
   "outputs": [],
   "source": [
    "latitude = 40.715337\n",
    "longitude = -74.008848"
   ]
  },
  {
   "cell_type": "markdown",
   "metadata": {
    "button": false,
    "new_sheet": false,
    "run_control": {
     "read_only": false
    }
   },
   "source": [
    "#### Define URL"
   ]
  },
  {
   "cell_type": "code",
   "execution_count": null,
   "metadata": {
    "button": false,
    "new_sheet": false,
    "run_control": {
     "read_only": false
    }
   },
   "outputs": [],
   "source": [
    "url = 'https://api.foursquare.com/v2/venues/explore?client_id={}&client_secret={}&ll={},{}&v={}&radius={}&limit={}'.format(CLIENT_ID, CLIENT_SECRET, latitude, longitude, VERSION, radius, LIMIT)\n",
    "url"
   ]
  },
  {
   "cell_type": "markdown",
   "metadata": {
    "button": false,
    "new_sheet": false,
    "run_control": {
     "read_only": false
    }
   },
   "source": [
    "#### Send GET request and examine results"
   ]
  },
  {
   "cell_type": "code",
   "execution_count": null,
   "metadata": {
    "button": false,
    "collapsed": true,
    "new_sheet": false,
    "run_control": {
     "read_only": false
    }
   },
   "outputs": [],
   "source": [
    "import requests"
   ]
  },
  {
   "cell_type": "code",
   "execution_count": null,
   "metadata": {
    "button": false,
    "new_sheet": false,
    "run_control": {
     "read_only": false
    }
   },
   "outputs": [],
   "source": [
    "results = requests.get(url).json()\n",
    "'There are {} around Ecco restaurant.'.format(len(results['response']['groups'][0]['items']))"
   ]
  },
  {
   "cell_type": "markdown",
   "metadata": {
    "button": false,
    "new_sheet": false,
    "run_control": {
     "read_only": false
    }
   },
   "source": [
    "#### Get relevant part of JSON"
   ]
  },
  {
   "cell_type": "code",
   "execution_count": null,
   "metadata": {
    "button": false,
    "new_sheet": false,
    "run_control": {
     "read_only": false
    }
   },
   "outputs": [],
   "source": [
    "items = results['response']['groups'][0]['items']\n",
    "items[0]"
   ]
  },
  {
   "cell_type": "markdown",
   "metadata": {
    "button": false,
    "new_sheet": false,
    "run_control": {
     "read_only": false
    }
   },
   "source": [
    "#### Process JSON and convert it to a clean dataframe"
   ]
  },
  {
   "cell_type": "code",
   "execution_count": null,
   "metadata": {
    "button": false,
    "new_sheet": false,
    "run_control": {
     "read_only": false
    },
    "scrolled": false
   },
   "outputs": [],
   "source": [
    "dataframe = json_normalize(items) # flatten JSON\n",
    "\n",
    "# filter columns\n",
    "filtered_columns = ['venue.name', 'venue.categories'] + [col for col in dataframe.columns if col.startswith('venue.location.')] + ['venue.id']\n",
    "dataframe_filtered = dataframe.loc[:, filtered_columns]\n",
    "\n",
    "# filter the category for each row\n",
    "dataframe_filtered['venue.categories'] = dataframe_filtered.apply(get_category_type, axis=1)\n",
    "\n",
    "# clean columns\n",
    "dataframe_filtered.columns = [col.split('.')[-1] for col in dataframe_filtered.columns]\n",
    "\n",
    "dataframe_filtered.head(10)"
   ]
  },
  {
   "cell_type": "markdown",
   "metadata": {
    "button": false,
    "new_sheet": false,
    "run_control": {
     "read_only": false
    }
   },
   "source": [
    "#### Let's visualize these items on the map around our location"
   ]
  },
  {
   "cell_type": "code",
   "execution_count": null,
   "metadata": {
    "button": false,
    "new_sheet": false,
    "run_control": {
     "read_only": false
    }
   },
   "outputs": [],
   "source": [
    "venues_map = folium.Map(location=[latitude, longitude], zoom_start=15) # generate map centred around Ecco\n",
    "\n",
    "\n",
    "# add Ecco as a red circle mark\n",
    "folium.features.CircleMarker(\n",
    "    [latitude, longitude],\n",
    "    radius=10,\n",
    "    popup='Ecco',\n",
    "    fill=True,\n",
    "    color='red',\n",
    "    fill_color='red',\n",
    "    fill_opacity=0.6\n",
    "    ).add_to(venues_map)\n",
    "\n",
    "\n",
    "# add popular spots to the map as blue circle markers\n",
    "for lat, lng, label in zip(dataframe_filtered.lat, dataframe_filtered.lng, dataframe_filtered.categories):\n",
    "    folium.features.CircleMarker(\n",
    "        [lat, lng],\n",
    "        radius=5,\n",
    "        popup=label,\n",
    "        fill=True,\n",
    "        color='blue',\n",
    "        fill_color='blue',\n",
    "        fill_opacity=0.6\n",
    "        ).add_to(venues_map)\n",
    "\n",
    "# display map\n",
    "venues_map"
   ]
  },
  {
   "cell_type": "markdown",
   "metadata": {
    "button": false,
    "new_sheet": false,
    "run_control": {
     "read_only": false
    }
   },
   "source": [
    "   "
   ]
  },
  {
   "cell_type": "markdown",
   "metadata": {
    "button": false,
    "new_sheet": false,
    "run_control": {
     "read_only": false
    }
   },
   "source": [
    "<a id=\"item5\"></a>"
   ]
  },
  {
   "cell_type": "markdown",
   "metadata": {
    "button": false,
    "new_sheet": false,
    "run_control": {
     "read_only": false
    }
   },
   "source": [
    "## 5. Explore Trending Venues\n",
    "> `https://api.foursquare.com/v2/venues/`**trending**`?client_id=`**CLIENT_ID**`&client_secret=`**CLIENT_SECRET**`&ll=`**LATITUDE**`,`**LONGITUDE**`&v=`**VERSION**"
   ]
  },
  {
   "cell_type": "markdown",
   "metadata": {
    "button": false,
    "new_sheet": false,
    "run_control": {
     "read_only": false
    }
   },
   "source": [
    "#### Now, instead of simply exploring the area around Ecco, you are interested in knowing the venues that are trending at the time you are done with your lunch, meaning the places with the highest foot traffic. So let's do that and get the trending venues around Ecco."
   ]
  },
  {
   "cell_type": "code",
   "execution_count": null,
   "metadata": {
    "button": false,
    "new_sheet": false,
    "run_control": {
     "read_only": false
    }
   },
   "outputs": [],
   "source": [
    "# define URL\n",
    "url = 'https://api.foursquare.com/v2/venues/trending?client_id={}&client_secret={}&ll={},{}&v={}'.format(CLIENT_ID, CLIENT_SECRET, latitude, longitude, VERSION)\n",
    "\n",
    "# send GET request and get trending venues\n",
    "results = requests.get(url).json()\n",
    "results"
   ]
  },
  {
   "cell_type": "markdown",
   "metadata": {
    "button": false,
    "new_sheet": false,
    "run_control": {
     "read_only": false
    }
   },
   "source": [
    "### Check if any venues are trending at this time"
   ]
  },
  {
   "cell_type": "code",
   "execution_count": null,
   "metadata": {
    "button": false,
    "collapsed": true,
    "new_sheet": false,
    "run_control": {
     "read_only": false
    }
   },
   "outputs": [],
   "source": [
    "if len(results['response']['venues']) == 0:\n",
    "    trending_venues_df = 'No trending venues are available at the moment!'\n",
    "    \n",
    "else:\n",
    "    trending_venues = results['response']['venues']\n",
    "    trending_venues_df = json_normalize(trending_venues)\n",
    "\n",
    "    # filter columns\n",
    "    columns_filtered = ['name', 'categories'] + ['location.distance', 'location.city', 'location.postalCode', 'location.state', 'location.country', 'location.lat', 'location.lng']\n",
    "    trending_venues_df = trending_venues_df.loc[:, columns_filtered]\n",
    "\n",
    "    # filter the category for each row\n",
    "    trending_venues_df['categories'] = trending_venues_df.apply(get_category_type, axis=1)"
   ]
  },
  {
   "cell_type": "code",
   "execution_count": null,
   "metadata": {
    "button": false,
    "new_sheet": false,
    "run_control": {
     "read_only": false
    }
   },
   "outputs": [],
   "source": [
    "# display trending venues\n",
    "trending_venues_df"
   ]
  },
  {
   "cell_type": "markdown",
   "metadata": {
    "button": false,
    "new_sheet": false,
    "run_control": {
     "read_only": false
    }
   },
   "source": [
    "Now, depending on when you run the above code, you might get different venues since the venues with the highest foot traffic are fetched live. "
   ]
  },
  {
   "cell_type": "markdown",
   "metadata": {
    "button": false,
    "new_sheet": false,
    "run_control": {
     "read_only": false
    }
   },
   "source": [
    "### Visualize trending venues"
   ]
  },
  {
   "cell_type": "code",
   "execution_count": null,
   "metadata": {
    "button": false,
    "new_sheet": false,
    "run_control": {
     "read_only": false
    }
   },
   "outputs": [],
   "source": [
    "if len(results['response']['venues']) == 0:\n",
    "    venues_map = 'Cannot generate visual as no trending venues are available at the moment!'\n",
    "\n",
    "else:\n",
    "    venues_map = folium.Map(location=[latitude, longitude], zoom_start=15) # generate map centred around Ecco\n",
    "\n",
    "\n",
    "    # add Ecco as a red circle mark\n",
    "    folium.features.CircleMarker(\n",
    "        [latitude, longitude],\n",
    "        radius=10,\n",
    "        popup='Ecco',\n",
    "        fill=True,\n",
    "        color='red',\n",
    "        fill_color='red',\n",
    "        fill_opacity=0.6\n",
    "    ).add_to(venues_map)\n",
    "\n",
    "\n",
    "    # add the trending venues as blue circle markers\n",
    "    for lat, lng, label in zip(trending_venues_df['location.lat'], trending_venues_df['location.lng'], trending_venues_df['name']):\n",
    "        folium.features.CircleMarker(\n",
    "            [lat, lng],\n",
    "            radius=5,\n",
    "            poup=label,\n",
    "            fill=True,\n",
    "            color='blue',\n",
    "            fill_color='blue',\n",
    "            fill_opacity=0.6\n",
    "        ).add_to(venues_map)"
   ]
  },
  {
   "cell_type": "code",
   "execution_count": null,
   "metadata": {
    "button": false,
    "new_sheet": false,
    "run_control": {
     "read_only": false
    },
    "scrolled": false
   },
   "outputs": [],
   "source": [
    "# display map\n",
    "venues_map"
   ]
  },
  {
   "cell_type": "markdown",
   "metadata": {
    "button": false,
    "new_sheet": false,
    "run_control": {
     "read_only": false
    }
   },
   "source": [
    "<a id=\"item6\"></a>"
   ]
  },
  {
   "cell_type": "markdown",
   "metadata": {
    "button": false,
    "new_sheet": false,
    "run_control": {
     "read_only": false
    }
   },
   "source": [
    "   "
   ]
  },
  {
   "cell_type": "markdown",
   "metadata": {
    "button": false,
    "new_sheet": false,
    "run_control": {
     "read_only": false
    }
   },
   "source": [
    "### Thank you for completing this lab!\n",
    "\n",
    "This notebook was created by [Alex Aklson](https://www.linkedin.com/in/aklson/). I hope you found this lab interesting and educational. Feel free to contact me if you have any questions!"
   ]
  },
  {
   "cell_type": "markdown",
   "metadata": {
    "button": false,
    "new_sheet": false,
    "run_control": {
     "read_only": false
    }
   },
   "source": [
    "This notebook is part of a course on **Coursera** called *Applied Data Science Capstone*. If you accessed this notebook outside the course, you can take this course online by clicking [here](http://cocl.us/DP0701EN_Coursera_Week2_LAB1)."
   ]
  },
  {
   "cell_type": "markdown",
   "metadata": {
    "button": false,
    "new_sheet": false,
    "run_control": {
     "read_only": false
    }
   },
   "source": [
    "<hr>\n",
    "Copyright &copy; 2018 [Cognitive Class](https://cognitiveclass.ai/?utm_source=bducopyrightlink&utm_medium=dswb&utm_campaign=bdu). This notebook and its source code are released under the terms of the [MIT License](https://bigdatauniversity.com/mit-license/)."
   ]
  }
 ],
 "metadata": {
  "kernelspec": {
   "display_name": "Python 3",
   "language": "python",
   "name": "python3"
  },
  "language_info": {
   "codemirror_mode": {
    "name": "ipython",
    "version": 3
   },
   "file_extension": ".py",
   "mimetype": "text/x-python",
   "name": "python",
   "nbconvert_exporter": "python",
   "pygments_lexer": "ipython3",
   "version": "3.7.3"
  },
  "widgets": {
   "state": {},
   "version": "1.1.2"
  }
 },
 "nbformat": 4,
 "nbformat_minor": 2
}
