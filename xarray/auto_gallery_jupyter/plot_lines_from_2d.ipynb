{
  "cells": [
    {
      "cell_type": "code",
      "execution_count": null,
      "metadata": {
        "collapsed": false
      },
      "outputs": [],
      "source": [
        "%matplotlib inline"
      ]
    },
    {
      "cell_type": "markdown",
      "metadata": {},
      "source": [
        "\n# Multiple lines from a 2d DataArray\n\n\n\nUse :py:func:`xarray.plot.line` on a 2d DataArray to plot selections as\nmultiple lines.\n\nSee `plotting.multiplelines` for more details.\n\n\n"
      ]
    },
    {
      "cell_type": "code",
      "execution_count": null,
      "metadata": {
        "collapsed": false
      },
      "outputs": [],
      "source": [
        "import matplotlib.pyplot as plt\n\nimport xarray as xr\n\n# Load the data\nds = xr.tutorial.load_dataset('air_temperature')\nair = ds.air - 273.15  # to celsius\n\n# Prepare the figure\nf, (ax1, ax2) = plt.subplots(1, 2, figsize=(8, 4), sharey=True)\n\n# Selected latitude indices\nisel_lats = [10, 15, 20]\n\n# Temperature vs longitude plot - illustrates the \"hue\" kwarg\nair.isel(time=0, lat=isel_lats).plot.line(ax=ax1, hue='lat')\nax1.set_ylabel('\u00b0C')\n\n# Temperature vs time plot - illustrates the \"x\" and \"add_legend\" kwargs\nair.isel(lon=30, lat=isel_lats).plot.line(ax=ax2, x='time', add_legend=False)\nax2.set_ylabel('')\n\n# Show\nplt.tight_layout()\nplt.show()"
      ]
    }
  ],
  "metadata": {
    "kernelspec": {
      "display_name": "Python 3",
      "language": "python",
      "name": "python3"
    },
    "language_info": {
      "codemirror_mode": {
        "name": "ipython",
        "version": 3
      },
      "file_extension": ".py",
      "mimetype": "text/x-python",
      "name": "python",
      "nbconvert_exporter": "python",
      "pygments_lexer": "ipython3",
      "version": "3.7.3"
    }
  },
  "nbformat": 4,
  "nbformat_minor": 0
}