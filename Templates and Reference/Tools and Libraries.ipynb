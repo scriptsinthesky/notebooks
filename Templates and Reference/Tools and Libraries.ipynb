{
    "nbformat_minor": 1, 
    "cells": [
        {
            "source": "## Libraries\n - BeautifulSoup: A Python library designed for quick turnaround projects like screen-scraping.   \n     Three features make it powerful:  \n    Beautiful Soup provides a few simple methods and Pythonic idioms for navigating, searching, and modifying a parse tree: a toolkit for dissecting a document and extracting what you need. It doesn't take much code to write an application\n    Beautiful Soup automatically converts incoming documents to Unicode and outgoing documents to UTF-8. You don't have to think about encodings, unless the document doesn't specify an encoding and Beautiful Soup can't detect one. Then you just have to specify the original encoding.\n    Beautiful Soup sits on top of popular Python parsers like lxml and html5lib, allowing you to try out different parsing strategies or trade speed for flexibility. \n    https://www.crummy.com/software/BeautifulSoup/\n    \n - Tabulate: Pretty-print tabular data in Python, a library and a command-line utility.\n    https://pypi.org/project/tabulate/\n    \n - Folium map rendering\n - Shapely - geometry library\n     https://pypi.org/project/Shapely/\n - pyproj - cartographic projections and coordinate transformations library\n     https://pypi.org/project/pyproj/\n - JSON:  \n    import json  \n    from pandas.io.json import json_normalize # tranform JSON file into a pandas dataframe\n ", 
            "cell_type": "markdown", 
            "metadata": {
                "collapsed": true
            }
        }, 
        {
            "source": "", 
            "cell_type": "code", 
            "execution_count": null, 
            "outputs": [], 
            "metadata": {}
        }
    ], 
    "nbformat": 4, 
    "metadata": {
        "kernelspec": {
            "display_name": "Python 3.6", 
            "name": "python3", 
            "language": "python"
        }, 
        "language_info": {
            "mimetype": "text/x-python", 
            "nbconvert_exporter": "python", 
            "version": "3.6.8", 
            "name": "python", 
            "pygments_lexer": "ipython3", 
            "file_extension": ".py", 
            "codemirror_mode": {
                "version": 3, 
                "name": "ipython"
            }
        }
    }
}