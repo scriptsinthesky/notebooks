{
 "cells": [
  {
   "cell_type": "code",
   "execution_count": 2,
   "metadata": {
    "collapsed": true
   },
   "outputs": [],
   "source": [
    "# General syntax to import specific functions in a library: \n",
    "##from (library) import (specific library function)\n",
    "from pandas import DataFrame, read_csv\n",
    "\n",
    "# General syntax to import a library but no functions: \n",
    "##import (library) as (give the library a nickname/alias)\n",
    "import matplotlib.pyplot as plt\n",
    "import pandas as pd #this is how I usually import pandas\n",
    "import sys #only needed to determine Python version number\n",
    "import matplotlib #only needed to determine Matplotlib version number\n",
    "\n",
    "# Enable inline plotting\n",
    "%matplotlib inline"
   ]
  },
  {
   "cell_type": "code",
   "execution_count": 3,
   "metadata": {
    "collapsed": false
   },
   "outputs": [
    {
     "name": "stdout",
     "output_type": "stream",
     "text": [
      "Python version 3.4.2 (default, Oct 19 2014, 13:31:11) \n",
      "[GCC 4.9.1]\n",
      "Pandas version 0.18.1\n",
      "Matplotlib version 1.5.1\n"
     ]
    }
   ],
   "source": [
    "print('Python version ' + sys.version)\n",
    "print('Pandas version ' + pd.__version__)\n",
    "print('Matplotlib version ' + matplotlib.__version__)"
   ]
  },
  {
   "cell_type": "code",
   "execution_count": 7,
   "metadata": {
    "collapsed": false
   },
   "outputs": [],
   "source": [
    "Location = r'/home/pi/course/jupyter/Lesson1/AAPL.csv'\n",
    "df = pd.read_csv(Location)"
   ]
  },
  {
   "cell_type": "code",
   "execution_count": 8,
   "metadata": {
    "collapsed": false
   },
   "outputs": [
    {
     "data": {
      "text/plain": [
       "0     104.209999\n",
       "1     104.339996\n",
       "2     102.949997\n",
       "3      96.669998\n",
       "4      97.339996\n",
       "5      98.660004\n",
       "6      99.430000\n",
       "7      99.959999\n",
       "8      99.870003\n",
       "9      99.830002\n",
       "10     98.779999\n",
       "11     98.790001\n",
       "12     96.870003\n",
       "13     97.419998\n",
       "14     96.980003\n",
       "15     96.680000\n",
       "16     95.940002\n",
       "17     95.529999\n",
       "18     94.989998\n",
       "19     95.889999\n",
       "20     95.599998\n",
       "Name: Close, dtype: float64"
      ]
     },
     "execution_count": 8,
     "metadata": {},
     "output_type": "execute_result"
    }
   ],
   "source": [
    "df['Close']"
   ]
  },
  {
   "cell_type": "code",
   "execution_count": 10,
   "metadata": {
    "collapsed": false
   },
   "outputs": [
    {
     "data": {
      "text/plain": [
       "0          NaN\n",
       "1     0.001247\n",
       "2    -0.013322\n",
       "3    -0.061000\n",
       "4     0.006931\n",
       "5     0.013561\n",
       "6     0.007805\n",
       "7     0.005330\n",
       "8    -0.000900\n",
       "9    -0.000401\n",
       "10   -0.010518\n",
       "11    0.000101\n",
       "12   -0.019435\n",
       "13    0.005678\n",
       "14   -0.004516\n",
       "15   -0.003093\n",
       "16   -0.007654\n",
       "17   -0.004274\n",
       "18   -0.005653\n",
       "19    0.009475\n",
       "20   -0.003024\n",
       "Name: Close, dtype: float64"
      ]
     },
     "execution_count": 10,
     "metadata": {},
     "output_type": "execute_result"
    }
   ],
   "source": [
    "df['Close'].pct_change(1)"
   ]
  },
  {
   "cell_type": "code",
   "execution_count": null,
   "metadata": {
    "collapsed": true
   },
   "outputs": [],
   "source": []
  }
 ],
 "metadata": {
  "kernelspec": {
   "display_name": "Python 3",
   "language": "python",
   "name": "python3"
  },
  "language_info": {
   "codemirror_mode": {
    "name": "ipython",
    "version": 3
   },
   "file_extension": ".py",
   "mimetype": "text/x-python",
   "name": "python",
   "nbconvert_exporter": "python",
   "pygments_lexer": "ipython3",
   "version": "3.4.2"
  }
 },
 "nbformat": 4,
 "nbformat_minor": 0
}
