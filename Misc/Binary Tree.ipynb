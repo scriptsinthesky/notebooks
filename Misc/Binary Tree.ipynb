{
 "cells": [
  {
   "cell_type": "markdown",
   "metadata": {
    "toc": "true"
   },
   "source": [
    "# Table of Contents\n",
    " <p>"
   ]
  },
  {
   "cell_type": "code",
   "execution_count": 3,
   "metadata": {
    "collapsed": false
   },
   "outputs": [],
   "source": [
    "class Node:\n",
    "    def __init__(self, val):\n",
    "        self.l_child = None\n",
    "        self.r_child = None\n",
    "        self.data = val\n",
    "\n",
    "def binary_insert(root, node):\n",
    "    if root is None:\n",
    "        root = node\n",
    "    else:\n",
    "        if root.data > node.data:\n",
    "            if root.l_child is None:\n",
    "                root.l_child = node\n",
    "            else:\n",
    "                binary_insert(root.l_child, node)\n",
    "        else:\n",
    "            if root.r_child is None:\n",
    "                root.r_child = node\n",
    "            else:\n",
    "                binary_insert(root.r_child, node)\n",
    "\n",
    "def in_order_print(root):\n",
    "    if not root:\n",
    "        return\n",
    "    in_order_print(root.l_child)\n",
    "    print(root.data)\n",
    "    in_order_print(root.r_child)\n",
    "\n",
    "def pre_order_print(root):\n",
    "    if not root:\n",
    "        return        \n",
    "    print(root.data)\n",
    "    pre_order_print(root.l_child)\n",
    "    pre_order_print(root.r_child)    "
   ]
  },
  {
   "cell_type": "code",
   "execution_count": 4,
   "metadata": {
    "collapsed": true
   },
   "outputs": [],
   "source": [
    "r = Node(3)\n",
    "binary_insert(r, Node(7))\n",
    "binary_insert(r, Node(1))\n",
    "binary_insert(r, Node(5))"
   ]
  },
  {
   "cell_type": "code",
   "execution_count": 7,
   "metadata": {
    "collapsed": false
   },
   "outputs": [
    {
     "name": "stdout",
     "output_type": "stream",
     "text": [
      "in order:\n",
      "1\n",
      "3\n",
      "5\n",
      "7\n",
      "pre order\n",
      "3\n",
      "1\n",
      "7\n",
      "5\n"
     ]
    }
   ],
   "source": [
    "print(\"in order:\")\n",
    "in_order_print(r)\n",
    "\n",
    "print(\"pre order\")\n",
    "pre_order_print(r)"
   ]
  },
  {
   "cell_type": "code",
   "execution_count": null,
   "metadata": {
    "collapsed": true
   },
   "outputs": [],
   "source": []
  }
 ],
 "metadata": {
  "kernelspec": {
   "display_name": "Python (kern3.4)",
   "language": "python",
   "name": "kern3.4"
  },
  "language_info": {
   "codemirror_mode": {
    "name": "ipython",
    "version": 3
   },
   "file_extension": ".py",
   "mimetype": "text/x-python",
   "name": "python",
   "nbconvert_exporter": "python",
   "pygments_lexer": "ipython3",
   "version": "3.4.2"
  },
  "nav_menu": {},
  "toc": {
   "navigate_menu": true,
   "number_sections": true,
   "sideBar": false,
   "threshold": 6,
   "toc_cell": true,
   "toc_section_display": "block",
   "toc_window_display": true
  }
 },
 "nbformat": 4,
 "nbformat_minor": 0
}
