{
 "cells": [
  {
   "cell_type": "code",
   "execution_count": 5,
   "metadata": {
    "collapsed": true
   },
   "outputs": [],
   "source": [
    "from IPython.display import (\n",
    "    display, display_html, display_png, display_svg\n",
    ")"
   ]
  },
  {
   "cell_type": "code",
   "execution_count": 6,
   "metadata": {
    "collapsed": true
   },
   "outputs": [],
   "source": [
    "%matplotlib inline\n",
    "import numpy as np\n",
    "import matplotlib.pyplot as plt"
   ]
  },
  {
   "cell_type": "code",
   "execution_count": 3,
   "metadata": {
    "collapsed": true
   },
   "outputs": [],
   "source": [
    "from IPython.core.pylabtools import print_figure\n",
    "from IPython.display import Image, SVG, Math\n",
    "\n",
    "class Gaussian(object):\n",
    "    \"\"\"A simple object holding data sampled from a Gaussian distribution.\n",
    "    \"\"\"\n",
    "    def __init__(self, mean=0.0, std=1, size=1000):\n",
    "        self.data = np.random.normal(mean, std, size)\n",
    "        self.mean = mean\n",
    "        self.std = std\n",
    "        self.size = size\n",
    "        # For caching plots that may be expensive to compute\n",
    "        self._png_data = None\n",
    "        \n",
    "    def _figure_data(self, format):\n",
    "        fig, ax = plt.subplots()\n",
    "        ax.hist(self.data, bins=50)\n",
    "        ax.set_title(self._repr_latex_())\n",
    "        ax.set_xlim(-10.0,10.0)\n",
    "        data = print_figure(fig, format)\n",
    "        # We MUST close the figure, otherwise IPython's display machinery\n",
    "        # will pick it up and send it as output, resulting in a double display\n",
    "        plt.close(fig)\n",
    "        return data\n",
    "        \n",
    "    def _repr_png_(self):\n",
    "        if self._png_data is None:\n",
    "            self._png_data = self._figure_data('png')\n",
    "        return self._png_data\n",
    "    \n",
    "    def _repr_latex_(self):\n",
    "        return r'$\\mathcal{N}(\\mu=%.2g, \\sigma=%.2g),\\ N=%d$' % (self.mean,\n",
    "                                                                 self.std, self.size)"
   ]
  },
  {
   "cell_type": "code",
   "execution_count": 7,
   "metadata": {
    "collapsed": false
   },
   "outputs": [
    {
     "data": {
      "image/png": "[encoded data removed]",
      "text/latex": [
       "$\\mathcal{N}(\\mu=2, \\sigma=1),\\ N=1000$"
      ],
      "text/plain": [
       "<__main__.Gaussian at 0x6ae8ee10>"
      ]
     },
     "execution_count": 7,
     "metadata": {},
     "output_type": "execute_result"
    }
   ],
   "source": [
    "x = Gaussian(2.0, 1.0)\n",
    "x"
   ]
  },
  {
   "cell_type": "code",
   "execution_count": 8,
   "metadata": {
    "collapsed": false
   },
   "outputs": [
    {
     "data": {
      "image/png": "[encoded data removed]",
      "text/latex": [
       "$\\mathcal{N}(\\mu=2, \\sigma=1),\\ N=1000$"
      ],
      "text/plain": [
       "<__main__.Gaussian at 0x6ae8ee10>"
      ]
     },
     "metadata": {},
     "output_type": "display_data"
    }
   ],
   "source": [
    "display(x)"
   ]
  },
  {
   "cell_type": "code",
   "execution_count": 9,
   "metadata": {
    "collapsed": false
   },
   "outputs": [
    {
     "data": {
      "image/png": "[encoded data removed]"
     },
     "metadata": {},
     "output_type": "display_data"
    }
   ],
   "source": [
    "display_png(x)"
   ]
  },
  {
   "cell_type": "code",
   "execution_count": null,
   "metadata": {
    "collapsed": true
   },
   "outputs": [],
   "source": []
  }
 ],
 "metadata": {
  "kernelspec": {
   "display_name": "Python 3",
   "language": "python",
   "name": "python3"
  },
  "language_info": {
   "codemirror_mode": {
    "name": "ipython",
    "version": 3
   },
   "file_extension": ".py",
   "mimetype": "text/x-python",
   "name": "python",
   "nbconvert_exporter": "python",
   "pygments_lexer": "ipython3",
   "version": "3.4.2"
  }
 },
 "nbformat": 4,
 "nbformat_minor": 0
}
