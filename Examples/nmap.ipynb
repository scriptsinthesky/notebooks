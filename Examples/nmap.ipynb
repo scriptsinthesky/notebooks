{
 "cells": [
  {
   "cell_type": "code",
   "execution_count": 1,
   "metadata": {
    "collapsed": false
   },
   "outputs": [],
   "source": [
    "#\n",
    "# https://pypi.python.org/pypi/python-nmap\n",
    "# \n",
    "import nmap"
   ]
  },
  {
   "cell_type": "code",
   "execution_count": 2,
   "metadata": {
    "collapsed": true
   },
   "outputs": [],
   "source": [
    "nm = nmap.PortScanner()"
   ]
  },
  {
   "cell_type": "code",
   "execution_count": 3,
   "metadata": {
    "collapsed": false
   },
   "outputs": [
    {
     "data": {
      "text/plain": [
       "{'nmap': {'command_line': 'nmap -oX - -p 22-443 -sV 127.0.0.1',\n",
       "  'scaninfo': {'tcp': {'method': 'connect', 'services': '22-443'}},\n",
       "  'scanstats': {'downhosts': '0',\n",
       "   'elapsed': '6.77',\n",
       "   'timestr': 'Sat Jul 30 00:26:29 2016',\n",
       "   'totalhosts': '1',\n",
       "   'uphosts': '1'}},\n",
       " 'scan': {'127.0.0.1': {'addresses': {'ipv4': '127.0.0.1'},\n",
       "   'hostnames': [{'name': 'localhost', 'type': 'PTR'}],\n",
       "   'status': {'reason': 'conn-refused', 'state': 'up'},\n",
       "   'tcp': {22: {'conf': '10',\n",
       "     'cpe': '',\n",
       "     'extrainfo': 'protocol 2.0',\n",
       "     'name': 'ssh',\n",
       "     'product': '',\n",
       "     'reason': 'syn-ack',\n",
       "     'state': 'open',\n",
       "     'version': ''}},\n",
       "   'vendor': {}}}}"
      ]
     },
     "execution_count": 3,
     "metadata": {},
     "output_type": "execute_result"
    }
   ],
   "source": [
    "nm.scan('127.0.0.1', '22-443')"
   ]
  },
  {
   "cell_type": "code",
   "execution_count": 4,
   "metadata": {
    "collapsed": false
   },
   "outputs": [
    {
     "data": {
      "text/plain": [
       "'nmap -oX - -p 22-443 -sV 127.0.0.1'"
      ]
     },
     "execution_count": 4,
     "metadata": {},
     "output_type": "execute_result"
    }
   ],
   "source": [
    "nm.command_line()"
   ]
  },
  {
   "cell_type": "code",
   "execution_count": 5,
   "metadata": {
    "collapsed": false
   },
   "outputs": [
    {
     "data": {
      "text/plain": [
       "{'tcp': {'method': 'connect', 'services': '22-443'}}"
      ]
     },
     "execution_count": 5,
     "metadata": {},
     "output_type": "execute_result"
    }
   ],
   "source": [
    "nm.scaninfo()"
   ]
  },
  {
   "cell_type": "code",
   "execution_count": 6,
   "metadata": {
    "collapsed": false
   },
   "outputs": [
    {
     "data": {
      "text/plain": [
       "[{'name': 'localhost', 'type': 'PTR'}]"
      ]
     },
     "execution_count": 6,
     "metadata": {},
     "output_type": "execute_result"
    }
   ],
   "source": [
    "nm.all_hosts() # get all hosts that were scanned\n",
    "nm['127.0.0.1'].hostname() # get one hostname for host 127.0.0.1, usualy the user record\n",
    "nm['127.0.0.1'].hostnames() # get list of hostnames for host 127.0.0.1 as a list of dict"
   ]
  },
  {
   "cell_type": "code",
   "execution_count": 7,
   "metadata": {
    "collapsed": false
   },
   "outputs": [
    {
     "data": {
      "text/plain": [
       "'open'"
      ]
     },
     "execution_count": 7,
     "metadata": {},
     "output_type": "execute_result"
    }
   ],
   "source": [
    "nm['127.0.0.1'].hostname() # get hostname for host 127.0.0.1\n",
    "nm['127.0.0.1'].state() # get state of host 127.0.0.1 (up|down|unknown|skipped) \n",
    "nm['127.0.0.1'].all_protocols() # get all scanned protocols ['tcp', 'udp'] in (ip|tcp|udp|sctp)\n",
    "nm['127.0.0.1']['tcp'].keys() # get all ports for tcp protocol\n",
    "nm['127.0.0.1'].all_tcp() # get all ports for tcp protocol (sorted version)\n",
    "nm['127.0.0.1'].all_udp() # get all ports for udp protocol (sorted version)\n",
    "nm['127.0.0.1'].all_ip() # get all ports for ip protocol (sorted version)\n",
    "nm['127.0.0.1'].all_sctp() # get all ports for sctp protocol (sorted version)\n",
    "nm['127.0.0.1'].has_tcp(22) # is there any information for port 22/tcp on host 127.0.0.1\n",
    "nm['127.0.0.1']['tcp'][22] # get infos about port 22 in tcp on host 127.0.0.1\n",
    "nm['127.0.0.1'].tcp(22) # get infos about port 22 in tcp on host 127.0.0.1\n",
    "nm['127.0.0.1']['tcp'][22]['state'] # get state of port 22/tcp on host 127.0.0.1 (open"
   ]
  },
  {
   "cell_type": "code",
   "execution_count": 8,
   "metadata": {
    "collapsed": false
   },
   "outputs": [
    {
     "data": {
      "text/plain": [
       "'up'"
      ]
     },
     "execution_count": 8,
     "metadata": {},
     "output_type": "execute_result"
    }
   ],
   "source": [
    "nm['127.0.0.1'].state() "
   ]
  },
  {
   "cell_type": "code",
   "execution_count": 9,
   "metadata": {
    "collapsed": false
   },
   "outputs": [
    {
     "name": "stdout",
     "output_type": "stream",
     "text": [
      "----------------------------------------------------\n",
      "Host : 127.0.0.1 (localhost)\n",
      "State : up\n"
     ]
    }
   ],
   "source": [
    "# a more usefull example :\n",
    "for host in nm.all_hosts():\n",
    "    print('----------------------------------------------------')\n",
    "    print('Host : %s (%s)' % (host, nm[host].hostname()))\n",
    "    print('State : %s' % nm[host].state())"
   ]
  },
  {
   "cell_type": "code",
   "execution_count": 10,
   "metadata": {
    "collapsed": false
   },
   "outputs": [
    {
     "name": "stdout",
     "output_type": "stream",
     "text": [
      "----------\n",
      "Protocol : tcp\n"
     ]
    }
   ],
   "source": [
    "for proto in nm[host].all_protocols():\n",
    "    print('----------')\n",
    "    print('Protocol : %s' % proto)"
   ]
  },
  {
   "cell_type": "code",
   "execution_count": 11,
   "metadata": {
    "collapsed": false
   },
   "outputs": [
    {
     "name": "stdout",
     "output_type": "stream",
     "text": [
      "port : 22\tstate : open\n"
     ]
    }
   ],
   "source": [
    "lport = nm[host][proto].keys()\n",
    "for port in lport:\n",
    "    print('port : %s\\tstate : %s' % (port, nm[host][proto][port]['state']))"
   ]
  },
  {
   "cell_type": "code",
   "execution_count": 12,
   "metadata": {
    "collapsed": false
   },
   "outputs": [
    {
     "name": "stdout",
     "output_type": "stream",
     "text": [
      "----------------------------------------------------\n",
      "host;hostname;hostname_type;protocol;port;name;state;product;extrainfo;reason;version;conf;cpe\r\n",
      "127.0.0.1;localhost;PTR;tcp;22;ssh;open;;protocol 2.0;syn-ack;;10;\r\n",
      "\n"
     ]
    }
   ],
   "source": [
    "print('----------------------------------------------------')\n",
    "# print result as CSV\n",
    "print(nm.csv())"
   ]
  },
  {
   "cell_type": "code",
   "execution_count": 13,
   "metadata": {
    "collapsed": false
   },
   "outputs": [
    {
     "name": "stdout",
     "output_type": "stream",
     "text": [
      "----------------------------------------------------\n"
     ]
    }
   ],
   "source": [
    "print('----------------------------------------------------')\n",
    "# Asynchronous usage of PortScannerAsync\n",
    "nma = nmap.PortScannerAsync()\n",
    "def callback_result(host, scan_result):\n",
    "    print('------------------')\n",
    "    print(host, scan_result)\n",
    "    nma.scan(hosts='192.168.0.0/24', arguments='-sP', callback=callback_result)\n",
    "    while nma.still_scanning():\n",
    "        print(\"Waiting ...\")\n",
    "        nma.wait(2) # you can do whatever you want but I choose to wait after the end of the scan"
   ]
  },
  {
   "cell_type": "code",
   "execution_count": null,
   "metadata": {
    "collapsed": true
   },
   "outputs": [],
   "source": []
  }
 ],
 "metadata": {
  "kernelspec": {
   "display_name": "Python 3",
   "language": "python",
   "name": "python3"
  },
  "language_info": {
   "codemirror_mode": {
    "name": "ipython",
    "version": 3
   },
   "file_extension": ".py",
   "mimetype": "text/x-python",
   "name": "python",
   "nbconvert_exporter": "python",
   "pygments_lexer": "ipython3",
   "version": "3.4.2"
  }
 },
 "nbformat": 4,
 "nbformat_minor": 0
}
