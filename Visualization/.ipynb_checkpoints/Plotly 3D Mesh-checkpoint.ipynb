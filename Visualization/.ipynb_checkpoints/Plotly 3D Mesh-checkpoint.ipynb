{
 "cells": [
  {
   "cell_type": "markdown",
   "metadata": {
    "toc": "true"
   },
   "source": [
    "# Table of Contents\n",
    " <p>"
   ]
  },
  {
   "cell_type": "markdown",
   "metadata": {},
   "source": [
    "https://plot.ly/python/3d-mesh/\n",
    "https://plot.ly/python/reference/#mesh3d"
   ]
  },
  {
   "cell_type": "code",
   "execution_count": 4,
   "metadata": {
    "collapsed": false
   },
   "outputs": [],
   "source": [
    "import plotly.plotly as py\n",
    "import plotly.graph_objs as go\n",
    "import numpy as np\n",
    "\n",
    "#pts=np.loadtxt('dataset.txt')\n",
    "#x,y,z=zip(*pts)\n",
    "\n",
    "#trace = go.Mesh3d(x=x,y=y,z=z,color='90EE90',opacity=0.50)\n",
    "#py.iplot([trace])"
   ]
  },
  {
   "cell_type": "code",
   "execution_count": 6,
   "metadata": {
    "collapsed": false
   },
   "outputs": [],
   "source": [
    "data = go.Data([\n",
    "    go.Mesh3d(\n",
    "        x = [0, 0, 1, 1, 0, 0, 1, 1],\n",
    "        y = [0, 1, 1, 0, 0, 1, 1, 0],\n",
    "        z = [0, 0, 0, 0, 1, 1, 1, 1],\n",
    "        colorbar = go.ColorBar(\n",
    "            title='z'\n",
    "        ),\n",
    "        colorscale = [['0', 'rgb(255, 0, 255)'], ['0.5', 'rgb(0, 255, 0)'], ['1', 'rgb(0, 0, 255)']],\n",
    "        intensity = [0, 0.142857142857143, 0.285714285714286, 0.428571428571429, 0.571428571428571, 0.714285714285714, 0.857142857142857, 1],\n",
    "        i = [7, 0, 0, 0, 4, 4, 6, 6, 4, 0, 3, 2],\n",
    "        j = [3, 4, 1, 2, 5, 6, 5, 2, 0, 1, 6, 3],\n",
    "        k = [0, 7, 2, 3, 6, 7, 1, 1, 5, 5, 7, 6],\n",
    "        name='y',\n",
    "        showscale=True\n",
    "    )\n",
    "])\n",
    "layout = go.Layout(\n",
    "    xaxis=go.XAxis(\n",
    "        title='x'\n",
    "    ),\n",
    "    yaxis=go.YAxis(\n",
    "        title='y'\n",
    "    )\n",
    ")\n"
   ]
  },
  {
   "cell_type": "code",
   "execution_count": 7,
   "metadata": {
    "collapsed": false
   },
   "outputs": [
    {
     "data": {
      "text/html": [
       "<script>requirejs.config({paths: { 'plotly': ['https://cdn.plot.ly/plotly-latest.min']},});if(!window.Plotly) {{require(['plotly'],function(plotly) {window.Plotly=plotly;});}}</script>"
      ],
      "text/vnd.plotly.v1+html": [
       "<script>requirejs.config({paths: { 'plotly': ['https://cdn.plot.ly/plotly-latest.min']},});if(!window.Plotly) {{require(['plotly'],function(plotly) {window.Plotly=plotly;});}}</script>"
      ]
     },
     "metadata": {},
     "output_type": "display_data"
    },
    {
     "data": {
      "application/vnd.plotly.v1+json": {
       "data": [
        {
         "colorbar": {
          "title": "z"
         },
         "colorscale": [
          [
           "0",
           "rgb(255, 0, 255)"
          ],
          [
           "0.5",
           "rgb(0, 255, 0)"
          ],
          [
           "1",
           "rgb(0, 0, 255)"
          ]
         ],
         "i": [
          7,
          0,
          0,
          0,
          4,
          4,
          6,
          6,
          4,
          0,
          3,
          2
         ],
         "intensity": [
          0,
          0.142857142857143,
          0.285714285714286,
          0.428571428571429,
          0.571428571428571,
          0.714285714285714,
          0.857142857142857,
          1
         ],
         "j": [
          3,
          4,
          1,
          2,
          5,
          6,
          5,
          2,
          0,
          1,
          6,
          3
         ],
         "k": [
          0,
          7,
          2,
          3,
          6,
          7,
          1,
          1,
          5,
          5,
          7,
          6
         ],
         "name": "y",
         "showscale": true,
         "type": "mesh3d",
         "x": [
          0,
          0,
          1,
          1,
          0,
          0,
          1,
          1
         ],
         "y": [
          0,
          1,
          1,
          0,
          0,
          1,
          1,
          0
         ],
         "z": [
          0,
          0,
          0,
          0,
          1,
          1,
          1,
          1
         ]
        }
       ],
       "layout": {
        "xaxis": {
         "title": "x"
        },
        "yaxis": {
         "title": "y"
        }
       }
      },
      "text/html": [
       "<div id=\"7600aa0b-a010-4f21-9833-3990be413e09\" style=\"height: 525px; width: 100%;\" class=\"plotly-graph-div\"></div><script type=\"text/javascript\">require([\"plotly\"], function(Plotly) { window.PLOTLYENV=window.PLOTLYENV || {};window.PLOTLYENV.BASE_URL=\"https://plot.ly\";Plotly.newPlot(\"7600aa0b-a010-4f21-9833-3990be413e09\", [{\"name\": \"y\", \"colorscale\": [[\"0\", \"rgb(255, 0, 255)\"], [\"0.5\", \"rgb(0, 255, 0)\"], [\"1\", \"rgb(0, 0, 255)\"]], \"i\": [7, 0, 0, 0, 4, 4, 6, 6, 4, 0, 3, 2], \"k\": [0, 7, 2, 3, 6, 7, 1, 1, 5, 5, 7, 6], \"j\": [3, 4, 1, 2, 5, 6, 5, 2, 0, 1, 6, 3], \"colorbar\": {\"title\": \"z\"}, \"intensity\": [0, 0.142857142857143, 0.285714285714286, 0.428571428571429, 0.571428571428571, 0.714285714285714, 0.857142857142857, 1], \"showscale\": true, \"y\": [0, 1, 1, 0, 0, 1, 1, 0], \"x\": [0, 0, 1, 1, 0, 0, 1, 1], \"z\": [0, 0, 0, 0, 1, 1, 1, 1], \"type\": \"mesh3d\"}], {\"xaxis\": {\"title\": \"x\"}, \"yaxis\": {\"title\": \"y\"}}, {\"linkText\": \"Export to plot.ly\", \"showLink\": true})});</script>"
      ],
      "text/vnd.plotly.v1+html": [
       "<div id=\"7600aa0b-a010-4f21-9833-3990be413e09\" style=\"height: 525px; width: 100%;\" class=\"plotly-graph-div\"></div><script type=\"text/javascript\">require([\"plotly\"], function(Plotly) { window.PLOTLYENV=window.PLOTLYENV || {};window.PLOTLYENV.BASE_URL=\"https://plot.ly\";Plotly.newPlot(\"7600aa0b-a010-4f21-9833-3990be413e09\", [{\"name\": \"y\", \"colorscale\": [[\"0\", \"rgb(255, 0, 255)\"], [\"0.5\", \"rgb(0, 255, 0)\"], [\"1\", \"rgb(0, 0, 255)\"]], \"i\": [7, 0, 0, 0, 4, 4, 6, 6, 4, 0, 3, 2], \"k\": [0, 7, 2, 3, 6, 7, 1, 1, 5, 5, 7, 6], \"j\": [3, 4, 1, 2, 5, 6, 5, 2, 0, 1, 6, 3], \"colorbar\": {\"title\": \"z\"}, \"intensity\": [0, 0.142857142857143, 0.285714285714286, 0.428571428571429, 0.571428571428571, 0.714285714285714, 0.857142857142857, 1], \"showscale\": true, \"y\": [0, 1, 1, 0, 0, 1, 1, 0], \"x\": [0, 0, 1, 1, 0, 0, 1, 1], \"z\": [0, 0, 0, 0, 1, 1, 1, 1], \"type\": \"mesh3d\"}], {\"xaxis\": {\"title\": \"x\"}, \"yaxis\": {\"title\": \"y\"}}, {\"linkText\": \"Export to plot.ly\", \"showLink\": true})});</script>"
      ]
     },
     "metadata": {},
     "output_type": "display_data"
    }
   ],
   "source": [
    "import plotly\n",
    "from plotly.graph_objs import Scatter, Layout\n",
    "\n",
    "plotly.offline.init_notebook_mode(connected=True)\n",
    "\n",
    "plotly.offline.iplot({\"data\":data, \"layout\":layout})"
   ]
  },
  {
   "cell_type": "code",
   "execution_count": null,
   "metadata": {
    "collapsed": true
   },
   "outputs": [],
   "source": []
  }
 ],
 "metadata": {
  "kernelspec": {
   "display_name": "Python (kern 2.7)",
   "language": "python",
   "name": "kern2.7"
  },
  "language_info": {
   "codemirror_mode": {
    "name": "ipython",
    "version": 2
   },
   "file_extension": ".py",
   "mimetype": "text/x-python",
   "name": "python",
   "nbconvert_exporter": "python",
   "pygments_lexer": "ipython2",
   "version": "2.7.9"
  },
  "nav_menu": {},
  "toc": {
   "navigate_menu": true,
   "number_sections": true,
   "sideBar": false,
   "threshold": 6,
   "toc_cell": true,
   "toc_section_display": "block",
   "toc_window_display": true
  }
 },
 "nbformat": 4,
 "nbformat_minor": 0
}
