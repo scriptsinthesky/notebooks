{
 "cells": [
  {
   "cell_type": "markdown",
   "metadata": {
    "toc": "true"
   },
   "source": [
    "# Table of Contents\n",
    " <p>"
   ]
  },
  {
   "cell_type": "code",
   "execution_count": 1,
   "metadata": {
    "collapsed": false
   },
   "outputs": [
    {
     "name": "stderr",
     "output_type": "stream",
     "text": [
      "ERROR:root:An unexpected error occurred while tokenizing input\n",
      "The following traceback may be corrupted or invalid\n",
      "The error message is: ('EOF in multi-line string', (1, 0))\n",
      "\n"
     ]
    },
    {
     "ename": "ImportError",
     "evalue": "Could not import backend for traits\n_______________________________________________________________________________\nMake sure that you have either the TraitsBackendWx or the TraitsBackendQt\nprojects installed. If you installed Mayavi with easy_install, try\neasy_install <pkg_name>. easy_install Mayavi[app] will also work.\n\nIf you performed a source checkout, be sure to run 'python setup.py install'\nin Traits, TraitsGUI, and the Traits backend of your choice.\n\nAlso make sure that either wxPython or PyQT is installed.\nwxPython: http://www.wxpython.org/\nPyQT: http://www.riverbankcomputing.co.uk/software/pyqt/intro\n",
     "output_type": "error",
     "traceback": [
      "\u001b[0;31m\u001b[0m",
      "\u001b[0;31mImportError\u001b[0mTraceback (most recent call last)",
      "\u001b[0;32m<ipython-input-1-010133340ed5>\u001b[0m in \u001b[0;36m<module>\u001b[0;34m()\u001b[0m\n\u001b[1;32m     83\u001b[0m \u001b[0mnodes\u001b[0m \u001b[0;34m=\u001b[0m \u001b[0mrange\u001b[0m\u001b[0;34m(\u001b[0m\u001b[0;36m10\u001b[0m\u001b[0;34m)\u001b[0m\u001b[0;34m\u001b[0m\u001b[0m\n\u001b[1;32m     84\u001b[0m \u001b[0mgraph\u001b[0m \u001b[0;34m=\u001b[0m \u001b[0mmake_graph\u001b[0m\u001b[0;34m(\u001b[0m\u001b[0mnodes\u001b[0m\u001b[0;34m)\u001b[0m\u001b[0;34m\u001b[0m\u001b[0m\n\u001b[0;32m---> 85\u001b[0;31m \u001b[0mdraw_graph3d\u001b[0m\u001b[0;34m(\u001b[0m\u001b[0mgraph\u001b[0m\u001b[0;34m)\u001b[0m\u001b[0;34m\u001b[0m\u001b[0m\n\u001b[0m",
      "\u001b[0;32m<ipython-input-1-010133340ed5>\u001b[0m in \u001b[0;36mdraw_graph3d\u001b[0;34m(graph, graph_colormap, bgcolor, node_size, edge_color, edge_size, text_size, text_color)\u001b[0m\n\u001b[1;32m     28\u001b[0m     \u001b[0;31m# scalar colors\u001b[0m\u001b[0;34m\u001b[0m\u001b[0;34m\u001b[0m\u001b[0m\n\u001b[1;32m     29\u001b[0m     \u001b[0mscalars\u001b[0m\u001b[0;34m=\u001b[0m\u001b[0mnp\u001b[0m\u001b[0;34m.\u001b[0m\u001b[0marray\u001b[0m\u001b[0;34m(\u001b[0m\u001b[0mG\u001b[0m\u001b[0;34m.\u001b[0m\u001b[0mnodes\u001b[0m\u001b[0;34m(\u001b[0m\u001b[0;34m)\u001b[0m\u001b[0;34m)\u001b[0m\u001b[0;34m+\u001b[0m\u001b[0;36m5\u001b[0m\u001b[0;34m\u001b[0m\u001b[0m\n\u001b[0;32m---> 30\u001b[0;31m     \u001b[0mmlab\u001b[0m\u001b[0;34m.\u001b[0m\u001b[0mfigure\u001b[0m\u001b[0;34m(\u001b[0m\u001b[0;36m1\u001b[0m\u001b[0;34m,\u001b[0m \u001b[0mbgcolor\u001b[0m\u001b[0;34m=\u001b[0m\u001b[0mbgcolor\u001b[0m\u001b[0;34m)\u001b[0m\u001b[0;34m\u001b[0m\u001b[0m\n\u001b[0m\u001b[1;32m     31\u001b[0m     \u001b[0mmlab\u001b[0m\u001b[0;34m.\u001b[0m\u001b[0mclf\u001b[0m\u001b[0;34m(\u001b[0m\u001b[0;34m)\u001b[0m\u001b[0;34m\u001b[0m\u001b[0m\n\u001b[1;32m     32\u001b[0m \u001b[0;34m\u001b[0m\u001b[0m\n",
      "\u001b[0;32m/home/pi/Envs/kernel27/local/lib/python2.7/site-packages/mayavi/tools/figure.pyc\u001b[0m in \u001b[0;36mfigure\u001b[0;34m(figure, bgcolor, fgcolor, engine, size)\u001b[0m\n\u001b[1;32m     61\u001b[0m     \u001b[0;32melse\u001b[0m\u001b[0;34m:\u001b[0m\u001b[0;34m\u001b[0m\u001b[0m\n\u001b[1;32m     62\u001b[0m         \u001b[0;32mif\u001b[0m \u001b[0mengine\u001b[0m \u001b[0;32mis\u001b[0m \u001b[0mNone\u001b[0m\u001b[0;34m:\u001b[0m\u001b[0;34m\u001b[0m\u001b[0m\n\u001b[0;32m---> 63\u001b[0;31m             \u001b[0mengine\u001b[0m \u001b[0;34m=\u001b[0m \u001b[0mget_engine\u001b[0m\u001b[0;34m(\u001b[0m\u001b[0;34m)\u001b[0m\u001b[0;34m\u001b[0m\u001b[0m\n\u001b[0m\u001b[1;32m     64\u001b[0m         \u001b[0;32mif\u001b[0m \u001b[0mfigure\u001b[0m \u001b[0;32mis\u001b[0m \u001b[0mNone\u001b[0m\u001b[0;34m:\u001b[0m\u001b[0;34m\u001b[0m\u001b[0m\n\u001b[1;32m     65\u001b[0m             \u001b[0mname\u001b[0m \u001b[0;34m=\u001b[0m \u001b[0mmax\u001b[0m\u001b[0;34m(\u001b[0m\u001b[0m__scene_number_list\u001b[0m\u001b[0;34m)\u001b[0m \u001b[0;34m+\u001b[0m \u001b[0;36m1\u001b[0m\u001b[0;34m\u001b[0m\u001b[0m\n",
      "\u001b[0;32m/home/pi/Envs/kernel27/local/lib/python2.7/site-packages/mayavi/tools/engine_manager.pyc\u001b[0m in \u001b[0;36mget_engine\u001b[0;34m(self)\u001b[0m\n\u001b[1;32m     99\u001b[0m                                 if e.__class__.__name__ == 'Engine']\n\u001b[1;32m    100\u001b[0m         \u001b[0;32mif\u001b[0m \u001b[0mlen\u001b[0m\u001b[0;34m(\u001b[0m\u001b[0msuitable\u001b[0m\u001b[0;34m)\u001b[0m \u001b[0;34m==\u001b[0m \u001b[0;36m0\u001b[0m\u001b[0;34m:\u001b[0m\u001b[0;34m\u001b[0m\u001b[0m\n\u001b[0;32m--> 101\u001b[0;31m             \u001b[0;32mreturn\u001b[0m \u001b[0mself\u001b[0m\u001b[0;34m.\u001b[0m\u001b[0mnew_engine\u001b[0m\u001b[0;34m(\u001b[0m\u001b[0;34m)\u001b[0m\u001b[0;34m\u001b[0m\u001b[0m\n\u001b[0m\u001b[1;32m    102\u001b[0m         \u001b[0;32melse\u001b[0m\u001b[0;34m:\u001b[0m\u001b[0;34m\u001b[0m\u001b[0m\n\u001b[1;32m    103\u001b[0m             \u001b[0;31m# Return the most engine add to the list most recently.\u001b[0m\u001b[0;34m\u001b[0m\u001b[0;34m\u001b[0m\u001b[0m\n",
      "\u001b[0;32m/home/pi/Envs/kernel27/local/lib/python2.7/site-packages/mayavi/tools/engine_manager.pyc\u001b[0m in \u001b[0;36mnew_engine\u001b[0;34m(self)\u001b[0m\n\u001b[1;32m    144\u001b[0m             \u001b[0moptions\u001b[0m\u001b[0;34m.\u001b[0m\u001b[0;34m\u001b[0m\u001b[0m\n\u001b[1;32m    145\u001b[0m         \"\"\"\n\u001b[0;32m--> 146\u001b[0;31m         \u001b[0mcheck_backend\u001b[0m\u001b[0;34m(\u001b[0m\u001b[0;34m)\u001b[0m\u001b[0;34m\u001b[0m\u001b[0m\n\u001b[0m\u001b[1;32m    147\u001b[0m         \u001b[0;32mif\u001b[0m \u001b[0moptions\u001b[0m\u001b[0;34m.\u001b[0m\u001b[0mbackend\u001b[0m \u001b[0;34m==\u001b[0m \u001b[0;34m'envisage'\u001b[0m\u001b[0;34m:\u001b[0m\u001b[0;34m\u001b[0m\u001b[0m\n\u001b[1;32m    148\u001b[0m             \u001b[0;32mfrom\u001b[0m \u001b[0mmayavi\u001b[0m\u001b[0;34m.\u001b[0m\u001b[0mplugins\u001b[0m\u001b[0;34m.\u001b[0m\u001b[0mapp\u001b[0m \u001b[0;32mimport\u001b[0m \u001b[0mMayavi\u001b[0m\u001b[0;34m\u001b[0m\u001b[0m\n",
      "\u001b[0;32m/home/pi/Envs/kernel27/local/lib/python2.7/site-packages/mayavi/tools/engine_manager.pyc\u001b[0m in \u001b[0;36mcheck_backend\u001b[0;34m()\u001b[0m\n\u001b[1;32m     47\u001b[0m \u001b[0mwxPython\u001b[0m\u001b[0;34m:\u001b[0m \u001b[0mhttp\u001b[0m\u001b[0;34m:\u001b[0m\u001b[0;34m//\u001b[0m\u001b[0mwww\u001b[0m\u001b[0;34m.\u001b[0m\u001b[0mwxpython\u001b[0m\u001b[0;34m.\u001b[0m\u001b[0morg\u001b[0m\u001b[0;34m/\u001b[0m\u001b[0;34m\u001b[0m\u001b[0m\n\u001b[1;32m     48\u001b[0m \u001b[0mPyQT\u001b[0m\u001b[0;34m:\u001b[0m \u001b[0mhttp\u001b[0m\u001b[0;34m:\u001b[0m\u001b[0;34m//\u001b[0m\u001b[0mwww\u001b[0m\u001b[0;34m.\u001b[0m\u001b[0mriverbankcomputing\u001b[0m\u001b[0;34m.\u001b[0m\u001b[0mco\u001b[0m\u001b[0;34m.\u001b[0m\u001b[0muk\u001b[0m\u001b[0;34m/\u001b[0m\u001b[0msoftware\u001b[0m\u001b[0;34m/\u001b[0m\u001b[0mpyqt\u001b[0m\u001b[0;34m/\u001b[0m\u001b[0mintro\u001b[0m\u001b[0;34m\u001b[0m\u001b[0m\n\u001b[0;32m---> 49\u001b[0;31m ''')\n\u001b[0m\u001b[1;32m     50\u001b[0m \u001b[0;34m\u001b[0m\u001b[0m\n\u001b[1;32m     51\u001b[0m \u001b[0;34m\u001b[0m\u001b[0m\n",
      "\u001b[0;31mImportError\u001b[0m: Could not import backend for traits\n_______________________________________________________________________________\nMake sure that you have either the TraitsBackendWx or the TraitsBackendQt\nprojects installed. If you installed Mayavi with easy_install, try\neasy_install <pkg_name>. easy_install Mayavi[app] will also work.\n\nIf you performed a source checkout, be sure to run 'python setup.py install'\nin Traits, TraitsGUI, and the Traits backend of your choice.\n\nAlso make sure that either wxPython or PyQT is installed.\nwxPython: http://www.wxpython.org/\nPyQT: http://www.riverbankcomputing.co.uk/software/pyqt/intro\n"
     ]
    }
   ],
   "source": [
    "import networkx as nx\n",
    "import matplotlib.pyplot as plt\n",
    "import numpy as np\n",
    "from mayavi import mlab\n",
    "\n",
    "import random\n",
    "\n",
    "def draw_graph3d(graph, graph_colormap='winter', bgcolor = (1, 1, 1),\n",
    "                 node_size=0.03,\n",
    "                 edge_color=(0.8, 0.8, 0.8), edge_size=0.002,\n",
    "                 text_size=0.008, text_color=(0, 0, 0)):\n",
    "\n",
    "    H=nx.Graph()\n",
    "\n",
    "    # add edges\n",
    "    for node, edges in graph.items():\n",
    "        for edge, val in edges.items():\n",
    "            if val == 1:\n",
    "                H.add_edge(node, edge)\n",
    "\n",
    "    G=nx.convert_node_labels_to_integers(H)\n",
    "\n",
    "    graph_pos=nx.spring_layout(G, dim=3)\n",
    "\n",
    "    # numpy array of x,y,z positions in sorted node order\n",
    "    xyz=np.array([graph_pos[v] for v in sorted(G)])\n",
    "\n",
    "    # scalar colors\n",
    "    scalars=np.array(G.nodes())+5\n",
    "    mlab.figure(1, bgcolor=bgcolor)\n",
    "    mlab.clf()\n",
    "\n",
    "    #----------------------------------------------------------------------------\n",
    "    # the x,y, and z co-ordinates are here\n",
    "    # manipulate them to obtain the desired projection perspective \n",
    "    pts = mlab.points3d(xyz[:,0], xyz[:,1], xyz[:,2],\n",
    "                        scalars,\n",
    "                        scale_factor=node_size,\n",
    "                        scale_mode='none',\n",
    "                        colormap=graph_colormap,\n",
    "                        resolution=20)\n",
    "    #----------------------------------------------------------------------------\n",
    "\n",
    "    for i, (x, y, z) in enumerate(xyz):\n",
    "        label = mlab.text(x, y, str(i), z=z,\n",
    "                          width=text_size, name=str(i), color=text_color)\n",
    "        label.property.shadow = True\n",
    "\n",
    "    pts.mlab_source.dataset.lines = np.array(G.edges())\n",
    "    tube = mlab.pipeline.tube(pts, tube_radius=edge_size)\n",
    "    mlab.pipeline.surface(tube, color=edge_color)\n",
    "\n",
    "    mlab.show() # interactive window\n",
    "\n",
    "# create tangled hypercube\n",
    "def make_graph(nodes):\n",
    "\n",
    "    def make_link(graph, i1, i2):\n",
    "        graph[i1][i2] = 1\n",
    "        graph[i2][i1] = 1\n",
    "\n",
    "    n = len(nodes)\n",
    "\n",
    "    if n == 1: return {nodes[0]:{}}\n",
    "\n",
    "    nodes1 = nodes[0:n/2]\n",
    "    nodes2 = nodes[n/2:]\n",
    "    G1 = make_graph(nodes1)\n",
    "    G2 = make_graph(nodes2)\n",
    "\n",
    "    # merge G1 and G2 into a single graph\n",
    "    G = dict(G1.items() + G2.items())\n",
    "\n",
    "    # link G1 and G2\n",
    "    random.shuffle(nodes1)\n",
    "    random.shuffle(nodes2)\n",
    "    for i in range(len(nodes1)):\n",
    "        make_link(G, nodes1[i], nodes2[i])\n",
    "\n",
    "    return G\n",
    "\n",
    "# graph example\n",
    "nodes = range(10)\n",
    "graph = make_graph(nodes)\n",
    "draw_graph3d(graph)"
   ]
  },
  {
   "cell_type": "code",
   "execution_count": null,
   "metadata": {
    "collapsed": true
   },
   "outputs": [],
   "source": []
  }
 ],
 "metadata": {
  "kernelspec": {
   "display_name": "Python (kern 2.7)",
   "language": "python",
   "name": "kern2.7"
  },
  "language_info": {
   "codemirror_mode": {
    "name": "ipython",
    "version": 2
   },
   "file_extension": ".py",
   "mimetype": "text/x-python",
   "name": "python",
   "nbconvert_exporter": "python",
   "pygments_lexer": "ipython2",
   "version": "2.7.9"
  },
  "nav_menu": {},
  "toc": {
   "navigate_menu": true,
   "number_sections": true,
   "sideBar": false,
   "threshold": 6,
   "toc_cell": true,
   "toc_section_display": "block",
   "toc_window_display": false
  }
 },
 "nbformat": 4,
 "nbformat_minor": 0
}
