{
 "metadata": {
  "name": ""
 },
 "nbformat": 3,
 "nbformat_minor": 0,
 "worksheets": [
  {
   "cells": [
    {
     "cell_type": "markdown",
     "metadata": {},
     "source": [
      "<figure>\n",
      "  <IMG SRC=\"https://raw.githubusercontent.com/mbakker7/exploratory_computing_with_python/master/tudelft_logo.png\" WIDTH=250 ALIGN=\"right\">\n",
      "</figure>\n",
      "\n",
      "# Exploratory Computing with Python\n",
      "*Developed by Mark Bakker*\n",
      "## Advanced Topic Notebook 2: Systems of linear equations"
     ]
    },
    {
     "cell_type": "markdown",
     "metadata": {},
     "source": [
      "In this Notebook, we learn how to build and solve systems of linear equations, and apply these techniques to solve some problems in Soil Mechanics."
     ]
    },
    {
     "cell_type": "code",
     "collapsed": false,
     "input": [
      "%pylab inline"
     ],
     "language": "python",
     "metadata": {},
     "outputs": [
      {
       "output_type": "stream",
       "stream": "stdout",
       "text": [
        "Populating the interactive namespace from numpy and matplotlib\n"
       ]
      }
     ],
     "prompt_number": 1
    },
    {
     "cell_type": "markdown",
     "metadata": {},
     "source": [
      "###Building and solving a system of linear equations\n",
      "A parabola is defined by three points (provided they are not on a straight line). \n",
      "The equation for a parabola is $y=ax^2+bx+c$, where $a$, $b$, and $c$ are constants.\n",
      "Given three points $(x_1,y_1)$, $(x_2,y_2)$, $(x_3,y_3)$, the following system of three linear equations may be compiled\n",
      "\n",
      "$\n",
      "\\begin{split}\n",
      "x_1^2a+x_1b+c&=y_1 \\\\\n",
      "x_2^2a+x_2b+c&=y_2 \\\\\n",
      "x_3^2a+x_3b+c&=y_3 \\\\\n",
      "\\end{split}\n",
      "$\n",
      "\n",
      "Or in matrix form\n",
      "\n",
      "$\n",
      "\\left(\n",
      "\\begin{array}{ccc}\n",
      "x_1^2 & x_1 & 1 \\\\\n",
      "x_2^2 & x_2 & 1 \\\\\n",
      "x_3^2 & x_3 & 1 \\\\\n",
      "\\end{array}\n",
      "\\right)\n",
      "\\left(\n",
      "\\begin{array}{c}\n",
      "a \\\\b \\\\c \\\\\n",
      "\\end{array}\n",
      "\\right)\n",
      "=\n",
      "\\left(\n",
      "\\begin{array}{c}\n",
      "y_1 \\\\\n",
      "y_2 \\\\\n",
      "y_3 \\\\\n",
      "\\end{array}\n",
      "\\right)\n",
      "$\n",
      "\n",
      "To solve this problem, we build a two-dimensional array containing the matrix (called `A`) and a one-dimensional array containing the right-hand side (called `rhs`).\n",
      "Let's do that for the three points $(x_1,y_1)=(-2,2)$, $(x_2,y_2)=(1,-1)$, $(x_3,y_3)=(4,4)$"
     ]
    },
    {
     "cell_type": "code",
     "collapsed": false,
     "input": [
      "xp = array([-2, 1,4])\n",
      "yp = array([ 2,-1,4])\n",
      "A = zeros((3,3))\n",
      "rhs = zeros(3)\n",
      "for i in range(3):\n",
      "    A[i] = xp[i]**2, xp[i], 1  # Store one row at a time\n",
      "    rhs[i] = yp[i]\n",
      "print 'Array A: '\n",
      "print A\n",
      "print 'rhs: ',rhs"
     ],
     "language": "python",
     "metadata": {},
     "outputs": [
      {
       "output_type": "stream",
       "stream": "stdout",
       "text": [
        "Array A: \n",
        "[[  4.  -2.   1.]\n",
        " [  1.   1.   1.]\n",
        " [ 16.   4.   1.]]\n",
        "rhs:  [ 2. -1.  4.]\n"
       ]
      }
     ],
     "prompt_number": 2
    },
    {
     "cell_type": "markdown",
     "metadata": {},
     "source": [
      "The system may be solved with the `solve` method, which is part of the `linalg` package (`linalg` is part of `numpy` and `pylab`). The `solve` method takes as input a two-dimensional array (the matrix) and a one-dimensional array (the right-hand side) and returns the solution. To check whether the solution is correct, we need to do a matrix multiply of the matrix stored in the array `A` and the obtained solution; the `numy` function for a matrix multipy is called `dot`. We can also visually check whether we solved the problem correctly by drawing the three points and the parabola. "
     ]
    },
    {
     "cell_type": "code",
     "collapsed": false,
     "input": [
      "from pylab import *\n",
      "sol = linalg.solve(A,rhs)\n",
      "print 'solution is: ',sol\n",
      "print 'A dot sol: ',dot(A,sol)\n",
      "plot([-2,1,4],[2,-1,4],'ro')\n",
      "x = linspace(-3,5,100)\n",
      "y = sol[0]*x**2 + sol[1]*x + sol[2]\n",
      "plot(x,y,'b')"
     ],
     "language": "python",
     "metadata": {},
     "outputs": [
      {
       "output_type": "stream",
       "stream": "stdout",
       "text": [
        "solution is:  [ 0.44444444 -0.55555556 -0.88888889]\n",
        "A dot sol:  [ 2. -1.  4.]\n"
       ]
      },
      {
       "metadata": {},
       "output_type": "pyout",
       "prompt_number": 3,
       "text": [
        "[<matplotlib.lines.Line2D at 0x1b56930>]"
       ]
      },
      {
       "metadata": {},
       "output_type": "display_data",
       "png": "[encoded data removed]",
       "text": [
        "<matplotlib.figure.Figure at 0x3114910>"
       ]
      }
     ],
     "prompt_number": 3
    },
    {
     "cell_type": "markdown",
     "metadata": {},
     "source": [
      "###Exercise 1. <a name=\"back1\"></a>Fitting a wave\n",
      "Consider the following four measurements of the quantity $y$ at time $t$: $(t_0,y_0)=(0,3)$, $(t_1,y_1)=(0.25,1)$, $(t_2,y_2)=(0.5,-3)$, $(t_3,y_3)=(0.75,1)$. The measurements are part of a wave that may be written as\n",
      "\n",
      "$y = a\\cos(\\pi t) + b\\cos(2\\pi t) + c\\cos(3\\pi t) + d\\cos(4\\pi t)$\n",
      "\n",
      "where $a$, $b$, $c$, and $d$ are parameters. Build a system of four linear equations and solve for the four parameters. Creates a plot of the wave for $t$ going from 0 to 1 and shows the four measurements with dots."
     ]
    },
    {
     "cell_type": "code",
     "collapsed": false,
     "input": [],
     "language": "python",
     "metadata": {},
     "outputs": [],
     "prompt_number": 3
    },
    {
     "cell_type": "markdown",
     "metadata": {},
     "source": [
      "<a href=\"#ex1answer\">Answers to Exercise 1</a>"
     ]
    },
    {
     "cell_type": "markdown",
     "metadata": {},
     "source": [
      "###One-dimensional groundwater flow\n",
      "Consider a sand layer covered by a clay layer. The sand layer is bounded on each side by a canal with fixed water level $h_1^*$ (left) and $h_2^*$ (right); the distance between the two canals is $L$. Water leaks through the clay layer at a constant rate $P$ (see Figure). The groundwater head in the sand layer is governed by the second-order ordinary differential equation\n",
      "\n",
      "$\\frac{\\text{d}^2h}{\\text{d}x^2} = -\\frac{P}{kD}$\n",
      "\n",
      "where $h$ is the head, $k$ is the hydraulic conductivity of the sand layer, and $D$ is the thickness of the sand layer. The boundary conditions are that $h=h_1^*$ at $x=0$ and $h=h_2^*$ at $x=L$. \n",
      "\n",
      "<img src=\"http://i.imgur.com/2DH0sxT.png\" alt=\"Canals\" width=400pt>\n",
      "\n",
      "Although it is easy to solve this problem exactly, we will solve it here numerically using the finite difference method (which allows for $P$ to be a function of $x$, for example). The head is computed at $N+1$ equally spaced points from $x=0$ to $x=L$. The points are labeled $x_0$ through $x_{N}$, where $x_n=n\\Delta x$, and $\\Delta x$ is the horizontal distance between the points. The head at point $x_n$ is called $h_n$. The second order derivative can be approximated as (see, e.g., Verrujt (2012) Soil Mechanics, Eq. 17.4; a link to a pdf of the full text of this book may be found under Software <a href=\"http://geo.verruijt.net/\">here</a> )\n",
      "\n",
      "$\\frac{\\text{d}^2h}{\\text{d}x^2} \\approx \\frac{1}{\\Delta x} \\left[ \\frac{h_{n+1}-h_n}{\\Delta x} - \\frac{h_{n}-h_{n-1}}{\\Delta x} \\right]= \\frac{h_{n-1}-2h_n+h_{n+1}}{(\\Delta x)^2}$\n",
      "\n",
      "Substitution of this approximation of the derivative in the differential equation and rearranging terms gives\n",
      "\n",
      "$h_{n-1}-2h_n+h_{n+1} = -P(\\Delta x)^2/(kD)$\n",
      "\n",
      "An equation like this may be written for every point $n$, except for the first and last point where we need to apply the boundary conditions:\n",
      "\n",
      "$h_0=h_1^* \\qquad h_N=h_2^*$\n",
      "\n",
      "When $N=4$, we need to solve a system of $N+1=5$ linear equations in the unknowns $h_0$ through $h_4$:\n",
      "\n",
      "$\\begin{split}\n",
      "h_0 &= h_1^*  \\\\\n",
      "h_{0}-2h_1+h_{2} &= -P(\\Delta x)^2/(kD) \\\\\n",
      "h_{1}-2h_2+h_{3} &= -P(\\Delta x)^2/(kD) \\\\\n",
      "h_{2}-2h_3+h_{4} &= -P(\\Delta x)^2/(kD) \\\\\n",
      "h_4 &= h_2^* \n",
      "\\end{split}$\n",
      "\n",
      "or in matrix form\n",
      "\n",
      "$\n",
      "\\left(\n",
      "\\begin{array}{ccccc}\n",
      "1 & 0 & 0 & 0 & 0 \\\\\n",
      "1 & -2 & 1 & 0 & 0 \\\\\n",
      "0 & 1 & -2 & 1 & 0 \\\\\n",
      "0 & 0 & 1 & -2 & 1 \\\\\n",
      "0 & 0 & 0 & 0 & 1 \\\\\n",
      "\\end{array}\n",
      "\\right)\n",
      "\\left(\n",
      "\\begin{array}{c}\n",
      "h_0 \\\\\n",
      "h_1 \\\\\n",
      "h_2 \\\\\n",
      "h_3 \\\\\n",
      "h_4 \\\\\n",
      "\\end{array}\n",
      "\\right)\n",
      "=\n",
      "\\left(\n",
      "\\begin{array}{c}\n",
      "h_1^* \\\\\n",
      "-P(\\Delta x)^2/(kD) \\\\\n",
      "-P(\\Delta x)^2/(kD) \\\\\n",
      "-P(\\Delta x)^2/(kD) \\\\\n",
      "h_2^* \\\\\n",
      "\\end{array}\n",
      "\\right)\n",
      "$\n",
      "\n",
      "Note that the matrix consists of mostly zeros. The matrix is referred to as a tri-diagonal matrix, as there are only values along three diagonals of the matrix. The matrix may be constructed by specifying the values and position of the diagonals. The main diagonal has position number zero and has length $N+1$. The diagonal right above the main diagonal has position number $+1$ and length $N$, while the diagonal below the main diagonal has position number $-1$ and also length $N$. The `diag` function creates a matrix consisting of one diagonal. The input arguments are an array with the values along the diagonal and the position of the diagonal. The matrix may be constructed as follows"
     ]
    },
    {
     "cell_type": "code",
     "collapsed": false,
     "input": [
      "N = 4\n",
      "d0 = -2*ones(N+1)  # main diagonal\n",
      "d0[0] = 1  # first value of main diagonal is 1\n",
      "d0[-1] = 1 # last value of main diagonal is 1\n",
      "dplus1 = ones(N) # diagonal right above main diagonal, position 1\n",
      "dplus1[0] = 0    # first value of diagonal is 0\n",
      "dmin1 = ones(N)  # diagonal right below main diagonal, position -1\n",
      "dmin1[-1] = 0    # last value of diagonal is 0\n",
      "A = diag(d0,0) + diag(dplus1,1) + diag(dmin1,-1)\n",
      "print A"
     ],
     "language": "python",
     "metadata": {},
     "outputs": [
      {
       "output_type": "stream",
       "stream": "stdout",
       "text": [
        "[[ 1.  0.  0.  0.  0.]\n",
        " [ 1. -2.  1.  0.  0.]\n",
        " [ 0.  1. -2.  1.  0.]\n",
        " [ 0.  0.  1. -2.  1.]\n",
        " [ 0.  0.  0.  0.  1.]]\n"
       ]
      }
     ],
     "prompt_number": 4
    },
    {
     "cell_type": "markdown",
     "metadata": {},
     "source": [
      "Two final remarks. First, the finite-difference method described above is accurate if you use a reasonable number of points. Four points won't cut it. You may figure out whether you used enough points by, for example, doubling the number of points and compare the two solutions. Second, the above prodedure to construct a matrix is not very efficient, as a full matrix is stored, which consists of mainly zeros. There are more efficient routines that store what are called *sparse matrices*. In a sparse matrix, only the value and location of non-zero values in a matrix are stored. The problems we are solving here are small, however, so we stick with full matrices for simplicity."
     ]
    },
    {
     "cell_type": "markdown",
     "metadata": {},
     "source": [
      "###Exercise 2. <a name=\"back2\"></a>The head between two canals\n",
      "Compute the head distribution in a sand layer bounded on each side by a canal. Given: $k=10$ m/day, $D=10$ m, $h_1^*=20$ m, $h_2^*=22$ m, $L=1000$ m, $P=0.001$ m/d. Use $N=40$. Write Python code to:\n",
      "\n",
      "* Solve for the heads in all $N+1$ points\n",
      "* Print the maximum value of the head between the two canals to the screen (this should be around 22.5)\n",
      "* Create a plot of the head vs. $x$. Label the axes."
     ]
    },
    {
     "cell_type": "code",
     "collapsed": false,
     "input": [],
     "language": "python",
     "metadata": {},
     "outputs": [],
     "prompt_number": 4
    },
    {
     "cell_type": "markdown",
     "metadata": {},
     "source": [
      "<a href=\"#ex2answer\">Answers to Exercise 2</a>"
     ]
    },
    {
     "cell_type": "markdown",
     "metadata": {},
     "source": [
      "###Consolidation\n",
      "The deformation of saturated clay soils is a slow process, referred to as consolidation. In the compression of a soil the porosity decreases, and as a result there is less space available for pore water. Hence, some pore water needs to be pushed out of the soil during compression. This may take considerable time time in clays, as the permeability of clays is small. An extensive description of the consolidation process may be found in, e.g., Chapters 15-17 of Verruijt, 2012, Soil Mechanics."
     ]
    },
    {
     "cell_type": "markdown",
     "metadata": {},
     "source": [
      "Consider one-dimensional consolidation in a soil of height $h$. The water pressure $p$ in the soil sample is governed by the differential equation\n",
      "\n",
      "$\\frac{\\partial p}{\\partial t} = c_v \\frac{\\partial^2 p}{\\partial z^2}$\n",
      "\n",
      "where $z$ is the vertical coordinate (positive upward), and $c_v$ is the consolidation coefficient.  We consider the problem where water can drain out at the top, but not at the bottom, so that the boundary condition at the bottom is\n",
      "\n",
      "$z=0 \\qquad \\frac{\\partial p}{\\partial z} = 0$\n",
      "\n",
      "and the boundary condition at the top is\n",
      "\n",
      "$z=h \\qquad p = 0$\n",
      "\n",
      "A constant load is applied at the top at time $t=0$ resulting, initially, in a uniform pressure $q$ throughout the soil sample\n",
      "\n",
      "$t=0 \\qquad p = q$\n",
      "\n",
      "<img src=\"http://i.imgur.com/4xdeoxw.png\" alt=\"Consolidation\" width=400pt>\n"
     ]
    },
    {
     "cell_type": "markdown",
     "metadata": {},
     "source": [
      "The change of pressure with time in the soil is simulated with a numerical method (fully implicit finite differences, to be exact). The pressure is computed at $N+1$ points, equally distributed from $z=0$ to $z=h$. The points are labeled $z_0$ through $z_{N}$, where $z_n=n\\Delta z$ and $\\Delta z$ is the vertical distance between the points. The pressure at point $z_n$ is called $p_n$. A separate solution is computed for every time step $\\Delta t$. The time derivative is approximated as\n",
      "\n",
      "$\\frac{\\partial p}{\\partial t} \\approx [p_n(t) - p_n(t-\\Delta t)]/\\Delta t$\n",
      "\n",
      "while the spatial derivative is approximated as\n",
      "\n",
      "$\\frac{\\partial^2 p}{\\partial z^2} \\approx [p_{n-1}(t) -2p_n(t) + p_{n+1}(t)] / (\\Delta z)^2 $\n",
      "\n",
      "Subsitution of the approximations of these derivatives and gathering terms gives the following equation:\n",
      "\n",
      "$p_{n-1}(t) - (2+\\mu)p_n(t) + p_{n+1}(t) = -\\mu p_n(t-\\Delta t)$\n",
      "\n",
      "where $\\mu = (\\Delta z)^2/(c_v\\Delta t)$. This is an equation for the pressure in points $(n-1)$, $n$, and $(n+1)$ at time $t$, where it is assumed that the pressure at time $t-\\Delta t$ is known.\n",
      "\n",
      "The equations for $n=0$ and $n=N$ are different. \n",
      "At the bottom of the sample ($n=0$) the boundary condition is $\\partial p/\\partial z = 0$. The derivative may be approximated at $z_0=0$ as \n",
      "\n",
      "$\\left(\\frac{\\partial p}{\\partial z}\\right)_{z=0} \\approx (p_1-p_{-1})/(2\\Delta z)=0$\n",
      "\n",
      "where $p_{-1}$ is the pressure at an imaginary point $\\Delta z$ below $z_0$. The derivative is zero when $p_{-1}=p_1$, and substitution in the equation for $n=0$ gives\n",
      "\n",
      "$- (2+\\mu)p_n(t) + 2p_{n+1}(t) = -\\mu p_n(t-\\Delta t)$\n",
      "\n",
      "The equation for $n=N$ is easier, as at the top of the sample ($n=N$) the pressure is fixed to $p_N=0$."
     ]
    },
    {
     "cell_type": "markdown",
     "metadata": {},
     "source": [
      "As an example, the system of equations for $N=4$ is\n",
      "\n",
      "$\n",
      "\\left(\n",
      "\\begin{array}{ccccc}\n",
      "-(2+\\mu) & 2 & 0 & 0 & 0 \\\\\n",
      "1 & -(2+\\mu) & 1 & 0 & 0 \\\\\n",
      "0 & 1 & -(2+\\mu) & 1 & 0 \\\\\n",
      "0 & 0 & 1 & -(2+\\mu) & 1 \\\\\n",
      "0 & 0 & 0 & 0 & 1 \\\\\n",
      "\\end{array}\n",
      "\\right)\n",
      "\\left(\n",
      "\\begin{array}{c}\n",
      "p_0(t) \\\\\n",
      "p_1(t) \\\\\n",
      "p_2(t) \\\\\n",
      "p_3(t) \\\\\n",
      "p_4(t) \\\\\n",
      "\\end{array}\n",
      "\\right)\n",
      "=\n",
      "\\left(\n",
      "\\begin{array}{c}\n",
      "-\\mu p_0(t-\\Delta t)) \\\\\n",
      "-\\mu p_1(t-\\Delta t)) \\\\\n",
      "-\\mu p_2(t-\\Delta t)) \\\\\n",
      "-\\mu p_3(t-\\Delta t) \\\\\n",
      "0 \\\\\n",
      "\\end{array}\n",
      "\\right)\n",
      "$\n",
      "\n",
      "A solution is obtained by stepping through time. The matrix needs to be computed only once, as it doesn't change through time. Every time step, a new right-hand-side needs to be computed and a linear system of $N+1$ equations needs to be solved. If the matrix is called $A$ and the right-hand-side (based on the pressures at $t-\\Delta t$) is called $\\vec{r}(t-\\Delta t)$, then the pressure at time $t$, $\\vec{p}(t)$, is obtained by solving the system\n",
      "\n",
      "$A\\vec{p}(t) = \\vec{r}(t-\\Delta t)$\n",
      "\n"
     ]
    },
    {
     "cell_type": "markdown",
     "metadata": {},
     "source": [
      "Note again that the presented numerical solution procedure is approximate and only gives accurate solutions when the time step $\\Delta t$ and the spatial discretization $\\Delta z$ are chosen small enough."
     ]
    },
    {
     "cell_type": "markdown",
     "metadata": {},
     "source": [
      "###Exercise 3. <a name=\"back3\"></a>One-dimensional consolidation\n",
      "Consider the consolidation process of a clay layer that is 2 m thick. A uniform load is applied at time $t=0$ causing a unit increase in the pressure (i.e., $p(t=0)=1$). The consolidation coefficient of the clay is $c_v=1\\cdot 10^{-6}$ m$^2$/s. Simulate the consolidation process using the numerical method described above. Use $N=40$ and a time step $\\Delta t=4\\cdot 10^4$ sec. Take 50 time steps and plot the pressure distribution in the clay every 10 time steps. Add labels along the axes and a legend. Compare your solution to the graph in Fig. 16.2 of Veruit (2012) (Note that Verruijt plots $p$ along the horizontal axis). The last line of your plot should approximate the line $c_v t / h^2=0.5$ in the graph of Verrujt. \n",
      "\n",
      "Make sure that your Python code:\n",
      "\n",
      "* Solves for the pressure in all $N+1$ points for all 50 time steps and plots the results after 10, 20, 30, 40, and 50 time steps.\n",
      "* Prints the maximum value of the pressure to the screen after 10, 20, 30, 40, and 50 time steps."
     ]
    },
    {
     "cell_type": "code",
     "collapsed": false,
     "input": [],
     "language": "python",
     "metadata": {},
     "outputs": [],
     "prompt_number": 4
    },
    {
     "cell_type": "markdown",
     "metadata": {},
     "source": [
      "<a href=\"#ex3answer\">Answers to Exercise 3</a>"
     ]
    },
    {
     "cell_type": "markdown",
     "metadata": {},
     "source": [
      "###The inverse of a matrix\n",
      "As mentioned, the values of the matrix `A` don't change through time. Hence, it is more efficient to compute and store the inverse of the matrix rather than repeatedly calling the `solve` method. The inverse of a matrix may be computed with the `inv` function of the `linalg` package. If the inverse of matrix `A` is called `Ainv`, the solution for the pressure may be obtained through matrix multiplication of `Ainv` with the right-hand side. For example, for the first problem in this Notebook, fitting a parabola through three points, the inverse of the matrix can be computed to obtain a solution as follows: "
     ]
    },
    {
     "cell_type": "code",
     "collapsed": false,
     "input": [
      "A = array([[ 4, -2, 1],\n",
      "           [ 1,  1, 1],\n",
      "           [16,  4, 1]])\n",
      "rhs = array([2,-1,4])\n",
      "Ainv = linalg.inv(A)\n",
      "sol = dot(Ainv,rhs)\n",
      "print 'sol: ',sol"
     ],
     "language": "python",
     "metadata": {},
     "outputs": [
      {
       "output_type": "stream",
       "stream": "stdout",
       "text": [
        "sol:  [ 0.44444444 -0.55555556 -0.88888889]\n"
       ]
      }
     ],
     "prompt_number": 5
    },
    {
     "cell_type": "markdown",
     "metadata": {},
     "source": [
      "###Exercise 4. <a name=\"back4\"></a>One-dimensional consolidation revisited\n",
      "Modify your solution to Exercise 3 by computing and storing the inverse of the matrix, and compute a solution through multiplication of the inverse of the matrix with the right-hand-side vector"
     ]
    },
    {
     "cell_type": "code",
     "collapsed": false,
     "input": [],
     "language": "python",
     "metadata": {},
     "outputs": [],
     "prompt_number": 5
    },
    {
     "cell_type": "markdown",
     "metadata": {},
     "source": [
      "<a href=\"#ex4answer\">Answers to Exercise 4</a>"
     ]
    },
    {
     "cell_type": "markdown",
     "metadata": {},
     "source": [
      "###Solutions to the exercises"
     ]
    },
    {
     "cell_type": "markdown",
     "metadata": {},
     "source": [
      "<a name=\"ex1answer\">Answers to Exercise 1</a>"
     ]
    },
    {
     "cell_type": "code",
     "collapsed": false,
     "input": [
      "tp = array([0,0.25,0.5,0.75])\n",
      "yp = array([ 3,1,-3,1])\n",
      "A = zeros((4,4))\n",
      "rhs = zeros(4)\n",
      "for i in range(4):\n",
      "    A[i] = cos(pi*tp[i]), cos(2*pi*tp[i]), cos(3*pi*tp[i]), cos(4*pi*tp[i])  # Store one row at a time\n",
      "    rhs[i] = yp[i]\n",
      "sol = solve(A,rhs)\n",
      "print 'a,b,c,d: ',sol\n",
      "\n",
      "t = linspace(0,1,100)\n",
      "y = sol[0] * cos(pi*t) + sol[1] * cos(2*pi*t) + sol[2] * cos(3*pi*t) + sol[3] * cos(4*pi*t)\n",
      "plot(t,y,'b',label='wave')\n",
      "plot(tp,yp,'ro',label='data')\n",
      "legend(loc='best')"
     ],
     "language": "python",
     "metadata": {},
     "outputs": [
      {
       "output_type": "stream",
       "stream": "stdout",
       "text": [
        "a,b,c,d:  [ 1.  2.  1. -1.]\n"
       ]
      },
      {
       "metadata": {},
       "output_type": "pyout",
       "prompt_number": 6,
       "text": [
        "<matplotlib.legend.Legend at 0x320fd70>"
       ]
      },
      {
       "metadata": {},
       "output_type": "display_data",
       "png": "[encoded data removed]",
       "text": [
        "<matplotlib.figure.Figure at 0x3160110>"
       ]
      }
     ],
     "prompt_number": 6
    },
    {
     "cell_type": "markdown",
     "metadata": {},
     "source": [
      "<a href=\"#back1\">Back to Exercise 1</a>\n",
      "\n",
      "<a name=\"ex2answer\">Answers to Exercise 2</a>"
     ]
    },
    {
     "cell_type": "code",
     "collapsed": false,
     "input": [
      "k = 10.0\n",
      "D = 10.0\n",
      "h1star = 20.0\n",
      "h2star = 22.0\n",
      "L = 1000.0\n",
      "P = 0.001\n",
      "N = 40\n",
      "\n",
      "d0 = -2*ones(N+1)  # main diagonal\n",
      "d0[0] = 1  # first value of main diagonal is 1\n",
      "d0[-1] = 1 # last value of main diagonal is 1\n",
      "dplus1 = ones(N) # diagonal right above main diagonal, position 1\n",
      "dplus1[0] = 0    # first value of diagonal is 0\n",
      "dmin1 = ones(N)  # diagonal right below main diagonal, position -1\n",
      "dmin1[-1] = 0    # last value of diagonal is 0\n",
      "A = diag(d0,0) + diag(dplus1,1) + diag(dmin1,-1)\n",
      "# Right hand side\n",
      "delx = L / N\n",
      "rhs = -P * delx**2 / (k*D) * ones(N+1)\n",
      "rhs[0] = h1star\n",
      "rhs[-1] = h2star\n",
      "# Solve for the head and plot\n",
      "h = linalg.solve(A,rhs)\n",
      "x = linspace(0,L,N+1)\n",
      "plot(x,h)\n",
      "xlabel('x (m)')\n",
      "ylabel('head (m)')\n",
      "print 'maximum head ',amax(h)"
     ],
     "language": "python",
     "metadata": {},
     "outputs": [
      {
       "output_type": "stream",
       "stream": "stdout",
       "text": [
        "maximum head  22.45\n"
       ]
      },
      {
       "metadata": {},
       "output_type": "display_data",
       "png": "[encoded data removed]",
       "text": [
        "<matplotlib.figure.Figure at 0x3182eb0>"
       ]
      }
     ],
     "prompt_number": 7
    },
    {
     "cell_type": "markdown",
     "metadata": {},
     "source": [
      "<a href=\"#back2\">Back to Exercise 2</a>\n",
      "\n",
      "<a name=\"ex3answer\">Answers to Exercise 3</a>"
     ]
    },
    {
     "cell_type": "code",
     "collapsed": false,
     "input": [
      "cv = 1e-6  # m^2/s\n",
      "h = 2.0  # m\n",
      "N = 40\n",
      "delt = 4e4  # s\n",
      "#\n",
      "delz = h/N\n",
      "mu = delz**2/(cv*delt)\n",
      "\n",
      "d0 = -(2+mu)*ones(N+1)\n",
      "d0[-1] = 1\n",
      "dp1 = ones(N)\n",
      "dp1[0] = 2\n",
      "dm1 = ones(N)\n",
      "dm1[-1] = 0\n",
      "A = diag(d0) + diag(dp1,1) + diag(dm1,-1)\n",
      "\n",
      "p = ones(N+1)\n",
      "for i in range(5):\n",
      "    for j in range(10):\n",
      "        rhs = -mu * p\n",
      "        rhs[-1] = 0\n",
      "        p = solve(A,rhs)\n",
      "    plot(arange(0,h+0.01,delz),p,label=str((i+1)*10)+' timesteps ')\n",
      "    print 'maximum value after ', 10*(i+1), 'timesteps is: ',p[0]\n",
      "xlim(0,2)\n",
      "legend(loc='best')\n",
      "xlabel('z')\n",
      "ylabel('p')\n",
      "yticks(linspace(0,1,11))\n",
      "title('Consolidation')"
     ],
     "language": "python",
     "metadata": {},
     "outputs": [
      {
       "output_type": "stream",
       "stream": "stdout",
       "text": [
        "maximum value after  10 timesteps is:  0.942582661527\n",
        "maximum value after  20 timesteps is:  0.774232516343\n",
        "maximum value after  30 timesteps is:  0.611765747348\n",
        "maximum value after  40 timesteps is:  0.480122757381\n",
        "maximum value after  50 timesteps is:  0.376368780322\n"
       ]
      },
      {
       "metadata": {},
       "output_type": "pyout",
       "prompt_number": 8,
       "text": [
        "<matplotlib.text.Text at 0x347d7f0>"
       ]
      },
      {
       "metadata": {},
       "output_type": "display_data",
       "png": "[encoded data removed]",
       "text": [
        "<matplotlib.figure.Figure at 0x31a6ff0>"
       ]
      }
     ],
     "prompt_number": 8
    },
    {
     "cell_type": "markdown",
     "metadata": {},
     "source": [
      "<a href=\"#back3\">Back to Exercise 3</a>\n",
      "\n",
      "<a name=\"ex4answer\">Answers to Exercise 4</a>"
     ]
    },
    {
     "cell_type": "code",
     "collapsed": false,
     "input": [
      "cv = 1e-6  # m^2/s\n",
      "h = 2.0  # m\n",
      "N = 40\n",
      "delt = 4e4  # s\n",
      "#\n",
      "delz = h/N\n",
      "mu = delz**2/(cv*delt)\n",
      "\n",
      "d0 = -(2+mu)*ones(N+1)\n",
      "d0[-1] = 1\n",
      "dp1 = ones(N)\n",
      "dp1[0] = 2\n",
      "dm1 = ones(N)\n",
      "dm1[-1] = 0\n",
      "A = diag(d0) + diag(dp1,1) + diag(dm1,-1)\n",
      "Ainv = linalg.inv(A)\n",
      "\n",
      "p = ones(N+1)\n",
      "for i in range(5):\n",
      "    for j in range(10):\n",
      "        rhs = -mu * p\n",
      "        rhs[-1] = 0\n",
      "        p = dot(Ainv,rhs)\n",
      "    plot(arange(0,h+0.01,delz),p,label=str((i+1)*10)+' timesteps ')\n",
      "    print 'maximum value after ', 10*(i+1), 'timesteps is: ',p[0]\n",
      "xlim(0,2)\n",
      "legend(loc='best')\n",
      "xlabel('z')\n",
      "ylabel('p')\n",
      "yticks(linspace(0,1,11))\n",
      "title('Consolidation')"
     ],
     "language": "python",
     "metadata": {},
     "outputs": [
      {
       "output_type": "stream",
       "stream": "stdout",
       "text": [
        "maximum value after  10 timesteps is:  0.942582661527\n",
        "maximum value after  20 timesteps is:  0.774232516343\n",
        "maximum value after  30 timesteps is:  0.611765747348\n",
        "maximum value after  40 timesteps is:  0.480122757381\n",
        "maximum value after  50 timesteps is:  0.376368780322\n"
       ]
      },
      {
       "metadata": {},
       "output_type": "pyout",
       "prompt_number": 9,
       "text": [
        "<matplotlib.text.Text at 0x31a63f0>"
       ]
      },
      {
       "metadata": {},
       "output_type": "display_data",
       "png": "[encoded data removed]",
       "text": [
        "<matplotlib.figure.Figure at 0x3406530>"
       ]
      }
     ],
     "prompt_number": 9
    },
    {
     "cell_type": "markdown",
     "metadata": {},
     "source": [
      "<a href=\"#back4\">Back to Exercise 4</a>"
     ]
    },
    {
     "cell_type": "code",
     "collapsed": false,
     "input": [],
     "language": "python",
     "metadata": {},
     "outputs": [],
     "prompt_number": 9
    }
   ],
   "metadata": {}
  }
 ]
}