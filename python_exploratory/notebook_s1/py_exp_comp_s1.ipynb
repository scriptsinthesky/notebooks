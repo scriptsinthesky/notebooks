{
 "metadata": {
  "name": "",
  "signature": "sha256:d9e35ce176265fcf82b947e49b6ef65256d2475bfb76ec8551376454154b3be3"
 },
 "nbformat": 3,
 "nbformat_minor": 0,
 "worksheets": [
  {
   "cells": [
    {
     "cell_type": "markdown",
     "metadata": {},
     "source": [
      "<figure>\n",
      "  <IMG SRC=\"https://raw.githubusercontent.com/mbakker7/exploratory_computing_with_python/master/tudelft_logo.png\" WIDTH=250 ALIGN=\"right\">\n",
      "</figure>\n",
      "\n",
      "# Exploratory Computing with Python\n",
      "*Developed by Mark Bakker*"
     ]
    },
    {
     "cell_type": "markdown",
     "metadata": {},
     "source": [
      "## Statistics Notebook 1: Discrete random variables\n",
      "This is the first Notebook with applications of Python programming to the field of probability and statisics. Many of the functions we will use are included in the `random` subpackage of `numpy`. We will import this package and call it `rnd` so that we don't have to type `np.random.` all the time."
     ]
    },
    {
     "cell_type": "code",
     "collapsed": false,
     "input": [
      "import numpy as np\n",
      "import matplotlib.pyplot as plt\n",
      "import numpy.random as rnd\n",
      "%matplotlib inline"
     ],
     "language": "python",
     "metadata": {},
     "outputs": [],
     "prompt_number": ""
    },
    {
     "cell_type": "markdown",
     "metadata": {},
     "source": [
      "\n",
      "\n",
      "###Random numbers\n",
      "A random number generator lets you draw, at random, a number from a specified distribution. Several random number generators are included in the `random` package. For example, the `random_integers(low,high,size)` function returns an integer array of shape `size` at random from `low` up to *and including* `high`. For example, let's flip a coin 10 times and assign a 0 to heads and a 1 to tails."
     ]
    },
    {
     "cell_type": "code",
     "collapsed": false,
     "input": [
      "rnd.random_integers(0,1,10)"
     ],
     "language": "python",
     "metadata": {},
     "outputs": [],
     "prompt_number": ""
    },
    {
     "cell_type": "markdown",
     "metadata": {},
     "source": [
      "If we call the `random_integers` function again, we get a different sequence of heads (zeros) and tails (ones):"
     ]
    },
    {
     "cell_type": "code",
     "collapsed": false,
     "input": [
      "rnd.random_integers(0,1,10)"
     ],
     "language": "python",
     "metadata": {},
     "outputs": [],
     "prompt_number": ""
    },
    {
     "cell_type": "markdown",
     "metadata": {},
     "source": [
      "Internally, the random number generator starts with what is called a *seed*. The seed is a number and is generated automatically (and supposedly at random) when you call the random number generator. The value of the seed exactly defines the sequence of random numbers that you get (so some people may argue that the generated sequence is at best pseudo-random, and you may not want to use the sequence for any serious cryptographic use, but for our purposes they are random enough). For example, let's set `seed` equal to 10"
     ]
    },
    {
     "cell_type": "code",
     "collapsed": false,
     "input": [
      "rnd.seed(10)\n",
      "rnd.random_integers(0,1,10)"
     ],
     "language": "python",
     "metadata": {},
     "outputs": [],
     "prompt_number": ""
    },
    {
     "cell_type": "markdown",
     "metadata": {},
     "source": [
      "If we now specify the seed again as 10, we can generate the exact same sequence"
     ]
    },
    {
     "cell_type": "code",
     "collapsed": false,
     "input": [
      "rnd.seed(10)\n",
      "rnd.random_integers(0,1,10)"
     ],
     "language": "python",
     "metadata": {},
     "outputs": [],
     "prompt_number": ""
    },
    {
     "cell_type": "markdown",
     "metadata": {},
     "source": [
      "The ability to generate the exact same sequence is useful during code development. By seeding the random number generator, you can compare your output to output of others trying to solve the same problem."
     ]
    },
    {
     "cell_type": "markdown",
     "metadata": {},
     "source": [
      "###Flipping a coin\n",
      "Enough for now about random number generators. Let's flip a coin 100 times and count the number of heads (0-s) and the number of tails (1-s):"
     ]
    },
    {
     "cell_type": "code",
     "collapsed": false,
     "input": [
      "flip = rnd.random_integers(0,1,100)\n",
      "headcount = 0\n",
      "tailcount = 0\n",
      "for i in range(100):\n",
      "    if flip[i] == 0:\n",
      "        headcount += 1\n",
      "    else:\n",
      "        tailcount += 1\n",
      "print 'number of heads: ',headcount\n",
      "print 'number of tails: ',tailcount"
     ],
     "language": "python",
     "metadata": {},
     "outputs": [],
     "prompt_number": ""
    },
    {
     "cell_type": "markdown",
     "metadata": {},
     "source": [
      "First of all, note that the number of heads and the number of tails add up to 100. Also, note how we counted the heads and tails. We created counters `headcount` and `tailcount`, looped through all flips, and added 1 to the appropriate counter. Instead of a loop, we could have used a condition for the indices combined with a summation as follows"
     ]
    },
    {
     "cell_type": "code",
     "collapsed": false,
     "input": [
      "headcount = np.sum( flip == 0 )\n",
      "tailcount = np.sum( flip == 1 )\n",
      "print 'headcount ',headcount\n",
      "print 'tailcount ',tailcount"
     ],
     "language": "python",
     "metadata": {},
     "outputs": [],
     "prompt_number": ""
    },
    {
     "cell_type": "markdown",
     "metadata": {},
     "source": [
      "How does that works? You may recall that the `flip == 0` statement returns an array with length 100 (equal to the lenght of `flip`) with the value `True` when the condition is met, and `False` when the condition is not met. The boolean `True` has the value 1, and the boolean `False` has the value 0. So when we sum all values in the array `flip == 0`, we sum all `True` values, where every `True` value is equal to 1.\n",
      "\n",
      "The code above is easy, but if we do an experiment with more than two outcomes, it may be cumbersome to do summation for every possible outcome. So let's try to rewrite this part of the code using a loop. For this specific case the number of lines of code doesn't decrease, but when we have an experiment with many different outcomes this will be much more efficient."
     ]
    },
    {
     "cell_type": "code",
     "collapsed": false,
     "input": [
      "outcomes = np.zeros(2) # Two outcomes. heads are stored in outcome[0], tails in outcome[1]\n",
      "for i in range (2):\n",
      "    outcomes[i] = np.sum( flip == i )\n",
      "    print 'outcome ',i,' is ',outcomes[i]"
     ],
     "language": "python",
     "metadata": {},
     "outputs": [],
     "prompt_number": ""
    },
    {
     "cell_type": "markdown",
     "metadata": {},
     "source": [
      "###Exercise 1. <a name=\"back1\"></a>Throwing a dice\n",
      "Throw a dice 100 times and report how many times you throw 1, 2, 3, 4, 5, and 6. Use a seed of 33. Make sure that the reported values add up to 100. Make sure you use a loop in your code as we did in the previous code cell."
     ]
    },
    {
     "cell_type": "code",
     "collapsed": false,
     "input": [],
     "language": "python",
     "metadata": {},
     "outputs": [],
     "prompt_number": ""
    },
    {
     "cell_type": "markdown",
     "metadata": {},
     "source": [
      "<a href=\"#ex1answer\">Answers to Exercise 1</a>"
     ]
    },
    {
     "cell_type": "markdown",
     "metadata": {},
     "source": [
      "###Flipping a coin twice\n",
      "Next we are going to flip a coin twice for 100 times and count the number of tails. We generate a random array of 0-s (heads) and 1-s (tails) with two rows (representing two coin flips) and 100 colums. The sum along the two rows represents the number of tails. The `sum` function takes an array and by default sums all the values in the array and returns one number. In this case we want to sum the rows. For that, the `sum` function has a keyword argument called `axis`, where `axis=0` sums over index 0 of the array (the rows), `axis=1` sums over the index 1 of the array (the columns), etc."
     ]
    },
    {
     "cell_type": "code",
     "collapsed": false,
     "input": [
      "rnd.seed(55)\n",
      "flips = rnd.random_integers(low=0, high=1, size=(2,100))\n",
      "tails = np.sum(flips, axis=0)\n",
      "number_of_tails = np.zeros(3)\n",
      "for i in range(3):\n",
      "    number_of_tails[i] = np.sum( tails == i )\n",
      "print 'number of 0, 1, 2 tails:',number_of_tails"
     ],
     "language": "python",
     "metadata": {},
     "outputs": [],
     "prompt_number": ""
    },
    {
     "cell_type": "markdown",
     "metadata": {},
     "source": [
      "Another way to simulate flipping a coin twice, is to draw a number at random from a set of 2 numbers (0 and 1). You need to replace the number after every draw, of course. The `numpy` function to draw a random number from a given array is called `choice`. The `choice` function has a keyword to specify whether values are replaced or not. Hence the following two ways to generate 5 flips are identical."
     ]
    },
    {
     "cell_type": "code",
     "collapsed": false,
     "input": [
      "rnd.seed(55)\n",
      "flips1 = rnd.random_integers(low=0, high=1, size=5)\n",
      "rnd.seed(55)\n",
      "flips2 = rnd.choice(range(2), size=5, replace=True)\n",
      "np.alltrue(flips1==flips2)  # Check whether all values in the two arrays are equal"
     ],
     "language": "python",
     "metadata": {},
     "outputs": [],
     "prompt_number": ""
    },
    {
     "cell_type": "markdown",
     "metadata": {},
     "source": [
      "###Cumulative Probability\n",
      "Next we compute the experimental probability of 0 tails, 1 tail, and 2 tails through division by the total number of trials (one trial is two coin flips). The three probabilities add up to 1. The cumulative probability distribution is obtained by cumulatively summing the probabilities using the `cumsum` function of `numpy`. The first value is the probability of throwing 0 tails. The second value is the probability of 1 or fewer tails, and the third value it the probability of 2 or fewer tails. The probability is computed as the number of tails divided by the total number of trials, and since the `number_of_tails` has real values (not integers), we can divide by the integer 100 and get the correct probability."
     ]
    },
    {
     "cell_type": "code",
     "collapsed": false,
     "input": [
      "prob = number_of_tails / 100\n",
      "cum_prob = np.cumsum(prob) # So cum_prob[0] = prob[0], cum_prob[1] = prob[0] + prob[1], etc.\n",
      "print 'cum_prob ',cum_prob"
     ],
     "language": "python",
     "metadata": {},
     "outputs": [],
     "prompt_number": ""
    },
    {
     "cell_type": "markdown",
     "metadata": {},
     "source": [
      "The cumulative probability distribution of a dataset is commonly plotted with a step function, which can be done by specifying the keyword `drawstyle='steps-post'` when using the plot function. To make the plot look good, we need to add an additional value of 0 at the beginning of the array and an additional value of 1 at the end of the array. For that, we use the `hstack` command, which stacks values or arrays together, one behind the other. Note that the values or arrays that need to be stacked together are grouped in a tuple (by putting parentheses around them). Finally, the limits of the vertical axis are extended a bit to make the graph look prettier. "
     ]
    },
    {
     "cell_type": "code",
     "collapsed": false,
     "input": [
      "y = np.hstack((0,cum_prob,1))\n",
      "plt.plot([-1,0,1,2,3],y,drawstyle='steps-post')\n",
      "plt.xlabel('number of tails in two throws')\n",
      "plt.ylabel('cumulative probability')\n",
      "plt.xticks([0,1,2])\n",
      "plt.ylim(-0.1,1.1)"
     ],
     "language": "python",
     "metadata": {},
     "outputs": [],
     "prompt_number": ""
    },
    {
     "cell_type": "markdown",
     "metadata": {},
     "source": [
      "###Exercise 2. <a name=\"back2\"></a>Flip a coin five times\n",
      "Flip a coin five times in a row and record how many times you obtain heads (varying from 0-5). Perform the exeriment 1000 times. Make a graph with the total number of heads on the horizontal axis and the emperically computed probability to get that many heads, on the vertical axis. Execute your code several times (hit [shift]-[enter]) and see that the graph changes a bit every time, as the sequence of random numbers changes every time. "
     ]
    },
    {
     "cell_type": "code",
     "collapsed": false,
     "input": [],
     "language": "python",
     "metadata": {},
     "outputs": [],
     "prompt_number": ""
    },
    {
     "cell_type": "markdown",
     "metadata": {},
     "source": [
      "Compute the cumulative probability. Print the values to the screen and make a plot of the cumulative probability function using a step graph."
     ]
    },
    {
     "cell_type": "code",
     "collapsed": false,
     "input": [],
     "language": "python",
     "metadata": {},
     "outputs": [],
     "prompt_number": ""
    },
    {
     "cell_type": "markdown",
     "metadata": {},
     "source": [
      "<a href=\"#ex2answer\">Answers to Exercise 2</a>"
     ]
    },
    {
     "cell_type": "markdown",
     "metadata": {},
     "source": [
      "###Probability of a Bernouilli variable\n",
      "In the previous exercise, we computed the probability of a certain number of heads in five flips experimentally. But we can, of course, compute the value exactly by using a few simple formulas. Consider the random variable $Y$, which is the outcome of an experiment with two possible values 0 and 1. Let $p$ be the \"probability of success\" $p=P(Y=1)$. \n",
      "Then $Y$ is said to be a Bernoulli variable. The experiment is repeated $n$ times and we define $X$ as the number of successes in the experiment. The variable $X$ has a Binomial Distribution with parameters $n$ and $p$. The probability that $X$ takes value $k$ can be computed as (see for example [here](http://en.wikipedia.org/wiki/Binomial_distribution))\n",
      "\n",
      "$P(X=k) = \\binom{n}{k}p^k(1-p)^{n-k}$\n",
      "\n",
      "The term $\\binom{n}{k}$ may be computed with the `comb` function, which needs to be imported from the `scipy.misc` package."
     ]
    },
    {
     "cell_type": "markdown",
     "metadata": {},
     "source": [
      "###Exercise 3. <a name=\"back3\"></a>Flip a coin 5 times revisited\n",
      "Go back to the experiment where we flip a coin five times in a row and record how many times we obtain heads.\n",
      "Compute the theoretical probability for 0, 1, 2, 3, 4, and 5 heads and compare your answer to the probability computed from 1000 trials, 10000 trials, and 100000 trials. Do you approach the theoretical value with more trials?"
     ]
    },
    {
     "cell_type": "code",
     "collapsed": false,
     "input": [],
     "language": "python",
     "metadata": {},
     "outputs": [],
     "prompt_number": ""
    },
    {
     "cell_type": "markdown",
     "metadata": {},
     "source": [
      "<a href=\"#ex3answer\">Answers to Exercise 3</a>"
     ]
    },
    {
     "cell_type": "markdown",
     "metadata": {},
     "source": [
      "###Exercise 4. <a name=\"back4\"></a>Maximum value of two dice throws\n",
      "Throw a dice two times and record the maximum value of the two throws. Use the `amax` function to compute the maximum value. Like the `sum` function, the `amax` function (which stands for 'array maximum') takes an array as input argument and an optional keyword argument named `axis`. Perform the experiment 1000 times and compute the probability that the highest value is 1, 2, 3, 4, 5, or 6. Make a graph of the cumulative probability distribution function using a step graph."
     ]
    },
    {
     "cell_type": "code",
     "collapsed": false,
     "input": [],
     "language": "python",
     "metadata": {},
     "outputs": [],
     "prompt_number": ""
    },
    {
     "cell_type": "markdown",
     "metadata": {},
     "source": [
      "<a href=\"#ex4answer\">Answers to Exercise 4</a>"
     ]
    },
    {
     "cell_type": "markdown",
     "metadata": {},
     "source": [
      "###Exercise 5. <a name=\"back5\"></a>Maximum value of two dice throws revisited\n",
      "Refer back to Exercise 4.\n",
      "Compute the theoretical value of the probability of the highest dice when throwing the dice twice (the throws are labeled T1 and T2, respectively). There are 36 possible outcomes for this experiment. Let $M$ denote the random variable corresponding to this experiment (this means for instance that $M=3$ when your first throw is a 2, and the second throw is a 3). All outcomes of $M$ can easily be written down, as shown in the following Table: \n",
      "\n",
      "| T1$\\downarrow$ T2$\\to$ | 1 | 2 | 3 | 4 | 5 | 6 |\n",
      "|-----------:|------------:|:------------:|\n",
      "|  1 | 1 | 2 | 3 | 4 | 5 | 6 |\n",
      "|  2 | 2 | 2 | 3 | 4 | 5 | 6 |\n",
      "|  3 | 3 | 3 | 3 | 4 | 5 | 6 |\n",
      "|  4 | 4 | 4 | 4 | 4 | 5 | 6 |\n",
      "|  5 | 5 | 5 | 5 | 5 | 5 | 6 |\n",
      "|  6 | 6 | 6 | 6 | 6 | 6 | 6 |\n",
      "\n",
      "\n",
      "Use the 36 possible outcomes shown in the Table to compute the theoretical probability of $M$ being 1, 2, 3, 4, 5, or 6. Compare the theoretical outcome with the experimental outcome for 1000, 10000, and 100000 dice throws."
     ]
    },
    {
     "cell_type": "code",
     "collapsed": false,
     "input": [],
     "language": "python",
     "metadata": {},
     "outputs": [],
     "prompt_number": ""
    },
    {
     "cell_type": "markdown",
     "metadata": {},
     "source": [
      "<a href=\"#ex5answer\">Answers to Exercise 5</a>"
     ]
    },
    {
     "cell_type": "markdown",
     "metadata": {},
     "source": [
      "###Generate random integers with non-equal probabilities\n",
      "So far, we have generated random numbers of which the probability of each outcome was the same (heads or tails, or the numbers on a dice, considering the throwing device was \"fair\"). What now if we want to generate outcomes that don't have the same probability? For example, consider the case where the probability of event $A$ is 0.35 and the probability of event $B$ is 0.65. A random sequence of events $A$ and $B$ is generated in two steps. First, we generate a sequence of random numbers from a uniform distribution between 0 and 1 with the `random_sample` function of the `random` package. Second, we record event $A$ (0) when the random number is less than 0.35 and we record event $B$ (1) when the random number is larger than 0.35. A sequence of ten events may be generated as follows"
     ]
    },
    {
     "cell_type": "code",
     "collapsed": false,
     "input": [
      "r = rnd.random_sample(10)\n",
      "print r\n",
      "events = np.zeros_like(r) # Creates an array of zeros the same size and type as r\n",
      "events[ r > 0.35 ] = 1\n",
      "print events"
     ],
     "language": "python",
     "metadata": {},
     "outputs": [],
     "prompt_number": ""
    },
    {
     "cell_type": "markdown",
     "metadata": {},
     "source": [
      "###Exercise 6. <a name=\"back6\"></a>Election poll\n",
      "Consider an election where one million people will vote. 490,000 people will vote for candidate $A$ and 510,000 people will vote for candidate $B$. One day before the elections, the company of 'Maurice the Dog' conducts a pole among 1000 randomly chosen voters. We will investigate what the probability is that the Dog will predict the winner correctly. First, generate 1000 uniformly distributed values between 0 and 1 and count the number of values below 0.49 (votes for candidate $A$). Specify a seed of 50. If your code is correct, the number of people voting for candidate $A$ in the pole is 501, so the Dog will predict that candidate $A$ wins."
     ]
    },
    {
     "cell_type": "code",
     "collapsed": false,
     "input": [],
     "language": "python",
     "metadata": {},
     "outputs": [],
     "prompt_number": ""
    },
    {
     "cell_type": "markdown",
     "metadata": {},
     "source": [
      "Next, perform the pole 1000 times. Count how many times candidate $A$ wins the pole and how may times candidate $B$ wins the pole. What is the probability that the Dog will predict the correct winner? And what is the probability that the Dog will predict a tie? Does the probability that the Dog will predict the correct winner increase significantly when he poles 5000 voters?"
     ]
    },
    {
     "cell_type": "code",
     "collapsed": false,
     "input": [],
     "language": "python",
     "metadata": {},
     "outputs": [],
     "prompt_number": ""
    },
    {
     "cell_type": "markdown",
     "metadata": {},
     "source": [
      "<a href=\"#ex6answer\">Answers to Exercise 6</a>"
     ]
    },
    {
     "cell_type": "markdown",
     "metadata": {},
     "source": [
      "###Answers to the exercises"
     ]
    },
    {
     "cell_type": "markdown",
     "metadata": {},
     "source": [
      "<a name=\"ex1answer\">Answers to Exercise 1</a>"
     ]
    },
    {
     "cell_type": "code",
     "collapsed": false,
     "input": [
      "rnd.seed(33)\n",
      "dicethrow = rnd.random_integers(1,6,100)\n",
      "side = np.zeros(6)\n",
      "for i in range(6):\n",
      "    side[i] = np.sum( dicethrow == i+1 )\n",
      "    print 'number of times ',i+1,' is ',side[i]\n",
      "print 'total number of throws ',sum(side)"
     ],
     "language": "python",
     "metadata": {},
     "outputs": [],
     "prompt_number": ""
    },
    {
     "cell_type": "markdown",
     "metadata": {},
     "source": [
      "<a href=\"#back1\">Back to Exercise 1</a>\n",
      "\n",
      "<a name=\"ex2answer\">Answers to Exercise 2</a>"
     ]
    },
    {
     "cell_type": "code",
     "collapsed": false,
     "input": [
      "N = 1000\n",
      "heads = -np.sum( rnd.random_integers(0,1,(5,1000))-1, axis=0 ) # Or simply call tails 0 and heads 1\n",
      "countheads = np.zeros(6)\n",
      "for i in range(6):\n",
      "    countheads[i] = sum(heads==i)\n",
      "plt.plot( range(0,6), countheads/N, 'bo' )\n",
      "plt.xlabel('number of heads in five flips')\n",
      "plt.ylabel('probability')"
     ],
     "language": "python",
     "metadata": {},
     "outputs": [],
     "prompt_number": ""
    },
    {
     "cell_type": "code",
     "collapsed": false,
     "input": [
      "cumprob = np.cumsum(countheads/N)\n",
      "print 'cumprob:',cumprob\n",
      "y = np.hstack((0,cumprob,1))\n",
      "plt.plot(np.arange(-1,7),y,drawstyle='steps-post')\n",
      "plt.xlim(-0.1,5.1)\n",
      "plt.ylim(-0.1,1.1)\n",
      "plt.xlabel('number of heads in five flips')\n",
      "plt.ylabel('cumulative probability')"
     ],
     "language": "python",
     "metadata": {},
     "outputs": [],
     "prompt_number": ""
    },
    {
     "cell_type": "markdown",
     "metadata": {},
     "source": [
      "<a href=\"#back2\">Back to Exercise 2</a>\n",
      "\n",
      "<a name=\"ex3answer\">Answers to Exercise 3</a>"
     ]
    },
    {
     "cell_type": "code",
     "collapsed": false,
     "input": [
      "from scipy.misc import comb\n",
      "print 'Theoretical probabilities: '\n",
      "for k in range(6):\n",
      "    print k,' heads ',comb(5,k) * 0.5**k * 0.5**(5-k)\n",
      "for N in (1000,10000,100000):\n",
      "    heads = np.sum( rnd.random_integers(0,1,(5,N)), axis=0 )\n",
      "    countheads = np.zeros(6)\n",
      "    for i in range(6):\n",
      "        countheads[i] = np.sum(heads==i)\n",
      "    print 'Probability with ',N,' trials: ',countheads / float(N)"
     ],
     "language": "python",
     "metadata": {},
     "outputs": [],
     "prompt_number": ""
    },
    {
     "cell_type": "markdown",
     "metadata": {},
     "source": [
      "<a href=\"#back3\">Back to Exercise 3</a>\n",
      "\n",
      "<a name=\"ex4answer\">Answers to Exercise 4</a>"
     ]
    },
    {
     "cell_type": "code",
     "collapsed": false,
     "input": [
      "dice = rnd.random_integers(1,6,(2,1000))\n",
      "highest_dice = np.amax(dice,0)\n",
      "outcome = np.zeros(6)\n",
      "for i in range(6):\n",
      "    outcome[i] = np.sum(highest_dice==i+1) / float(1000)\n",
      "y = np.hstack((0,np.cumsum(outcome),1))\n",
      "plt.plot(range(0,8),y,drawstyle='steps-post')\n",
      "plt.xlim(0.8,6.2)\n",
      "plt.ylim(-0.1,1.1)\n",
      "print np.cumsum(outcome)\n",
      "plt.xlabel('highest dice')\n",
      "plt.ylabel('probability')"
     ],
     "language": "python",
     "metadata": {},
     "outputs": [],
     "prompt_number": ""
    },
    {
     "cell_type": "markdown",
     "metadata": {},
     "source": [
      "<a href=\"#back4\">Back to Exercise 4</a>\n",
      "\n",
      "<a name=\"ex5answer\">Answers to Exercise 5</a>"
     ]
    },
    {
     "cell_type": "code",
     "collapsed": false,
     "input": [
      "for N in [1000, 10000, 100000]:\n",
      "    dice = rnd.random_integers(1,6,(2,N))\n",
      "    highest_dice = np.amax(dice,axis=0)\n",
      "    outcome = np.zeros(6)\n",
      "    for i in range(6):\n",
      "        outcome[i] = np.sum(highest_dice==i+1) / float(N)\n",
      "    print 'Outcome for ',N,' throws: ',outcome\n",
      "# Exact values\n",
      "exact = np.zeros(6)\n",
      "for i,j in enumerate(range(1,12,2)):\n",
      "    exact[i] = j / 36.0\n",
      "print 'Exact probabilities: ',exact"
     ],
     "language": "python",
     "metadata": {},
     "outputs": [],
     "prompt_number": ""
    },
    {
     "cell_type": "markdown",
     "metadata": {},
     "source": [
      "<a href=\"#back5\">Back to Exercise 5</a>\n",
      "\n",
      "<a name=\"ex6answer\">Answers to Exercise 6</a>"
     ]
    },
    {
     "cell_type": "code",
     "collapsed": false,
     "input": [
      "rnd.seed(50)\n",
      "r = rnd.random_sample(1000)\n",
      "votes_for_A = np.sum(r < 0.49)\n",
      "print votes_for_A"
     ],
     "language": "python",
     "metadata": {},
     "outputs": [],
     "prompt_number": ""
    },
    {
     "cell_type": "code",
     "collapsed": false,
     "input": [
      "Nlist = [1000,5000]\n",
      "for N in Nlist:\n",
      "    Awins = 0\n",
      "    tie = 0\n",
      "    for i in range(N):\n",
      "        r = rnd.random_sample(N)\n",
      "        if np.sum(r < 0.49) > N/2:\n",
      "            Awins += 1\n",
      "        elif np.sum(r < 0.49) == N/2:\n",
      "            tie += 1\n",
      "    print 'Number of people in the pole: ',N\n",
      "    print 'Probability the pole predicts candidate A will win: ',Awins/float(N)\n",
      "    print 'Probability the pole predicts a tie: ',tie/float(N)"
     ],
     "language": "python",
     "metadata": {},
     "outputs": [],
     "prompt_number": ""
    },
    {
     "cell_type": "markdown",
     "metadata": {},
     "source": [
      "<a href=\"#back6\">Back to Exercise 6</a>"
     ]
    },
    {
     "cell_type": "code",
     "collapsed": false,
     "input": [],
     "language": "python",
     "metadata": {},
     "outputs": []
    }
   ],
   "metadata": {}
  }
 ]
}