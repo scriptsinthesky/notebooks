{
 "metadata": {
  "name": ""
 },
 "nbformat": 3,
 "nbformat_minor": 0,
 "worksheets": [
  {
   "cells": [
    {
     "cell_type": "markdown",
     "metadata": {},
     "source": [
      "# Exploratory Computing with Python\n",
      "## Notebook 3: Loops and If/Else Statements\n",
      "\n"
     ]
    },
    {
     "cell_type": "markdown",
     "metadata": {},
     "source": [
      "As we will be using `pylab` again, we start by importing it here"
     ]
    },
    {
     "cell_type": "code",
     "collapsed": false,
     "input": [
      "%pylab inline"
     ],
     "language": "python",
     "metadata": {},
     "outputs": [
      {
       "output_type": "stream",
       "stream": "stdout",
       "text": [
        "Populating the interactive namespace from numpy and matplotlib\n"
       ]
      }
     ],
     "prompt_number": 6
    },
    {
     "cell_type": "markdown",
     "metadata": {},
     "source": [
      "###Basic `for` loop\n",
      "In a loop, the program performs the same task repeatedly. The syntax for a loop is as follows"
     ]
    },
    {
     "cell_type": "code",
     "collapsed": false,
     "input": [
      "for i in range(5):\n",
      "    print i,'Hello world'"
     ],
     "language": "python",
     "metadata": {},
     "outputs": [
      {
       "output_type": "stream",
       "stream": "stdout",
       "text": [
        "0 Hello world\n",
        "1 Hello world\n",
        "2 Hello world\n",
        "3 Hello world\n",
        "4 Hello world\n"
       ]
      }
     ],
     "prompt_number": 4
    },
    {
     "cell_type": "markdown",
     "metadata": {},
     "source": [
      "The first thing to understand about the syntax shown above is that `range(5)` produces a list of 5 values starting with the number 0. It is the equivalent of `arange` but returns a list rather than an array:"
     ]
    },
    {
     "cell_type": "code",
     "collapsed": false,
     "input": [
      "print range(5)"
     ],
     "language": "python",
     "metadata": {},
     "outputs": [
      {
       "output_type": "stream",
       "stream": "stdout",
       "text": [
        "[0, 1, 2, 3, 4]\n"
       ]
      }
     ],
     "prompt_number": 5
    },
    {
     "cell_type": "markdown",
     "metadata": {},
     "source": [
      "Hence, the line \n",
      "\n",
      "`for i in range(5):` \n",
      "\n",
      "is equivalent to \n",
      "\n",
      "`for i in [0,1,2,3,4]:`\n",
      "\n",
      "A colon (`:`) needs to be placed at the \n",
      "end of the line starting with `for`. The loop starts after the colon. The next line needs to be indented. It doesn't matter how much you indent, as long as you are consistent. The notebook indents automatically for you, so stick with that. The entire block of indented code is executed before it goes to the next value in the list. To indicate the end of the loop, you simply stop indenting. \n",
      "\n"
     ]
    },
    {
     "cell_type": "code",
     "collapsed": false,
     "input": [
      "for x in range(5):\n",
      "    xsquare = x**2\n",
      "    print 'x,xsquare ',x,xsquare\n",
      "print 'We are done with the loop'"
     ],
     "language": "python",
     "metadata": {},
     "outputs": [
      {
       "output_type": "stream",
       "stream": "stdout",
       "text": [
        "x,xsquare  0 0\n",
        "x,xsquare  1 1\n",
        "x,xsquare  2 4\n",
        "x,xsquare  3 9\n",
        "x,xsquare  4 16\n",
        "We are done with the loop\n"
       ]
      }
     ],
     "prompt_number": 1
    },
    {
     "cell_type": "markdown",
     "metadata": {},
     "source": [
      "A loop can be used to fill an array. Let's compute $y=\\cos(x)$ where $x$ is an array that varies from 0 to $2\\pi$ with 100 points. We already know, of course, that this can be done with one statement (`y=cos(x)`). Sometimes this is not possible, however, so we also need to learn how to do that with a loop. To do it with a loop, we first have to create the array `y` (for example filled with zeros using the `zeros_like` function) and then fill it with the correct values by looping through all values of `x`."
     ]
    },
    {
     "cell_type": "code",
     "collapsed": false,
     "input": [
      "x = linspace(0,2*pi,100)\n",
      "y = zeros_like(x)\n",
      "for i in range(len(x)):\n",
      "    y[i] = cos(x[i])\n",
      "plot(x,y)"
     ],
     "language": "python",
     "metadata": {},
     "outputs": [
      {
       "metadata": {},
       "output_type": "pyout",
       "prompt_number": 8,
       "text": [
        "[<matplotlib.lines.Line2D at 0x3261610>]"
       ]
      },
      {
       "metadata": {},
       "output_type": "display_data",
       "png": "[encoded data removed]",
       "text": [
        "<matplotlib.figure.Figure at 0x31a0fb0>"
       ]
      }
     ],
     "prompt_number": 8
    },
    {
     "cell_type": "markdown",
     "metadata": {},
     "source": [
      "###Exercise 1. First `for` loop\n",
      "Create a list with the names of the months. Create a second list with the number of days in each month (for a regular year). Create a `for` loop that loops through all months and prints:\n",
      "\n",
      "`The number of days in MONTH is XX`\n",
      "\n",
      "where, of course, you print the correct name of the months for `MONTH` and the correct number of days for `XX`."
     ]
    },
    {
     "cell_type": "code",
     "collapsed": false,
     "input": [
      "months = ['January','February','March','April','May','June','July','August','September','October','November','December']\n",
      "days = [31,28,31,30,31,30,31,31,30,31,30,31]\n",
      "for i in range(12):\n",
      "    print 'The number of days in',months[i],'is',days[i]"
     ],
     "language": "python",
     "metadata": {},
     "outputs": [
      {
       "output_type": "stream",
       "stream": "stdout",
       "text": [
        "The number of days in January is 31\n",
        "The number of days in February is 28\n",
        "The number of days in March is 31\n",
        "The number of days in April is 30\n",
        "The number of days in May is 31\n",
        "The number of days in June is 30\n",
        "The number of days in July is 31\n",
        "The number of days in August is 31\n",
        "The number of days in September is 30\n",
        "The number of days in October is 31\n",
        "The number of days in November is 30\n",
        "The number of days in December is 31\n"
       ]
      }
     ],
     "prompt_number": 4
    },
    {
     "cell_type": "markdown",
     "metadata": {},
     "source": [
      "###`if`/`else`statements\n",
      "As we have seen, a basic `if` statement can be used to perform a task based on whether a condition is `True`. The `if` statement can be followed by an `else` statement, which is executed if the condition after `if` is `False`. For example"
     ]
    },
    {
     "cell_type": "code",
     "collapsed": false,
     "input": [
      "a = 4\n",
      "if a < 3:\n",
      "    print 'a is smaller than 3'\n",
      "else:\n",
      "    print 'a is not smaller than 3'"
     ],
     "language": "python",
     "metadata": {},
     "outputs": [
      {
       "output_type": "stream",
       "stream": "stdout",
       "text": [
        "a is not smaller than 3\n"
       ]
      }
     ],
     "prompt_number": 2
    },
    {
     "cell_type": "markdown",
     "metadata": {},
     "source": [
      "You can even extend the `else` by adding one or more conditions with the `elif` command which is short for 'else if'"
     ]
    },
    {
     "cell_type": "code",
     "collapsed": false,
     "input": [
      "a = 4\n",
      "if a < 4:\n",
      "    print 'a is smaller than 4'\n",
      "elif a > 4:\n",
      "    print 'a is larger than 4'\n",
      "else:\n",
      "    print 'a is equal to 4'"
     ],
     "language": "python",
     "metadata": {},
     "outputs": [
      {
       "output_type": "stream",
       "stream": "stdout",
       "text": [
        "a is equal to 4\n"
       ]
      }
     ],
     "prompt_number": 8
    },
    {
     "cell_type": "markdown",
     "metadata": {},
     "source": [
      "###Exercise 2. Combination of `for` loop with `if` statement\n",
      "Consider the function\n",
      "\n",
      "$\\begin{split}\n",
      "y &= \\cos(x) \\qquad \\text{for} \\qquad x < 0 \\\\\n",
      "y &= \\exp(-x) \\qquad \\text{for} \\qquad x \\le 0 \\\\\n",
      "\\end{split}$\n",
      "\n",
      "Compute $y$ for $x$ going from $-2\\pi$ to $2\\pi$ with 100 points and make a graph. Make sure the $x$-axis goes from $-2\\pi$ to $2\\pi$."
     ]
    },
    {
     "cell_type": "code",
     "collapsed": false,
     "input": [
      "x = linspace(-2*pi,2*pi,100)\n",
      "y = zeros_like(x)\n",
      "for i in range(100):\n",
      "    if x[i] < 0:\n",
      "        y[i] = cos(x[i])\n",
      "    else:\n",
      "        y[i] = exp(-x[i])\n",
      "plot(x,y)\n",
      "xlim(-2*pi,2*pi)"
     ],
     "language": "python",
     "metadata": {},
     "outputs": [
      {
       "metadata": {},
       "output_type": "pyout",
       "prompt_number": 13,
       "text": [
        "(-6.283185307179586, 6.283185307179586)"
       ]
      },
      {
       "metadata": {},
       "output_type": "display_data",
       "png": "[encoded data removed]",
       "text": [
        "<matplotlib.figure.Figure at 0x3592710>"
       ]
      }
     ],
     "prompt_number": 13
    },
    {
     "cell_type": "markdown",
     "metadata": {},
     "source": [
      "###Exercise 3. Load and loop through temperature data\n",
      "Load the temperature data for Holland from the data file used earlier. Loop through all monthly temperatures and print a message that includes the month number and states whether the monthly average temperature is above or below 10 degrees"
     ]
    },
    {
     "cell_type": "code",
     "collapsed": false,
     "input": [
      "temperature = loadtxt('holland_temperature.dat')\n",
      "for i in range(len(temperature)):\n",
      "    if temperature[i] < 10:\n",
      "        print 'average monthly temperature in month ',i+1,' is less than 10 degrees'\n",
      "    else:\n",
      "        print 'average monthly temperature in month ',i+1,' is more than 10 degrees'"
     ],
     "language": "python",
     "metadata": {},
     "outputs": [
      {
       "output_type": "stream",
       "stream": "stdout",
       "text": [
        "average monthly temperature in month  1  is less than 10 degrees\n",
        "average monthly temperature in month  2  is less than 10 degrees\n",
        "average monthly temperature in month  3  is less than 10 degrees\n",
        "average monthly temperature in month  4  is less than 10 degrees\n",
        "average monthly temperature in month  5  is more than 10 degrees\n",
        "average monthly temperature in month  6  is more than 10 degrees\n",
        "average monthly temperature in month  7  is more than 10 degrees\n",
        "average monthly temperature in month  8  is more than 10 degrees\n",
        "average monthly temperature in month  9  is more than 10 degrees\n",
        "average monthly temperature in month  10  is more than 10 degrees\n",
        "average monthly temperature in month  11  is less than 10 degrees\n",
        "average monthly temperature in month  12  is less than 10 degrees\n"
       ]
      }
     ],
     "prompt_number": 15
    },
    {
     "cell_type": "markdown",
     "metadata": {},
     "source": [
      "###As an example, let's compute the three-day running average of a sequence of data. There are 10 data values for 10 consecutive days."
     ]
    },
    {
     "cell_type": "markdown",
     "metadata": {},
     "source": [
      "A loop can be used, for example, to compute the sum of all the variables in an array. Consider, for example, the array `data` with 8 values. We will compute the sum of all values in `data`. We first define a variable `datasum` and assign it the value 0. Next, we loop through all the values in `data` and add the value to `datasum`:"
     ]
    },
    {
     "cell_type": "code",
     "collapsed": false,
     "input": [
      "data = array([1,3,2,5,7,3,4,2])\n",
      "datasum = 0\n",
      "for i in range(len(data)):\n",
      "    datasum = datasum + data[i]\n",
      "    print 'i,datasum: ',i,datasum\n",
      "print 'total sum of data: ',datasum"
     ],
     "language": "python",
     "metadata": {},
     "outputs": [
      {
       "output_type": "stream",
       "stream": "stdout",
       "text": [
        "i,datasum:  0 1\n",
        "i,datasum:  1 4\n",
        "i,datasum:  2 6\n",
        "i,datasum:  3 11\n",
        "i,datasum:  4 18\n",
        "i,datasum:  5 21\n",
        "i,datasum:  6 25\n",
        "i,datasum:  7 27\n",
        "total sum of data:  27\n"
       ]
      }
     ],
     "prompt_number": 5
    },
    {
     "cell_type": "markdown",
     "metadata": {},
     "source": [
      "Note that the statement `datasum = datasum + data[i]` means that `data[i]` is added to the current value of `datasum` and that the result is assigned to `datasum`. There is actually a shorter syntax for the same statement: `datasum += data[i]`. The `+=` command means: add whatever is on the right side of the `+=` sign to whatever is on the left side. You can use whichever syntax you are most comfortable with. \n",
      "        \n",
      "Next, let's find the maximum in the array `data` and the index of the maximum value. For illustration purposes, we will use a loop and an if statement. First we create a variable `maxvalue` that contains the maximum value and is initially set to a very small number, and a variable `maxindex` that is the index of the maximum value and is initially set to None. Then we loop through all values in `data` and update the `maxvalue` and `maxindex` everytime we find a larger value than the current `maxvalue`"
     ]
    },
    {
     "cell_type": "code",
     "collapsed": false,
     "input": [
      "maxvalue = -1e8\n",
      "maxindex = None\n",
      "for i in range(len(data)):\n",
      "    if data[i] > maxvalue:\n",
      "        maxvalue = data[i]\n",
      "        maxindex = i\n",
      "print 'the maximum value is ',maxvalue\n",
      "print 'the index of the maximum value is ',maxindex"
     ],
     "language": "python",
     "metadata": {},
     "outputs": [
      {
       "output_type": "stream",
       "stream": "stdout",
       "text": [
        "the maximum value is  7\n",
        "the index of the maximum value is  4\n"
       ]
      }
     ],
     "prompt_number": 6
    },
    {
     "cell_type": "markdown",
     "metadata": {},
     "source": [
      "It is easy to check, for this example, whether these numbers are correct. But there are, of course, functions available (in the numpy package): `amax` returns the maximum value of an array, and `argmax` returns the index of the maximum of the array:"
     ]
    },
    {
     "cell_type": "code",
     "collapsed": false,
     "input": [
      "print 'the maximum value is ',amax(data)\n",
      "print 'the index of the maximum value is ',argmax(data)"
     ],
     "language": "python",
     "metadata": {},
     "outputs": [
      {
       "output_type": "stream",
       "stream": "stdout",
       "text": [
        "the maximum value is  7\n",
        "the index of the maximum value is  4\n"
       ]
      }
     ],
     "prompt_number": 7
    },
    {
     "cell_type": "markdown",
     "metadata": {},
     "source": [
      "***\n",
      "### Exercise 2, Month closest to 15 degrees\n",
      "Find the month in which the average monthly temperature in Holland is closest to 15 degrees. Apply the approach described above by looping through all values and use an `if` statement inside the loop. You may also want to use the `abs` function to compute the absolute value of a number. You may verify your answer by using an alternative method that doesn't require a loop and an `if` statement."
     ]
    },
    {
     "cell_type": "code",
     "collapsed": false,
     "input": [
      "temperature = loadtxt('holland_temperature.dat')\n",
      "print temperature\n",
      "monthindex = -1\n",
      "tdiff = 100.0\n",
      "for i in range(12):\n",
      "    if abs(temperature[i] - 15) < tdiff:\n",
      "        monthindex = i\n",
      "        tdiff = abs(temperature[i] - 15)\n",
      "print 'Number of month closest to 15 degrees, temp: ',monthindex+1,temperature[monthindex]\n",
      "print 'Alternative method:'\n",
      "altmin = argmin(abs(temperature-15))\n",
      "print 'Number of month closest to 15 degrees, temp: ',altmin+1,temperature[altmin]\n",
      "    "
     ],
     "language": "python",
     "metadata": {},
     "outputs": [
      {
       "output_type": "stream",
       "stream": "stdout",
       "text": [
        "[  3.1   3.3   6.2   9.2  13.1  15.6  17.9  17.5  14.5  10.7   6.7   3.7]\n",
        "Number of month closest to 15 degrees, temp:  9 14.5\n",
        "Alternative method:\n",
        "Number of month closest to 15 degrees, temp:  9 14.5\n"
       ]
      }
     ],
     "prompt_number": 12
    },
    {
     "cell_type": "markdown",
     "metadata": {},
     "source": [
      "***\n",
      "### Nested loops\n",
      "It is also possible to have loops inside loops. These are called nested loops. For example, consider the array data with 3 rows and 4 columns shown below. We want to compute the sum of the values in each row and we are going to do this using a double loop. First, we make an array called rowtotal of zeros that we will use to compute and store the sums. rowtotal has length 3 as there are 3 rows. "
     ]
    },
    {
     "cell_type": "code",
     "collapsed": false,
     "input": [
      "data = array([[1,2,3,5],\n",
      "              [4,8,6,4],\n",
      "              [3,5,4,6]])\n",
      "rowtotal = zeros(3)"
     ],
     "language": "python",
     "metadata": {},
     "outputs": [],
     "prompt_number": 2
    },
    {
     "cell_type": "markdown",
     "metadata": {},
     "source": [
      "Next, we loop through each row. For each row inside the loop, we start another loop that goes through all the columns and adds the value of the current row and column to the array rowtotal for that row."
     ]
    },
    {
     "cell_type": "code",
     "collapsed": false,
     "input": [
      "for irow in range(3):\n",
      "    for jcol in range(4):\n",
      "        rowtotal[irow] = rowtotal[irow] + data[irow,jcol]\n",
      "print rowtotal"
     ],
     "language": "python",
     "metadata": {},
     "outputs": [
      {
       "output_type": "stream",
       "stream": "stdout",
       "text": [
        "[ 11.  22.  18.]\n"
       ]
      }
     ],
     "prompt_number": 4
    },
    {
     "cell_type": "markdown",
     "metadata": {},
     "source": [
      "After running the code above, first make sure that the answer is correct. Next, note that it is important to set the values of `rowtotal` to 0 before starting the loops, as we are going to add to these values to compute the sum of each row. In the code, we use two loops, so we have to indent twice. "
     ]
    },
    {
     "cell_type": "markdown",
     "metadata": {},
     "source": [
      "###Breaks and while\n",
      "A common task is to find the position of a value in a sorted table (a list or array, for example). \n",
      "For example, determine between which two numbers the number 6 falls in the sequence `[1,4,5,8,9]`. \n",
      "I know, it is between `5` and `8`, but what if the list is long? Then you really want a routine to do that.\n",
      "To find the position in the list, we need to loop through the list and break out of the loop once we have found the position.\n",
      "For this, Python has the command `break`, which stops the loop.\n"
     ]
    },
    {
     "cell_type": "code",
     "collapsed": false,
     "input": [
      "x = [1,4,5,8,9]\n",
      "a = 6\n",
      "for i in range(len(x)):\n",
      "    if a < x[i]:\n",
      "        break\n",
      "print 'a is between ',x[i-1],' and ',x[i]"
     ],
     "language": "python",
     "metadata": {},
     "outputs": [
      {
       "output_type": "stream",
       "stream": "stdout",
       "text": [
        "a is between  5  and  8\n"
       ]
      }
     ],
     "prompt_number": 2
    },
    {
     "cell_type": "markdown",
     "metadata": {},
     "source": [
      "There is another way of coding this using a `while` loop. Let's first look at the while loop for the same code as above"
     ]
    },
    {
     "cell_type": "code",
     "collapsed": false,
     "input": [
      "x = [1,4,5,8,9]\n",
      "a = 6\n",
      "i = 0\n",
      "while a >= x[i]:\n",
      "    i = i + 1\n",
      "print 'a is between ',x[i-1],' and ',x[i]"
     ],
     "language": "python",
     "metadata": {},
     "outputs": [
      {
       "output_type": "stream",
       "stream": "stdout",
       "text": [
        "a is between  5  and  8\n"
       ]
      }
     ],
     "prompt_number": 3
    },
    {
     "cell_type": "markdown",
     "metadata": {},
     "source": [
      "In the `while` loop, the comparison is done at the beginning of the loop, while the counter (in this case `i`) is updated inside the loop. Either a loop with a break or a while loop with a counter works fine, but `while` loops may be tricky in some cases, as they can result in infinite loops when you have an error in your code. Once you are in an infinite loop (one that never stops), click on the [Kernel] menu item at the top of the window and select [Restart]. This will end your Python session and start a new one. When you print something to the screen in your while loop, it may not be possible to break out of the loop and you may need to end the program.\n",
      "\n",
      "Comparisons work on strings just like they work on numbers. They start comparing the first character in a string and only go to the next character when the comparison of the first characters doesn't give a result. So the letter 'a' is smaller than 'b', 'b' is smaller than 'c', etc. But be careful, in the order of things, the upper case characters are smaller than all lower case characters! So 'A' is smaller than 'a', but also than 'm' or any other lower case character. Make sure you understand the following statements"
     ]
    },
    {
     "cell_type": "code",
     "collapsed": false,
     "input": [
      "print 'delft' < 'eindhoven'  # True as 'd' is smaller than 'e'\n",
      "print 'dalft' < 'delft'      # True as 'a' is smaller than 'e'\n",
      "print 'delft' == 'Delft'     # False as lower and upper case are not equal\n",
      "print 'Delft' < 'delft'      # True as 'D' is smaller than 'd'\n",
      "print 'Delft' < 'eindhoven'  # Also True, as 'D' is smaller than 'e' or any lower other lower case character"
     ],
     "language": "python",
     "metadata": {},
     "outputs": [
      {
       "output_type": "stream",
       "stream": "stdout",
       "text": [
        "True\n",
        "True\n",
        "False\n",
        "True\n",
        "True\n"
       ]
      }
     ],
     "prompt_number": 6
    },
    {
     "cell_type": "markdown",
     "metadata": {},
     "source": [
      "***\n",
      "###Exercise 3, Find position of your name in a list\n",
      "Write a script that figures out between which two names your name falls in the list\n",
      "`['Aaldrich', 'Babette', 'Chris', 'Franka', 'Joe', 'Louisa', 'Pierre', 'Simone', 'Tarek', 'Yvonne', 'Zu']` "
     ]
    },
    {
     "cell_type": "code",
     "collapsed": false,
     "input": [
      "x = ['Aaldrich', 'Babette', 'Chris', 'Franka', 'Joe', 'Louisa', 'Pierre', 'Simone', 'Tarek', 'Yvonne', 'Zu']\n",
      "myname = 'Mark'\n",
      "for i in range(len(x)):\n",
      "    if myname < x[i]:\n",
      "        break\n",
      "print myname,' is between ',x[i-1],' and ',x[i]"
     ],
     "language": "python",
     "metadata": {},
     "outputs": [
      {
       "output_type": "stream",
       "stream": "stdout",
       "text": [
        "Mark  is between  Louisa  and  Pierre\n"
       ]
      }
     ],
     "prompt_number": 13
    },
    {
     "cell_type": "markdown",
     "metadata": {},
     "source": [
      "***\n",
      "###Exercise 4, Compute monthly rainfall\n",
      "In this exercise we are going to compute the total monthly rainfall for 2012 in the city of Delft using daily rainfall measurements. But we need to explain a few things first. The data is obtained from the website of the Royal Dutch Meteorological Society (KNMI) and is given in the file `rainfall_delft_2012.dat`. We will need to use a few keyword arguments to load this file into Python using `loadtxt`. First open the file in a text editor to see what the file looks like (you can do File and Open in CanopyExpress to open the file in the Canopy editor). At the top of the file, an explanation is given of the data in the file. Read this. The data starts at line 25, so when we load the data we should skip the first 24 lines with the keyword `skiprows`. The data is separated with commas. `loadtxt` uses a space as the default delimiter, so we should specify the delimiter as `','` (you need the quotes). A final annoying format of the provided datafile is that there is also a comma after the last value of each day. `loadtxt` expects another value after each comma. To avoid that problem we can tell `loadtxt` which columns of the data to use. In this case the date is given in the column with index 1 (the first column has index 0) and the rainfall is in the column with index 2, so we can specify the keyword argument `usecols=(1,2)`. "
     ]
    },
    {
     "cell_type": "code",
     "collapsed": false,
     "input": [
      "rain = loadtxt('rainfall_delft_2012.dat',skiprows=24,delimiter=',',usecols=(1,2))"
     ],
     "language": "python",
     "metadata": {},
     "outputs": [],
     "prompt_number": 8
    },
    {
     "cell_type": "markdown",
     "metadata": {},
     "source": [
      "Once you succeed in doing this, check the shape of the array you loaded. It should have 366 rows (yes, 2012 was a leap year) and 2 columns. Next, compute the total rainfall for each month, similar to computing the sum of each row in the example above. The difference with the example is that all data is in one large array and that, unfortunately, the number of days is different for each month (who ever came up with that?). The date is stored in the format yyyymmdd. What we want to know is the mm part, which is the number of the month. To extract this, we use a three-step approach. First, we convert the number into a string. Next we take index 4 and 5 of the string (recall, indices start at 0), and finaly we need to convert these two characters to an integer number with the `int` command so we can use it as an index in array. For example, let's extract the number of the month from April 15 2012. The date is stored as 20120415."
     ]
    },
    {
     "cell_type": "code",
     "collapsed": false,
     "input": [
      "date = 20120415\n",
      "date_string = str(date)\n",
      "print date_string\n",
      "month_string = date_string[4:6] \n",
      "print month_string\n",
      "month_number = int(month_string)\n",
      "print month_number"
     ],
     "language": "python",
     "metadata": {},
     "outputs": [
      {
       "output_type": "stream",
       "stream": "stdout",
       "text": [
        "20120415\n",
        "04\n",
        "4\n"
       ]
      }
     ],
     "prompt_number": 18
    },
    {
     "cell_type": "markdown",
     "metadata": {},
     "source": [
      "We can do this entire conversion in one line:"
     ]
    },
    {
     "cell_type": "code",
     "collapsed": false,
     "input": [
      "date = 20120415\n",
      "month_number = int( str(date)[4:6] )\n",
      "print month_number"
     ],
     "language": "python",
     "metadata": {},
     "outputs": [
      {
       "output_type": "stream",
       "stream": "stdout",
       "text": [
        "4\n"
       ]
      }
     ],
     "prompt_number": 20
    },
    {
     "cell_type": "markdown",
     "metadata": {},
     "source": [
      "Now you are ready to compute the total monthly rainfall for each month in 2012. Once you have computed it, print it to the screen and also make a plot of total monthly rainfall vs. month number. Use a `bar` plot (type `help(bar)`)."
     ]
    },
    {
     "cell_type": "code",
     "collapsed": false,
     "input": [
      "totalrain = zeros(12)\n",
      "for i in range(366):\n",
      "    month = int(str(rain[i,0])[4:6])\n",
      "    totalrain[month-1] += rain[i,1]\n",
      "print totalrain\n",
      "bar(arange(1,13)-0.5,totalrain/10,width=1)\n",
      "xlim(0.5,12.5)\n",
      "xlabel('month number')\n",
      "ylabel('total rainfall (mm)')\n",
      "a=xticks(range(1,13))"
     ],
     "language": "python",
     "metadata": {},
     "outputs": [
      {
       "output_type": "stream",
       "stream": "stdout",
       "text": [
        "[  949.   275.   288.   588.   590.  1132.  1389.  1026.   549.  1879.\n",
        "   673.  1546.]\n"
       ]
      },
      {
       "output_type": "display_data",
       "png": "[encoded data removed]",
       "text": [
        "<matplotlib.figure.Figure at 0x63fb870>"
       ]
      }
     ],
     "prompt_number": 9
    },
    {
     "cell_type": "markdown",
     "metadata": {},
     "source": [
      "***\n",
      "As you may have noticed by now, we have created arrays with the correct shape and then filled them. Sometimes it is not easy (or possible) to determine the shape of an array beforehand. In that case we need to grow the array as we go. Changing the size of an array is not recommended in Python, although it is possible. A better way is to store values in a list and let the list grow. Then once the list is filled, the list can be converted into an array. For example, let's compute all perfect squares (integers that are the square of another integer) up to 200. We can start with an empty list and add a value to the list with the `append` command once we have found one:"
     ]
    },
    {
     "cell_type": "code",
     "collapsed": false,
     "input": [
      "perfect_squares = []\n",
      "for x in range(1,201):\n",
      "    if int(sqrt(x)) * int(sqrt(x)) == x:\n",
      "        perfect_squares.append(x)\n",
      "perfect_squares = array(perfect_squares) # If you want to convert to array\n",
      "print perfect_squares"
     ],
     "language": "python",
     "metadata": {},
     "outputs": [
      {
       "output_type": "stream",
       "stream": "stdout",
       "text": [
        "[  1   4   9  16  25  36  49  64  81 100 121 144 169 196]\n"
       ]
      }
     ],
     "prompt_number": 1
    },
    {
     "cell_type": "markdown",
     "metadata": {},
     "source": [
      "There are many functions that work on arrays. The functions are `amax` and `argmax` were already mentioned; their counterparts are `amin` and `argmin`. You may optionally specify the axis (0 for rows, 1 for columns, a higher number when the array has more than 2 dimensions). `argmax` returns the index of a flattened array, which is one long array obtained by putting row after row after row. To find out the row and column indices use the `unravel_index` function"
     ]
    },
    {
     "cell_type": "code",
     "collapsed": false,
     "input": [
      "data = array([[1,2,3,5],\n",
      "              [4,8,6,4],\n",
      "              [3,5,4,6]])\n",
      "print amax(data) # Finds the max value of the entire array\n",
      "print amax(data,1) # Finds the max value along dimension 1\n",
      "print argmax(data) # Finds the index of the max value of entire array\n",
      "print argmax(data,1) # Finds the column index with the max value along dimension 1\n",
      "print unravel_index( argmax(data),(3,4) ) # Gives i,j index of max for array of size (3,4)"
     ],
     "language": "python",
     "metadata": {},
     "outputs": [
      {
       "output_type": "stream",
       "stream": "stdout",
       "text": [
        "8\n",
        "[5 8 6]"
       ]
      },
      {
       "output_type": "stream",
       "stream": "stdout",
       "text": [
        "\n",
        "5\n",
        "[3 1 3]\n",
        "(1, 1)\n"
       ]
      }
     ],
     "prompt_number": 14
    },
    {
     "cell_type": "markdown",
     "metadata": {},
     "source": [
      "***\n",
      "###Exercise 5, Rainfall in March\n",
      "As you can see from the previous exercise, rainfall can vary dramatically from month to month. You probably won't be surprised that rainfall also varies from year to year. The file `rainfall_delft_all.dat` contains daily rainfall measurements in Delft since 1952. Your task is to compute and plot (in a bar graph) the total daily rainfall for the month of March for each year and find the maximum monthly amount of rainfall that was measured in March and the corresponding year, and the mimimum monthly amount of rainfall that was measured in March and the corresponding year. You need to think a bit on how to do this. For example, you may want to loop through the data first and extract all the March data and then compute the minimum and maximum values."
     ]
    },
    {
     "cell_type": "code",
     "collapsed": false,
     "input": [
      "rain = loadtxt('rainfall_delft_all.dat',skiprows=24,delimiter=',',usecols=(1,2))\n",
      "marchrain = []\n",
      "for i in range(rain.shape[0]):\n",
      "    month = int(str(rain[i,0])[4:6])\n",
      "    if month == 3:\n",
      "        marchrain.append(rain[i,1])\n",
      "marchrain = reshape(marchrain,(62,31))\n",
      "marchrain = sum(marchrain,1)\n",
      "years = arange(1952,1952+len(marchrain))\n",
      "bar(years,marchrain/10)\n",
      "xlabel('year')\n",
      "ylabel('rainfall in March in mm')\n",
      "print 'year, maximum march rainfall ',years[argmax(marchrain)],amax(marchrain)/10.0\n",
      "print 'year, minimum march rainfall ',years[argmin(marchrain)],amin(marchrain)/10.0"
     ],
     "language": "python",
     "metadata": {},
     "outputs": [
      {
       "output_type": "stream",
       "stream": "stdout",
       "text": [
        "year, maximum march rainfall  1988 142.3\n",
        "year, minimum march rainfall  1953 10.6\n"
       ]
      },
      {
       "output_type": "display_data",
       "png": "[encoded data removed]",
       "text": [
        "<matplotlib.figure.Figure at 0x64a3bb0>"
       ]
      }
     ],
     "prompt_number": 5
    },
    {
     "cell_type": "markdown",
     "metadata": {},
     "source": [
      "***\n",
      "***\n",
      "###Exercise 6, One hundredth prime number\n",
      "Prime numbers are numbers that can be divided by 1 and itself. The first 4 prime numbers are 2, 3, 5, and 7, so the fourth prime number is 7. Find the 100th prime number. For this exercise it may be handy to use the `%` operator (called the modulo or remainder operator), which gives the remainder of integer division. For example, `9%2` gives `1`, because integer division of 9/2 gives 4, and 4*2=8. So the remainder is 9-8=1. "
     ]
    },
    {
     "cell_type": "code",
     "collapsed": false,
     "input": [
      "print 4 % 2  # Gives zero as there is no remainder\n",
      "print 9 % 2  # Gives 1, as 9/2  = 4, and 9 - (2*4) = 1\n",
      "print 14 % 3 # Gives 2, as 14/3 = 4, and 14 - (3*4) = 2"
     ],
     "language": "python",
     "metadata": {},
     "outputs": [
      {
       "output_type": "stream",
       "stream": "stdout",
       "text": [
        "0\n",
        "1\n",
        "2\n"
       ]
      }
     ],
     "prompt_number": 13
    },
    {
     "cell_type": "markdown",
     "metadata": {},
     "source": [
      "Find the 100th prime number. Google to find out if you answer is correct."
     ]
    },
    {
     "cell_type": "code",
     "collapsed": false,
     "input": [
      "# This works fine to find number 100, but for larger numbers you may\n",
      "# want to use that any non-prime number is divisable by at least one prime number\n",
      "total = 4  # We start looking at 9, as we already know the first 4\n",
      "for i in range(9,1000,2):  # Loop through 1000 numbers. Hopefully that is enough\n",
      "    prime = True\n",
      "    for j in range(3,i):\n",
      "        if i%j == 0:  # Then not prime\n",
      "            prime = False\n",
      "            break\n",
      "    if prime:\n",
      "        total += 1\n",
      "        if total == 100:\n",
      "            break\n",
      "print 'The 100th prime number is ',i"
     ],
     "language": "python",
     "metadata": {},
     "outputs": [
      {
       "output_type": "stream",
       "stream": "stdout",
       "text": [
        "The 100th prime number is  541\n"
       ]
      }
     ],
     "prompt_number": 12
    },
    {
     "cell_type": "markdown",
     "metadata": {},
     "source": [
      "###Strings\n",
      "Strings are a very versatile data type, and we can easily spend an entire Notebook on strings. \n",
      "We will only make limited use of strings, so we keep treatment here to a bare minimum. Strings are like tuples in that every character in a string has an index. Each character or range of characters can be accessed, just like for tuples, but they cannot be changed. A string also has a length. "
     ]
    },
    {
     "cell_type": "code",
     "collapsed": false,
     "input": [
      "text = 'Goodmorning everybody'\n",
      "print len(text)\n",
      "print text[0]\n",
      "print text[0:12]"
     ],
     "language": "python",
     "metadata": {},
     "outputs": [
      {
       "output_type": "stream",
       "stream": "stdout",
       "text": [
        "21\n",
        "G\n",
        "Goodmorning \n"
       ]
      }
     ],
     "prompt_number": 1
    },
    {
     "cell_type": "markdown",
     "metadata": {},
     "source": [
      "When you add two strings, they are put back to back. When you want to combine text with a variable, you first need to change the variable to a string and then add the two strings"
     ]
    },
    {
     "cell_type": "code",
     "collapsed": false,
     "input": [
      "newtext = text + ' in the class'  # Adding two srings\n",
      "print newtext\n",
      "a = 7\n",
      "mes = 'The magic number is ' + str(a)  # Combining strings and numbers\n",
      "print mes"
     ],
     "language": "python",
     "metadata": {},
     "outputs": [
      {
       "output_type": "stream",
       "stream": "stdout",
       "text": [
        "Goodmorning everybody in the class\n",
        "The magic number is 7\n"
       ]
      }
     ],
     "prompt_number": 2
    },
    {
     "cell_type": "code",
     "collapsed": false,
     "input": [
      "a = ['mark','bas','mark','bas','femke','bas']\n",
      "count(a == 'mark')"
     ],
     "language": "python",
     "metadata": {},
     "outputs": [
      {
       "ename": "NameError",
       "evalue": "name 'count' is not defined",
       "output_type": "pyerr",
       "traceback": [
        "\u001b[0;31m---------------------------------------------------------------------------\u001b[0m\n\u001b[0;31mNameError\u001b[0m                                 Traceback (most recent call last)",
        "\u001b[0;32m<ipython-input-2-396cebc8d0b7>\u001b[0m in \u001b[0;36m<module>\u001b[0;34m()\u001b[0m\n\u001b[1;32m      1\u001b[0m \u001b[0ma\u001b[0m \u001b[0;34m=\u001b[0m \u001b[0;34m[\u001b[0m\u001b[0;34m'mark'\u001b[0m\u001b[0;34m,\u001b[0m\u001b[0;34m'bas'\u001b[0m\u001b[0;34m,\u001b[0m\u001b[0;34m'mark'\u001b[0m\u001b[0;34m,\u001b[0m\u001b[0;34m'bas'\u001b[0m\u001b[0;34m,\u001b[0m\u001b[0;34m'femke'\u001b[0m\u001b[0;34m,\u001b[0m\u001b[0;34m'bas'\u001b[0m\u001b[0;34m]\u001b[0m\u001b[0;34m\u001b[0m\u001b[0m\n\u001b[0;32m----> 2\u001b[0;31m \u001b[0mcount\u001b[0m\u001b[0;34m(\u001b[0m\u001b[0ma\u001b[0m \u001b[0;34m==\u001b[0m \u001b[0;34m'mark'\u001b[0m\u001b[0;34m)\u001b[0m\u001b[0;34m\u001b[0m\u001b[0m\n\u001b[0m",
        "\u001b[0;31mNameError\u001b[0m: name 'count' is not defined"
       ]
      }
     ],
     "prompt_number": 2
    },
    {
     "cell_type": "code",
     "collapsed": false,
     "input": [],
     "language": "python",
     "metadata": {},
     "outputs": []
    }
   ],
   "metadata": {}
  }
 ]
}