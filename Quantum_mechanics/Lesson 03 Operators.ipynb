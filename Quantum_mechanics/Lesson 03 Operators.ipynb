{
 "cells": [
  {
   "cell_type": "markdown",
   "metadata": {},
   "source": [
    "<a rel=\"license\" href=\"http://creativecommons.org/licenses/by-nc/4.0/\"><img alt=\"Creative Commons License\" style=\"border-width:0\" src=\"https://i.creativecommons.org/l/by-nc/4.0/88x31.png\" /></a><br /><span xmlns:dct=\"http://purl.org/dc/terms/\" property=\"dct:title\">Introduction to quantum mechanics</span> by <span xmlns:cc=\"http://creativecommons.org/ns#\" property=\"cc:attributionName\">Dr Juan H Klopper</span> is licensed under a <a rel=\"license\" href=\"http://creativecommons.org/licenses/by-nc/4.0/\">Creative Commons Attribution-NonCommercial 4.0 International License</a>."
   ]
  },
  {
   "cell_type": "code",
   "execution_count": 1,
   "metadata": {
    "collapsed": false
   },
   "outputs": [
    {
     "data": {
      "text/html": [
       "<link href='http://fonts.googleapis.com/css?family=Alegreya+Sans:100,300,400,500,700,800,900,100italic,300italic,400italic,500italic,700italic,800italic,900italic' rel='stylesheet' type='text/css'>\n",
       "<link href='http://fonts.googleapis.com/css?family=Arvo:400,700,400italic' rel='stylesheet' type='text/css'>\n",
       "<link href='http://fonts.googleapis.com/css?family=PT+Mono' rel='stylesheet' type='text/css'>\n",
       "<link href='http://fonts.googleapis.com/css?family=Shadows+Into+Light' rel='stylesheet' type='text/css'>\n",
       "<link href='http://fonts.googleapis.com/css?family=Philosopher:400,700,400italic,700italic' rel='stylesheet' type='text/css'>\n",
       "\n",
       "<style>\n",
       "\n",
       "@font-face {\n",
       "    font-family: \"Computer Modern\";\n",
       "    src: url('http://mirrors.ctan.org/fonts/cm-unicode/fonts/otf/cmunss.otf');\n",
       "}\n",
       "\n",
       "#notebook_panel { /* main background */\n",
       "    background: #ddd;\n",
       "    color: #000000;\n",
       "}\n",
       "\n",
       "\n",
       "\n",
       "/* Formatting for header cells */\n",
       ".text_cell_render h1 {\n",
       "    font-family: 'Philosopher', sans-serif;\n",
       "    font-weight: 400;\n",
       "    font-size: 2.2em;\n",
       "    line-height: 100%;\n",
       "    color: rgb(0, 80, 120);\n",
       "    margin-bottom: 0.1em;\n",
       "    margin-top: 0.1em;\n",
       "    display: block;\n",
       "}\t\n",
       ".text_cell_render h2 {\n",
       "    font-family: 'Philosopher', serif;\n",
       "    font-weight: 400;\n",
       "    font-size: 1.9em;\n",
       "    line-height: 100%;\n",
       "    color: rgb(200,100,0);\n",
       "    margin-bottom: 0.1em;\n",
       "    margin-top: 0.1em;\n",
       "    display: block;\n",
       "}\t\n",
       "\n",
       ".text_cell_render h3 {\n",
       "    font-family: 'Philosopher', serif;\n",
       "    margin-top:12px;\n",
       "    margin-bottom: 3px;\n",
       "    font-style: italic;\n",
       "    color: rgb(94,127,192);\n",
       "}\n",
       "\n",
       ".text_cell_render h4 {\n",
       "    font-family: 'Philosopher', serif;\n",
       "}\n",
       "\n",
       ".text_cell_render h5 {\n",
       "    font-family: 'Alegreya Sans', sans-serif;\n",
       "    font-weight: 300;\n",
       "    font-size: 16pt;\n",
       "    color: grey;\n",
       "    font-style: italic;\n",
       "    margin-bottom: .1em;\n",
       "    margin-top: 0.1em;\n",
       "    display: block;\n",
       "}\n",
       "\n",
       ".text_cell_render h6 {\n",
       "    font-family: 'PT Mono', sans-serif;\n",
       "    font-weight: 300;\n",
       "    font-size: 10pt;\n",
       "    color: grey;\n",
       "    margin-bottom: 1px;\n",
       "    margin-top: 1px;\n",
       "}\n",
       "\n",
       ".CodeMirror{\n",
       "        font-family: \"PT Mono\";\n",
       "        font-size: 100%;\n",
       "}\n",
       "\n",
       "</style>\n",
       "\n"
      ],
      "text/plain": [
       "<IPython.core.display.HTML object>"
      ]
     },
     "execution_count": 1,
     "metadata": {},
     "output_type": "execute_result"
    }
   ],
   "source": [
    "from IPython.core.display import HTML, Image\n",
    "#css_file = 'style.css'\n",
    "#HTML(open(css_file, 'r').read())\n",
    "#css_file = 'style.css'\n",
    "HTML(open('style.css', 'r').read())"
   ]
  },
  {
   "cell_type": "code",
   "execution_count": 2,
   "metadata": {
    "collapsed": true
   },
   "outputs": [],
   "source": [
    "from sympy import init_printing\n",
    "from warnings import filterwarnings"
   ]
  },
  {
   "cell_type": "code",
   "execution_count": 3,
   "metadata": {
    "collapsed": true
   },
   "outputs": [],
   "source": [
    "init_printing(use_latex = 'mathjax')\n",
    "filterwarnings('ignore')"
   ]
  },
  {
   "cell_type": "code",
   "execution_count": 4,
   "metadata": {
    "collapsed": true
   },
   "outputs": [],
   "source": [
    "from sympy import I, sqrt, Matrix, diag, symbols\n",
    "from sympy.physics.quantum import Dagger"
   ]
  },
  {
   "cell_type": "markdown",
   "metadata": {},
   "source": [
    "# Operators"
   ]
  },
  {
   "cell_type": "markdown",
   "metadata": {},
   "source": [
    "## Introduction"
   ]
  },
  {
   "cell_type": "markdown",
   "metadata": {},
   "source": [
    "An operator in quantum mechanics (QM) is a mathematical rule that acts on a ket (or on a bra).  After acting on a ket, you have another ket (which might even be exactly the one you started with or the one you started with multiplied by a scalar.<br>\n",
    "It's almost like a function (a rule that maps one set of values to another) in algebra:\n",
    "$$ {f} \\left( {x} \\right) = {x}^{2} $$\n",
    "In QM, though we have:\n",
    "$$ {A} \\left|\\psi \\right> = \\left|\\psi ' \\right>$$\n",
    "It works for bra vectors too (just remember, we are representing states as column vectors, so the rules of matrix multiplication apply)\n",
    "$$ \\left<\\psi\\right|{A}^{*}=\\left<\\psi '\\right| $$"
   ]
  },
  {
   "cell_type": "markdown",
   "metadata": {},
   "source": [
    "In QM we'll use the terms *states* and *observables*.  States are describe by vectors in a vector space, whereas observables are things we can measure, such as the energy or momentum of a particle.  In our examples above that would be the ** *A* **.  It acted on the $ \\left| \\psi \\right> $ vector, which returned a $ \\left| \\psi '  \\right> $ vector."
   ]
  },
  {
   "cell_type": "markdown",
   "metadata": {},
   "source": [
    "We could even throw in a multiple of $ \\left| \\psi \\right> $, say for example a complex number *z* and get: $$ {A}{z}\\left| \\psi \\right> =  {z} \\left| \\psi ' \\right> $$"
   ]
  },
  {
   "cell_type": "markdown",
   "metadata": {},
   "source": [
    "As with algebra where we multiply by one or in linear algebra where we multiply by the identity matrix and NOT change anything, we have the following in bra-ket notation:\n",
    "$$ {I} \\left| \\psi \\right> = \\left| \\psi \\right> $$"
   ]
  },
  {
   "cell_type": "markdown",
   "metadata": {},
   "source": [
    "An operator can also act on a sum of vectors:\n",
    "$$ A\\left\\{ \\left| \\psi  \\right> +\\left| \\phi  \\right>  \\right\\} =A\\left| \\psi  \\right> +A\\left| \\phi  \\right>  $$"
   ]
  },
  {
   "cell_type": "markdown",
   "metadata": {},
   "source": [
    "+ Without explaining much, here are some awesome operators:\n",
    "    + Gradient operator\n",
    "    $$ \\nabla |\\psi >=\\frac { \\partial  }{ \\partial x } |\\psi >\\hat { i } +\\frac { \\partial  }{ \\partial y } |\\psi >\\hat { j } +\\frac { \\partial  }{ \\partial z } |\\psi >\\hat { k }  $$\n",
    "    + Hamiltonian operator which gives the scalar *E*, the energy\n",
    "    $$ {\\hat H}|\\psi >=E|\\psi > $$\n",
    "    + Linear momentum operator\n",
    "    $$ {\\hat P}|\\psi >=-i\\hbar \\nabla |\\psi > $$\n",
    "        + In one dimension that will be\n",
    "        $$ {\\hat P}|\\psi >=-i\\hbar \\frac{\\partial}{\\partial x} |\\psi > $$\n",
    "    + Laplacian operator (to find the Hamiltonian operator)\n",
    "    $$ { \\nabla  }^{ 2 }|\\psi >=\\nabla \\cdot \\nabla |\\psi >=\\frac { { \\partial  }^{ 2 } }{ \\partial { x }^{ 2 } } |\\psi >\\hat { i } +\\frac { { \\partial  }^{ 2 } }{ \\partial { y }^{ 2 } } |\\psi >\\hat { j } +\\frac { { \\partial  }^{ 2 } }{ \\partial { y }^{ 2 } } |\\psi >\\hat { k }  $$"
   ]
  },
  {
   "cell_type": "markdown",
   "metadata": {},
   "source": [
    "### In sympy notation"
   ]
  },
  {
   "cell_type": "code",
   "execution_count": 5,
   "metadata": {
    "collapsed": true
   },
   "outputs": [],
   "source": [
    "from sympy import Matrix\n",
    "from sympy.physics.quantum import Operator, Bra, Ket"
   ]
  },
  {
   "cell_type": "code",
   "execution_count": 6,
   "metadata": {
    "collapsed": false
   },
   "outputs": [],
   "source": [
    "A = Operator('A')\n",
    "B = Operator('B')\n",
    "k = Ket('psi')"
   ]
  },
  {
   "cell_type": "code",
   "execution_count": 7,
   "metadata": {
    "collapsed": false
   },
   "outputs": [
    {
     "data": {
      "text/latex": [
       "$$A {\\left|\\psi\\right\\rangle }$$"
      ],
      "text/plain": [
       "A⋅❘ψ⟩"
      ]
     },
     "execution_count": 7,
     "metadata": {},
     "output_type": "execute_result"
    }
   ],
   "source": [
    "A * k # The operator, A, times the ket vector, k"
   ]
  },
  {
   "cell_type": "markdown",
   "metadata": {},
   "source": [
    "Operators (which are matrices) do not commute"
   ]
  },
  {
   "cell_type": "code",
   "execution_count": 8,
   "metadata": {
    "collapsed": false
   },
   "outputs": [
    {
     "data": {
      "text/plain": [
       "(False, False)"
      ]
     },
     "execution_count": 8,
     "metadata": {},
     "output_type": "execute_result"
    }
   ],
   "source": [
    "A.is_commutative, B.is_commutative"
   ]
  },
  {
   "cell_type": "code",
   "execution_count": 9,
   "metadata": {
    "collapsed": false
   },
   "outputs": [
    {
     "data": {
      "text/plain": [
       "False"
      ]
     },
     "execution_count": 9,
     "metadata": {},
     "output_type": "execute_result"
    }
   ],
   "source": [
    "A * B == B * A"
   ]
  },
  {
   "cell_type": "markdown",
   "metadata": {},
   "source": [
    "So we have something very special going on here:\n",
    "$$ {\\hat H}\\left|\\psi\\right>=E\\left|\\psi\\right> $$\n",
    "*H*, is an operator (a matrix) which is multiplied by a ket vector.  It returns a scalar (*E*, which is the energy) times that same ket vector.<br>\n",
    "Operators are special matrices that when multiplied by a column vector, yields a scalar multiple of that vector (scalar might be 1).  In the lecture on eigenvalues and eigenvectors you will note that this is exactly what we are dealing with."
   ]
  },
  {
   "cell_type": "markdown",
   "metadata": {},
   "source": [
    "## Back to dice space"
   ]
  },
  {
   "cell_type": "markdown",
   "metadata": {},
   "source": [
    "Qm is all about probability.  What we are ultimately trying to develop the intuition for is the fact that we have these state vectors and observables (operators).  We have mathematical objects representing reality.  We have to do something to them to get a result, which we interpret as the value that multiple executions of an experiment wil average to.  This average is called the *expectation value*.<br/>\n",
    "We can do this for our dice space experiment, that is, create an observable / operator matrix.  Look at what we can do:"
   ]
  },
  {
   "cell_type": "code",
   "execution_count": 10,
   "metadata": {
    "collapsed": false
   },
   "outputs": [],
   "source": [
    "# From the previous chapter\n",
    "state = Matrix([[1], [sqrt(2)], [sqrt(3)], [sqrt(4)], [sqrt(5)], [sqrt(6)], [sqrt(5)], [sqrt(4)], [sqrt(3)], [sqrt(2)], [1]])\n",
    "ket_psi = state.normalized()\n",
    "bra_psi = Dagger(ket_psi)"
   ]
  },
  {
   "cell_type": "markdown",
   "metadata": {},
   "source": [
    "So, we have created a ket vector and it's associated bra vector (through the use of the *Dagge()* function.  They have been normalized through the *.normalized()* method.  We can check if they form an orthonomal basis for our dice space.  Remember how to do that?"
   ]
  },
  {
   "cell_type": "code",
   "execution_count": 11,
   "metadata": {
    "collapsed": false
   },
   "outputs": [
    {
     "data": {
      "text/latex": [
       "$$\\left[\\begin{matrix}1\\end{matrix}\\right]$$"
      ],
      "text/plain": [
       "[1]"
      ]
     },
     "execution_count": 11,
     "metadata": {},
     "output_type": "execute_result"
    }
   ],
   "source": [
    "bra_psi * ket_psi"
   ]
  },
  {
   "cell_type": "markdown",
   "metadata": {},
   "source": [
    "Now (without explanation), here is the operator (observable)."
   ]
  },
  {
   "cell_type": "code",
   "execution_count": 12,
   "metadata": {
    "collapsed": false
   },
   "outputs": [
    {
     "data": {
      "text/latex": [
       "$$\\left[\\begin{array}{ccccccccccc}2 & 0 & 0 & 0 & 0 & 0 & 0 & 0 & 0 & 0 & 0\\\\0 & 3 & 0 & 0 & 0 & 0 & 0 & 0 & 0 & 0 & 0\\\\0 & 0 & 4 & 0 & 0 & 0 & 0 & 0 & 0 & 0 & 0\\\\0 & 0 & 0 & 5 & 0 & 0 & 0 & 0 & 0 & 0 & 0\\\\0 & 0 & 0 & 0 & 6 & 0 & 0 & 0 & 0 & 0 & 0\\\\0 & 0 & 0 & 0 & 0 & 7 & 0 & 0 & 0 & 0 & 0\\\\0 & 0 & 0 & 0 & 0 & 0 & 8 & 0 & 0 & 0 & 0\\\\0 & 0 & 0 & 0 & 0 & 0 & 0 & 9 & 0 & 0 & 0\\\\0 & 0 & 0 & 0 & 0 & 0 & 0 & 0 & 10 & 0 & 0\\\\0 & 0 & 0 & 0 & 0 & 0 & 0 & 0 & 0 & 11 & 0\\\\0 & 0 & 0 & 0 & 0 & 0 & 0 & 0 & 0 & 0 & 12\\end{array}\\right]$$"
      ],
      "text/plain": [
       "⎡2  0  0  0  0  0  0  0  0   0   0 ⎤\n",
       "⎢                                  ⎥\n",
       "⎢0  3  0  0  0  0  0  0  0   0   0 ⎥\n",
       "⎢                                  ⎥\n",
       "⎢0  0  4  0  0  0  0  0  0   0   0 ⎥\n",
       "⎢                                  ⎥\n",
       "⎢0  0  0  5  0  0  0  0  0   0   0 ⎥\n",
       "⎢                                  ⎥\n",
       "⎢0  0  0  0  6  0  0  0  0   0   0 ⎥\n",
       "⎢                                  ⎥\n",
       "⎢0  0  0  0  0  7  0  0  0   0   0 ⎥\n",
       "⎢                                  ⎥\n",
       "⎢0  0  0  0  0  0  8  0  0   0   0 ⎥\n",
       "⎢                                  ⎥\n",
       "⎢0  0  0  0  0  0  0  9  0   0   0 ⎥\n",
       "⎢                                  ⎥\n",
       "⎢0  0  0  0  0  0  0  0  10  0   0 ⎥\n",
       "⎢                                  ⎥\n",
       "⎢0  0  0  0  0  0  0  0  0   11  0 ⎥\n",
       "⎢                                  ⎥\n",
       "⎣0  0  0  0  0  0  0  0  0   0   12⎦"
      ]
     },
     "execution_count": 12,
     "metadata": {},
     "output_type": "execute_result"
    }
   ],
   "source": [
    "# Creating our operator\n",
    "A = diag(2, 3, 4, 5, 6, 7, 8, 9,10, 11, 12)\n",
    "A"
   ]
  },
  {
   "cell_type": "markdown",
   "metadata": {},
   "source": [
    "We calculate the expectation value like this\n",
    "$$\\left<\\psi|A|\\psi\\right>$$"
   ]
  },
  {
   "cell_type": "code",
   "execution_count": 22,
   "metadata": {
    "collapsed": false
   },
   "outputs": [
    {
     "data": {
      "text/latex": [
       "$$\\left[\\begin{matrix}7\\end{matrix}\\right]$$"
      ],
      "text/plain": [
       "[7]"
      ]
     },
     "execution_count": 22,
     "metadata": {},
     "output_type": "execute_result"
    }
   ],
   "source": [
    "bra_psi * A * ket_psi"
   ]
  },
  {
   "cell_type": "markdown",
   "metadata": {},
   "source": [
    "Indeed, we get the average value if the experiment (rolling two die) is repeated multiple times.<br/>\n",
    "Now let's continue learning about these operators by looking at eigenvalues and eigenvectors."
   ]
  },
  {
   "cell_type": "markdown",
   "metadata": {},
   "source": [
    "## Eigenvalues and eigenvectors"
   ]
  },
  {
   "cell_type": "markdown",
   "metadata": {},
   "source": [
    "We will use operators to act on ket vectors that are eigenvectors of that operator.  We looked at eigenvalues and eigenvectors in the previous chapter.<br>\n",
    "Eigenvectors are innate vectors of a matrix such that when multiplying a matrix by (one of) it's eigenvectors yields that same eigenvector times a scalar (it's eigenvalue).  So, direction is maintained, only the magnitude may change."
   ]
  },
  {
   "cell_type": "code",
   "execution_count": 23,
   "metadata": {
    "collapsed": false
   },
   "outputs": [
    {
     "data": {
      "text/latex": [
       "$$\\left[\\begin{matrix}1 & 2\\\\2 & 1\\end{matrix}\\right]$$"
      ],
      "text/plain": [
       "⎡1  2⎤\n",
       "⎢    ⎥\n",
       "⎣2  1⎦"
      ]
     },
     "execution_count": 23,
     "metadata": {},
     "output_type": "execute_result"
    }
   ],
   "source": [
    "# A matrix, A\n",
    "A = Matrix([[1, 2], [2, 1]])\n",
    "A"
   ]
  },
  {
   "cell_type": "code",
   "execution_count": 24,
   "metadata": {
    "collapsed": false
   },
   "outputs": [
    {
     "data": {
      "text/latex": [
       "$$\\left [ \\left ( -1, \\quad 1, \\quad \\left [ \\left[\\begin{matrix}-1\\\\1\\end{matrix}\\right]\\right ]\\right ), \\quad \\left ( 3, \\quad 1, \\quad \\left [ \\left[\\begin{matrix}1\\\\1\\end{matrix}\\right]\\right ]\\right )\\right ]$$"
      ],
      "text/plain": [
       "⎡⎛-1, 1, ⎡⎡-1⎤⎤⎞, ⎛3, 1, ⎡⎡1⎤⎤⎞⎤\n",
       "⎢⎜       ⎢⎢  ⎥⎥⎟  ⎜      ⎢⎢ ⎥⎥⎟⎥\n",
       "⎣⎝       ⎣⎣1 ⎦⎦⎠  ⎝      ⎣⎣1⎦⎦⎠⎦"
      ]
     },
     "execution_count": 24,
     "metadata": {},
     "output_type": "execute_result"
    }
   ],
   "source": [
    "# It's eigenvalues, how many there are and the corresponding eigenvector\n",
    "A.eigenvects()"
   ]
  },
  {
   "cell_type": "markdown",
   "metadata": {},
   "source": [
    "Let's take the operator *A* and multiply it by one of its eigenvectors:\n",
    "$$ A \\begin{pmatrix} 1 \\\\ 1 \\end{pmatrix} $$"
   ]
  },
  {
   "cell_type": "code",
   "execution_count": 25,
   "metadata": {
    "collapsed": false
   },
   "outputs": [
    {
     "data": {
      "text/latex": [
       "$$\\left[\\begin{matrix}1\\\\1\\end{matrix}\\right]$$"
      ],
      "text/plain": [
       "⎡1⎤\n",
       "⎢ ⎥\n",
       "⎣1⎦"
      ]
     },
     "execution_count": 25,
     "metadata": {},
     "output_type": "execute_result"
    }
   ],
   "source": [
    "# Creating an eigenvector\n",
    "eigv1 = Matrix([[1], [1]])\n",
    "eigv1"
   ]
  },
  {
   "cell_type": "code",
   "execution_count": 26,
   "metadata": {
    "collapsed": false
   },
   "outputs": [
    {
     "data": {
      "text/latex": [
       "$$\\left[\\begin{matrix}3\\\\3\\end{matrix}\\right]$$"
      ],
      "text/plain": [
       "⎡3⎤\n",
       "⎢ ⎥\n",
       "⎣3⎦"
      ]
     },
     "execution_count": 26,
     "metadata": {},
     "output_type": "execute_result"
    }
   ],
   "source": [
    "A * eigv1"
   ]
  },
  {
   "cell_type": "code",
   "execution_count": 27,
   "metadata": {
    "collapsed": false
   },
   "outputs": [
    {
     "data": {
      "text/plain": [
       "True"
      ]
     },
     "execution_count": 27,
     "metadata": {},
     "output_type": "execute_result"
    }
   ],
   "source": [
    "# This is the same as 3 (the eigenvalue) times the eigenvector\n",
    "A * eigv1 == 3 * eigv1"
   ]
  },
  {
   "cell_type": "markdown",
   "metadata": {
    "collapsed": true
   },
   "source": [
    "## Hermitian operators"
   ]
  },
  {
   "cell_type": "markdown",
   "metadata": {},
   "source": [
    "A Hermitian operator is an operator that is equal to its *Hermitian adjoint* (*Hermitian conjugate*).  OK, so what's a Hermitian adjoint / Hermitian conjugate?<br>\n",
    "Consider our operator function above:\n",
    "$$ A \\left| \\psi \\right> = \\left| \\psi ' \\right> $$\n",
    "What if we use the corresponding bra vectors?\n",
    "$$ \\left< \\psi \\right| A $$\n",
    "Would this equal the bra vector, $ \\left< \\psi ' \\right| $?  Short answer, NO!"
   ]
  },
  {
   "cell_type": "markdown",
   "metadata": {},
   "source": [
    "We have to change $ A $ to its Hermitian adjoint first.  It's done by transposing and changing each element to its complex conjugate.  It is usually written with a dagger superscript, $ { A }^{ \\dagger  }={ \\left( { A }^{ T } \\right)  }^{ * } $, where $ {A}^{T} $ is the transpose of $ A $ and $ {A}^{*} $ is the complex conjugate.  Now we have:\n",
    "$$ \\left< \\psi \\right| {A}^{\\dagger} = \\left< \\psi ' \\right| $$"
   ]
  },
  {
   "cell_type": "markdown",
   "metadata": {},
   "source": [
    "A *Hermitian operator* is an operator which is identical to its Hermitian adjoint."
   ]
  },
  {
   "cell_type": "markdown",
   "metadata": {},
   "source": [
    "We will denote a Hermitian operator by $ \\hat{H} $.  It is a very special operator, because it has the following special property:\n",
    "$$ {\\hat H} \\left| \\psi \\right> = {\\lambda}_{a} \\left| \\psi \\right> $$\n",
    "So, applying a Hermitian operator to a ket vector equals a real number $ {\\lambda}_{a} $ times the same ket vector (with the added proviso that $ \\left| \\psi \\right> $ is an eigenvector and $ {\\lambda}_{a} $ is it's eigenvalue (see the previous chapter).  Later you will see than $ {\\lambda}_{a} $ must be a real number."
   ]
  },
  {
   "cell_type": "markdown",
   "metadata": {},
   "source": [
    "Let's use some python&#8482; to illustrate Hermitian operator use.  We'll introduce an operator $ L $ which contain complex numbers."
   ]
  },
  {
   "cell_type": "code",
   "execution_count": 29,
   "metadata": {
    "collapsed": false
   },
   "outputs": [
    {
     "data": {
      "text/latex": [
       "$$\\left[\\begin{matrix}1.5 & - 0.5 i\\\\0.5 i & 1.5\\end{matrix}\\right]$$"
      ],
      "text/plain": [
       "⎡ 1.5   -0.5⋅ⅈ⎤\n",
       "⎢             ⎥\n",
       "⎣0.5⋅ⅈ   1.5  ⎦"
      ]
     },
     "execution_count": 29,
     "metadata": {},
     "output_type": "execute_result"
    }
   ],
   "source": [
    "L = Matrix([[1.5, -0.5 * I], [0.5 * I, 1.5]]) # A sympy matrix\n",
    "L # Print to screen"
   ]
  },
  {
   "cell_type": "code",
   "execution_count": 30,
   "metadata": {
    "collapsed": false
   },
   "outputs": [
    {
     "data": {
      "text/plain": [
       "True"
      ]
     },
     "execution_count": 30,
     "metadata": {},
     "output_type": "execute_result"
    }
   ],
   "source": [
    "# Is L indeed an Hermitian operator?\n",
    "Dagger(L) == L"
   ]
  },
  {
   "cell_type": "code",
   "execution_count": 31,
   "metadata": {
    "collapsed": false
   },
   "outputs": [
    {
     "data": {
      "text/latex": [
       "$$\\left [ \\left ( 1.0, \\quad 1, \\quad \\left [ \\left[\\begin{matrix}1.0 i\\\\1.0\\end{matrix}\\right]\\right ]\\right ), \\quad \\left ( 2.0, \\quad 1, \\quad \\left [ \\left[\\begin{matrix}- 1.0 i\\\\1.0\\end{matrix}\\right]\\right ]\\right )\\right ]$$"
      ],
      "text/plain": [
       "⎡⎛1.0, 1, ⎡⎡1.0⋅ⅈ⎤⎤⎞, ⎛2.0, 1, ⎡⎡-1.0⋅ⅈ⎤⎤⎞⎤\n",
       "⎢⎜        ⎢⎢     ⎥⎥⎟  ⎜        ⎢⎢      ⎥⎥⎟⎥\n",
       "⎣⎝        ⎣⎣ 1.0 ⎦⎦⎠  ⎝        ⎣⎣ 1.0  ⎦⎦⎠⎦"
      ]
     },
     "execution_count": 31,
     "metadata": {},
     "output_type": "execute_result"
    }
   ],
   "source": [
    "L.eigenvects()"
   ]
  },
  {
   "cell_type": "markdown",
   "metadata": {},
   "source": [
    "Let's also create the two vectors *x* and *y* in &#8477;<sup>2</sup> for these two eigenvectors of $ L $."
   ]
  },
  {
   "cell_type": "code",
   "execution_count": 32,
   "metadata": {
    "collapsed": true
   },
   "outputs": [],
   "source": [
    "x = Matrix([[I], [1]])\n",
    "y = Matrix([[-I], [1]])"
   ]
  },
  {
   "cell_type": "markdown",
   "metadata": {},
   "source": [
    "Let's determine their inner product $ \\left< x | y \\right> = {\\left( {x}^{*} \\right)}^{T} y $.  Note that $ {x}_{i} $ and $ {y}_{i} $ might be complex so the corresponding $ \\left< x \\right| $ and $ \\left< y \\right| $ is the complex conjugate."
   ]
  },
  {
   "cell_type": "code",
   "execution_count": 33,
   "metadata": {
    "collapsed": false
   },
   "outputs": [
    {
     "data": {
      "text/latex": [
       "$$\\left[\\begin{matrix}0\\end{matrix}\\right]$$"
      ],
      "text/plain": [
       "[0]"
      ]
     },
     "execution_count": 33,
     "metadata": {},
     "output_type": "execute_result"
    }
   ],
   "source": [
    "x.adjoint() * y # See later: eigenvectors of a Hermitian operator are orthogonal"
   ]
  },
  {
   "cell_type": "markdown",
   "metadata": {},
   "source": [
    "Suppose we introduce the operator $ L $ such that we calculate:\n",
    "$$ \\left<{x}\\left|L\\right|{y}\\right> $$"
   ]
  },
  {
   "cell_type": "code",
   "execution_count": 34,
   "metadata": {
    "collapsed": false
   },
   "outputs": [
    {
     "data": {
      "text/latex": [
       "$$\\left[\\begin{matrix}0\\end{matrix}\\right]$$"
      ],
      "text/plain": [
       "[0]"
      ]
     },
     "execution_count": 34,
     "metadata": {},
     "output_type": "execute_result"
    }
   ],
   "source": [
    "# We created the matrix, L, above\n",
    "x.adjoint() * L * y"
   ]
  },
  {
   "cell_type": "markdown",
   "metadata": {},
   "source": [
    "Now we have an adjoint operator L such that:\n",
    "$$ \\left< y \\left| {L}^{\\dagger} \\right| x \\right> = \\left< {x} \\left| {L} \\right| {y} \\right> $$"
   ]
  },
  {
   "cell_type": "markdown",
   "metadata": {},
   "source": [
    "$ {L}^{\\dagger} $ is the adjoint or Hermitian conjugate of $ L $ (before we used *Dagger*()).  It's easy to calculate in python™."
   ]
  },
  {
   "cell_type": "code",
   "execution_count": 35,
   "metadata": {
    "collapsed": false
   },
   "outputs": [
    {
     "data": {
      "text/latex": [
       "$$\\left[\\begin{matrix}1.5 & - 0.5 i\\\\0.5 i & 1.5\\end{matrix}\\right]$$"
      ],
      "text/plain": [
       "⎡ 1.5   -0.5⋅ⅈ⎤\n",
       "⎢             ⎥\n",
       "⎣0.5⋅ⅈ   1.5  ⎦"
      ]
     },
     "execution_count": 35,
     "metadata": {},
     "output_type": "execute_result"
    }
   ],
   "source": [
    "L.adjoint() # Or use Dagger() from the sympy.physics.quantum submodule"
   ]
  },
  {
   "cell_type": "markdown",
   "metadata": {},
   "source": [
    "Let's see what we get from:\n",
    "$$ \\left<y\\left|{L}^{\\dagger}\\right|x\\right> $$\n",
    "Then use python™ Boolean logic to see if there is equality."
   ]
  },
  {
   "cell_type": "code",
   "execution_count": 36,
   "metadata": {
    "collapsed": false
   },
   "outputs": [
    {
     "data": {
      "text/latex": [
       "$$\\left[\\begin{matrix}0\\end{matrix}\\right]$$"
      ],
      "text/plain": [
       "[0]"
      ]
     },
     "execution_count": 36,
     "metadata": {},
     "output_type": "execute_result"
    }
   ],
   "source": [
    "y.adjoint() * Dagger(L) * x"
   ]
  },
  {
   "cell_type": "code",
   "execution_count": 37,
   "metadata": {
    "collapsed": false
   },
   "outputs": [
    {
     "data": {
      "text/plain": [
       "True"
      ]
     },
     "execution_count": 37,
     "metadata": {},
     "output_type": "execute_result"
    }
   ],
   "source": [
    "# Using Boolean logic to see of this is indeed correct\n",
    "y.adjoint() * L.adjoint() * x == x.adjoint() * L * y"
   ]
  },
  {
   "cell_type": "code",
   "execution_count": 38,
   "metadata": {
    "collapsed": false
   },
   "outputs": [
    {
     "data": {
      "text/latex": [
       "$$\\left ( \\left[\\begin{matrix}- i & 1\\end{matrix}\\right], \\quad \\left[\\begin{matrix}- i & 1\\end{matrix}\\right]\\right )$$"
      ],
      "text/plain": [
       "([-ⅈ  1], [-ⅈ  1])"
      ]
     },
     "execution_count": 38,
     "metadata": {},
     "output_type": "execute_result"
    }
   ],
   "source": [
    "Dagger(x), x.adjoint() # Note the bars on top of the element to\n",
    "# remind us that we are dealing with the complex conjugate\n",
    "# Note also that the function Dagger() and the method .adjoint()\n",
    "# are equivalent here"
   ]
  },
  {
   "cell_type": "markdown",
   "metadata": {},
   "source": [
    "Let's see why Hermitian operators are so important!"
   ]
  },
  {
   "cell_type": "markdown",
   "metadata": {},
   "source": [
    "### The eigenvalues of Hermitian operators are real"
   ]
  },
  {
   "cell_type": "markdown",
   "metadata": {},
   "source": [
    "Why are we interested in these special matrices called Hermitian matrices?  Well, we use them in QM because they work beautifully as physical observables.  One of the properties that make them so useful is that their eigenvalues are always real numbers.  Here is the proof.  Suppose we have a Hermitian operation $ A $ with eigenvalue $ \\lambda $ and eigenvector $ \\left| \\lambda \\right> $:\n",
    "$$ A \\left| \\lambda \\right> = \\lambda \\left| \\lambda \\right> \\\\ \\left< \\lambda \\right| {A}^{\\dagger} = \\left< \\lambda \\right|{\\lambda}^{*} \\\\ \\because A = {A}^{\\dagger} \\\\ A \\left| \\lambda \\right> = \\lambda \\left| \\lambda \\right>, \\quad \\left< \\lambda \\right| A = \\left< \\lambda \\right| {\\lambda}^{*}  $$"
   ]
  },
  {
   "cell_type": "markdown",
   "metadata": {},
   "source": [
    "If we multiply the last two equations throughtout each seperately $ \\left< \\lambda \\right| $ and $ \\left| \\lambda \\right> $ we have:\n",
    "$$ \\left< \\lambda \\right| {A} \\left| \\lambda \\right> = \\lambda \\left< \\lambda | \\lambda \\right> \\\\ \\left< \\lambda \\right| {A} \\left| \\lambda \\right> = {\\lambda}^{*} \\left< \\lambda | \\lambda \\right> $$"
   ]
  },
  {
   "cell_type": "markdown",
   "metadata": {},
   "source": [
    "This means $ \\lambda = {\\lambda}^{*} $, which is only possible with $ \\lambda \\in  $ &#8477;."
   ]
  },
  {
   "cell_type": "code",
   "execution_count": 39,
   "metadata": {
    "collapsed": false
   },
   "outputs": [
    {
     "data": {
      "text/latex": [
       "$$\\left \\{ 1 : 1, \\quad 2 : 1\\right \\}$$"
      ],
      "text/plain": [
       "{1: 1, 2: 1}"
      ]
     },
     "execution_count": 39,
     "metadata": {},
     "output_type": "execute_result"
    }
   ],
   "source": [
    "# From our Hermitian operator L above we have the following eigenvalues\n",
    "L.eigenvals()\n",
    "# The solution below states a single eigenvalue of 1 {1:1} and another single eigenvalue of 2 {2:1}"
   ]
  },
  {
   "cell_type": "markdown",
   "metadata": {},
   "source": [
    "### Any vector a Hermitian operator can generate can be expanded as a sum of its eigenvectors"
   ]
  },
  {
   "cell_type": "markdown",
   "metadata": {},
   "source": [
    "### The eigenvectors associated with two separate eigenvalues of a Hermitian operator are orthogonal"
   ]
  },
  {
   "cell_type": "markdown",
   "metadata": {},
   "source": [
    "Here's the proof:\n",
    "$$ A \\left| {\\lambda}_{1} \\right> = {\\lambda}_{1} \\left| {\\lambda}_{1} \\right> \\\\ A \\left| {\\lambda}_{2} \\right> = {\\lambda}_{2} \\left| {\\lambda}_{2} \\right> \\\\ \\because A = {A}^{\\dagger} \\\\ \\left< {\\lambda}_{1} \\right| A = {\\lambda}_{1} \\left< {\\lambda}_{1} \\right| \\\\ A \\left| {\\lambda}_{2} \\right> = {\\lambda}_{2} \\left| {\\lambda}_{2} \\right> $$"
   ]
  },
  {
   "cell_type": "markdown",
   "metadata": {},
   "source": [
    "For the last two equation we'll multiply individually with $ \\left| {\\lambda}_{2} \\right> $ and $ \\left< {\\lambda}_{1} \\right| $:\n",
    "$$ \\left< { \\lambda  }_{ 1 } \\right| A\\left| { \\lambda  }_{ 2 } \\right> ={ \\lambda  }_{ 1 }\\left< { \\lambda  }_{ 1 }|{ \\lambda  }_{ 2 } \\right> \\\\ \\left< { \\lambda  }_{ 1 } \\right| A\\left| { \\lambda  }_{ 2 } \\right> ={ \\lambda  }_{ 2 }\\left< { \\lambda  }_{ 1 }|{ \\lambda  }_{ 2 } \\right> \\\\ { \\lambda  }_{ 1 }\\left< { \\lambda  }_{ 1 }|{ \\lambda  }_{ 2 } \\right> -{ \\lambda  }_{ 2 }\\left< { \\lambda  }_{ 1 }|{ \\lambda  }_{ 2 } \\right> =\\left< { \\lambda  }_{ 1 } \\right| A\\left| { \\lambda  }_{ 2 } \\right> -\\left< { \\lambda  }_{ 1 } \\right| A\\left| { \\lambda  }_{ 2 } \\right> \\\\ { \\lambda  }_{ 1 }\\left< { \\lambda  }_{ 1 }|{ \\lambda  }_{ 2 } \\right> -{ \\lambda  }_{ 2 }\\left< { \\lambda  }_{ 1 }|{ \\lambda  }_{ 2 } \\right> =0\\\\ \\left( { \\lambda  }_{ 1 }-{ \\lambda  }_{ 2 } \\right) \\left< { \\lambda  }_{ 1 }|{ \\lambda  }_{ 2 } \\right> =0\\\\ \\because \\quad { \\lambda  }_{ 1 }\\neq { \\lambda  }_{ 2 }\\\\ \\left< { \\lambda  }_{ 1 }|{ \\lambda  }_{ 2 } \\right> =0  $$"
   ]
  },
  {
   "cell_type": "markdown",
   "metadata": {},
   "source": [
    "This is only possible if the eigenvectors are orthogonal."
   ]
  },
  {
   "cell_type": "markdown",
   "metadata": {},
   "source": [
    "What happens when $ {\\lambda}_{1} = {\\lambda}_{2} $?  Well, the eigenvectors can be chosen to be orthogonal."
   ]
  },
  {
   "cell_type": "markdown",
   "metadata": {},
   "source": [
    "Consider the following : $ {A} \\left| {\\lambda}_{1} \\right> = \\lambda \\left| {\\lambda}_{1} \\right> \\\\ {A} \\left| {\\lambda}_{2} \\right> = \\lambda \\left| {\\lambda}_{2} \\right> $."
   ]
  },
  {
   "cell_type": "markdown",
   "metadata": {},
   "source": [
    "We have two distinct eigenvectors, $ \\left| {\\lambda}_{1} \\right> $ and $ \\left| {\\lambda}_{2} \\right> $.  Let's create a linear combination of them (which is also an eigenvector), $ \\left| C \\right> = \\alpha \\left| {\\lambda}_{1} \\right> + \\beta \\left| {\\lambda}_{2} \\right> $.  Now we can operate on both sides with $ A $."
   ]
  },
  {
   "cell_type": "markdown",
   "metadata": {},
   "source": [
    "$ A \\left| C \\right> =\\alpha A\\left| { \\lambda  }_{ 1 } \\right> +\\beta A\\left| { \\lambda  }_{ 2 } \\right> \\\\ A\\left| C \\right> =\\alpha \\lambda \\left| { \\lambda  }_{ 1 } \\right> +\\beta \\left| { \\lambda  }_{ 2 } \\right> \\\\ A\\left| C \\right> =\\lambda \\left( \\alpha \\left| { \\lambda  }_{ 1 } \\right> +\\beta \\left| { \\lambda  }_{ 2 } \\right>  \\right) =\\lambda \\left| C \\right>  $"
   ]
  },
  {
   "cell_type": "markdown",
   "metadata": {},
   "source": [
    "If we have eigenvectors that are not orthonormal, but spans a space (i.e. is what is called a degenerate state), we can construct such a set to span the same space.<br>\n",
    "It is done through the *Gram-Schmidt* procedure.  Simply project $ {\\underline U}_{2} $ onto the unit vector, $ {\\hat {u}}_{1} $ of $ {\\underline {U}}_{1} $ by taking the innerproduct of $ {\\underline {U}}_{1} $ and $ {\\hat {u}}_{1} $."
   ]
  },
  {
   "cell_type": "markdown",
   "metadata": {},
   "source": [
    "$ { \\hat { u }  }_{ 1 }=\\frac { { \\underline { U }  }_{ 1 } }{ \\left| { \\underline { U }  }_{ 1 } \\right|  } \\\\ { \\underline { U }  }_{ 2 }={ \\underline { U }  }_{ 2\\bot  }+\\left< { \\underline { U }  }_{ 2 }|{ \\hat { u }  }_{ 1 } \\right> \\\\ { \\underline { U }  }_{ 2\\bot  }={ \\underline { U }  }_{ 2 }-\\left< { \\underline { U }  }_{ 2 }|{ \\hat { u }  }_{ 1 } \\right> \\\\ { \\hat { u }  }_{ 2 }=\\frac { { \\underline { U }  }_{ 2\\bot  } }{ \\left| { \\underline { U }  }_{ 2\\bot  } \\right|  }  $"
   ]
  },
  {
   "cell_type": "markdown",
   "metadata": {},
   "source": [
    "## Commuting operators"
   ]
  },
  {
   "cell_type": "markdown",
   "metadata": {},
   "source": [
    "+ In general, two operator do not commute:\n",
    "$$ {LM} \\neq {ML} $$\n",
    "+ Applying operator L, then M is not the same as applying M, then L\n",
    "+ These operators have commutators, which we write as follows:\n",
    "$$ [L,M] = LM - ML $$"
   ]
  },
  {
   "cell_type": "markdown",
   "metadata": {},
   "source": [
    "+ Obviously some operators do commute\n",
    "+ This is the same as saying their commutator is zero: [L,M] = 0\n",
    "    + First off, they commute if they are the same\n",
    "    $$ [L,L] = 0 $$\n",
    "+ We also note that for two separate operators, we have the following\n",
    "$$ [L,M]=-[M,L] $$"
   ]
  },
  {
   "cell_type": "markdown",
   "metadata": {},
   "source": [
    "+ Commutators are linear\n",
    "$$ A\\left( { c }_{ 1 }\\left|\\psi \\right>+{ c }_{ 2 }\\left|\\psi \\right> \\right) ={ c }_{ 1 }A\\left|\\psi \\right>+{ c }_{ 2 }A\\left|\\psi \\right>\\\\ \\left[ A,B+C+D+\\dots  \\right] =\\left[ A,B \\right] +\\left[ A,C \\right] +\\left[ A,D \\right] +\\dots  $$"
   ]
  },
  {
   "cell_type": "markdown",
   "metadata": {},
   "source": [
    "+ Then there is the anti-commutator:\n",
    "$$ \\left\\{ {A,B} \\right\\}=AB+BA $$"
   ]
  },
  {
   "cell_type": "markdown",
   "metadata": {},
   "source": [
    "+ Lastly we have the Hermitian adjoint of the commutator:\n",
    "$$ { \\left[ A,B \\right]  }^{ \\dagger  }=\\left[ { B }^{ \\dagger  },{ A }^{ \\dagger } \\right]  $$\n",
    "+ If the operators are Hermitian operators (A<sup>&dagger;</sup> = A), then:\n",
    "$$ { \\left[ A,B \\right]  }^{ \\dagger  }=-\\left[ A,B \\right] $$"
   ]
  },
  {
   "cell_type": "markdown",
   "metadata": {},
   "source": [
    "+ There is some sympy code for this"
   ]
  },
  {
   "cell_type": "code",
   "execution_count": 37,
   "metadata": {
    "collapsed": true
   },
   "outputs": [],
   "source": [
    "from sympy.physics.quantum import Operator, Commutator"
   ]
  },
  {
   "cell_type": "code",
   "execution_count": 38,
   "metadata": {
    "collapsed": false
   },
   "outputs": [],
   "source": [
    "A = Operator('A')\n",
    "B = Operator('B')"
   ]
  },
  {
   "cell_type": "code",
   "execution_count": 39,
   "metadata": {
    "collapsed": false
   },
   "outputs": [
    {
     "data": {
      "text/latex": [
       "$$\\left[A,B\\right]$$"
      ],
      "text/plain": [
       "[A,B]"
      ]
     },
     "execution_count": 39,
     "metadata": {},
     "output_type": "execute_result"
    }
   ],
   "source": [
    "Commutator(A, B)"
   ]
  },
  {
   "cell_type": "code",
   "execution_count": 40,
   "metadata": {
    "collapsed": false
   },
   "outputs": [
    {
     "data": {
      "text/latex": [
       "$$A B - B A$$"
      ],
      "text/plain": [
       "A⋅B - B⋅A"
      ]
     },
     "execution_count": 40,
     "metadata": {},
     "output_type": "execute_result"
    }
   ],
   "source": [
    "Commutator(A, B).doit() # The .doit() method executes the Commutator"
   ]
  },
  {
   "cell_type": "code",
   "execution_count": 41,
   "metadata": {
    "collapsed": false
   },
   "outputs": [
    {
     "data": {
      "text/latex": [
       "$$- \\left[A^{\\dagger},B^{\\dagger}\\right]$$"
      ],
      "text/plain": [
       " ⎡ †  †⎤\n",
       "-⎣A ,B ⎦"
      ]
     },
     "execution_count": 41,
     "metadata": {},
     "output_type": "execute_result"
    }
   ],
   "source": [
    "Dagger(Commutator(A, B)) # Assuming they are not\n",
    "# Hermitian operators\n",
    "# If they were, we would just get -[A,B]"
   ]
  },
  {
   "cell_type": "code",
   "execution_count": 42,
   "metadata": {
    "collapsed": true
   },
   "outputs": [],
   "source": [
    "C = Operator('C')"
   ]
  },
  {
   "cell_type": "code",
   "execution_count": 43,
   "metadata": {
    "collapsed": false
   },
   "outputs": [
    {
     "data": {
      "text/latex": [
       "$$- \\left[B + C,A\\right]$$"
      ],
      "text/plain": [
       "-[B + C,A]"
      ]
     },
     "execution_count": 43,
     "metadata": {},
     "output_type": "execute_result"
    }
   ],
   "source": [
    "Commutator(A, B + C)"
   ]
  },
  {
   "cell_type": "code",
   "execution_count": 44,
   "metadata": {
    "collapsed": false
   },
   "outputs": [
    {
     "data": {
      "text/latex": [
       "$$- \\left(B + C\\right) A - A \\left(B + C\\right)$$"
      ],
      "text/plain": [
       "-((B + C)⋅A - A⋅(B + C))"
      ]
     },
     "execution_count": 44,
     "metadata": {},
     "output_type": "execute_result"
    }
   ],
   "source": [
    "Commutator(A, B + C).doit()"
   ]
  },
  {
   "cell_type": "markdown",
   "metadata": {
    "collapsed": true
   },
   "source": [
    "## A unitary operator (matrix)"
   ]
  },
  {
   "cell_type": "markdown",
   "metadata": {},
   "source": [
    "An operator is unitary if $ {A}^{\\dagger} = {A}^{-1} $ (the adjoint equals the inverse)."
   ]
  },
  {
   "cell_type": "markdown",
   "metadata": {},
   "source": [
    "If this is so, then $ {A}{A}^{\\dagger} = {I} $, the identity matrix.  It is often denoted with a $ U $ so that $ {U}{U}^{\\dagger} = {I} $."
   ]
  },
  {
   "cell_type": "markdown",
   "metadata": {},
   "source": [
    "The product of two unitary matrices is also unitary."
   ]
  },
  {
   "cell_type": "markdown",
   "metadata": {},
   "source": [
    "Unitary operator have the following effect on bra and ket vectors (the prime signs denotes complex conjugation): $ U\\left|\\psi \\right>=\\left|\\psi '\\right>\\\\ \\left<\\psi \\right|{ U }^{ \\dagger }=\\left|\\psi '\\right> $.<br>\n",
    "Unitary operators also have the following effect on operators: $ {U}{A}{U}^{\\dagger} = {A} $.<br>\n",
    "The eigenvalues of $ A $ and its unitary transformed version $ {U}{A}{U}^{\\dagger} = {A} $ UAU<sup>&dagger;</sup> = A', are the same,<br>\n",
    "+ If an operator is Hermitian, the its unitary transformed version, A', is also Hermitian\n",
    "+ Commutators that are equal to complex numbers are unchanged by unitary transformations\n",
    "$$ \\left[ A':B' \\right] =\\left[ A:B \\right]  $$"
   ]
  },
  {
   "cell_type": "markdown",
   "metadata": {
    "collapsed": true
   },
   "source": [
    "## Practical example"
   ]
  },
  {
   "cell_type": "markdown",
   "metadata": {},
   "source": [
    "+ Dirac notation works well for explaining light polarization\n",
    "+ In the first image below, we shine unpolarized as a vertically oriented slit, with only vertically polarized light exiting beyond\n",
    "+ Light then passes through another similarly oriented slit and all of the light passes through\n",
    "+ Not so when the polarized light encounters a slit that is orthogonal to the first"
   ]
  },
  {
   "cell_type": "code",
   "execution_count": 45,
   "metadata": {
    "collapsed": true
   },
   "outputs": [],
   "source": [
    "# Importing Image for the display submodules of the\n",
    "# IPython module\n",
    "from IPython.display import Image"
   ]
  },
  {
   "cell_type": "code",
   "execution_count": 46,
   "metadata": {
    "collapsed": false
   },
   "outputs": [
    {
     "data": {
      "image/png": "[encoded data removed]",
      "text/plain": [
       "<IPython.core.display.Image object>"
      ]
     },
     "execution_count": 46,
     "metadata": {},
     "output_type": "execute_result"
    }
   ],
   "source": [
    "# Displaying an image to the screen\n",
    "# This image is in the same folder as this IPython notebook\n",
    "# file, which allows you to omit the folder path\n",
    "Image('Photon_slit_1.png')"
   ]
  },
  {
   "cell_type": "markdown",
   "metadata": {},
   "source": [
    "+ The energy of the light (its frequency and wavelength) does not change; there is just less photons\n",
    "+ There is a probability of any photon going through\n",
    "+ Turns out it is the *cos*<sup>2</sup> of the angle to the incident polarized light"
   ]
  },
  {
   "cell_type": "markdown",
   "metadata": {},
   "source": [
    "+ The cosine might give you a clue as to where this is going\n",
    "+ Remember the geometric equation for the dot product?\n",
    "$$ \\underline { a } \\cdot \\underline { b } =\\left\\| \\underline { a }  \\right\\| \\left\\| \\underline { b }  \\right\\| \\cos { \\theta  }  $$\n",
    "+ We can set this up with two column vectors for the slits (without explaining why)\n",
    "+ I'll use the computer variable name *vert_slit* for the vertical slit and call is vector **y** and *hor_slit* for the horizontal slit and call it vector **x**\n",
    "+ Note that by this choice, they are already normalized (length of one)"
   ]
  },
  {
   "cell_type": "code",
   "execution_count": 47,
   "metadata": {
    "collapsed": false
   },
   "outputs": [
    {
     "data": {
      "text/latex": [
       "$$\\left ( \\left[\\begin{matrix}0\\\\1\\end{matrix}\\right], \\quad \\left[\\begin{matrix}1\\\\0\\end{matrix}\\right]\\right )$$"
      ],
      "text/plain": [
       "⎛⎡0⎤, ⎡1⎤⎞\n",
       "⎜⎢ ⎥  ⎢ ⎥⎟\n",
       "⎝⎣1⎦  ⎣0⎦⎠"
      ]
     },
     "execution_count": 47,
     "metadata": {},
     "output_type": "execute_result"
    }
   ],
   "source": [
    "vert_slit = Matrix([[0], [1]])\n",
    "hor_slit = Matrix([[1], [0]])\n",
    "vert_slit, hor_slit"
   ]
  },
  {
   "cell_type": "markdown",
   "metadata": {},
   "source": [
    "+ Let's look at <*y*|*y*>; the photon going through two vertical slits"
   ]
  },
  {
   "cell_type": "code",
   "execution_count": 48,
   "metadata": {
    "collapsed": false
   },
   "outputs": [
    {
     "data": {
      "text/latex": [
       "$$\\left[\\begin{matrix}1\\end{matrix}\\right]$$"
      ],
      "text/plain": [
       "[1]"
      ]
     },
     "execution_count": 48,
     "metadata": {},
     "output_type": "execute_result"
    }
   ],
   "source": [
    "vert_slit.adjoint() * vert_slit"
   ]
  },
  {
   "cell_type": "markdown",
   "metadata": {},
   "source": [
    "+ The solution is 1 (representing 100%), because the angle between the two is 0<sup>o</sup>"
   ]
  },
  {
   "cell_type": "markdown",
   "metadata": {},
   "source": [
    "+ Now, let's look at the second experiment: <*y*|*x*>"
   ]
  },
  {
   "cell_type": "code",
   "execution_count": 49,
   "metadata": {
    "collapsed": false
   },
   "outputs": [
    {
     "data": {
      "text/latex": [
       "$$\\left[\\begin{matrix}0\\end{matrix}\\right]$$"
      ],
      "text/plain": [
       "[0]"
      ]
     },
     "execution_count": 49,
     "metadata": {},
     "output_type": "execute_result"
    }
   ],
   "source": [
    "vert_slit.adjoint() * hor_slit"
   ]
  },
  {
   "cell_type": "markdown",
   "metadata": {},
   "source": [
    "+ No photon goes through (0%), again because *cos* 90<sup>o</sup> = 0"
   ]
  },
  {
   "cell_type": "markdown",
   "metadata": {},
   "source": [
    "+ Now for some beautiful math!\n",
    "+ Remember\n",
    "$$ {H} \\left| \\psi \\right> = { \\lambda } \\left| \\psi \\right> $$\n",
    "+ There is a Hermitian operator, that when it acts on a state vector returns that state vector multiplied by a scalar\n",
    "+ The state vector turns out to be an eigenvector of H and *&lambda;* turns out to be an eigenvalue of H\n",
    "+ In our experiment *&psi;* is the eigenvector\n",
    "+ The eigenvalue *&lambda;* is the result of our experiment"
   ]
  },
  {
   "cell_type": "markdown",
   "metadata": {},
   "source": [
    "+ Let's construct just such a Hermitian matrix and give it the computer variable name Ex_1 for experiment 1\n",
    "+ I will omit the explanation for the choice of this particular matrix"
   ]
  },
  {
   "cell_type": "code",
   "execution_count": 50,
   "metadata": {
    "collapsed": false
   },
   "outputs": [
    {
     "data": {
      "text/latex": [
       "$$\\left [ \\left ( -1, \\quad 1, \\quad \\left [ \\left[\\begin{matrix}0\\\\1\\end{matrix}\\right]\\right ]\\right ), \\quad \\left ( 1, \\quad 1, \\quad \\left [ \\left[\\begin{matrix}1\\\\0\\end{matrix}\\right]\\right ]\\right )\\right ]$$"
      ],
      "text/plain": [
       "⎡⎛-1, 1, ⎡⎡0⎤⎤⎞, ⎛1, 1, ⎡⎡1⎤⎤⎞⎤\n",
       "⎢⎜       ⎢⎢ ⎥⎥⎟  ⎜      ⎢⎢ ⎥⎥⎟⎥\n",
       "⎣⎝       ⎣⎣1⎦⎦⎠  ⎝      ⎣⎣0⎦⎦⎠⎦"
      ]
     },
     "execution_count": 50,
     "metadata": {},
     "output_type": "execute_result"
    }
   ],
   "source": [
    "Ex_1 = Matrix([[1, 0], [0, -1]])\n",
    "Ex_1.eigenvects()"
   ]
  },
  {
   "cell_type": "markdown",
   "metadata": {},
   "source": [
    "+ It is Hermitian; we can check this with Boolean logic"
   ]
  },
  {
   "cell_type": "code",
   "execution_count": 51,
   "metadata": {
    "collapsed": false
   },
   "outputs": [
    {
     "data": {
      "text/latex": [
       "$$\\left ( \\left[\\begin{matrix}1 & 0\\\\0 & -1\\end{matrix}\\right], \\quad \\left[\\begin{matrix}1 & 0\\\\0 & -1\\end{matrix}\\right]\\right )$$"
      ],
      "text/plain": [
       "⎛⎡1  0 ⎤, ⎡1  0 ⎤⎞\n",
       "⎜⎢     ⎥  ⎢     ⎥⎟\n",
       "⎝⎣0  -1⎦  ⎣0  -1⎦⎠"
      ]
     },
     "execution_count": 51,
     "metadata": {},
     "output_type": "execute_result"
    }
   ],
   "source": [
    "Ex_1, Ex_1.adjoint()"
   ]
  },
  {
   "cell_type": "code",
   "execution_count": 52,
   "metadata": {
    "collapsed": false
   },
   "outputs": [
    {
     "data": {
      "text/plain": [
       "True"
      ]
     },
     "execution_count": 52,
     "metadata": {},
     "output_type": "execute_result"
    }
   ],
   "source": [
    "Ex_1 == Ex_1.adjoint()"
   ]
  },
  {
   "cell_type": "markdown",
   "metadata": {},
   "source": [
    "+ Let's look at the eigenvalue"
   ]
  },
  {
   "cell_type": "code",
   "execution_count": 53,
   "metadata": {
    "collapsed": false
   },
   "outputs": [
    {
     "data": {
      "text/latex": [
       "$$\\left \\{ -1 : 1, \\quad 1 : 1\\right \\}$$"
      ],
      "text/plain": [
       "{-1: 1, 1: 1}"
      ]
     },
     "execution_count": 53,
     "metadata": {},
     "output_type": "execute_result"
    }
   ],
   "source": [
    "Ex_1.adjoint().eigenvals()"
   ]
  },
  {
   "cell_type": "code",
   "execution_count": 54,
   "metadata": {
    "collapsed": false
   },
   "outputs": [
    {
     "data": {
      "text/latex": [
       "$$\\left [ \\left ( -1, \\quad 1, \\quad \\left [ \\left[\\begin{matrix}0\\\\1\\end{matrix}\\right]\\right ]\\right ), \\quad \\left ( 1, \\quad 1, \\quad \\left [ \\left[\\begin{matrix}1\\\\0\\end{matrix}\\right]\\right ]\\right )\\right ]$$"
      ],
      "text/plain": [
       "⎡⎛-1, 1, ⎡⎡0⎤⎤⎞, ⎛1, 1, ⎡⎡1⎤⎤⎞⎤\n",
       "⎢⎜       ⎢⎢ ⎥⎥⎟  ⎜      ⎢⎢ ⎥⎥⎟⎥\n",
       "⎣⎝       ⎣⎣1⎦⎦⎠  ⎝      ⎣⎣0⎦⎦⎠⎦"
      ]
     },
     "execution_count": 54,
     "metadata": {},
     "output_type": "execute_result"
    }
   ],
   "source": [
    "Ex_1.adjoint().eigenvects()"
   ]
  },
  {
   "cell_type": "markdown",
   "metadata": {},
   "source": [
    "+ *Ex_1* can acts on two states (the two eigenvectors) and depending on which one it encounters, we get a result (the eigenvalue)\n",
    "+ This eigenvalue is the only output we can actually get from our experiment\n",
    "+ We see that we can get a negative and a positive one (-1 and +1)\n",
    "+ I'll explain more about this setup, once we've looked at the next experiment"
   ]
  },
  {
   "cell_type": "markdown",
   "metadata": {},
   "source": [
    "+ What if the second slit is at an angle of 45<sup>o</sup> to the first"
   ]
  },
  {
   "cell_type": "code",
   "execution_count": 55,
   "metadata": {
    "collapsed": false
   },
   "outputs": [
    {
     "data": {
      "image/png": "[encoded data removed]",
      "text/plain": [
       "<IPython.core.display.Image object>"
      ]
     },
     "execution_count": 55,
     "metadata": {},
     "output_type": "execute_result"
    }
   ],
   "source": [
    "Image('Photon_slit_2.png')"
   ]
  },
  {
   "cell_type": "markdown",
   "metadata": {},
   "source": [
    "+ We have to construct a column matrix for this slit\n",
    "+ Note, that I drew it slanting left (backslash)\n",
    "+ You can well imaging that as a small vector in a Cartesian plane with *x*-axis value of -1 and *y*-axis value of 1\n",
    "$$ \\begin{bmatrix} -1 \\\\ 1 \\end{bmatrix} $$\n",
    "+ This would almost be there, we just have to normalize this vector (divide each element by the length of the vector)"
   ]
  },
  {
   "cell_type": "code",
   "execution_count": 56,
   "metadata": {
    "collapsed": false
   },
   "outputs": [
    {
     "data": {
      "text/latex": [
       "$$\\left[\\begin{matrix}- \\frac{\\sqrt{2}}{2}\\\\\\frac{\\sqrt{2}}{2}\\end{matrix}\\right]$$"
      ],
      "text/plain": [
       "⎡   ___ ⎤\n",
       "⎢-╲╱ 2  ⎥\n",
       "⎢───────⎥\n",
       "⎢   2   ⎥\n",
       "⎢       ⎥\n",
       "⎢   ___ ⎥\n",
       "⎢ ╲╱ 2  ⎥\n",
       "⎢ ───── ⎥\n",
       "⎣   2   ⎦"
      ]
     },
     "execution_count": 56,
     "metadata": {},
     "output_type": "execute_result"
    }
   ],
   "source": [
    "skew_slit = Matrix([[-1], [1]]).normalized()\n",
    "skew_slit"
   ]
  },
  {
   "cell_type": "markdown",
   "metadata": {},
   "source": [
    "+ Now, let's send it through a vertical slit then the skew slit\n",
    "+ What we get is the probability amplitude, which we have to square to get the probability"
   ]
  },
  {
   "cell_type": "code",
   "execution_count": 57,
   "metadata": {
    "collapsed": false
   },
   "outputs": [
    {
     "data": {
      "text/latex": [
       "$$\\left[\\begin{matrix}\\frac{\\sqrt{2}}{2}\\end{matrix}\\right]$$"
      ],
      "text/plain": [
       "⎡  ___⎤\n",
       "⎢╲╱ 2 ⎥\n",
       "⎢─────⎥\n",
       "⎣  2  ⎦"
      ]
     },
     "execution_count": 57,
     "metadata": {},
     "output_type": "execute_result"
    }
   ],
   "source": [
    "vert_slit.adjoint() * skew_slit"
   ]
  },
  {
   "cell_type": "code",
   "execution_count": 58,
   "metadata": {
    "collapsed": false
   },
   "outputs": [
    {
     "data": {
      "text/latex": [
       "$$\\left[\\begin{matrix}\\frac{1}{2}\\end{matrix}\\right]$$"
      ],
      "text/plain": [
       "[1/2]"
      ]
     },
     "execution_count": 58,
     "metadata": {},
     "output_type": "execute_result"
    }
   ],
   "source": [
    "(vert_slit.adjoint() * skew_slit) ** 2"
   ]
  },
  {
   "cell_type": "markdown",
   "metadata": {},
   "source": [
    "+ Indeed, the probability of a photon passing is now 50%"
   ]
  },
  {
   "cell_type": "markdown",
   "metadata": {},
   "source": [
    "+ Let's look at the Hermitian operator of skew slits"
   ]
  },
  {
   "cell_type": "code",
   "execution_count": 59,
   "metadata": {
    "collapsed": false
   },
   "outputs": [
    {
     "data": {
      "text/latex": [
       "$$\\left[\\begin{matrix}0 & 1\\\\1 & 0\\end{matrix}\\right]$$"
      ],
      "text/plain": [
       "⎡0  1⎤\n",
       "⎢    ⎥\n",
       "⎣1  0⎦"
      ]
     },
     "execution_count": 59,
     "metadata": {},
     "output_type": "execute_result"
    }
   ],
   "source": [
    "Ex_2 = Matrix([[0, 1], [1, 0]])\n",
    "Ex_2"
   ]
  },
  {
   "cell_type": "code",
   "execution_count": 60,
   "metadata": {
    "collapsed": false
   },
   "outputs": [
    {
     "data": {
      "text/latex": [
       "$$\\left[\\begin{matrix}0 & 1\\\\1 & 0\\end{matrix}\\right]$$"
      ],
      "text/plain": [
       "⎡0  1⎤\n",
       "⎢    ⎥\n",
       "⎣1  0⎦"
      ]
     },
     "execution_count": 60,
     "metadata": {},
     "output_type": "execute_result"
    }
   ],
   "source": [
    "Ex_2.adjoint()"
   ]
  },
  {
   "cell_type": "code",
   "execution_count": 61,
   "metadata": {
    "collapsed": false
   },
   "outputs": [
    {
     "data": {
      "text/plain": [
       "True"
      ]
     },
     "execution_count": 61,
     "metadata": {},
     "output_type": "execute_result"
    }
   ],
   "source": [
    "Ex_2 == Ex_2.adjoint()"
   ]
  },
  {
   "cell_type": "markdown",
   "metadata": {},
   "source": [
    "+ The computer variable *Ex_2* is a Hermitian operator and represents our experiment (also called an observable or a measurable)\n",
    "+ I will leave the explanation of how this particular operator was devised until later\n",
    "+ It can act on (at least) two states (the eigenvector states) and produce the same state as we started with and produce a result for that *eigenstate*, the eigenvalue\n",
    "    + A Hermitian matrix of at least size 2 &times; 2 will have at least two eigenvectors and eigenvalues\n",
    "    + The eigenvectors are orthogonal\n",
    "        + Every Hermitian operators will have its own eigenvectors; the states they can act on\n",
    "    + The eigenvalues represent the result of our experiment, i.e. we can attach two lights to our experiment\n",
    "        + If one eigenvalue is found one light goes on to indicate to us the particular result\n",
    "        + Other light would indicate other outcomes (eigenvalues)\n",
    "+ *Ex_2* represents an experiment with a slit receiving light ploraized at 45<sup>o</sup> to it"
   ]
  },
  {
   "cell_type": "code",
   "execution_count": 62,
   "metadata": {
    "collapsed": false
   },
   "outputs": [
    {
     "data": {
      "text/latex": [
       "$$\\left[\\begin{matrix}\\frac{\\sqrt{2}}{2}\\\\- \\frac{\\sqrt{2}}{2}\\end{matrix}\\right]$$"
      ],
      "text/plain": [
       "⎡   ___ ⎤\n",
       "⎢ ╲╱ 2  ⎥\n",
       "⎢ ───── ⎥\n",
       "⎢   2   ⎥\n",
       "⎢       ⎥\n",
       "⎢   ___ ⎥\n",
       "⎢-╲╱ 2  ⎥\n",
       "⎢───────⎥\n",
       "⎣   2   ⎦"
      ]
     },
     "execution_count": 62,
     "metadata": {},
     "output_type": "execute_result"
    }
   ],
   "source": [
    "Ex_2 * skew_slit"
   ]
  },
  {
   "cell_type": "markdown",
   "metadata": {},
   "source": [
    "+ So, we got back exactly the same eigenvector if we take the eigenvalue to be negative one (-1)"
   ]
  },
  {
   "cell_type": "markdown",
   "metadata": {},
   "source": [
    "+ Let's look at the eigenvalues and eigenvectors of *Ex_2*"
   ]
  },
  {
   "cell_type": "code",
   "execution_count": 63,
   "metadata": {
    "collapsed": false
   },
   "outputs": [
    {
     "data": {
      "text/latex": [
       "$$\\left [ \\left ( -1, \\quad 1, \\quad \\left [ \\left[\\begin{matrix}-1\\\\1\\end{matrix}\\right]\\right ]\\right ), \\quad \\left ( 1, \\quad 1, \\quad \\left [ \\left[\\begin{matrix}1\\\\1\\end{matrix}\\right]\\right ]\\right )\\right ]$$"
      ],
      "text/plain": [
       "⎡⎛-1, 1, ⎡⎡-1⎤⎤⎞, ⎛1, 1, ⎡⎡1⎤⎤⎞⎤\n",
       "⎢⎜       ⎢⎢  ⎥⎥⎟  ⎜      ⎢⎢ ⎥⎥⎟⎥\n",
       "⎣⎝       ⎣⎣1 ⎦⎦⎠  ⎝      ⎣⎣1⎦⎦⎠⎦"
      ]
     },
     "execution_count": 63,
     "metadata": {},
     "output_type": "execute_result"
    }
   ],
   "source": [
    "Ex_2.eigenvects()"
   ]
  },
  {
   "cell_type": "markdown",
   "metadata": {},
   "source": [
    "+ So, we have to pay attention here\n",
    "+ Indeed the first eigenvalue was negative one [(**-1**, 1, ...\n",
    "    + The result of our python™ code tells us that there is one such eigenvalue [(-1, **1**, ...\n",
    "    + It is associated a single eigenvector\n",
    "    + Note that it is:\n",
    "    $$ \\begin{bmatrix}-1\\\\1\\end{bmatrix} $$\n",
    "    + Don't let this bug you!\n",
    "    + Our *skew_slit* eigenvector is simply as scalar multiple of this!\n",
    "    + If we normalized the eigenvector we actually get our eigenvector!\n",
    "+ More so, the second eigenvectors (state) is:\n",
    "$$ \\begin{bmatrix}1\\\\1\\end{bmatrix} $$\n",
    "    + Again, normalizing it gives the other state for this Hermitian operator\n",
    "    + You guessed it, the *forward slash* slant\n",
    "    + It has a different outcome (eigenvalue = 1)\n",
    "+ In summary, our Hermitian operator can act on only two states and depending on what state it found we get a different experimental results (eigenvalue; perhaps, as I said, a light on our apparatus)"
   ]
  },
  {
   "cell_type": "markdown",
   "metadata": {
    "collapsed": true
   },
   "source": [
    "## To summarize"
   ]
  },
  {
   "cell_type": "markdown",
   "metadata": {},
   "source": [
    "+ Considering our photon polarization example above and from the previous chapter, we have:\n",
    "    + Preparing a photon in state |*y*> to go through slit |*x*> is given by the inner product:\n",
    "    $$ \\left<{x}|{y}\\right> $$\n",
    "    + Here <*x*| is the transpose of |*x*> with each element changed to its complex conjugate\n",
    "    + The inner product results in the probability amplitude\n",
    "    + We need to square it to get the probability:\n",
    "    $$ \\left< x|y \\right> { \\left< x|y \\right>  }^{ * }={ \\left| \\left< x|y \\right>  \\right|  }^{ 2 } $$"
   ]
  },
  {
   "cell_type": "markdown",
   "metadata": {},
   "source": [
    "+ For a slit of any angle *&theta;* we will have the following situation (bearing in mind that the length is always normalized to one)"
   ]
  },
  {
   "cell_type": "code",
   "execution_count": 64,
   "metadata": {
    "collapsed": false
   },
   "outputs": [
    {
     "data": {
      "image/png": "[encoded data removed]",
      "text/plain": [
       "<IPython.core.display.Image object>"
      ]
     },
     "execution_count": 64,
     "metadata": {},
     "output_type": "execute_result"
    }
   ],
   "source": [
    "Image(filename = 'Slit.png')"
   ]
  },
  {
   "cell_type": "markdown",
   "metadata": {},
   "source": [
    "+ For this our ket state vector will be:\n",
    "$$ \\left| \\theta \\right> = \\begin{bmatrix} \\cos \\theta \\\\ \\sin \\theta \\end{bmatrix} $$\n",
    "+ This can be written as:\n",
    "$$ \\cos \\theta \\left| x \\right> + \\sin \\theta \\left| y \\right> $$"
   ]
  },
  {
   "cell_type": "markdown",
   "metadata": {},
   "source": [
    "+ Look carefully again at |*x*>\n",
    "$$ \\left| x \\right> = \\begin{bmatrix}1\\\\0\\end{bmatrix} \\\\ \\left| x \\right> = 1 \\left| x \\right> + 0 \\left| y \\right> $$\n",
    "+ It reads:\n",
    "    + The probability of a horizontally polarized photon going through a horizontal slit is 1<sup>2</sup> (we have to square)\n",
    "    + The probability amplitude was thus 1 and the probability 1<sup>2</sup>\n",
    "+ So, with probability amplitude of a horizontally polarized photon going through a slit at *&theta;* angles to the horizontal is cos*&theta;*, with the probability of cos<sup>2</sup>*&theta;*"
   ]
  },
  {
   "cell_type": "markdown",
   "metadata": {},
   "source": [
    "+ With our 45<sup>o</sup> skew slit we would have the situation:\n",
    "$$ \\begin{bmatrix} \\frac { -\\sqrt { 2 }  }{ 2 }  \\\\ \\frac { \\sqrt { 2 }  }{ 2 }  \\end{bmatrix}=\\frac { -\\sqrt { 2 }  }{ 2 } \\left|x\\right>+\\frac { \\sqrt { 2 }  }{ 2 } \\left|y\\right>\\\\ \\begin{bmatrix} \\frac { -\\sqrt { 2 }  }{ 2 }  \\\\ \\frac { \\sqrt { 2 }  }{ 2 }  \\end{bmatrix}=\\frac { -\\sqrt { 2 }  }{ 2 } \\begin{bmatrix} 1 \\\\ 0 \\end{bmatrix}+\\frac { \\sqrt { 2 }  }{ 2 } \\begin{bmatrix} 0 \\\\ 1 \\end{bmatrix} $$\n",
    "+ Being horizontally polarized then going through the skew slit would have a probability amplitude of:\n",
    "$$ \\frac { -\\sqrt { 2 }  }{ 2 } $$\n",
    "+ This is a probability of &frac12;\n",
    "+ Being vertically polarized then going through the skew slit would have a probability amplitude of:\n",
    "$$ \\frac { \\sqrt { 2 }  }{ 2 } $$\n",
    "+ This is a probability of &frac12;"
   ]
  },
  {
   "cell_type": "code",
   "execution_count": null,
   "metadata": {
    "collapsed": true
   },
   "outputs": [],
   "source": []
  }
 ],
 "metadata": {
  "kernelspec": {
   "display_name": "Python 3",
   "language": "python",
   "name": "python3"
  },
  "language_info": {
   "codemirror_mode": {
    "name": "ipython",
    "version": 3
   },
   "file_extension": ".py",
   "mimetype": "text/x-python",
   "name": "python",
   "nbconvert_exporter": "python",
   "pygments_lexer": "ipython3",
   "version": "3.5.0"
  }
 },
 "nbformat": 4,
 "nbformat_minor": 0
}
