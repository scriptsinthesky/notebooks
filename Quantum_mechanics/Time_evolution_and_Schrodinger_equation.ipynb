{
 "cells": [
  {
   "cell_type": "markdown",
   "metadata": {},
   "source": [
    "<a rel=\"license\" href=\"http://creativecommons.org/licenses/by-nc/4.0/\"><img alt=\"Creative Commons License\" style=\"border-width:0\" src=\"https://i.creativecommons.org/l/by-nc/4.0/88x31.png\" /></a><br /><span xmlns:dct=\"http://purl.org/dc/terms/\" property=\"dct:title\">Introduction to quantum mechanics</span> by <span xmlns:cc=\"http://creativecommons.org/ns#\" property=\"cc:attributionName\">Dr Juan H Klopper</span> is licensed under a <a rel=\"license\" href=\"http://creativecommons.org/licenses/by-nc/4.0/\">Creative Commons Attribution-NonCommercial 4.0 International License</a>."
   ]
  },
  {
   "cell_type": "code",
   "execution_count": 1,
   "metadata": {
    "collapsed": false
   },
   "outputs": [
    {
     "data": {
      "text/html": [
       "<link href='http://fonts.googleapis.com/css?family=Alegreya+Sans:100,300,400,500,700,800,900,100italic,300italic,400italic,500italic,700italic,800italic,900italic' rel='stylesheet' type='text/css'>\n",
       "<link href='http://fonts.googleapis.com/css?family=Arvo:400,700,400italic' rel='stylesheet' type='text/css'>\n",
       "<link href='http://fonts.googleapis.com/css?family=PT+Mono' rel='stylesheet' type='text/css'>\n",
       "<link href='http://fonts.googleapis.com/css?family=Shadows+Into+Light' rel='stylesheet' type='text/css'>\n",
       "<link href='http://fonts.googleapis.com/css?family=Philosopher:400,700,400italic,700italic' rel='stylesheet' type='text/css'>\n",
       "\n",
       "<style>\n",
       "\n",
       "@font-face {\n",
       "    font-family: \"Computer Modern\";\n",
       "    src: url('http://mirrors.ctan.org/fonts/cm-unicode/fonts/otf/cmunss.otf');\n",
       "}\n",
       "\n",
       "#notebook_panel { /* main background */\n",
       "    background: #ddd;\n",
       "    color: #000000;\n",
       "}\n",
       "\n",
       "\n",
       "\n",
       "/* Formatting for header cells */\n",
       ".text_cell_render h1 {\n",
       "    font-family: 'Philosopher', sans-serif;\n",
       "    font-weight: 400;\n",
       "    font-size: 2.2em;\n",
       "    line-height: 100%;\n",
       "    color: rgb(0, 80, 120);\n",
       "    margin-bottom: 0.1em;\n",
       "    margin-top: 0.1em;\n",
       "    display: block;\n",
       "}\t\n",
       ".text_cell_render h2 {\n",
       "    font-family: 'Philosopher', serif;\n",
       "    font-weight: 400;\n",
       "    font-size: 1.9em;\n",
       "    line-height: 100%;\n",
       "    color: rgb(200,100,0);\n",
       "    margin-bottom: 0.1em;\n",
       "    margin-top: 0.1em;\n",
       "    display: block;\n",
       "}\t\n",
       "\n",
       ".text_cell_render h3 {\n",
       "    font-family: 'Philosopher', serif;\n",
       "    margin-top:12px;\n",
       "    margin-bottom: 3px;\n",
       "    font-style: italic;\n",
       "    color: rgb(94,127,192);\n",
       "}\n",
       "\n",
       ".text_cell_render h4 {\n",
       "    font-family: 'Philosopher', serif;\n",
       "}\n",
       "\n",
       ".text_cell_render h5 {\n",
       "    font-family: 'Alegreya Sans', sans-serif;\n",
       "    font-weight: 300;\n",
       "    font-size: 16pt;\n",
       "    color: grey;\n",
       "    font-style: italic;\n",
       "    margin-bottom: .1em;\n",
       "    margin-top: 0.1em;\n",
       "    display: block;\n",
       "}\n",
       "\n",
       ".text_cell_render h6 {\n",
       "    font-family: 'PT Mono', sans-serif;\n",
       "    font-weight: 300;\n",
       "    font-size: 10pt;\n",
       "    color: grey;\n",
       "    margin-bottom: 1px;\n",
       "    margin-top: 1px;\n",
       "}\n",
       "\n",
       ".CodeMirror{\n",
       "        font-family: \"PT Mono\";\n",
       "        font-size: 100%;\n",
       "}\n",
       "\n",
       "</style>\n",
       "\n"
      ],
      "text/plain": [
       "<IPython.core.display.HTML object>"
      ]
     },
     "execution_count": 1,
     "metadata": {},
     "output_type": "execute_result"
    }
   ],
   "source": [
    "from IPython.core.display import HTML, Image\n",
    "css_file = 'style.css'\n",
    "HTML(open(css_file, 'r').read())"
   ]
  },
  {
   "cell_type": "code",
   "execution_count": 2,
   "metadata": {
    "collapsed": true
   },
   "outputs": [],
   "source": [
    "from sympy import init_printing # Latex printing to screen\n",
    "from warnings import filterwarnings # Ignoring ugly pink warnings"
   ]
  },
  {
   "cell_type": "code",
   "execution_count": 3,
   "metadata": {
    "collapsed": true
   },
   "outputs": [],
   "source": [
    "init_printing(use_latex = 'mathjax')\n",
    "filterwarnings('ignore')"
   ]
  },
  {
   "cell_type": "markdown",
   "metadata": {
    "collapsed": true
   },
   "source": [
    "# Time evolution and the Schr&ouml;dinger equation"
   ]
  },
  {
   "cell_type": "markdown",
   "metadata": {},
   "source": [
    "## The story so far"
   ]
  },
  {
   "cell_type": "markdown",
   "metadata": {},
   "source": [
    "+ We started off by looking at vectors and introduced Dirac notation\n",
    "+ This helped us along with explaining dice-space and how we could construct a system that gave us a result, the expectation value\n",
    "+ We have done quite a bit of math, mainly vector-based and recently had our first look at the Schr&ouml;dinger equation and some operators"
   ]
  },
  {
   "cell_type": "markdown",
   "metadata": {},
   "source": [
    "+ Of note, we have the following\n",
    "    + We can completely describe the state of a quantum object by a wavefunction *&psi;*(*x*,*t*)\n",
    "    + We have observables (linear operators) constructed so that when they act on a wavefunction we get back the wavefunction multiplied by a result, the eigenvalue\n",
    "        + It is useful to think back at rotation matrices in linear algebra\n",
    "        + When multiplying a vector by a rotational matrix, we rotate the vector in a different direction\n",
    "        + Operators are special in that (in this case of rotation) they actually do not change the direction of the vectors, the eigenvalue is a scalar which may just shorten or lengthen the vector\n",
    "        + They are very special *matrices* in that regard\n",
    "        + The eigenvectors and eigenvalues are natural or innate properties (from the German meaning of eigen) of these matrices\n",
    "        + We could also say that an operator is endowed with a special set of eigenfunctions and eigenvalues\n",
    "        + Do not at this stage get confused between the (column) vectors mentioned and functions\n",
    "        + In these early discussions on the Schr&ouml;dinger equation we are dealing with a wavefunction that contain complex values\n",
    "    $$ \\hat{A} {\\varphi}_{a} \\left( x \\right) = a {\\varphi}_{a} \\left( x \\right) $$\n",
    "            + This equation refers to an operator acting on its eigenfuction to result an a scalar multiple of its eigenfunction (think of a matrix acting on its eigenvector; here in stead of an eigenvector we have an eigenfunction)\n",
    "    + Then we have the superposition principle where a wavefunction can be expressed as the sum of lineary independent wavefunctions\n",
    "    $$ \\sum _{ a }^{  }{ { C }_{ a }{ \\varphi  }_{ a }\\left( x \\right)  }  $$\n",
    "        + This means that we can have a state of a quantum system or a description of a quantum system that is a linear combination of other states / descriptions\n",
    "        + Here *C*<sub>a</sub> is an expansion coefficient\n",
    "        + Think of an electron that is not in one state, nor in another, but in a superposition of states\n",
    "        + So think of an observable such as linear momentum; this observable has an operator; this operator is very special in that it has a (a set of) eigenfunctions, such that the product of the operator and its (on of its) eigenfunction(s) results in a scalar multiple of that (those) eigenfunction(s)\n",
    "        + Furthermore, these eigenfunctions are basis functions, i.e. they form the basis of a space, such that a linear combination of them will results (by the superposition principle) a new wavefunction\n",
    "    + What the expansion coefficients describe is the probability of measuring an operator to be a specific eigenvalue (*A* = *a*) and it is the norm squared of the expansion coefficient\n",
    "    $$ \\mathbb{P} \\left( A = a \\right) = {\\left| {C}_{a} \\right|}^{2} $$\n",
    "        + The coefficients depend on the (plain wave) function (a wave with definite momentum) that we are dealing with\n",
    "        + That is the probability of the momentum being the associated eigenvalue *a*\n",
    "    $$ {C}_{a} = \\left( {\\varphi}_{a} | \\psi \\right) \\equiv \\int _{ -\\infty  }^{ \\infty  }{ dx } { \\varphi  }_{ a }^{ * }{ \\left( x \\right) \\psi  }_{ a }\\left( x \\right)  $$\n",
    "    + If we now measure some observable *A* we will see one eigenvalue and it changes the wavefunction into a specific eigenfunction\n",
    "        + This is the collapse of the wavefunction\n",
    "    + Finally, given the quantum sate of a system described by a wavefuntion, &Psi;(*x*,*t*), we can determine the time evolution of that function (its time derivative) in the following way:\n",
    "    $$ \\frac { \\partial  }{ \\partial t } \\psi \\left( x,t \\right) =\\frac { 1 }{ i\\hbar  } \\hat { E } \\psi \\left( x,t \\right)  $$\n",
    "        + Here we have the energy operator"
   ]
  },
  {
   "cell_type": "markdown",
   "metadata": {},
   "source": [
    "## Starting with time evolution"
   ]
  },
  {
   "cell_type": "markdown",
   "metadata": {},
   "source": [
    "+ Some initial statements about the Schr&ouml;dinger equation\n",
    "    + Surprisingly the Schr&ouml;dinger equation evolves in time in a linear fashion\n",
    "        + If there are two (or more) solutions to the equation, say *&psi;*(*x*,*t*)<sub>1</sub> and *&psi;*(*x*,*t*)<sub>2</sub>, then a linear combination of them is also a solution (think back to an introductory course solving systems differential equations)\n",
    "        $$ \\alpha{\\psi}_{1} + \\beta {\\psi}_{2} = \\Psi $$\n",
    "    + It is unitary, i.e. it conserves probability (if we evolve it in time, the probability must still sum to one)\n",
    "    + The system is deterministic\n",
    "        + If I have absolute knowledge of the system I can predict the system in any point in time"
   ]
  },
  {
   "cell_type": "markdown",
   "metadata": {
    "collapsed": true
   },
   "source": [
    "## Our first example with energy eigenfunctions"
   ]
  },
  {
   "cell_type": "markdown",
   "metadata": {},
   "source": [
    "+ The Schr&ouml;dinger equation can be solved by methods for solving a linear differential equation\n",
    "+ Let's start with a simple wavefunction at *t*<sub>0</sub>\n",
    "$$ \\psi \\left( x,0 \\right) = {\\varphi}_{E} \\left( x \\right) $$\n",
    "    + With *&phi;*<sub>E</sub>(*x*) we refer to a function when acted upon by the energy operator returns an energy value, *E*, times the function\n",
    "    $$ \\hat{E} {\\varphi}_{E} \\left( x \\right) = E {\\varphi}_{E} \\left( x \\right) $$\n",
    "+ A simple example would be of an harmonic oscillator\n",
    "$$ E = \\frac{{p}^{2}}{2m}+\\frac{m{\\omega}^{2}}{2}{x}^{2} $$\n",
    "    + Alas, we are dealing with operators, so the above becomes\n",
    "    $$ \\hat E = \\frac{{p}^{2}}{2m}+\\frac{m{\\omega}^{2}}{2}{\\hat x}^{2} $$\n",
    "+ This allows the following derivation starting with the Schr&ouml;dinger equation\n",
    "$$ i\\hbar \\frac { \\partial  }{ \\partial t } \\psi \\left( x,t \\right) =\\hat { E } \\psi \\left( x,t \\right) \\\\ \\because \\quad \\hat { E } =\\frac { { \\hat { p }  }^{ 2 } }{ 2m } +\\frac { m{ \\omega  }^{ 2 } }{ 2 } { \\hat { x }  }^{ 2 }\\\\ i\\hbar \\frac { \\partial  }{ \\partial t } \\psi \\left( x,t \\right) =\\frac { { \\hat { p }  }^{ 2 } }{ 2m } \\psi \\left( x,t \\right) +\\frac { m{ \\omega  }^{ 2 } }{ 2 } { \\hat { x }  }^{ 2 }\\psi \\left( x,t \\right) \\\\ \\because \\quad p\\quad =\\quad \\frac { \\hbar  }{ i } \\frac { \\partial  }{ \\partial x } \\\\ i\\hbar \\frac { \\partial  }{ \\partial t } \\psi \\left( x,t \\right) =-\\frac { { \\hbar  }^{ 2 } }{ 2m } \\frac { { \\partial  }^{ 2 } }{ \\partial { x }^{ 2 } } \\psi \\left( x,t \\right) +\\frac { m{ \\omega  }^{ 2 } }{ 2 } { x }^{ 2 }\\psi \\left( x,t \\right)  $$"
   ]
  },
  {
   "cell_type": "markdown",
   "metadata": {
    "collapsed": true
   },
   "source": [
    "+ Any definite system has some definite energy operator just as any classic mechanical system has a specific force applied to it\n",
    "+ Since we are dealing with a differential equation, we may have an initial value, i.e. given a specific energy operator, there are many ways to solve this differnetial equation\n",
    "    + The first is through brute force\n",
    "    + Use proper analysis from your understanding the equation\n",
    "    + Use numerical techniques"
   ]
  },
  {
   "cell_type": "markdown",
   "metadata": {},
   "source": [
    "### Example of the above with an intial value for time"
   ]
  },
  {
   "cell_type": "markdown",
   "metadata": {},
   "source": [
    "+ Consider the following energy eigenfunction at time, *t* = 0\n",
    "$$ \\psi\\left(x,0\\right)={\\phi}_{E}\\left(x\\right) $$\n",
    "+ Here we have the function *&phi;*(*x*) such that when the energy operator acts on it we get the value *E*\n",
    "$$ \\hat E {\\phi}_{E}\\left(x\\right) = E {\\phi}_{E}\\left(x\\right) $$\n",
    "+ Note how the probability of finding the system at some energy value *E* at *t* = 0 is 100%\n",
    "+ Even if some phase was attached to *t* = 0, the norm squared of a phase is still 1 (probability is 100%)\n",
    "$$ \\hat E {\\phi}_{E}\\left(x\\right) = {e}^{i\\alpha}E {\\phi}_{E}\\left(x\\right) $$\n",
    "+ The Schr&ouml;dinger equation now states the following (with the energy operator acting on the wavefunction)\n",
    "$$ i\\hbar \\frac{\\partial}{\\partial t}\\psi\\left(x,0\\right) = E\\psi\\left(x,0\\right) \\\\ \\frac{\\partial}{\\partial t}\\psi\\left(x,0\\right) = -\\frac{iE}{\\hbar}\\phi\\left(x,0\\right) $$\n",
    "+ This is easy to solve for *t* = 0\n",
    "$$ \\psi\\left(x,t\\right)={e}^{-i\\frac{Et}{\\hbar}}\\psi\\left(x,0\\right) \\\\ \\psi\\left(x,t\\right)={e}^{-i\\frac{Et}{\\hbar}}{\\phi}_{E}\\left(x\\right) $$"
   ]
  },
  {
   "cell_type": "code",
   "execution_count": null,
   "metadata": {
    "collapsed": true
   },
   "outputs": [],
   "source": []
  }
 ],
 "metadata": {
  "kernelspec": {
   "display_name": "Python 3",
   "language": "python",
   "name": "python3"
  },
  "language_info": {
   "codemirror_mode": {
    "name": "ipython",
    "version": 3
   },
   "file_extension": ".py",
   "mimetype": "text/x-python",
   "name": "python",
   "nbconvert_exporter": "python",
   "pygments_lexer": "ipython3",
   "version": "3.4.1"
  }
 },
 "nbformat": 4,
 "nbformat_minor": 0
}
