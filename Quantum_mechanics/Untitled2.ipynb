{
 "cells": [
  {
   "cell_type": "code",
   "execution_count": 1,
   "metadata": {
    "collapsed": true
   },
   "outputs": [],
   "source": [
    "from sympy import symbols, oo, integrate, exp, Integral, init_printing, Matrix, sqrt, I, Piecewise, pi, N, sin\n",
    "from sympy.physics.quantum import Bra, Ket, InnerProduct"
   ]
  },
  {
   "cell_type": "code",
   "execution_count": 2,
   "metadata": {
    "collapsed": true
   },
   "outputs": [],
   "source": [
    "init_printing(use_latex = 'mathjax')\n",
    "#x = symbols('x')\n",
    "#c, a = symbols('c a', constant = True)"
   ]
  },
  {
   "cell_type": "code",
   "execution_count": 18,
   "metadata": {
    "collapsed": true
   },
   "outputs": [],
   "source": [
    "b = Bra('phi')\n",
    "k = Ket('psi')\n",
    "ip = b * k"
   ]
  },
  {
   "cell_type": "code",
   "execution_count": 19,
   "metadata": {
    "collapsed": false
   },
   "outputs": [
    {
     "data": {
      "text/latex": [
       "$$\\left ( {\\left\\langle \\phi\\right|}, \\quad {\\left|\\psi\\right\\rangle }\\right )$$"
      ],
      "text/plain": [
       "(⟨φ❘, ❘ψ⟩)"
      ]
     },
     "execution_count": 19,
     "metadata": {},
     "output_type": "execute_result"
    }
   ],
   "source": [
    "b, k"
   ]
  },
  {
   "cell_type": "code",
   "execution_count": 20,
   "metadata": {
    "collapsed": false
   },
   "outputs": [
    {
     "data": {
      "text/latex": [
       "$$\\left\\langle \\phi \\right. {\\left|\\psi\\right\\rangle }$$"
      ],
      "text/plain": [
       "⟨φ❘ψ⟩"
      ]
     },
     "execution_count": 20,
     "metadata": {},
     "output_type": "execute_result"
    }
   ],
   "source": [
    "ip"
   ]
  },
  {
   "cell_type": "code",
   "execution_count": 21,
   "metadata": {
    "collapsed": false
   },
   "outputs": [
    {
     "data": {
      "text/latex": [
       "$$\\left ( {\\left\\langle \\phi\\right|}, \\quad {\\left|\\psi\\right\\rangle }\\right )$$"
      ],
      "text/plain": [
       "(⟨φ❘, ❘ψ⟩)"
      ]
     },
     "execution_count": 21,
     "metadata": {},
     "output_type": "execute_result"
    }
   ],
   "source": [
    "ip.bra, ip.ket"
   ]
  },
  {
   "cell_type": "code",
   "execution_count": 22,
   "metadata": {
    "collapsed": false
   },
   "outputs": [
    {
     "data": {
      "text/latex": [
       "$${\\left|\\psi\\right\\rangle }{\\left\\langle \\phi\\right|} {\\left|\\psi\\right\\rangle } {\\left\\langle \\phi\\right|}$$"
      ],
      "text/plain": [
       "❘ψ⟩⟨φ❘⋅❘ψ⟩⋅⟨φ❘"
      ]
     },
     "execution_count": 22,
     "metadata": {},
     "output_type": "execute_result"
    }
   ],
   "source": [
    "k * b * k * b"
   ]
  },
  {
   "cell_type": "code",
   "execution_count": 23,
   "metadata": {
    "collapsed": false
   },
   "outputs": [
    {
     "data": {
      "text/latex": [
       "$$\\left\\langle \\phi \\right. {\\left|\\psi\\right\\rangle } {\\left|\\psi\\right\\rangle } {\\left\\langle \\phi\\right|}$$"
      ],
      "text/plain": [
       "⟨φ❘ψ⟩⋅❘ψ⟩⋅⟨φ❘"
      ]
     },
     "execution_count": 23,
     "metadata": {},
     "output_type": "execute_result"
    }
   ],
   "source": [
    "k * (b * k) * b"
   ]
  },
  {
   "cell_type": "code",
   "execution_count": 24,
   "metadata": {
    "collapsed": false
   },
   "outputs": [
    {
     "data": {
      "text/latex": [
       "$${\\left|\\psi\\right\\rangle }{\\left\\langle \\phi\\right|}$$"
      ],
      "text/plain": [
       "❘ψ⟩⟨φ❘"
      ]
     },
     "execution_count": 24,
     "metadata": {},
     "output_type": "execute_result"
    }
   ],
   "source": [
    "k * b"
   ]
  },
  {
   "cell_type": "code",
   "execution_count": 25,
   "metadata": {
    "collapsed": false
   },
   "outputs": [
    {
     "data": {
      "text/latex": [
       "$$\\mathcal{H}$$"
      ],
      "text/plain": [
       "H"
      ]
     },
     "execution_count": 25,
     "metadata": {},
     "output_type": "execute_result"
    }
   ],
   "source": [
    "k.hilbert_space"
   ]
  },
  {
   "cell_type": "code",
   "execution_count": 26,
   "metadata": {
    "collapsed": false
   },
   "outputs": [
    {
     "data": {
      "text/plain": [
       "False"
      ]
     },
     "execution_count": 26,
     "metadata": {},
     "output_type": "execute_result"
    }
   ],
   "source": [
    "k.is_commutative"
   ]
  },
  {
   "cell_type": "code",
   "execution_count": 28,
   "metadata": {
    "collapsed": false
   },
   "outputs": [
    {
     "data": {
      "text/latex": [
       "$$\\left ( \\psi\\right )$$"
      ],
      "text/plain": [
       "(ψ,)"
      ]
     },
     "execution_count": 28,
     "metadata": {},
     "output_type": "execute_result"
    }
   ],
   "source": [
    "k.label"
   ]
  },
  {
   "cell_type": "code",
   "execution_count": 30,
   "metadata": {
    "collapsed": false
   },
   "outputs": [
    {
     "data": {
      "text/latex": [
       "$${\\left\\langle \\psi\\right|}$$"
      ],
      "text/plain": [
       "⟨ψ❘"
      ]
     },
     "execution_count": 30,
     "metadata": {},
     "output_type": "execute_result"
    }
   ],
   "source": [
    "k.dual # The associated bra"
   ]
  },
  {
   "cell_type": "code",
   "execution_count": 31,
   "metadata": {
    "collapsed": true
   },
   "outputs": [],
   "source": [
    "from sympy.physics.quantum import TimeDepBra, TimeDepKet, TimeDepState"
   ]
  },
  {
   "cell_type": "code",
   "execution_count": 32,
   "metadata": {
    "collapsed": true
   },
   "outputs": [],
   "source": [
    "b = TimeDepBra('psi', 't')"
   ]
  },
  {
   "cell_type": "code",
   "execution_count": 33,
   "metadata": {
    "collapsed": false
   },
   "outputs": [
    {
     "data": {
      "text/latex": [
       "$${\\left\\langle \\psi;t\\right|}$$"
      ],
      "text/plain": [
       "⟨ψ;t❘"
      ]
     },
     "execution_count": 33,
     "metadata": {},
     "output_type": "execute_result"
    }
   ],
   "source": [
    "b"
   ]
  },
  {
   "cell_type": "code",
   "execution_count": 35,
   "metadata": {
    "collapsed": false
   },
   "outputs": [
    {
     "data": {
      "text/latex": [
       "$${\\left|\\psi;t\\right\\rangle }$$"
      ],
      "text/plain": [
       "❘ψ;t⟩"
      ]
     },
     "execution_count": 35,
     "metadata": {},
     "output_type": "execute_result"
    }
   ],
   "source": [
    "b.dual"
   ]
  },
  {
   "cell_type": "code",
   "execution_count": 36,
   "metadata": {
    "collapsed": false
   },
   "outputs": [
    {
     "data": {
      "text/latex": [
       "$$\\left\\langle \\psi;t \\right. {\\left|\\psi;t\\right\\rangle }$$"
      ],
      "text/plain": [
       "⟨ψ;t❘ψ;t⟩"
      ]
     },
     "execution_count": 36,
     "metadata": {},
     "output_type": "execute_result"
    }
   ],
   "source": [
    "b * b.dual"
   ]
  },
  {
   "cell_type": "code",
   "execution_count": 43,
   "metadata": {
    "collapsed": true
   },
   "outputs": [],
   "source": [
    "from sympy.physics.quantum.state import Wavefunction"
   ]
  },
  {
   "cell_type": "code",
   "execution_count": 44,
   "metadata": {
    "collapsed": false
   },
   "outputs": [],
   "source": [
    "x = symbols('x', real=True)\n",
    "\n",
    "n = 1\n",
    "L = 1\n",
    "g = Piecewise((0, x < 0), (0, x > L), (sqrt(2//L)*sin(n*pi*x/L), True))\n",
    "\n",
    "f = Wavefunction(g, x)"
   ]
  },
  {
   "cell_type": "code",
   "execution_count": 45,
   "metadata": {
    "collapsed": false
   },
   "outputs": [
    {
     "data": {
      "text/latex": [
       "$$\\begin{cases} 0 & \\text{for}\\: x > 1 \\vee x < 0 \\\\\\sqrt{2} \\sin{\\left (\\pi x \\right )} & \\text{otherwise} \\end{cases}$$"
      ],
      "text/plain": [
       "⎧      0         for x > 1 ∨ x < 0\n",
       "⎪                                 \n",
       "⎨  ___                            \n",
       "⎪╲╱ 2 ⋅sin(π⋅x)      otherwise    \n",
       "⎩                                 "
      ]
     },
     "execution_count": 45,
     "metadata": {},
     "output_type": "execute_result"
    }
   ],
   "source": [
    "g"
   ]
  },
  {
   "cell_type": "code",
   "execution_count": 46,
   "metadata": {
    "collapsed": false
   },
   "outputs": [
    {
     "data": {
      "text/latex": [
       "$$\\operatorname{Wavefunction}{\\left (\\begin{cases} 0 & \\text{for}\\: x > 1 \\vee x < 0 \\\\\\sqrt{2} \\sin{\\left (\\pi x \\right )} & \\text{otherwise} \\end{cases},x \\right )}$$"
      ],
      "text/plain": [
       "            ⎛⎧      0         for x > 1 ∨ x < 0   ⎞\n",
       "            ⎜⎪                                    ⎟\n",
       "Wavefunction⎜⎨  ___                            , x⎟\n",
       "            ⎜⎪╲╱ 2 ⋅sin(π⋅x)      otherwise       ⎟\n",
       "            ⎝⎩                                    ⎠"
      ]
     },
     "execution_count": 46,
     "metadata": {},
     "output_type": "execute_result"
    }
   ],
   "source": [
    "f"
   ]
  },
  {
   "cell_type": "code",
   "execution_count": 47,
   "metadata": {
    "collapsed": false
   },
   "outputs": [
    {
     "data": {
      "text/latex": [
       "$$1$$"
      ],
      "text/plain": [
       "1"
      ]
     },
     "execution_count": 47,
     "metadata": {},
     "output_type": "execute_result"
    }
   ],
   "source": [
    "f.norm"
   ]
  },
  {
   "cell_type": "code",
   "execution_count": 48,
   "metadata": {
    "collapsed": false
   },
   "outputs": [
    {
     "data": {
      "text/plain": [
       "True"
      ]
     },
     "execution_count": 48,
     "metadata": {},
     "output_type": "execute_result"
    }
   ],
   "source": [
    "f.is_normalized"
   ]
  },
  {
   "cell_type": "code",
   "execution_count": 49,
   "metadata": {
    "collapsed": true
   },
   "outputs": [],
   "source": [
    "p = f.prob()"
   ]
  },
  {
   "cell_type": "code",
   "execution_count": 51,
   "metadata": {
    "collapsed": false
   },
   "outputs": [
    {
     "data": {
      "text/latex": [
       "$$\\left ( 0, \\quad 0, \\quad 2 \\sin^{2}{\\left (0.85 \\pi \\right )}\\right )$$"
      ],
      "text/plain": [
       "⎛           2        ⎞\n",
       "⎝0, 0, 2⋅sin (0.85⋅π)⎠"
      ]
     },
     "execution_count": 51,
     "metadata": {},
     "output_type": "execute_result"
    }
   ],
   "source": [
    "p(0), p(L), p(0.85 * L)"
   ]
  },
  {
   "cell_type": "code",
   "execution_count": 52,
   "metadata": {
    "collapsed": false
   },
   "outputs": [
    {
     "data": {
      "text/latex": [
       "$$0.412214747707527$$"
      ],
      "text/plain": [
       "0.412214747707527"
      ]
     },
     "execution_count": 52,
     "metadata": {},
     "output_type": "execute_result"
    }
   ],
   "source": [
    "N(p(0.85 * L))"
   ]
  },
  {
   "cell_type": "code",
   "execution_count": 12,
   "metadata": {
    "collapsed": false
   },
   "outputs": [
    {
     "data": {
      "text/latex": [
       "$$\\left[\\begin{matrix}4 & 0\\\\3 & 4\\end{matrix}\\right]$$"
      ],
      "text/plain": [
       "⎡4  0⎤\n",
       "⎢    ⎥\n",
       "⎣3  4⎦"
      ]
     },
     "execution_count": 12,
     "metadata": {},
     "output_type": "execute_result"
    }
   ],
   "source": [
    "A = Matrix([[4, 0], [3, 4]])\n",
    "A"
   ]
  },
  {
   "cell_type": "code",
   "execution_count": 13,
   "metadata": {
    "collapsed": false
   },
   "outputs": [
    {
     "data": {
      "text/latex": [
       "$$\\left [ \\left ( 4, \\quad 2, \\quad \\left [ \\left[\\begin{matrix}0\\\\1\\end{matrix}\\right]\\right ]\\right )\\right ]$$"
      ],
      "text/plain": [
       "⎡⎛4, 2, ⎡⎡0⎤⎤⎞⎤\n",
       "⎢⎜      ⎢⎢ ⎥⎥⎟⎥\n",
       "⎣⎝      ⎣⎣1⎦⎦⎠⎦"
      ]
     },
     "execution_count": 13,
     "metadata": {},
     "output_type": "execute_result"
    }
   ],
   "source": [
    "A.eigenvects()"
   ]
  },
  {
   "cell_type": "code",
   "execution_count": 15,
   "metadata": {
    "collapsed": false
   },
   "outputs": [
    {
     "data": {
      "text/latex": [
       "$$\\left[\\begin{matrix}1\\\\0\\end{matrix}\\right]$$"
      ],
      "text/plain": [
       "⎡1⎤\n",
       "⎢ ⎥\n",
       "⎣0⎦"
      ]
     },
     "execution_count": 15,
     "metadata": {},
     "output_type": "execute_result"
    }
   ],
   "source": [
    "A_eig = Matrix([[1], [0]])\n",
    "#A_eig = Matrix([[-2 / (-(sqrt(33)) / 2 - (3 / 2))], [1]])\n",
    "A_eig"
   ]
  },
  {
   "cell_type": "code",
   "execution_count": 16,
   "metadata": {
    "collapsed": false
   },
   "outputs": [
    {
     "data": {
      "text/latex": [
       "$$\\left[\\begin{matrix}4\\\\3\\end{matrix}\\right]$$"
      ],
      "text/plain": [
       "⎡4⎤\n",
       "⎢ ⎥\n",
       "⎣3⎦"
      ]
     },
     "execution_count": 16,
     "metadata": {},
     "output_type": "execute_result"
    }
   ],
   "source": [
    "A * A_eig"
   ]
  },
  {
   "cell_type": "code",
   "execution_count": 3,
   "metadata": {
    "collapsed": false
   },
   "outputs": [
    {
     "data": {
      "text/latex": [
       "$$\\int_{-\\infty}^{\\infty} 3^{x^{2}}\\, dx$$"
      ],
      "text/plain": [
       "∞          \n",
       "⌠          \n",
       "⎮   ⎛ 2⎞   \n",
       "⎮   ⎝x ⎠   \n",
       "⎮  3     dx\n",
       "⌡          \n",
       "-∞         "
      ]
     },
     "execution_count": 3,
     "metadata": {},
     "output_type": "execute_result"
    }
   ],
   "source": [
    "integrate(3 **((x) ** 2), (x, -oo, oo))"
   ]
  },
  {
   "cell_type": "code",
   "execution_count": 4,
   "metadata": {
    "collapsed": false
   },
   "outputs": [
    {
     "data": {
      "text/latex": [
       "$$\\int_{-\\infty}^{\\infty} c^{\\left(- a + x\\right)^{2}}\\, dx$$"
      ],
      "text/plain": [
       "∞                 \n",
       "⌠                 \n",
       "⎮   ⎛        2⎞   \n",
       "⎮   ⎝(-a + x) ⎠   \n",
       "⎮  c            dx\n",
       "⌡                 \n",
       "-∞                "
      ]
     },
     "execution_count": 4,
     "metadata": {},
     "output_type": "execute_result"
    }
   ],
   "source": [
    "Integral(c ** ((x - a) ** 2), (x, -oo, oo))"
   ]
  },
  {
   "cell_type": "code",
   "execution_count": 15,
   "metadata": {
    "collapsed": false
   },
   "outputs": [
    {
     "data": {
      "text/latex": [
       "$$\\left[\\begin{matrix}4 & 2\\\\3 & 4\\end{matrix}\\right]$$"
      ],
      "text/plain": [
       "⎡4  2⎤\n",
       "⎢    ⎥\n",
       "⎣3  4⎦"
      ]
     },
     "execution_count": 15,
     "metadata": {},
     "output_type": "execute_result"
    }
   ],
   "source": [
    "A = Matrix([[4, 2], [3, 4]])\n",
    "A"
   ]
  },
  {
   "cell_type": "code",
   "execution_count": 16,
   "metadata": {
    "collapsed": false
   },
   "outputs": [
    {
     "data": {
      "text/latex": [
       "$$\\left \\{ - \\sqrt{6} + 4 : 1, \\quad \\sqrt{6} + 4 : 1\\right \\}$$"
      ],
      "text/plain": [
       "⎧    ___           ___       ⎫\n",
       "⎨- ╲╱ 6  + 4: 1, ╲╱ 6  + 4: 1⎬\n",
       "⎩                            ⎭"
      ]
     },
     "execution_count": 16,
     "metadata": {},
     "output_type": "execute_result"
    }
   ],
   "source": [
    "A.eigenvals()"
   ]
  },
  {
   "cell_type": "code",
   "execution_count": 17,
   "metadata": {
    "collapsed": false
   },
   "outputs": [
    {
     "data": {
      "text/latex": [
       "$$\\left [ \\left ( - \\sqrt{6} + 4, \\quad 1, \\quad \\left [ \\left[\\begin{matrix}- \\frac{\\sqrt{6}}{3}\\\\1\\end{matrix}\\right]\\right ]\\right ), \\quad \\left ( \\sqrt{6} + 4, \\quad 1, \\quad \\left [ \\left[\\begin{matrix}\\frac{\\sqrt{6}}{3}\\\\1\\end{matrix}\\right]\\right ]\\right )\\right ]$$"
      ],
      "text/plain": [
       "⎡⎛                ⎡⎡   ___ ⎤⎤⎞  ⎛              ⎡⎡  ___⎤⎤⎞⎤\n",
       "⎢⎜    ___         ⎢⎢-╲╱ 6  ⎥⎥⎟  ⎜  ___         ⎢⎢╲╱ 6 ⎥⎥⎟⎥\n",
       "⎢⎜- ╲╱ 6  + 4, 1, ⎢⎢───────⎥⎥⎟, ⎜╲╱ 6  + 4, 1, ⎢⎢─────⎥⎥⎟⎥\n",
       "⎢⎜                ⎢⎢   3   ⎥⎥⎟  ⎜              ⎢⎢  3  ⎥⎥⎟⎥\n",
       "⎢⎜                ⎢⎢       ⎥⎥⎟  ⎜              ⎢⎢     ⎥⎥⎟⎥\n",
       "⎣⎝                ⎣⎣   1   ⎦⎦⎠  ⎝              ⎣⎣  1  ⎦⎦⎠⎦"
      ]
     },
     "execution_count": 17,
     "metadata": {},
     "output_type": "execute_result"
    }
   ],
   "source": [
    "A.eigenvects()"
   ]
  },
  {
   "cell_type": "code",
   "execution_count": 3,
   "metadata": {
    "collapsed": false
   },
   "outputs": [
    {
     "data": {
      "text/latex": [
       "$$\\left[\\begin{matrix}3 & 0\\\\1 & 3\\end{matrix}\\right]$$"
      ],
      "text/plain": [
       "⎡3  0⎤\n",
       "⎢    ⎥\n",
       "⎣1  3⎦"
      ]
     },
     "execution_count": 3,
     "metadata": {},
     "output_type": "execute_result"
    }
   ],
   "source": [
    "newA = Matrix([[3, 0], [1, 3]])\n",
    "newA"
   ]
  },
  {
   "cell_type": "code",
   "execution_count": 4,
   "metadata": {
    "collapsed": false
   },
   "outputs": [
    {
     "data": {
      "text/latex": [
       "$$\\left \\{ 3 : 2\\right \\}$$"
      ],
      "text/plain": [
       "{3: 2}"
      ]
     },
     "execution_count": 4,
     "metadata": {},
     "output_type": "execute_result"
    }
   ],
   "source": [
    "newA.eigenvals()"
   ]
  },
  {
   "cell_type": "code",
   "execution_count": 5,
   "metadata": {
    "collapsed": false
   },
   "outputs": [
    {
     "data": {
      "text/latex": [
       "$$\\left [ \\left ( 3, \\quad 2, \\quad \\left [ \\left[\\begin{matrix}0\\\\1\\end{matrix}\\right]\\right ]\\right )\\right ]$$"
      ],
      "text/plain": [
       "⎡⎛3, 2, ⎡⎡0⎤⎤⎞⎤\n",
       "⎢⎜      ⎢⎢ ⎥⎥⎟⎥\n",
       "⎣⎝      ⎣⎣1⎦⎦⎠⎦"
      ]
     },
     "execution_count": 5,
     "metadata": {},
     "output_type": "execute_result"
    }
   ],
   "source": [
    "newA.eigenvects()"
   ]
  },
  {
   "cell_type": "code",
   "execution_count": 6,
   "metadata": {
    "collapsed": true
   },
   "outputs": [],
   "source": [
    "newA_eigenvec = Matrix([[0], [1]])"
   ]
  },
  {
   "cell_type": "code",
   "execution_count": 7,
   "metadata": {
    "collapsed": false
   },
   "outputs": [
    {
     "data": {
      "text/latex": [
       "$$\\left[\\begin{matrix}0\\\\3\\end{matrix}\\right]$$"
      ],
      "text/plain": [
       "⎡0⎤\n",
       "⎢ ⎥\n",
       "⎣3⎦"
      ]
     },
     "execution_count": 7,
     "metadata": {},
     "output_type": "execute_result"
    }
   ],
   "source": [
    "newA * newA_eigenvec"
   ]
  },
  {
   "cell_type": "code",
   "execution_count": 8,
   "metadata": {
    "collapsed": false
   },
   "outputs": [
    {
     "data": {
      "text/latex": [
       "$$9$$"
      ],
      "text/plain": [
       "9"
      ]
     },
     "execution_count": 8,
     "metadata": {},
     "output_type": "execute_result"
    }
   ],
   "source": [
    "newA.det()"
   ]
  },
  {
   "cell_type": "code",
   "execution_count": null,
   "metadata": {
    "collapsed": true
   },
   "outputs": [],
   "source": []
  }
 ],
 "metadata": {
  "kernelspec": {
   "display_name": "Python 3",
   "language": "python",
   "name": "python3"
  },
  "language_info": {
   "codemirror_mode": {
    "name": "ipython",
    "version": 3
   },
   "file_extension": ".py",
   "mimetype": "text/x-python",
   "name": "python",
   "nbconvert_exporter": "python",
   "pygments_lexer": "ipython3",
   "version": "3.4.3"
  }
 },
 "nbformat": 4,
 "nbformat_minor": 0
}
