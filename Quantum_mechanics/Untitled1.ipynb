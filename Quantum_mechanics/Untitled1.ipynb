{
 "cells": [
  {
   "cell_type": "markdown",
   "metadata": {},
   "source": [
    "<a rel=\"license\" href=\"http://creativecommons.org/licenses/by-nc/4.0/\"><img alt=\"Creative Commons License\" style=\"border-width:0\" src=\"https://i.creativecommons.org/l/by-nc/4.0/88x31.png\" /></a><br /><span xmlns:dct=\"http://purl.org/dc/terms/\" property=\"dct:title\">Introduction to quantum mechanics</span> by <span xmlns:cc=\"http://creativecommons.org/ns#\" property=\"cc:attributionName\">Dr Juan H Klopper</span> is licensed under a <a rel=\"license\" href=\"http://creativecommons.org/licenses/by-nc/4.0/\">Creative Commons Attribution-NonCommercial 4.0 International License</a>."
   ]
  },
  {
   "cell_type": "code",
   "execution_count": 1,
   "metadata": {
    "collapsed": false
   },
   "outputs": [
    {
     "data": {
      "text/html": [
       "<link href='http://fonts.googleapis.com/css?family=Alegreya+Sans:100,300,400,500,700,800,900,100italic,300italic,400italic,500italic,700italic,800italic,900italic' rel='stylesheet' type='text/css'>\n",
       "<link href='http://fonts.googleapis.com/css?family=Arvo:400,700,400italic' rel='stylesheet' type='text/css'>\n",
       "<link href='http://fonts.googleapis.com/css?family=PT+Mono' rel='stylesheet' type='text/css'>\n",
       "<link href='http://fonts.googleapis.com/css?family=Shadows+Into+Light' rel='stylesheet' type='text/css'>\n",
       "<link href='http://fonts.googleapis.com/css?family=Philosopher:400,700,400italic,700italic' rel='stylesheet' type='text/css'>\n",
       "\n",
       "<style>\n",
       "\n",
       "@font-face {\n",
       "    font-family: \"Computer Modern\";\n",
       "    src: url('http://mirrors.ctan.org/fonts/cm-unicode/fonts/otf/cmunss.otf');\n",
       "}\n",
       "\n",
       "#notebook_panel { /* main background */\n",
       "    background: #ddd;\n",
       "    color: #000000;\n",
       "}\n",
       "\n",
       "\n",
       "\n",
       "/* Formatting for header cells */\n",
       ".text_cell_render h1 {\n",
       "    font-family: 'Philosopher', sans-serif;\n",
       "    font-weight: 400;\n",
       "    font-size: 2.2em;\n",
       "    line-height: 100%;\n",
       "    color: rgb(0, 80, 120);\n",
       "    margin-bottom: 0.1em;\n",
       "    margin-top: 0.1em;\n",
       "    display: block;\n",
       "}\t\n",
       ".text_cell_render h2 {\n",
       "    font-family: 'Philosopher', serif;\n",
       "    font-weight: 400;\n",
       "    font-size: 1.9em;\n",
       "    line-height: 100%;\n",
       "    color: rgb(200,100,0);\n",
       "    margin-bottom: 0.1em;\n",
       "    margin-top: 0.1em;\n",
       "    display: block;\n",
       "}\t\n",
       "\n",
       ".text_cell_render h3 {\n",
       "    font-family: 'Philosopher', serif;\n",
       "    margin-top:12px;\n",
       "    margin-bottom: 3px;\n",
       "    font-style: italic;\n",
       "    color: rgb(94,127,192);\n",
       "}\n",
       "\n",
       ".text_cell_render h4 {\n",
       "    font-family: 'Philosopher', serif;\n",
       "}\n",
       "\n",
       ".text_cell_render h5 {\n",
       "    font-family: 'Alegreya Sans', sans-serif;\n",
       "    font-weight: 300;\n",
       "    font-size: 16pt;\n",
       "    color: grey;\n",
       "    font-style: italic;\n",
       "    margin-bottom: .1em;\n",
       "    margin-top: 0.1em;\n",
       "    display: block;\n",
       "}\n",
       "\n",
       ".text_cell_render h6 {\n",
       "    font-family: 'PT Mono', sans-serif;\n",
       "    font-weight: 300;\n",
       "    font-size: 10pt;\n",
       "    color: grey;\n",
       "    margin-bottom: 1px;\n",
       "    margin-top: 1px;\n",
       "}\n",
       "\n",
       ".CodeMirror{\n",
       "        font-family: \"PT Mono\";\n",
       "        font-size: 100%;\n",
       "}\n",
       "\n",
       "</style>\n",
       "\n"
      ],
      "text/plain": [
       "<IPython.core.display.HTML object>"
      ]
     },
     "execution_count": 1,
     "metadata": {},
     "output_type": "execute_result"
    }
   ],
   "source": [
    "from IPython.core.display import HTML, Image\n",
    "#css_file = 'style.css'\n",
    "#HTML(open(css_file, 'r').read())\n",
    "#css_file = 'style.css'\n",
    "HTML(open('style.css', 'r').read())"
   ]
  },
  {
   "cell_type": "code",
   "execution_count": 2,
   "metadata": {
    "collapsed": true
   },
   "outputs": [],
   "source": [
    "from sympy import init_printing\n",
    "from warnings import filterwarnings"
   ]
  },
  {
   "cell_type": "code",
   "execution_count": 3,
   "metadata": {
    "collapsed": true
   },
   "outputs": [],
   "source": [
    "init_printing(use_latex = 'mathjax')\n",
    "filterwarnings('ignore')"
   ]
  },
  {
   "cell_type": "code",
   "execution_count": null,
   "metadata": {
    "collapsed": true
   },
   "outputs": [],
   "source": []
  },
  {
   "cell_type": "markdown",
   "metadata": {},
   "source": [
    "An operator in quantum mechanics (QM) serves the purpose of an observable, something that can be measured, such as quantum spin.  They are represented as matrices with special properties as we have introduced them so far.  These properties make them ideal for this purpose of being measurables."
   ]
  },
  {
   "cell_type": "markdown",
   "metadata": {},
   "source": [
    "Linearity was the first property we considered."
   ]
  },
  {
   "cell_type": "markdown",
   "metadata": {},
   "source": [
    "Secondly, to be a useful description of QM, they must be Hermitian in nature, i.e. a matrix equal to it  Hermitian conjugate (transpose and change each elemnt to its complex conjugate (change imaginary part by multiplying it with $ -1  $."
   ]
  },
  {
   "cell_type": "markdown",
   "metadata": {},
   "source": [
    "Thirdly, these observable matrices (linear, Hermitian matrices) had eigenvectors.  There is a complex vectors space in which these eigenvectors exist.  An eigenvector in this space represents a state of the system.  If a system is in a particlar state (being an eigenvector of the observable), the result of a measurement is the particular eigenvalue that belongs to that eigenvector."
   ]
  },
  {
   "cell_type": "markdown",
   "metadata": {},
   "source": [
    "These eigenvalues represent the only possible outcomes that can be measured.  Remember the quantum spin example.  The only possible outcomes we $ +1 $ and $ -1 $.  We represented observing the quantum spin in three direction as $ {\\sigma}_{x} $, $ {\\sigma}_{y} $, and $  {\\sigma}_{z} $.  For the $ z $-axis we had a states up and down, represented by state vector, $ \\left| u \\right> $ and $ \\left| d \\right> $."
   ]
  },
  {
   "cell_type": "markdown",
   "metadata": {},
   "source": [
    "If the system was prepared for an outcome of $ +1 $ along the positive $ z $-direction we would have the measurable represented by $ {\\sigma}_{z} $, the state of quantum spin represented by $ \\left| u \\right> $ and the outcome as the eigenvalue $ +1 $.  The state vector $ \\left| d \\right> $ would be another eigenvector of the operator (observable / measurable) $ {\\sigma}_{z} $ and for this prepared system would always return and eigenvalue of $ +1 $."
   ]
  },
  {
   "cell_type": "markdown",
   "metadata": {},
   "source": [
    "This works out beautifully, because of we did this experiment, that is indeed what we would find.  For this prepared system we would now also get probable outcomes for observables in other directions.  The observable for quantum spin in the $ x $-direction, $ {\\sigma}_{x} $ would have state vectors (represented by eigenvectors), $ \\left| r \\right> $ and $ \\left| l \\right> $.  The eigenvalues would also be $ +1 $ and $ -1 $, but probabilistically so."
   ]
  },
  {
   "cell_type": "markdown",
   "metadata": {},
   "source": [
    "Note also the hidden beauty between state vectors such as $ \\left| u \\right> $ and $ \\left| d \\right> $.  Using the measurable $ {\\sigma}_{z} $ we can know in which state the system is.  This is because $ \\left< u | d \\right> = 0 $.  Not so for $ \\left| u \\right> $ and $ \\left| r \\right> $ for instance.  The observable $ {\\sigma}_{z} $ will give us an eigenvalue for $ \\left| u \\right> $ and $ \\left| d \\right> $.  This, though, means that there is a 50:50 chance of $ \\left| r \\right> $ having initially being $ +1 $."
   ]
  },
  {
   "cell_type": "markdown",
   "metadata": {},
   "source": [
    "Let's put this explanation differently.  We have a system prepared in a state, $ \\left| s \\right> $.  The observable $ A $ for this system is measured.  The outcome of this measurement will be one of the eigenvalues of $ A $.  Let's name them $ {\\lambda}_{i} $.  Each $ {\\lambda}_{i} $ has a probability of being the outcome.  The probability of each can be measured by the equation, $ P \\left( {\\lambda}_{i} \\right) = {\\left| {\\left< A | {\\lambda}_{i} \\right>} \\right|}^{2} $, which is $ P \\left( {\\lambda}_{i} \\right) = {\\left< A | {\\lambda}_{i} \\right>}{\\left< {\\lambda}_{i} | A \\right>} $.  This fits beautifully with the dice space we created initially.  We have to square the dot product and that example also showed the expectation value."
   ]
  },
  {
   "cell_type": "markdown",
   "metadata": {},
   "source": [
    "## Constructing our first observable, $ {\\sigma}_{z} $"
   ]
  },
  {
   "cell_type": "markdown",
   "metadata": {},
   "source": [
    "We had an observable $ {\\sigma}_{z} $ and two state vector $ \\left| u \\right> $ and $ \\left| d \\right> $.  They had corresponding eigenvalues (outcomes) of $ +1 $ and $ -1 $.  If prepared properly, we have:"
   ]
  },
  {
   "cell_type": "markdown",
   "metadata": {},
   "source": [
    "$ { \\sigma  }_{ z }\\left| u \\right> =+1\\left| u \\right> \\\\ { \\sigma  }_{ z }\\left| d \\right> =-1\\left| d \\right>  $"
   ]
  },
  {
   "cell_type": "markdown",
   "metadata": {},
   "source": [
    "We know that $ \\left| u \\right> $ and $ \\left| d \\right> $ must be orthogonal so that $ \\left< u | d \\right> = 0 $.  We can now write out the following:"
   ]
  },
  {
   "cell_type": "markdown",
   "metadata": {},
   "source": [
    "$ { \\sigma  }_{ z }=\\begin{pmatrix} { \\left( { \\sigma  }_{ z } \\right)  }_{ 11 } & { \\left( { \\sigma  }_{ z } \\right)  }_{ 12 } \\\\ { \\left( { \\sigma  }_{ z } \\right)  }_{ 21 } & { \\left( { \\sigma  }_{ z } \\right)  }_{ 22 } \\end{pmatrix} \\\\ \\begin{pmatrix} { \\left( { \\sigma  }_{ z } \\right)  }_{ 11 } & { \\left( { \\sigma  }_{ z } \\right)  }_{ 12 } \\\\ { \\left( { \\sigma  }_{ z } \\right)  }_{ 21 } & { \\left( { \\sigma  }_{ z } \\right)  }_{ 22 } \\end{pmatrix}\\begin{pmatrix} 1 \\\\ 0 \\end{pmatrix}=+1\\begin{pmatrix} 1 \\\\ 0 \\end{pmatrix}\\\\ \\begin{pmatrix} { \\left( { \\sigma  }_{ z } \\right)  }_{ 11 } & { \\left( { \\sigma  }_{ z } \\right)  }_{ 12 } \\\\ { \\left( { \\sigma  }_{ z } \\right)  }_{ 21 } & { \\left( { \\sigma  }_{ z } \\right)  }_{ 22 } \\end{pmatrix}\\begin{pmatrix} 0 \\\\ 1 \\end{pmatrix}=-1\\begin{pmatrix} 0 \\\\ 1 \\end{pmatrix} $"
   ]
  },
  {
   "cell_type": "markdown",
   "metadata": {},
   "source": [
    "The only solution for $ {\\sigma}_{z} $ is :"
   ]
  },
  {
   "cell_type": "markdown",
   "metadata": {},
   "source": [
    "$ \\begin{pmatrix} 1 & 0 \\\\ 0 & -1 \\end{pmatrix} $"
   ]
  },
  {
   "cell_type": "code",
   "execution_count": 28,
   "metadata": {
    "collapsed": true
   },
   "outputs": [],
   "source": [
    "from sympy import Matrix, sqrt, I, symbols, sin, cos"
   ]
  },
  {
   "cell_type": "code",
   "execution_count": 15,
   "metadata": {
    "collapsed": true
   },
   "outputs": [],
   "source": [
    "sigmaz = Matrix([[1, 0], [0, 1]])\n",
    "u = Matrix([[1], [0]])\n",
    "d = Matrix([[0], [1]])"
   ]
  },
  {
   "cell_type": "code",
   "execution_count": 16,
   "metadata": {
    "collapsed": false
   },
   "outputs": [
    {
     "data": {
      "text/latex": [
       "$$\\left[\\begin{matrix}0\\end{matrix}\\right]$$"
      ],
      "text/plain": [
       "[0]"
      ]
     },
     "execution_count": 16,
     "metadata": {},
     "output_type": "execute_result"
    }
   ],
   "source": [
    "d.adjoint() * u"
   ]
  },
  {
   "cell_type": "code",
   "execution_count": 17,
   "metadata": {
    "collapsed": false
   },
   "outputs": [
    {
     "data": {
      "text/latex": [
       "$$\\left \\{ 1 : 2\\right \\}$$"
      ],
      "text/plain": [
       "{1: 2}"
      ]
     },
     "execution_count": 17,
     "metadata": {},
     "output_type": "execute_result"
    }
   ],
   "source": [
    "sigmaz.eigenvals()"
   ]
  },
  {
   "cell_type": "code",
   "execution_count": 18,
   "metadata": {
    "collapsed": false
   },
   "outputs": [
    {
     "data": {
      "text/latex": [
       "$$\\left [ \\left ( 1, \\quad 2, \\quad \\left [ \\left[\\begin{matrix}1\\\\0\\end{matrix}\\right], \\quad \\left[\\begin{matrix}0\\\\1\\end{matrix}\\right]\\right ]\\right )\\right ]$$"
      ],
      "text/plain": [
       "⎡⎛1, 2, ⎡⎡1⎤, ⎡0⎤⎤⎞⎤\n",
       "⎢⎜      ⎢⎢ ⎥  ⎢ ⎥⎥⎟⎥\n",
       "⎣⎝      ⎣⎣0⎦  ⎣1⎦⎦⎠⎦"
      ]
     },
     "execution_count": 18,
     "metadata": {},
     "output_type": "execute_result"
    }
   ],
   "source": [
    "sigmaz.eigenvects()"
   ]
  },
  {
   "cell_type": "markdown",
   "metadata": {},
   "source": [
    "If $ \\left| r \\right> $ and $ \\left| l \\right> $ are linear superpositions of $ \\left| u \\right> $ and $ \\left| d \\right> $ as follows:"
   ]
  },
  {
   "cell_type": "markdown",
   "metadata": {},
   "source": [
    "$ \\left| r \\right> =\\frac { 1 }{ \\sqrt { 2 }  } \\left| u \\right> +\\frac { 1 }{ \\sqrt { 2 }  } \\left| d \\right> =\\begin{pmatrix} \\frac { 1 }{ \\sqrt { 2 }  }  \\\\ \\frac { 1 }{ \\sqrt { 2 }  }  \\end{pmatrix}\\\\ \\left| l \\right> =\\frac { 1 }{ \\sqrt { 2 }  } \\left| u \\right> -\\frac { 1 }{ \\sqrt { 2 }  } \\left| d \\right> =\\begin{pmatrix} \\frac { 1 }{ \\sqrt { 2 }  }  \\\\ \\frac { -1 }{ \\sqrt { 2 }  }  \\end{pmatrix} $"
   ]
  },
  {
   "cell_type": "markdown",
   "metadata": {},
   "source": [
    "This would results in $ {\\sigma}_{x} $ being:"
   ]
  },
  {
   "cell_type": "markdown",
   "metadata": {},
   "source": [
    "$ { \\sigma  }_{ x }=\\begin{pmatrix} 0 & 1 \\\\ 1 & 0 \\end{pmatrix} $"
   ]
  },
  {
   "cell_type": "code",
   "execution_count": 23,
   "metadata": {
    "collapsed": true
   },
   "outputs": [],
   "source": [
    "sigmax = Matrix([[0, 1], [1, 0]])\n",
    "r = Matrix([[1 / sqrt(2)], [1 / sqrt(2)]])\n",
    "l = Matrix([[1 / sqrt(2)], [-1 / sqrt(2)]])"
   ]
  },
  {
   "cell_type": "code",
   "execution_count": 22,
   "metadata": {
    "collapsed": false
   },
   "outputs": [
    {
     "data": {
      "text/latex": [
       "$$\\left[\\begin{matrix}0\\end{matrix}\\right]$$"
      ],
      "text/plain": [
       "[0]"
      ]
     },
     "execution_count": 22,
     "metadata": {},
     "output_type": "execute_result"
    }
   ],
   "source": [
    "l.adjoint() * r"
   ]
  },
  {
   "cell_type": "code",
   "execution_count": 24,
   "metadata": {
    "collapsed": false
   },
   "outputs": [
    {
     "data": {
      "text/latex": [
       "$$\\left [ \\left ( -1, \\quad 1, \\quad \\left [ \\left[\\begin{matrix}-1\\\\1\\end{matrix}\\right]\\right ]\\right ), \\quad \\left ( 1, \\quad 1, \\quad \\left [ \\left[\\begin{matrix}1\\\\1\\end{matrix}\\right]\\right ]\\right )\\right ]$$"
      ],
      "text/plain": [
       "⎡⎛-1, 1, ⎡⎡-1⎤⎤⎞, ⎛1, 1, ⎡⎡1⎤⎤⎞⎤\n",
       "⎢⎜       ⎢⎢  ⎥⎥⎟  ⎜      ⎢⎢ ⎥⎥⎟⎥\n",
       "⎣⎝       ⎣⎣1 ⎦⎦⎠  ⎝      ⎣⎣1⎦⎦⎠⎦"
      ]
     },
     "execution_count": 24,
     "metadata": {},
     "output_type": "execute_result"
    }
   ],
   "source": [
    "sigmax.eigenvects()"
   ]
  },
  {
   "cell_type": "code",
   "execution_count": 25,
   "metadata": {
    "collapsed": true
   },
   "outputs": [],
   "source": [
    "sigmay = Matrix([[0, -I], [I, 0]])\n",
    "i = Matrix([[1 / sqrt(2)], [I / sqrt(2)]])\n",
    "o = Matrix([[1 / sqrt(2)], [-I / sqrt(2)]])"
   ]
  },
  {
   "cell_type": "code",
   "execution_count": 26,
   "metadata": {
    "collapsed": false
   },
   "outputs": [
    {
     "data": {
      "text/latex": [
       "$$\\left[\\begin{matrix}0\\end{matrix}\\right]$$"
      ],
      "text/plain": [
       "[0]"
      ]
     },
     "execution_count": 26,
     "metadata": {},
     "output_type": "execute_result"
    }
   ],
   "source": [
    "o.adjoint() * i"
   ]
  },
  {
   "cell_type": "code",
   "execution_count": 27,
   "metadata": {
    "collapsed": false
   },
   "outputs": [
    {
     "data": {
      "text/latex": [
       "$$\\left [ \\left ( -1, \\quad 1, \\quad \\left [ \\left[\\begin{matrix}i\\\\1\\end{matrix}\\right]\\right ]\\right ), \\quad \\left ( 1, \\quad 1, \\quad \\left [ \\left[\\begin{matrix}- i\\\\1\\end{matrix}\\right]\\right ]\\right )\\right ]$$"
      ],
      "text/plain": [
       "⎡⎛-1, 1, ⎡⎡ⅈ⎤⎤⎞, ⎛1, 1, ⎡⎡-ⅈ⎤⎤⎞⎤\n",
       "⎢⎜       ⎢⎢ ⎥⎥⎟  ⎜      ⎢⎢  ⎥⎥⎟⎥\n",
       "⎣⎝       ⎣⎣1⎦⎦⎠  ⎝      ⎣⎣1 ⎦⎦⎠⎦"
      ]
     },
     "execution_count": 27,
     "metadata": {},
     "output_type": "execute_result"
    }
   ],
   "source": [
    "sigmay.eigenvects()"
   ]
  },
  {
   "cell_type": "markdown",
   "metadata": {},
   "source": [
    "The three matrices, $ {\\sigma}_{x} $, $ {\\sigma}_{y} $, and $ {\\sigma}_{z} $ are the *Pauli matrices*."
   ]
  },
  {
   "cell_type": "markdown",
   "metadata": {},
   "source": [
    "Be careful when considering opperators and state vectors and thinking about our everydat two-dimensional space.  The state vector for spin is a two-dimensional complex vector space, not ordinary space.  Remember when we rolled a pair of dice.  The state vector was in 11-dimensional space."
   ]
  },
  {
   "cell_type": "markdown",
   "metadata": {},
   "source": [
    "## Calculating *&sigma;* along any direction"
   ]
  },
  {
   "cell_type": "markdown",
   "metadata": {},
   "source": [
    "In the spin example, the operator had components in our three-dimensional space.  We might just as well construct a unit vector pointing in a random direction in three-dimensional space, $ \\hat {n} = {n}_{x} {\\hat {i}} + {n}_{y} {\\hat {j}} + {n}_{y} {\\hat {k}} $.  The components of $ \\sigma $ along $ \\hat {n} $ would be:"
   ]
  },
  {
   "cell_type": "markdown",
   "metadata": {},
   "source": [
    "$ {\\sigma}_{n} = \\underline \\sigma \\cdot \\hat n \\\\ { \\sigma  }_{ n }={ \\sigma  }_{ x }{ n }_{ x }+{ \\sigma  }_{ y }{ n }_{ y }+{ \\sigma  }_{ z }{ n }_{ z }\\\\ { \\sigma  }_{ n }={ n }_{ x }\\begin{pmatrix} 0 & 1 \\\\ 1 & 0 \\end{pmatrix}+{ n }_{ y }\\begin{pmatrix} 0 & -i \\\\ i & 0 \\end{pmatrix}+{ n }_{ z }\\begin{pmatrix} 1 & 0 \\\\ 0 & -1 \\end{pmatrix}\\\\ { \\sigma  }_{ n }=\\begin{pmatrix} { n }_{ z } & { n }_{ x }-i{ n }_{ y } \\\\ { n }_{ x }+i{ n }_{ y } & -{ n }_{ z } \\end{pmatrix} $"
   ]
  },
  {
   "cell_type": "markdown",
   "metadata": {},
   "source": [
    "Calculating the eigenvalues and eigenvectors of $ {\\sigma}_{n} $ will give us possible outcomes of measurments along any $ \\hat {n} $."
   ]
  },
  {
   "cell_type": "markdown",
   "metadata": {},
   "source": [
    "As an example let's consider a direction in the plane for $ y = 0 $ and construct a unit vector for this direction:"
   ]
  },
  {
   "cell_type": "markdown",
   "metadata": {},
   "source": [
    "$ \\hat {n} = \\sin{\\theta} \\hat{i} + 0 \\hat{j} + \\cos{\\theta} \\hat{k} $, with $ \\theta $ the angle between $ \\hat{n} $ and the $ z $-axis."
   ]
  },
  {
   "cell_type": "markdown",
   "metadata": {},
   "source": [
    "$ {\\sigma}_{n} = \\begin{pmatrix} \\cos{\\theta} & \\sin{\\theta} \\\\ \\sin{\\theta} & - \\cos{\\theta} \\end{pmatrix} $"
   ]
  },
  {
   "cell_type": "code",
   "execution_count": 29,
   "metadata": {
    "collapsed": true
   },
   "outputs": [],
   "source": [
    "theta = symbols('theta')"
   ]
  },
  {
   "cell_type": "code",
   "execution_count": 31,
   "metadata": {
    "collapsed": false
   },
   "outputs": [
    {
     "data": {
      "text/latex": [
       "$$\\left[\\begin{matrix}\\cos{\\left (\\theta \\right )} & \\sin{\\left (\\theta \\right )}\\\\\\sin{\\left (\\theta \\right )} & - \\cos{\\left (\\theta \\right )}\\end{matrix}\\right]$$"
      ],
      "text/plain": [
       "⎡cos(θ)  sin(θ) ⎤\n",
       "⎢               ⎥\n",
       "⎣sin(θ)  -cos(θ)⎦"
      ]
     },
     "execution_count": 31,
     "metadata": {},
     "output_type": "execute_result"
    }
   ],
   "source": [
    "sigman = Matrix([[cos(theta), sin(theta)], [sin(theta), -cos(theta)]])\n",
    "sigman"
   ]
  },
  {
   "cell_type": "code",
   "execution_count": 32,
   "metadata": {
    "collapsed": false
   },
   "outputs": [
    {
     "data": {
      "text/latex": [
       "$$\\left [ \\left ( -1, \\quad 1, \\quad \\left [ \\left[\\begin{matrix}- \\frac{\\sin{\\left (\\theta \\right )}}{\\cos{\\left (\\theta \\right )} + 1}\\\\1\\end{matrix}\\right]\\right ]\\right ), \\quad \\left ( 1, \\quad 1, \\quad \\left [ \\left[\\begin{matrix}- \\frac{\\sin{\\left (\\theta \\right )}}{\\cos{\\left (\\theta \\right )} - 1}\\\\1\\end{matrix}\\right]\\right ]\\right )\\right ]$$"
      ],
      "text/plain": [
       "⎡⎛       ⎡⎡ -sin(θ)  ⎤⎤⎞  ⎛      ⎡⎡ -sin(θ)  ⎤⎤⎞⎤\n",
       "⎢⎜-1, 1, ⎢⎢──────────⎥⎥⎟, ⎜1, 1, ⎢⎢──────────⎥⎥⎟⎥\n",
       "⎢⎜       ⎢⎢cos(θ) + 1⎥⎥⎟  ⎜      ⎢⎢cos(θ) - 1⎥⎥⎟⎥\n",
       "⎢⎜       ⎢⎢          ⎥⎥⎟  ⎜      ⎢⎢          ⎥⎥⎟⎥\n",
       "⎣⎝       ⎣⎣    1     ⎦⎦⎠  ⎝      ⎣⎣    1     ⎦⎦⎠⎦"
      ]
     },
     "execution_count": 32,
     "metadata": {},
     "output_type": "execute_result"
    }
   ],
   "source": [
    "sigman.eigenvects()"
   ]
  },
  {
   "cell_type": "markdown",
   "metadata": {},
   "source": [
    "What is important here is the two eigenvalues.  As expected, they are $ +1 $ and $ -1 $.  The eigenvectors are also orthogonal."
   ]
  },
  {
   "cell_type": "code",
   "execution_count": 34,
   "metadata": {
    "collapsed": false
   },
   "outputs": [
    {
     "data": {
      "text/latex": [
       "$$\\left ( \\left[\\begin{matrix}- \\frac{\\sin{\\left (\\theta \\right )}}{\\cos{\\left (\\theta \\right )} + 1}\\\\1\\end{matrix}\\right], \\quad \\left[\\begin{matrix}- \\frac{\\sin{\\left (\\theta \\right )}}{\\cos{\\left (\\theta \\right )} - 1}\\\\1\\end{matrix}\\right]\\right )$$"
      ],
      "text/plain": [
       "⎛⎡ -sin(θ)  ⎤  ⎡ -sin(θ)  ⎤⎞\n",
       "⎜⎢──────────⎥, ⎢──────────⎥⎟\n",
       "⎜⎢cos(θ) + 1⎥  ⎢cos(θ) - 1⎥⎟\n",
       "⎜⎢          ⎥  ⎢          ⎥⎟\n",
       "⎝⎣    1     ⎦  ⎣    1     ⎦⎠"
      ]
     },
     "execution_count": 34,
     "metadata": {},
     "output_type": "execute_result"
    }
   ],
   "source": [
    "n1 = Matrix([[-(sin(theta)) / (cos(theta) + 1)], [1]]) # Eigenvector 2 above (with eigenvalue 1)\n",
    "n2 = Matrix([[-(sin(theta)) / (cos(theta) - 1)], [1]]) # Eigenvector 1 above (with eigenvalue -1)\n",
    "n1, n2"
   ]
  },
  {
   "cell_type": "code",
   "execution_count": 37,
   "metadata": {
    "collapsed": false
   },
   "outputs": [
    {
     "data": {
      "text/latex": [
       "$$\\left[\\begin{matrix}1 + \\frac{\\sin{\\left (\\theta \\right )} \\sin{\\left (\\overline{\\theta} \\right )}}{\\left(\\cos{\\left (\\theta \\right )} + 1\\right) \\left(\\cos{\\left (\\overline{\\theta} \\right )} - 1\\right)}\\end{matrix}\\right]$$"
      ],
      "text/plain": [
       "⎡                    ⎛_⎞      ⎤\n",
       "⎢          sin(θ)⋅sin⎝θ⎠      ⎥\n",
       "⎢1 + ─────────────────────────⎥\n",
       "⎢                 ⎛   ⎛_⎞    ⎞⎥\n",
       "⎣    (cos(θ) + 1)⋅⎝cos⎝θ⎠ - 1⎠⎦"
      ]
     },
     "execution_count": 37,
     "metadata": {},
     "output_type": "execute_result"
    }
   ],
   "source": [
    "n2.adjoint() * n1"
   ]
  },
  {
   "cell_type": "markdown",
   "metadata": {},
   "source": [
    "The coding result looks horrible.  We can use an example with a real angle, $ \\frac{\\pi}{6} $ and note that we get zero (or what goes for zero in coding)."
   ]
  },
  {
   "cell_type": "code",
   "execution_count": 38,
   "metadata": {
    "collapsed": true
   },
   "outputs": [],
   "source": [
    "import numpy as np"
   ]
  },
  {
   "cell_type": "code",
   "execution_count": 39,
   "metadata": {
    "collapsed": true
   },
   "outputs": [],
   "source": [
    "angle = (np.pi) / 6"
   ]
  },
  {
   "cell_type": "code",
   "execution_count": 40,
   "metadata": {
    "collapsed": false
   },
   "outputs": [
    {
     "data": {
      "text/latex": [
       "$$-2.22044604925e-16$$"
      ],
      "text/plain": [
       "-2.22044604925e-16"
      ]
     },
     "execution_count": 40,
     "metadata": {},
     "output_type": "execute_result"
    }
   ],
   "source": [
    "1 + ((np.sin(angle) * np.sin(angle)) / ((np.cos(angle) + 1) * (np.cos(angle) - 1)))\n",
    "# The result is the coding equivalent of 0"
   ]
  },
  {
   "cell_type": "markdown",
   "metadata": {},
   "source": [
    "Let's calculate the probability of finding a value of $ +1 $ along our first eigenvector (*n2*) above."
   ]
  },
  {
   "cell_type": "markdown",
   "metadata": {},
   "source": [
    "$ P \\left( +1 \\right) = {\\left| {\\left< u | {\\lambda}_{1} \\right>} \\right|}^{2} $"
   ]
  },
  {
   "cell_type": "code",
   "execution_count": 42,
   "metadata": {
    "collapsed": false
   },
   "outputs": [
    {
     "data": {
      "text/latex": [
       "$$\\left ( \\left[\\begin{matrix}1\\\\0\\end{matrix}\\right], \\quad \\left[\\begin{matrix}- \\frac{\\sin{\\left (\\theta \\right )}}{\\cos{\\left (\\theta \\right )} - 1}\\\\1\\end{matrix}\\right]\\right )$$"
      ],
      "text/plain": [
       "⎛     ⎡ -sin(θ)  ⎤⎞\n",
       "⎜⎡1⎤, ⎢──────────⎥⎟\n",
       "⎜⎢ ⎥  ⎢cos(θ) - 1⎥⎟\n",
       "⎜⎣0⎦  ⎢          ⎥⎟\n",
       "⎝     ⎣    1     ⎦⎠"
      ]
     },
     "execution_count": 42,
     "metadata": {},
     "output_type": "execute_result"
    }
   ],
   "source": [
    "u, n2"
   ]
  },
  {
   "cell_type": "code",
   "execution_count": 45,
   "metadata": {
    "collapsed": false
   },
   "outputs": [
    {
     "data": {
      "text/latex": [
       "$$\\left[\\begin{matrix}\\frac{\\sin{\\left (\\theta \\right )} \\sin{\\left (\\overline{\\theta} \\right )}}{\\left(\\cos{\\left (\\theta \\right )} - 1\\right) \\left(\\cos{\\left (\\overline{\\theta} \\right )} - 1\\right)}\\end{matrix}\\right]$$"
      ],
      "text/plain": [
       "⎡                ⎛_⎞      ⎤\n",
       "⎢      sin(θ)⋅sin⎝θ⎠      ⎥\n",
       "⎢─────────────────────────⎥\n",
       "⎢             ⎛   ⎛_⎞    ⎞⎥\n",
       "⎣(cos(θ) - 1)⋅⎝cos⎝θ⎠ - 1⎠⎦"
      ]
     },
     "execution_count": 45,
     "metadata": {},
     "output_type": "execute_result"
    }
   ],
   "source": [
    "pplus1 = (u.adjoint() * n2) * (n2.adjoint() * u)\n",
    "pplus1"
   ]
  },
  {
   "cell_type": "markdown",
   "metadata": {},
   "source": [
    "For $ -1 $ we would get:"
   ]
  },
  {
   "cell_type": "code",
   "execution_count": 46,
   "metadata": {
    "collapsed": false
   },
   "outputs": [
    {
     "data": {
      "text/latex": [
       "$$\\left[\\begin{matrix}\\frac{\\sin{\\left (\\theta \\right )} \\sin{\\left (\\overline{\\theta} \\right )}}{\\left(\\cos{\\left (\\theta \\right )} + 1\\right) \\left(\\cos{\\left (\\overline{\\theta} \\right )} + 1\\right)}\\end{matrix}\\right]$$"
      ],
      "text/plain": [
       "⎡                ⎛_⎞      ⎤\n",
       "⎢      sin(θ)⋅sin⎝θ⎠      ⎥\n",
       "⎢─────────────────────────⎥\n",
       "⎢             ⎛   ⎛_⎞    ⎞⎥\n",
       "⎣(cos(θ) + 1)⋅⎝cos⎝θ⎠ + 1⎠⎦"
      ]
     },
     "execution_count": 46,
     "metadata": {},
     "output_type": "execute_result"
    }
   ],
   "source": [
    "pplus2 = (u.adjoint() * n1) * (n1.adjoint() * u)\n",
    "pplus2"
   ]
  },
  {
   "cell_type": "code",
   "execution_count": 47,
   "metadata": {
    "collapsed": false
   },
   "outputs": [
    {
     "data": {
      "text/latex": [
       "$$\\left[\\begin{matrix}- \\frac{\\sin^{2}{\\left (\\theta \\right )} \\sin{\\left (\\overline{\\theta} \\right )}}{\\left(\\cos{\\left (\\theta \\right )} - 1\\right) \\left(\\cos{\\left (\\theta \\right )} + 1\\right) \\left(\\cos{\\left (\\overline{\\theta} \\right )} - 1\\right)} - \\frac{\\sin^{2}{\\left (\\theta \\right )} \\sin{\\left (\\overline{\\theta} \\right )}}{\\left(\\cos{\\left (\\theta \\right )} - 1\\right)^{2} \\left(\\cos{\\left (\\overline{\\theta} \\right )} - 1\\right)}\\\\\\frac{2 \\sin{\\left (\\theta \\right )} \\sin{\\left (\\overline{\\theta} \\right )}}{\\left(\\cos{\\left (\\theta \\right )} - 1\\right) \\left(\\cos{\\left (\\overline{\\theta} \\right )} - 1\\right)}\\end{matrix}\\right]$$"
      ],
      "text/plain": [
       "⎡                 2       ⎛_⎞                        2       ⎛_⎞      ⎤\n",
       "⎢              sin (θ)⋅sin⎝θ⎠                     sin (θ)⋅sin⎝θ⎠      ⎥\n",
       "⎢- ────────────────────────────────────── - ──────────────────────────⎥\n",
       "⎢                            ⎛   ⎛_⎞    ⎞               2 ⎛   ⎛_⎞    ⎞⎥\n",
       "⎢  (cos(θ) - 1)⋅(cos(θ) + 1)⋅⎝cos⎝θ⎠ - 1⎠   (cos(θ) - 1) ⋅⎝cos⎝θ⎠ - 1⎠⎥\n",
       "⎢                                                                     ⎥\n",
       "⎢                                       ⎛_⎞                           ⎥\n",
       "⎢                           2⋅sin(θ)⋅sin⎝θ⎠                           ⎥\n",
       "⎢                      ─────────────────────────                      ⎥\n",
       "⎢                                   ⎛   ⎛_⎞    ⎞                      ⎥\n",
       "⎣                      (cos(θ) - 1)⋅⎝cos⎝θ⎠ - 1⎠                      ⎦"
      ]
     },
     "execution_count": 47,
     "metadata": {},
     "output_type": "execute_result"
    }
   ],
   "source": [
    "(n2 * pplus1) + (n1 * pplus1)"
   ]
  },
  {
   "cell_type": "code",
   "execution_count": null,
   "metadata": {
    "collapsed": true
   },
   "outputs": [],
   "source": []
  }
 ],
 "metadata": {
  "kernelspec": {
   "display_name": "Python 3",
   "language": "python",
   "name": "python3"
  },
  "language_info": {
   "codemirror_mode": {
    "name": "ipython",
    "version": 3
   },
   "file_extension": ".py",
   "mimetype": "text/x-python",
   "name": "python",
   "nbconvert_exporter": "python",
   "pygments_lexer": "ipython3",
   "version": "3.4.1"
  }
 },
 "nbformat": 4,
 "nbformat_minor": 0
}
