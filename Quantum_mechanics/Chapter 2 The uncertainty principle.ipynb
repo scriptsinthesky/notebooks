{
 "cells": [
  {
   "cell_type": "markdown",
   "metadata": {},
   "source": [
    "<a rel=\"license\" href=\"http://creativecommons.org/licenses/by-nc/4.0/\"><img alt=\"Creative Commons License\" style=\"border-width:0\" src=\"https://i.creativecommons.org/l/by-nc/4.0/88x31.png\" /></a><br /><span xmlns:dct=\"http://purl.org/dc/terms/\" property=\"dct:title\">A first look at quantum mechanics</span> by <span xmlns:cc=\"http://creativecommons.org/ns#\" property=\"cc:attributionName\">Dr Juan H Klopper</span> is licensed under a <a rel=\"license\" href=\"http://creativecommons.org/licenses/by-nc/4.0/\">Creative Commons Attribution-NonCommercial 4.0 International License</a>."
   ]
  },
  {
   "cell_type": "code",
   "execution_count": 1,
   "metadata": {
    "collapsed": false
   },
   "outputs": [
    {
     "data": {
      "text/html": [
       "<link href='http://fonts.googleapis.com/css?family=Alegreya+Sans:100,300,400,500,700,800,900,100italic,300italic,400italic,500italic,700italic,800italic,900italic' rel='stylesheet' type='text/css'>\n",
       "<link href='http://fonts.googleapis.com/css?family=Arvo:400,700,400italic' rel='stylesheet' type='text/css'>\n",
       "<link href='http://fonts.googleapis.com/css?family=PT+Mono' rel='stylesheet' type='text/css'>\n",
       "<link href='http://fonts.googleapis.com/css?family=Shadows+Into+Light' rel='stylesheet' type='text/css'>\n",
       "<link href='http://fonts.googleapis.com/css?family=Philosopher:400,700,400italic,700italic' rel='stylesheet' type='text/css'>\n",
       "\n",
       "<style>\n",
       "\n",
       "@font-face {\n",
       "    font-family: \"Computer Modern\";\n",
       "    src: url('http://mirrors.ctan.org/fonts/cm-unicode/fonts/otf/cmunss.otf');\n",
       "}\n",
       "\n",
       "#notebook_panel { /* main background */\n",
       "    background: #ddd;\n",
       "    color: #000000;\n",
       "}\n",
       "\n",
       "\n",
       "\n",
       "/* Formatting for header cells */\n",
       ".text_cell_render h1 {\n",
       "    font-family: 'Philosopher', sans-serif;\n",
       "    font-weight: 400;\n",
       "    font-size: 2.2em;\n",
       "    line-height: 100%;\n",
       "    color: rgb(0, 80, 120);\n",
       "    margin-bottom: 0.1em;\n",
       "    margin-top: 0.1em;\n",
       "    display: block;\n",
       "}\t\n",
       ".text_cell_render h2 {\n",
       "    font-family: 'Philosopher', serif;\n",
       "    font-weight: 400;\n",
       "    font-size: 1.9em;\n",
       "    line-height: 100%;\n",
       "    color: rgb(200,100,0);\n",
       "    margin-bottom: 0.1em;\n",
       "    margin-top: 0.1em;\n",
       "    display: block;\n",
       "}\t\n",
       "\n",
       ".text_cell_render h3 {\n",
       "    font-family: 'Philosopher', serif;\n",
       "    margin-top:12px;\n",
       "    margin-bottom: 3px;\n",
       "    font-style: italic;\n",
       "    color: rgb(94,127,192);\n",
       "}\n",
       "\n",
       ".text_cell_render h4 {\n",
       "    font-family: 'Philosopher', serif;\n",
       "}\n",
       "\n",
       ".text_cell_render h5 {\n",
       "    font-family: 'Alegreya Sans', sans-serif;\n",
       "    font-weight: 300;\n",
       "    font-size: 16pt;\n",
       "    color: grey;\n",
       "    font-style: italic;\n",
       "    margin-bottom: .1em;\n",
       "    margin-top: 0.1em;\n",
       "    display: block;\n",
       "}\n",
       "\n",
       ".text_cell_render h6 {\n",
       "    font-family: 'PT Mono', sans-serif;\n",
       "    font-weight: 300;\n",
       "    font-size: 10pt;\n",
       "    color: grey;\n",
       "    margin-bottom: 1px;\n",
       "    margin-top: 1px;\n",
       "}\n",
       "\n",
       ".CodeMirror{\n",
       "        font-family: \"PT Mono\";\n",
       "        font-size: 100%;\n",
       "}\n",
       "\n",
       "</style>\n",
       "\n"
      ],
      "text/plain": [
       "<IPython.core.display.HTML object>"
      ]
     },
     "execution_count": 1,
     "metadata": {},
     "output_type": "execute_result"
    }
   ],
   "source": [
    "from IPython.core.display import HTML, Image\n",
    "css_file = 'style.css'\n",
    "HTML(open(css_file, 'r').read())"
   ]
  },
  {
   "cell_type": "code",
   "execution_count": 2,
   "metadata": {
    "collapsed": true
   },
   "outputs": [],
   "source": [
    "from sympy import init_printing # Latex printing to screen\n",
    "from warnings import filterwarnings # Ignoring ugly pink warnings\n",
    "\n",
    "init_printing(use_latex = 'mathjax')\n",
    "filterwarnings('ignore')"
   ]
  },
  {
   "cell_type": "code",
   "execution_count": 3,
   "metadata": {
    "collapsed": true
   },
   "outputs": [],
   "source": [
    "from sympy import Matrix"
   ]
  },
  {
   "cell_type": "markdown",
   "metadata": {
    "collapsed": true
   },
   "source": [
    "# The uncertainty principle"
   ]
  },
  {
   "cell_type": "markdown",
   "metadata": {},
   "source": [
    "## Introduction"
   ]
  },
  {
   "cell_type": "markdown",
   "metadata": {},
   "source": [
    "So most people with a passing familiarity with quantum mechanics (QM) will know that we cannot know both the position and the momentum of a quantum particle to some arbitrary precision.  There is the concept of the **uncertainty principle** that stands in our way.\n",
    "We won't go into any kind of depth this earlier on, but let's develop some intuition nonetheless."
   ]
  },
  {
   "cell_type": "markdown",
   "metadata": {},
   "source": [
    "## Time to flips some coins"
   ]
  },
  {
   "cell_type": "markdown",
   "metadata": {},
   "source": [
    "Let's flip the old coin two more times.  For either flip it can land showing either heads-up (**H**) or tails-up (**T**).  We have four outcomes for our two flips: {HH, HT, TH, TT}."
   ]
  },
  {
   "cell_type": "markdown",
   "metadata": {},
   "source": [
    "Okay, let's start flipping, but before we start, we want to know if we can get a the following:\n",
    "+ H **OR** T\n",
    "+ H **AND** T"
   ]
  },
  {
   "cell_type": "markdown",
   "metadata": {},
   "source": [
    "These are Boolean operators.  Another one would be **NOT**.  Let's though, start with **OR**: Can we get a H **OR** a **T**.  Flip one lands on H. Job done.  Whatever the second flips lands on, we're done.  We have an H and we needed either one or the other.  We return a value of **TRUE**.  Same if it landed on T.\n",
    "Now for **AND**.  First flip lands in H, but also the second.  We have to return a **FALSE**.  We did not get an H **AND** a T."
   ]
  },
  {
   "cell_type": "markdown",
   "metadata": {},
   "source": [
    "## Applying some Boolean logic to quantum spin"
   ]
  },
  {
   "cell_type": "markdown",
   "metadata": {},
   "source": [
    "Now, let's have two outcomes for measuring spin by letting our apparatus interact with our quantum system, called spin.  Just as before, we are going to line up our apparatus along the *z*-axis and then turn it to the *y*-axis, with the only possible outcomes being +1 and -1.\n",
    "+ Outcome **A** says *&sigma;*<sub>z</sub> = +1\n",
    "+ Outcome **B** says *&sigma;*<sub>y</sub> = +1"
   ]
  },
  {
   "cell_type": "markdown",
   "metadata": {},
   "source": [
    "### If the quantum world was classical"
   ]
  },
  {
   "cell_type": "markdown",
   "metadata": {},
   "source": [
    "Can we get outcomes A **OR** B?  So, we measure *&sigma;*<sub>z</sub> and we get +1.  As with the coin, job done.  Wo only needed either A **OR** B.\n",
    "If *&sigma;*<sub>z</sub> was -1, we then measure *&sigma;*<sub>y</sub>.  If it return +1, the we have to return a **TRUE** for A **OR** B.  If it was also a -1, we would then return FALSE for A **OR** B."
   ]
  },
  {
   "cell_type": "markdown",
   "metadata": {},
   "source": [
    "#### Reversibility"
   ]
  },
  {
   "cell_type": "markdown",
   "metadata": {},
   "source": [
    "Let your imagination fly and you will see that B **OR** A would give the exact same **TRUE** and **FALSE** returns.  The operation *commute*."
   ]
  },
  {
   "cell_type": "markdown",
   "metadata": {},
   "source": [
    "### The quantum world"
   ]
  },
  {
   "cell_type": "markdown",
   "metadata": {},
   "source": [
    "Now we are in the real world and we want to know if A **OR** B returns a **TRUE** or **FALSE**.  What about B **OR** A?\n",
    "We go into the lab secretly and find *&sigma;*<sub>z</sub> = +1.  After coffee we come back and indeed on acting on the system with our apparatus we find *&sigma;*<sub>z</sub> = +1.\n",
    "We can already return a **TRUE** for A **OR** B."
   ]
  },
  {
   "cell_type": "markdown",
   "metadata": {},
   "source": [
    "If we now turn our apparatus to do *&sigma;*<sub>y</sub>, we can get either +1 or -1.  Doesn't matter.  What, though if we want a return on B **OR** A?\n",
    "If *&sigma;*<sub>y</sub> returned a +1 we are done.  Remember that we set things up so that *&sigma;*<sub>z</sub> was +1, but we measure *&sigma;*<sub>y</sub>.  Turning back to *&sigma;*<sub>z</sub> would now not definitely return a +1 again.  Now it would be either =1 and -1.\n",
    "So if *&sigma;*<sub>y</sub> was -1 and we turned back to *&sigma;*<sub>z</sub>, we could again get a -1, so B **OR** A could return a **FALSE**."
   ]
  },
  {
   "cell_type": "markdown",
   "metadata": {},
   "source": [
    "#### Non-reversibility"
   ]
  },
  {
   "cell_type": "markdown",
   "metadata": {},
   "source": [
    "We find that the order in which we operate matters.  The act of acting on our system with our apparatus affects the system."
   ]
  },
  {
   "cell_type": "markdown",
   "metadata": {},
   "source": [
    "## The uncertainty principle"
   ]
  },
  {
   "cell_type": "markdown",
   "metadata": {},
   "source": [
    "Instead of outcome A and B above having *&sigma;*<sub>z</sub> and *&sigma;*<sub>y</sub> being +1, we could have a particle with a position at *x* and a momentum *p*.\n",
    "The above explanation shows us that we must not think classically about these.  Indeed, A **AND** B is meaningless."
   ]
  },
  {
   "cell_type": "code",
   "execution_count": null,
   "metadata": {
    "collapsed": true
   },
   "outputs": [],
   "source": []
  }
 ],
 "metadata": {
  "kernelspec": {
   "display_name": "Python 3",
   "language": "python",
   "name": "python3"
  },
  "language_info": {
   "codemirror_mode": {
    "name": "ipython",
    "version": 3
   },
   "file_extension": ".py",
   "mimetype": "text/x-python",
   "name": "python",
   "nbconvert_exporter": "python",
   "pygments_lexer": "ipython3",
   "version": "3.4.3"
  }
 },
 "nbformat": 4,
 "nbformat_minor": 0
}
