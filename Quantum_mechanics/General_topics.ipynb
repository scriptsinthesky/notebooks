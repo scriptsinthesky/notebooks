{
 "cells": [
  {
   "cell_type": "markdown",
   "metadata": {},
   "source": [
    "<a rel=\"license\" href=\"http://creativecommons.org/licenses/by-nc/4.0/\"><img alt=\"Creative Commons License\" style=\"border-width:0\" src=\"https://i.creativecommons.org/l/by-nc/4.0/88x31.png\" /></a><br /><span xmlns:dct=\"http://purl.org/dc/terms/\" property=\"dct:title\">Introduction to quantum mechanics</span> by <span xmlns:cc=\"http://creativecommons.org/ns#\" property=\"cc:attributionName\">Dr Juan H Klopper</span> is licensed under a <a rel=\"license\" href=\"http://creativecommons.org/licenses/by-nc/4.0/\">Creative Commons Attribution-NonCommercial 4.0 International License</a>."
   ]
  },
  {
   "cell_type": "code",
   "execution_count": 1,
   "metadata": {
    "collapsed": false
   },
   "outputs": [
    {
     "data": {
      "text/html": [
       "<link href='http://fonts.googleapis.com/css?family=Alegreya+Sans:100,300,400,500,700,800,900,100italic,300italic,400italic,500italic,700italic,800italic,900italic' rel='stylesheet' type='text/css'>\n",
       "<link href='http://fonts.googleapis.com/css?family=Arvo:400,700,400italic' rel='stylesheet' type='text/css'>\n",
       "<link href='http://fonts.googleapis.com/css?family=PT+Mono' rel='stylesheet' type='text/css'>\n",
       "<link href='http://fonts.googleapis.com/css?family=Shadows+Into+Light' rel='stylesheet' type='text/css'>\n",
       "<link href='http://fonts.googleapis.com/css?family=Philosopher:400,700,400italic,700italic' rel='stylesheet' type='text/css'>\n",
       "\n",
       "<style>\n",
       "\n",
       "@font-face {\n",
       "    font-family: \"Computer Modern\";\n",
       "    src: url('http://mirrors.ctan.org/fonts/cm-unicode/fonts/otf/cmunss.otf');\n",
       "}\n",
       "\n",
       "#notebook_panel { /* main background */\n",
       "    background: #ddd;\n",
       "    color: #000000;\n",
       "}\n",
       "\n",
       "\n",
       "\n",
       "/* Formatting for header cells */\n",
       ".text_cell_render h1 {\n",
       "    font-family: 'Philosopher', sans-serif;\n",
       "    font-weight: 400;\n",
       "    font-size: 2.2em;\n",
       "    line-height: 100%;\n",
       "    color: rgb(0, 80, 120);\n",
       "    margin-bottom: 0.1em;\n",
       "    margin-top: 0.1em;\n",
       "    display: block;\n",
       "}\t\n",
       ".text_cell_render h2 {\n",
       "    font-family: 'Philosopher', serif;\n",
       "    font-weight: 400;\n",
       "    font-size: 1.9em;\n",
       "    line-height: 100%;\n",
       "    color: rgb(200,100,0);\n",
       "    margin-bottom: 0.1em;\n",
       "    margin-top: 0.1em;\n",
       "    display: block;\n",
       "}\t\n",
       "\n",
       ".text_cell_render h3 {\n",
       "    font-family: 'Philosopher', serif;\n",
       "    margin-top:12px;\n",
       "    margin-bottom: 3px;\n",
       "    font-style: italic;\n",
       "    color: rgb(94,127,192);\n",
       "}\n",
       "\n",
       ".text_cell_render h4 {\n",
       "    font-family: 'Philosopher', serif;\n",
       "}\n",
       "\n",
       ".text_cell_render h5 {\n",
       "    font-family: 'Alegreya Sans', sans-serif;\n",
       "    font-weight: 300;\n",
       "    font-size: 16pt;\n",
       "    color: grey;\n",
       "    font-style: italic;\n",
       "    margin-bottom: .1em;\n",
       "    margin-top: 0.1em;\n",
       "    display: block;\n",
       "}\n",
       "\n",
       ".text_cell_render h6 {\n",
       "    font-family: 'PT Mono', sans-serif;\n",
       "    font-weight: 300;\n",
       "    font-size: 10pt;\n",
       "    color: grey;\n",
       "    margin-bottom: 1px;\n",
       "    margin-top: 1px;\n",
       "}\n",
       "\n",
       ".CodeMirror{\n",
       "        font-family: \"PT Mono\";\n",
       "        font-size: 100%;\n",
       "}\n",
       "\n",
       "</style>\n",
       "\n"
      ],
      "text/plain": [
       "<IPython.core.display.HTML object>"
      ]
     },
     "execution_count": 1,
     "metadata": {},
     "output_type": "execute_result"
    }
   ],
   "source": [
    "from IPython.core.display import HTML, Image\n",
    "css_file = 'style.css'\n",
    "HTML(open(css_file, 'r').read())"
   ]
  },
  {
   "cell_type": "code",
   "execution_count": 2,
   "metadata": {
    "collapsed": true
   },
   "outputs": [],
   "source": [
    "from sympy import init_printing # Latex printing to screen\n",
    "from warnings import filterwarnings # Ignoring ugly pink warnings"
   ]
  },
  {
   "cell_type": "code",
   "execution_count": 3,
   "metadata": {
    "collapsed": true
   },
   "outputs": [],
   "source": [
    "init_printing(use_latex = 'mathjax')\n",
    "filterwarnings('ignore')"
   ]
  },
  {
   "cell_type": "markdown",
   "metadata": {
    "collapsed": true
   },
   "source": [
    "# General mathematical wavefunction topics"
   ]
  },
  {
   "cell_type": "markdown",
   "metadata": {},
   "source": [
    "## General equations to know"
   ]
  },
  {
   "cell_type": "markdown",
   "metadata": {},
   "source": [
    "+ Energy of a photon\n",
    "$$ E=\\hbar \\omega = h\\nu $$\n",
    "    + The reduced Planck's constant, *&hbar;* is:\n",
    "    $$ \\hbar = \\frac{h}{2\\pi} $$\n",
    "    + The angular frequency, *&omega;*, is:\n",
    "    $$ \\omega = 2\\pi\\nu $$\n",
    "+ The linear momentum of a photon\n",
    "$$ P = \\hbar k = \\frac{h}{\\lambda} $$\n",
    "    + The angular wavenumber is:\n",
    "    $$ k = \\frac{2\\pi}{\\lambda} $$"
   ]
  },
  {
   "cell_type": "markdown",
   "metadata": {},
   "source": [
    "## The state of a system"
   ]
  },
  {
   "cell_type": "markdown",
   "metadata": {},
   "source": [
    "+ In classical mechanics we need the position and momentum to describe the state of a simple single particle system:\n",
    "$$ \\left( \\underline{x},\\underline{p} \\right) $$\n",
    "+ This states that if we know these two values we can calculate many other properties of the system, which are then just functions of position and momentum:\n",
    "$$ E\\left( \\underline{x},\\underline{p} \\right) \\\\ \\underline{L}\\left( \\underline{x},\\underline{p} \\right) $$\n",
    "+ In fact we can go so far as to say that we can have absolute knowledge of the system insofar as questions we have about the system (that are experimentally answerable)"
   ]
  },
  {
   "cell_type": "markdown",
   "metadata": {},
   "source": [
    "+ Classical mechanics is just a special case of the more general *reality* (quantum mechanics)\n",
    "+ In quantum mechanics we have constraints in knowing the state of the system to the extent we could above; we have to deal with uncertainty:\n",
    "$$ \\Delta{x}\\Delta{p} \\gtrsim \\hbar $$\n",
    "+ It is thus impossible to specify both position and momentum"
   ]
  },
  {
   "cell_type": "markdown",
   "metadata": {},
   "source": [
    " ### The state of a quantum system\n",
    " (just dealing with position)"
   ]
  },
  {
   "cell_type": "markdown",
   "metadata": {},
   "source": [
    "+ The state of a *quantum object* is completely specified by the complex wave function *&Psi;*"
   ]
  },
  {
   "cell_type": "markdown",
   "metadata": {},
   "source": [
    " + This wave function must satisfy the condition that it can describe the probability density of finding the quantum object as position *x* when measured and more specifically by the following equation:\n",
    " $$ P\\left(x\\right)={\\left|\\Psi\\right|}^{2} $$\n",
    " + Finding the particle between position *x* and *x*+*&Delta;x* is:\n",
    " $$ P\\left(x,x+\\Delta{x}\\right)=P\\left(x\\right)dx={\\left|\\Psi\\right|}^{2}dx $$"
   ]
  },
  {
   "cell_type": "markdown",
   "metadata": {},
   "source": [
    "+ Some systems are defined within bounds (not necessarily -*&infin;* to *&infin;*), but for all values (of *x*) that they are defined we must have probabilities add to one (in essence, the wave function must be properly normalized):\n",
    "$$ \\int { dx } P\\left( x \\right) =\\int { dx } { \\left| \\Psi  \\right|  }^{ 2 } = 1 $$"
   ]
  },
  {
   "cell_type": "markdown",
   "metadata": {},
   "source": [
    "+ The dimension of the wave function as I have described it here can be deduced from the integral and knowing that the dimension of *dx* is meters, [m]\n",
    "+ To come out with probability, which is dimensionless, we must have:\n",
    "$$ \\Psi \\left( x \\right) \\left[ \\frac{1}{\\sqrt{L}} \\right] $$\n",
    "    + Here L is length measure in meters, [m]"
   ]
  },
  {
   "cell_type": "markdown",
   "metadata": {},
   "source": [
    "## Basic mathematics of the wave equation"
   ]
  },
  {
   "cell_type": "markdown",
   "metadata": {},
   "source": [
    "+ Since the wave equation, *&Psi;* is a complex function, we have the following:\n",
    "$$ {\\left| \\Psi \\right|}^{2} = \\Psi{\\Psi}^{*} $$\n",
    "+ Here *&Psi;*<sup>\\*</sup> is the complex conjugate of *&Psi;*\n",
    "+ So (as an example), if our wave function is as follows we can calculate the probability density:\n",
    "$$ \\Psi = {e}^{ikx} \\\\ P\\left(x\\right) = {\\left| \\Psi \\right|}^{2} = 1 $$\n",
    "    + Note that our example wave function is not properly normalized\n",
    "    + We would have no idea where the particle is and our uncertainty in finding the particle, *&Delta;x*, would be enormous"
   ]
  },
  {
   "cell_type": "markdown",
   "metadata": {},
   "source": [
    "+ The wave function must also be single-valued and continuous on our interval"
   ]
  },
  {
   "cell_type": "markdown",
   "metadata": {},
   "source": [
    "+ Given two possible wave equations, *&Psi;*<sub>1</sub> and *&Psi;*<sub>2</sub>, corresponding to two possible states of a system, the system can also be in a superposition of the two\n",
    "+ Here we are dealing with linear combinations, with normalized wave functions that are linearly independent\n",
    "$$ \\Psi\\left( x \\right) = {{a}_{1}}{{\\Psi}_{1}}+{{a}_{2}}{{\\Psi}_{2}}, \\quad {a}_{1},{a}_{2} \\in \\mathbb{C} $$"
   ]
  },
  {
   "cell_type": "markdown",
   "metadata": {},
   "source": [
    "+ The probability density of this is:\n",
    "$$ P\\left({x}\\right)={\\Psi\\left(x\\right)}^{2} = { \\left| { a }_{ 1 }{ \\Psi  }_{ 1 }+{ a }_{ 2 }{ \\Psi  }_{ 2 } \\right|  }^{ 2 }={ \\left| { a }_{ 1 } \\right|  }^{ 2 }{ \\left| { \\Psi  }_{ 1 } \\right|  }^{ 2 }+{ \\left| { a }_{ 2 } \\right|  }^{ 2 }{ \\left| { \\Psi  }_{ 2 } \\right|  }^{ 2 }+{ a }_{ 1 }^{ * }{ \\Psi  }_{ 1 }^{ * }{ a }_{ 2 }{ \\Psi  }_{ 2 }+{ a }_{ 1 }{ \\Psi  }_{ 1 }{ a }_{ 2 }^{ * }{ \\Psi  }_{ 2 }^{ * } $$"
   ]
  },
  {
   "cell_type": "markdown",
   "metadata": {},
   "source": [
    "+ This is a very important equation\n",
    "+ It gives us a new way of summing over probabilities\n",
    "+ In essence we have the sum of the probability of the first state and the second state alone:\n",
    "$$ { \\left| { a }_{ 1 } \\right|  }^{ 2 }{ \\left| { \\Psi  }_{ 1 } \\right|  }^{ 2 }+{ \\left| { a }_{ 2 } \\right|  }^{ 2 }{ \\left| { \\Psi  }_{ 2 } \\right|  }^{ 2 } $$\n",
    "+ We also add, though, some interference terms, which cannot be understood in terms of *classical probability*:\n",
    "$$ { a }_{ 1 }^{ * }{ \\Psi  }_{ 1 }^{ * }{ a }_{ 2 }{ \\Psi  }_{ 2 }+{ a }_{ 1 }{ \\Psi  }_{ 1 }{ a }_{ 2 }^{ * }{ \\Psi  }_{ 2 }^{ * } $$"
   ]
  },
  {
   "cell_type": "markdown",
   "metadata": {},
   "source": [
    "+ Note that the first summation is always real and positive\n",
    "+ Summing the second set of terms will also result in a real number, but it is not always positive"
   ]
  },
  {
   "cell_type": "markdown",
   "metadata": {},
   "source": [
    "### Summary"
   ]
  },
  {
   "cell_type": "markdown",
   "metadata": {},
   "source": [
    "+ We have the following statements:\n",
    "    1. The state (configuration) of a particle can be described by a wavefunction, which is a complex function, *&Psi;*(*x*)\n",
    "        1. In three-dimensional space, we would have *&Psi;*(*x*,*y*,*z*)\n",
    "        2. If we had two particles, we would have *&Psi;*(*x*<sub>1</sub>,*x*<sub>2</sub>)\n",
    "    2. The expression |*&Psi;*(*x*)|<sup>2</sup> is the probability of finding a particle in the range (*x*, *x*+*dx*)\n",
    "    3. Given two possible states of a particle (system) we can also have another state given as a linear combination of the original two (or even more)\n",
    "    4. The total probability over all possible positions must equal one:\n",
    "    $$ \\int { dx } { \\left| \\Psi \\left( x \\right)  \\right|  }^{ 2 }=1 $$\n",
    "    5. Not allowed are discontinuities or functions with wave discontinuities\n",
    "    6. A wavefunction with a well defined period has a small *&Delta;p*, since:\n",
    "    $$ P=\\frac{h}{\\lambda} = {\\hbar}{k}$$\n",
    "    7. Wavefunctions can be expressed as a superposition of (easier to interpret) wavefunction (by the use of Fourier transforms) (note from *e*<sup>*ikx*</sup> that we are summing over functions with a definite momentum, i.e. *e*<sup>*ikx*</sup> has a wavelength):\n",
    "    $$ \\Psi \\left( x \\right) = \\int _{ -\\infty  }^{ \\infty  }{ dk } \\tilde { \\Psi  } \\left( k \\right) { e }^{ 2{\\pi}ixk } $$\n",
    "        1. Here we have the set of coeffients given by;\n",
    "        $$ \\tilde { \\Psi  } \\left( k \\right) $$\n",
    "    8. Any wavefunction can also be expanded as a sum of wavefunctions with a definite position\n",
    "        1. For definite position we need the Dirac Delta function (see below)\n",
    "        $$ \\Psi \\left( x \\right) = \\int {{dx}_{0}}{\\Psi \\left( x \\right) \\delta \\left( x-{x}_{0} \\right)} $$"
   ]
  },
  {
   "cell_type": "markdown",
   "metadata": {
    "collapsed": true
   },
   "source": [
    "## Dirac delta equation"
   ]
  },
  {
   "cell_type": "markdown",
   "metadata": {},
   "source": [
    "+ In case you can't remember the Dirac delta equation, let's define it here\n",
    "+ We start with a piecewise defined function:\n",
    "$$ f\\left( t \\right) =  \\begin{matrix} \\frac { 1 }{ 2a } ;\\quad -a<t<a \\\\ 0;\\quad t\\notin \\left[ -a,a \\right]  \\end{matrix} $$\n",
    "+ Here, we have a line at <sup>1</sup>/<sub>2*a*</sub> between -*a* and *a* and everywhere else, it is zero\n",
    "+ The area under the curve (integral) is simply the area of a rectangle (which the functions forms):\n",
    "$$ \\int _{ -a }^{ a }{ f\\left( t \\right)  } dt\\\\ =\\quad \\int _{ -a }^{ a }{ \\frac { 1 }{ 2a }  } dt\\\\ =\\quad \\frac { 1 }{ 2a } \\left( t \\right) \\overset { a }{ \\underset { -a }{ | }  } \\\\ =\\quad \\frac { 1 }{ 2a } \\left[ a-\\left( -a \\right)  \\right] \\\\ =\\quad 1 $$\n",
    "+ We can make *a* smaller and smaller, but we will always have an integral of one (1)\n",
    "+ This brings us to the Dirac delta function of *f*:\n",
    "$$ \\lim _{ a\\rightarrow 0 }{ f\\left( t \\right)  } =\\delta \\left( t \\right) \\\\ \\int _{-\\infty}^{\\infty}{\\delta t} dt = 1 $$\n",
    "+ Note that the Dirac delta function above is for *t* = 0; we can have it at any position, though:\n",
    "$$ \\delta \\left( t-c \\right) $$"
   ]
  },
  {
   "cell_type": "markdown",
   "metadata": {},
   "source": [
    "## Fourier transforms"
   ]
  },
  {
   "cell_type": "markdown",
   "metadata": {},
   "source": [
    "+ The python™ sympy module defines the inverse Fourier transform as:\n",
    "$$ f\\left( x \\right) =\\int _{ -\\infty  }^{ \\infty  }{ F\\left( k \\right) { e }^{ 2\\pi ixk } } dk $$\n",
    "+ We can also define it as:\n",
    "$$ f\\left( x \\right) =\\frac { 1 }{ \\sqrt { 2\\pi  }  } \\int _{ -\\infty  }^{ \\infty  }{ F\\left( k \\right) { e }^{ ixk } } dk,\\quad k=\\frac { 2\\pi  }{ \\lambda  }  $$"
   ]
  },
  {
   "cell_type": "markdown",
   "metadata": {},
   "source": [
    "+ This inverse Fourier transform states that we can compute a function by superposing enough plane waves of the form:\n",
    "$$ {e}^{ikx} $$"
   ]
  },
  {
   "cell_type": "markdown",
   "metadata": {},
   "source": [
    "+ In quantum mechanics we can now state that any wave function, *&Psi;* can be expressed as a superposition:\n",
    "$$ \\Psi \\left( x \\right) =\\frac { 1 }{ \\sqrt { 2\\pi  }  } \\int _{ -\\infty  }^{ \\infty  }{ dk } \\tilde { \\Psi  } \\left( k \\right) { e }^{ ixk } $$\n",
    "+ With the sympy version being:\n",
    "$$ \\Psi \\left( x \\right) = \\int _{ -\\infty  }^{ \\infty  }{ dk } \\tilde { \\Psi  } \\left( k \\right) { e }^{ 2{\\pi}ixk } $$"
   ]
  },
  {
   "cell_type": "markdown",
   "metadata": {
    "collapsed": true
   },
   "source": [
    "## Converting probability into wavefunction notation"
   ]
  },
  {
   "cell_type": "markdown",
   "metadata": {},
   "source": [
    "+ In a previous chapter we looked at probability\n",
    "+ We had these equations for the expectation value fo a continuous variable and of a function:\n",
    "$$ \\left< x \\right> =\\int _{ -\\infty  }^{ \\infty  }{ x\\rho \\left( x \\right)  } dx \\\\ \\left< f\\left({x}\\right) \\right> =\\int _{ -\\infty  }^{ \\infty  }{ f\\left( {x} \\right)\\rho \\left( x \\right)  } dx $$\n",
    "+ In terms of wavefunctions we write:\n",
    "$$ \\left< x \\right> = \\int _{-\\infty}^{\\infty}{dx}{{\\left |\\Psi \\left( x\\right) \\right|}^{2}}{x} \\\\ \\left< f \\left ( x \\right) \\right> = \\int _{-\\infty}^{\\infty}{dx}{{\\left |\\Psi \\left( x\\right) \\right|}^{2}}{f \\left( x \\right)} $$\n",
    "+ For uncertainty (variance in terms of probability) we would have:\n",
    "$$ \\Delta {x}^{2} = \\left< {x}^{2} \\right> - {\\left< x \\right>}^{2} $$\n",
    "+ If you think back to dice space you will remember that there is a better way to look at the expectation value; in terms of bra and ket vectors and operators we will have:\n",
    "$$ \\left< x \\right> = {\\left< x \\right>}_{\\Psi} = \\left< \\Psi \\left| x \\right| \\Psi \\right> $$"
   ]
  },
  {
   "cell_type": "code",
   "execution_count": null,
   "metadata": {
    "collapsed": true
   },
   "outputs": [],
   "source": []
  }
 ],
 "metadata": {
  "kernelspec": {
   "display_name": "Python 3",
   "language": "python",
   "name": "python3"
  },
  "language_info": {
   "codemirror_mode": {
    "name": "ipython",
    "version": 3
   },
   "file_extension": ".py",
   "mimetype": "text/x-python",
   "name": "python",
   "nbconvert_exporter": "python",
   "pygments_lexer": "ipython3",
   "version": "3.4.3"
  }
 },
 "nbformat": 4,
 "nbformat_minor": 0
}
