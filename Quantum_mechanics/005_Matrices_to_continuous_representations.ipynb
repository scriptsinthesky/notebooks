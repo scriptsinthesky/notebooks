{
 "cells": [
  {
   "cell_type": "markdown",
   "metadata": {},
   "source": [
    "<a rel=\"license\" href=\"http://creativecommons.org/licenses/by-nc/4.0/\"><img alt=\"Creative Commons License\" style=\"border-width:0\" src=\"https://i.creativecommons.org/l/by-nc/4.0/88x31.png\" /></a><br /><span xmlns:dct=\"http://purl.org/dc/terms/\" property=\"dct:title\">Introduction to quantum mechanics</span> by <span xmlns:cc=\"http://creativecommons.org/ns#\" property=\"cc:attributionName\">Dr Juan H Klopper</span> is licensed under a <a rel=\"license\" href=\"http://creativecommons.org/licenses/by-nc/4.0/\">Creative Commons Attribution-NonCommercial 4.0 International License</a>."
   ]
  },
  {
   "cell_type": "code",
   "execution_count": 1,
   "metadata": {
    "collapsed": false
   },
   "outputs": [
    {
     "data": {
      "text/html": [
       "<link href='http://fonts.googleapis.com/css?family=Alegreya+Sans:100,300,400,500,700,800,900,100italic,300italic,400italic,500italic,700italic,800italic,900italic' rel='stylesheet' type='text/css'>\n",
       "<link href='http://fonts.googleapis.com/css?family=Arvo:400,700,400italic' rel='stylesheet' type='text/css'>\n",
       "<link href='http://fonts.googleapis.com/css?family=PT+Mono' rel='stylesheet' type='text/css'>\n",
       "<link href='http://fonts.googleapis.com/css?family=Shadows+Into+Light' rel='stylesheet' type='text/css'>\n",
       "<link href='http://fonts.googleapis.com/css?family=Philosopher:400,700,400italic,700italic' rel='stylesheet' type='text/css'>\n",
       "\n",
       "<style>\n",
       "\n",
       "@font-face {\n",
       "    font-family: \"Computer Modern\";\n",
       "    src: url('http://mirrors.ctan.org/fonts/cm-unicode/fonts/otf/cmunss.otf');\n",
       "}\n",
       "\n",
       "#notebook_panel { /* main background */\n",
       "    background: #ddd;\n",
       "    color: #000000;\n",
       "}\n",
       "\n",
       "\n",
       "\n",
       "/* Formatting for header cells */\n",
       ".text_cell_render h1 {\n",
       "    font-family: 'Philosopher', sans-serif;\n",
       "    font-weight: 400;\n",
       "    font-size: 2.2em;\n",
       "    line-height: 100%;\n",
       "    color: rgb(0, 80, 120);\n",
       "    margin-bottom: 0.1em;\n",
       "    margin-top: 0.1em;\n",
       "    display: block;\n",
       "}\t\n",
       ".text_cell_render h2 {\n",
       "    font-family: 'Philosopher', serif;\n",
       "    font-weight: 400;\n",
       "    font-size: 1.9em;\n",
       "    line-height: 100%;\n",
       "    color: rgb(200,100,0);\n",
       "    margin-bottom: 0.1em;\n",
       "    margin-top: 0.1em;\n",
       "    display: block;\n",
       "}\t\n",
       "\n",
       ".text_cell_render h3 {\n",
       "    font-family: 'Philosopher', serif;\n",
       "    margin-top:12px;\n",
       "    margin-bottom: 3px;\n",
       "    font-style: italic;\n",
       "    color: rgb(94,127,192);\n",
       "}\n",
       "\n",
       ".text_cell_render h4 {\n",
       "    font-family: 'Philosopher', serif;\n",
       "}\n",
       "\n",
       ".text_cell_render h5 {\n",
       "    font-family: 'Alegreya Sans', sans-serif;\n",
       "    font-weight: 300;\n",
       "    font-size: 16pt;\n",
       "    color: grey;\n",
       "    font-style: italic;\n",
       "    margin-bottom: .1em;\n",
       "    margin-top: 0.1em;\n",
       "    display: block;\n",
       "}\n",
       "\n",
       ".text_cell_render h6 {\n",
       "    font-family: 'PT Mono', sans-serif;\n",
       "    font-weight: 300;\n",
       "    font-size: 10pt;\n",
       "    color: grey;\n",
       "    margin-bottom: 1px;\n",
       "    margin-top: 1px;\n",
       "}\n",
       "\n",
       ".CodeMirror{\n",
       "        font-family: \"PT Mono\";\n",
       "        font-size: 100%;\n",
       "}\n",
       "\n",
       "</style>\n",
       "\n"
      ],
      "text/plain": [
       "<IPython.core.display.HTML object>"
      ]
     },
     "execution_count": 1,
     "metadata": {},
     "output_type": "execute_result"
    }
   ],
   "source": [
    "from IPython.core.display import HTML, Image\n",
    "css_file = 'style.css'\n",
    "HTML(open(css_file, 'r').read())"
   ]
  },
  {
   "cell_type": "code",
   "execution_count": 2,
   "metadata": {
    "collapsed": false
   },
   "outputs": [],
   "source": [
    "from sympy import init_printing # Latex printing to screen\n",
    "from warnings import filterwarnings # Ignoring ugly pink warnings"
   ]
  },
  {
   "cell_type": "code",
   "execution_count": 3,
   "metadata": {
    "collapsed": false
   },
   "outputs": [],
   "source": [
    "init_printing(use_latex = 'mathjax')\n",
    "filterwarnings('ignore')"
   ]
  },
  {
   "cell_type": "markdown",
   "metadata": {},
   "source": [
    "# Calculus"
   ]
  },
  {
   "cell_type": "markdown",
   "metadata": {},
   "source": [
    "## Heisenberg"
   ]
  },
  {
   "cell_type": "markdown",
   "metadata": {},
   "source": [
    "+ Using matrices as operators is good and well for many problems, but sometimes we need to go beyond this and look at continuity\n",
    "+ An example would involve calculating the energy level of a system with infinite energy levels\n",
    "    + In calculating energy the operator is called the Hamiltonian, such that:\n",
    "    $$ H \\left| \\psi \\right> = E \\left| \\psi \\right> $$\n",
    "    + E is what we are trying to calculate and is, as always, the eigenvalue(s):\n",
    "    $$ {\\lambda}_{i} = {E}_{i} $$\n",
    "    + If the energy levels are infinite, it would be a bit difficult to deal with"
   ]
  },
  {
   "cell_type": "markdown",
   "metadata": {},
   "source": [
    "## Schr&ouml;dinger"
   ]
  },
  {
   "cell_type": "markdown",
   "metadata": {},
   "source": [
    "+ We can deal with inifinte basis with continuous basis\n",
    "+ Consider bra and ket vectors such that:\n",
    "$$ \\sum _{ n=1 }^{ \\infty  }{ \\left| { \\phi  }_{ n } \\right>  } { \\left< { \\phi  }_{ n } \\right|  }=I $$\n",
    "+ If continuous summation becomes integration:\n",
    "$$ \\sum _{ n=1 }^{ \\infty  }{ \\left| { \\phi  }_{ n } \\right>  } { \\left< { \\phi  }_{ n } \\right|  }=I\\\\ \\int _{ -\\infty  }^{ \\infty  }{ dn{ \\left| { \\phi  }_{ n } \\right>  }{ \\left< { \\phi  }_{ n } \\right|  } } =I $$"
   ]
  },
  {
   "cell_type": "markdown",
   "metadata": {},
   "source": [
    "### Expanding kets"
   ]
  },
  {
   "cell_type": "markdown",
   "metadata": {},
   "source": [
    "+ Kets, |*&psi;*> can also be expanded in a basis of other kets |*&phi;*<sub>n</sub>>\n",
    "$$ { \\left| { \\psi  } \\right>  }=\\int _{ -\\infty  }^{ \\infty  }{ dn{ \\left| { \\phi  }_{ n } \\right>  }\\left< { { \\phi  }_{ n } }|{ \\psi  } \\right>  }  $$"
   ]
  },
  {
   "cell_type": "markdown",
   "metadata": {
    "collapsed": true
   },
   "source": [
    "+ We are still considering the wavefunction at an instant in time, i.e. time is a constant:\n",
    "$$ \\Psi \\left( x \\right) $$\n",
    "+ We are also aware of an operator and how it acts on a ket vector\n",
    "+ Before we continue let's just reiterate:\n",
    "    + We are dealing with a function, called the *wavefunction* that contains complex elements:\n",
    "    $$ \\Psi \\left( x \\right) \\in \\mathbb{C} $$\n",
    "    + An example would be:\n",
    "    $$ {e}^{ikx} $$\n",
    "    + It can be represented as a ket, such that we can construct a corresponding bra vector:\n",
    "    $$ {\\Psi}^{*} \\left( x \\right) $$\n",
    "    + The wavefunction describes the state of a system such that (for position, *x*) we can calculate the probability density function:\n",
    "    $$ {\\left| \\Psi \\left( x \\right) \\right|}^{2} = \\left< {\\Psi}^{*} | \\Psi \\right> $$\n",
    "    + This allows us to calculate a probability of finding our quantum object at a certain point as:\n",
    "    $$ \\mathbb{P} \\left( x \\right) dx = {\\left| \\Psi \\left( x \\right) \\right|}^{2}dx $$\n",
    "    + We have to remember that we can construct a new wavefunction as a superposition of other (linearly independent) wavefunctions:\n",
    "    $$ \\Psi \\left( x \\right) = {a}_{1} {\\Psi}_{1} \\left( x \\right) + {a}_{2} {\\Psi}_{2} \\left( x \\right) $$\n",
    "    + Please review our first introduction to operators and objects (ket and bra vectors) where we looked at dice space and the expectation value operator (matrix)"
   ]
  },
  {
   "cell_type": "markdown",
   "metadata": {},
   "source": [
    "### Introducing the momentum operator as a first proper example"
   ]
  },
  {
   "cell_type": "markdown",
   "metadata": {},
   "source": [
    "+ With explanation I am now going to introduce you to the momentum operator\n",
    "+ It illustrates much of the topics and mathematics that we have covered until now\n",
    "+ So, here it is:\n",
    "$$ \\frac{\\hbar}{i}\\frac{\\partial}{\\partial x} = -i\\hbar \\frac{\\partial}{\\partial x} $$\n",
    "+ This allows us to compute the expectation value of the momentum of a quantum object:\n",
    "$$ \\left< p \\right> = \\int _{-\\infty}^{\\infty}{dx}{\\left< {{\\Psi}^{*} \\left( x \\right)} \\left| \\frac{\\hbar}{i}\\frac{\\partial}{\\partial x} \\right| \\Psi \\left( x \\right) \\right>} $$"
   ]
  },
  {
   "cell_type": "markdown",
   "metadata": {
    "collapsed": true
   },
   "source": [
    "### Operators"
   ]
  },
  {
   "cell_type": "markdown",
   "metadata": {},
   "source": [
    "+ Now that we have seen our first proper quantum mechanical equation let's get back to operators\n",
    "+ I'll introduce a list of operators\n",
    "+ In essence they are maps or plans, telling us how to change an input and get an output\n",
    "+ In quatum mechanics (as we saw in our example above) it is going to be used to act on vectors and those vectors will contain (complex) functions that describe the state of a system\n",
    "    + Hence we need to know everything about vector spaces, basis vectors, etc.\n",
    "+ Our first operator is simple the operator that changes nothong, i.e. the output is identical to the input\n",
    "$$ \\mathbb{1}: f\\left(x\\right) \\rightarrow f\\left(x\\right) $$\n",
    "+ Our second operator is the partial derivative\n",
    "$$ \\frac{\\partial}{\\partial x}: f\\left(x\\right) \\rightarrow \\frac{\\partial}{\\partial x} \\left[ f\\left(x\\right) \\right] $$\n",
    "+ Our third operator is a bit odd (more about it later):\n",
    "$$ \\hat{x}:f\\left(x\\right) \\rightarrow xf\\left(x\\right) $$\n",
    "+ The next operator squares our function:\n",
    "$$ \\hat{S}: f\\left(x\\right) \\rightarrow {\\left[ f\\left(x\\right) \\right]}^{2} $$\n",
    "+ Here is an operator that changes our function (in *x* here) into a trivial function of *x* that is simply a constant:\n",
    "$$ {\\hat{\\mathbb{P}}}_{42}: f\\left(x\\right) \\rightarrow 42 $$\n",
    "+ Our last example multiplies functions:\n",
    "$$ {\\hat{O}}_{h \\left( x \\right)} \\rightarrow h\\left(x\\right)f\\left(x\\right) $$"
   ]
  },
  {
   "cell_type": "markdown",
   "metadata": {},
   "source": [
    "### Linear operators"
   ]
  },
  {
   "cell_type": "markdown",
   "metadata": {},
   "source": [
    "+ Now, let's zoom in a bit on a group of more usefull operators, namely linear operators\n",
    "+ They respect the principle of superposition\n",
    "+ From our examples above, the linear operators are\n",
    "$$ \\mathbb{1}: f\\left(x\\right) \\rightarrow f\\left(x\\right) \\\\ \\frac{\\partial}{\\partial x}: f\\left(x\\right) \\rightarrow \\frac{\\partial}{\\partial x} \\left[ f\\left(x\\right) \\right] \\\\ \\hat{x}:f\\left(x\\right) \\rightarrow xf\\left(x\\right) \\\\ {\\hat{O}}_{h \\left( x \\right)} \\rightarrow h\\left(x\\right)f\\left(x\\right) $$"
   ]
  },
  {
   "cell_type": "markdown",
   "metadata": {},
   "source": [
    "### Eigenvectors and eigenvalues"
   ]
  },
  {
   "cell_type": "markdown",
   "metadata": {},
   "source": [
    "+ Remember those?\n",
    "+ Some operators are so special that they act on a vector (think of a vector now as a line with an arrow pointing in a certain direction) and leave that vector on extactly the same *path* (it may be a shorter or longer or point in the opposite direction, though)\n",
    "+ This constant of proportionality between the operator and the vector on one side of the equation and the new vector on the other side is the eigenvalue"
   ]
  },
  {
   "cell_type": "markdown",
   "metadata": {},
   "source": [
    "+ Let's look at a simple python example"
   ]
  },
  {
   "cell_type": "code",
   "execution_count": 4,
   "metadata": {
    "collapsed": false
   },
   "outputs": [],
   "source": [
    "from sympy import Matrix, Rational, sqrt"
   ]
  },
  {
   "cell_type": "code",
   "execution_count": 5,
   "metadata": {
    "collapsed": false
   },
   "outputs": [
    {
     "data": {
      "text/latex": [
       "$$\\left[\\begin{matrix}4 & 1\\\\0 & -1\\end{matrix}\\right]$$"
      ],
      "text/plain": [
       "⎡4  1 ⎤\n",
       "⎢     ⎥\n",
       "⎣0  -1⎦"
      ]
     },
     "execution_count": 5,
     "metadata": {},
     "output_type": "execute_result"
    }
   ],
   "source": [
    "A = Matrix([[4, 1], [0,-1]])\n",
    "A"
   ]
  },
  {
   "cell_type": "code",
   "execution_count": 6,
   "metadata": {
    "collapsed": false
   },
   "outputs": [
    {
     "data": {
      "text/latex": [
       "$$\\left \\{ -1 : 1, \\quad 4 : 1\\right \\}$$"
      ],
      "text/plain": [
       "{-1: 1, 4: 1}"
      ]
     },
     "execution_count": 6,
     "metadata": {},
     "output_type": "execute_result"
    }
   ],
   "source": [
    "A.eigenvals()"
   ]
  },
  {
   "cell_type": "code",
   "execution_count": 7,
   "metadata": {
    "collapsed": false
   },
   "outputs": [
    {
     "data": {
      "text/latex": [
       "$$-1$$"
      ],
      "text/plain": [
       "-1"
      ]
     },
     "execution_count": 7,
     "metadata": {},
     "output_type": "execute_result"
    }
   ],
   "source": [
    "eigenval_1 = -1\n",
    "eigenval_1"
   ]
  },
  {
   "cell_type": "code",
   "execution_count": 8,
   "metadata": {
    "collapsed": false
   },
   "outputs": [
    {
     "data": {
      "text/latex": [
       "$$\\left [ \\left ( -1, \\quad 1, \\quad \\left [ \\left[\\begin{matrix}- \\frac{1}{5}\\\\1\\end{matrix}\\right]\\right ]\\right ), \\quad \\left ( 4, \\quad 1, \\quad \\left [ \\left[\\begin{matrix}1\\\\0\\end{matrix}\\right]\\right ]\\right )\\right ]$$"
      ],
      "text/plain": [
       "⎡⎛-1, 1, ⎡⎡-1/5⎤⎤⎞, ⎛4, 1, ⎡⎡1⎤⎤⎞⎤\n",
       "⎢⎜       ⎢⎢    ⎥⎥⎟  ⎜      ⎢⎢ ⎥⎥⎟⎥\n",
       "⎣⎝       ⎣⎣ 1  ⎦⎦⎠  ⎝      ⎣⎣0⎦⎦⎠⎦"
      ]
     },
     "execution_count": 8,
     "metadata": {},
     "output_type": "execute_result"
    }
   ],
   "source": [
    "A.eigenvects()"
   ]
  },
  {
   "cell_type": "code",
   "execution_count": 9,
   "metadata": {
    "collapsed": false
   },
   "outputs": [
    {
     "data": {
      "text/latex": [
       "$$\\left[\\begin{matrix}- \\frac{1}{5}\\\\1\\end{matrix}\\right]$$"
      ],
      "text/plain": [
       "⎡-1/5⎤\n",
       "⎢    ⎥\n",
       "⎣ 1  ⎦"
      ]
     },
     "execution_count": 9,
     "metadata": {},
     "output_type": "execute_result"
    }
   ],
   "source": [
    "eigenvec_1 = Matrix([[Rational(-1, 5)], [1]])\n",
    "eigenvec_1"
   ]
  },
  {
   "cell_type": "code",
   "execution_count": 10,
   "metadata": {
    "collapsed": false
   },
   "outputs": [
    {
     "data": {
      "text/latex": [
       "$$\\left[\\begin{matrix}\\frac{1}{5}\\\\-1\\end{matrix}\\right]$$"
      ],
      "text/plain": [
       "⎡1/5⎤\n",
       "⎢   ⎥\n",
       "⎣-1 ⎦"
      ]
     },
     "execution_count": 10,
     "metadata": {},
     "output_type": "execute_result"
    }
   ],
   "source": [
    "A * eigenvec_1"
   ]
  },
  {
   "cell_type": "code",
   "execution_count": 11,
   "metadata": {
    "collapsed": false
   },
   "outputs": [
    {
     "data": {
      "text/latex": [
       "$$\\left[\\begin{matrix}\\frac{1}{5}\\\\-1\\end{matrix}\\right]$$"
      ],
      "text/plain": [
       "⎡1/5⎤\n",
       "⎢   ⎥\n",
       "⎣-1 ⎦"
      ]
     },
     "execution_count": 11,
     "metadata": {},
     "output_type": "execute_result"
    }
   ],
   "source": [
    "eigenval_1 * eigenvec_1"
   ]
  },
  {
   "cell_type": "code",
   "execution_count": 12,
   "metadata": {
    "collapsed": false
   },
   "outputs": [
    {
     "data": {
      "text/plain": [
       "True"
      ]
     },
     "execution_count": 12,
     "metadata": {},
     "output_type": "execute_result"
    }
   ],
   "source": [
    "A * eigenvec_1 == eigenval_1 * eigenvec_1"
   ]
  },
  {
   "cell_type": "markdown",
   "metadata": {},
   "source": [
    "+ Let's consider our momentum operator above and let it act on the function *e*<sup>*ikx*</sup>:\n",
    "$$ \\Psi \\left( x \\right) = {e}^{ikx} \\\\ \\hat{p} = -i\\hbar \\frac{\\partial}{\\partial x} \\\\ \\hat{p} \\Psi \\left( x \\right) \\\\ -i\\hbar\\frac{\\partial}{\\partial x}{e}^{ikx} = \\hbar k {e}^{ikx} $$\n",
    "+ We have our momentum operator:\n",
    "$$ -i\\hbar \\frac{\\partial}{\\partial x} $$\n",
    "+ It acts on our object (functions, which is a one-by-one matrix):\n",
    "$$ {e}^{ikx} $$\n",
    "+ This gives us an eigenvalue:\n",
    "$$ \\hbar k $$\n",
    "+ Together with an eigenvector (whish is the same as the original object functions):\n",
    "$$ {e}^{ikx} $$"
   ]
  },
  {
   "cell_type": "markdown",
   "metadata": {},
   "source": [
    "+ We can write is as:\n",
    "$$ \\hat{A} {f}_{a} \\left( x \\right) = a{f}_{a} \\left( x \\right) $$\n",
    "+ The subscript *a* denotes the fact that we have a specific eigenvalue for each eigenvector (even sometimes more than one)"
   ]
  },
  {
   "cell_type": "markdown",
   "metadata": {},
   "source": [
    "### The energy operator"
   ]
  },
  {
   "cell_type": "markdown",
   "metadata": {},
   "source": [
    "+ I promised more about our *weird* operator:\n",
    "$$ \\hat{x} $$"
   ]
  },
  {
   "cell_type": "markdown",
   "metadata": {},
   "source": [
    "+ If we consider the total energy to be the sum of kinetic and potential energy we have the following:\n",
    "$$ E = K + V \\left( x \\right) \\\\ \\because K = \\frac{1}{2} m {v}^{2} \\\\ \\because p = mv \\\\ v = \\frac{p}{m} \\\\ K = \\frac{{p}^{2}}{2m} \\\\ E = \\frac{{p}^{2}}{2m} + V \\left( x \\right) $$"
   ]
  },
  {
   "cell_type": "markdown",
   "metadata": {},
   "source": [
    "+ We turn this into an energy operator:\n",
    "$$ \\hat{E} = \\frac{{\\hat{p}}^{2}}{2m} + V \\left( \\hat{x} \\right) \\\\ \\hat{p} = -i\\hbar \\frac{\\partial}{\\partial x} \\\\ \\hat{E} = -\\frac{{\\hbar}^{2}}{2m} \\frac{{\\partial}^{2}}{{\\partial x}^{2}} + V \\left( \\hat{x} \\right) $$\n",
    "+ Just for clarity's sake:\n",
    "$$ V \\left( \\hat{x} \\right):f \\left( x \\right) = V \\left( x \\right) f \\left( x \\right) $$\n",
    "+ This makes our energy operator acting on a state vector (complex function, complex column matrix):\n",
    "$$ \\hat{E} \\Psi \\left( x \\right) = -\\frac{{\\hbar}^{2}}{2m} \\frac{{\\partial}^{2}}{{\\partial x}^{2}} \\Psi \\left( x \\right) + V \\left( {x} \\right) \\Psi \\left( x \\right) $$"
   ]
  },
  {
   "cell_type": "markdown",
   "metadata": {},
   "source": [
    "### Our operators so far"
   ]
  },
  {
   "cell_type": "markdown",
   "metadata": {},
   "source": [
    "+ For each observable (state of a quantum system) we have an associated operator:\n",
    "    + Momentum:\n",
    "    $$ \\hat{p} $$\n",
    "    + Position:\n",
    "    $$ \\hat{x} $$\n",
    "    + Energy:\n",
    "    $$ \\hat{E} $$"
   ]
  },
  {
   "cell_type": "markdown",
   "metadata": {},
   "source": [
    "+ Now, we are back with the expectation value (if an experiment is repeated multiple time, the *average* value will be (substituting *&#194;* for our operator):\n",
    "$$ \\left< \\hat{A} \\right> = \\int _{-\\infty}^{\\infty}{dx}{\\left< {{\\Psi}^{*} \\left( x \\right)} \\left| \\hat{A} \\right| \\Psi \\left( x \\right) \\right>} $$"
   ]
  },
  {
   "cell_type": "markdown",
   "metadata": {},
   "source": [
    "+ We have seen before that the uncertainty in the expectation value of an operator acting on a state function is given by:\n",
    "$$ {\\left( \\Delta A \\right)}_{\\Psi} = \\sqrt{\\left< {\\hat{A}}^{2} \\right> - {\\left< A \\right>}^{2} } $$"
   ]
  },
  {
   "cell_type": "markdown",
   "metadata": {
    "collapsed": true
   },
   "source": [
    "### Commutation"
   ]
  },
  {
   "cell_type": "markdown",
   "metadata": {},
   "source": [
    "+ The next thing we could as is whether operators commute\n",
    "+ Let's look at the following operators:\n",
    "$$ \\hat{p}\\hat{x} \\\\ \\hat{x}\\hat{p} $$\n",
    "+ Remember, though, that operators (even though they could be matrices) act upon functions\n",
    "+ They really do not exist on their own, so we have:\n",
    "$$ \\left( \\hat{p}\\hat{x} \\right) f \\left( x \\right) = \\hat{p} \\left[ \\hat{x} f \\left( x \\right) \\right] = \\hat{p} \\left[ x f \\left( x \\right) \\right] = -i \\hbar \\frac{\\partial}{\\partial x} \\left[ x f \\left( x \\right) \\right] = -i \\hbar f \\left( x \\right) - i \\hbar x \\left[ \\frac{\\partial}{\\partial x} f \\left( x \\right) \\right] \\\\ \\left( \\hat{x}\\hat{p} \\right) f \\left( x \\right) = \\hat{x} \\left[ \\hat{p} f \\left( x \\right) \\right] = \\hat{x} \\left[ -i \\hbar \\frac{\\partial}{\\partial x} f \\left( x \\right) \\right] = \\left[ -i \\hbar x \\frac{\\partial}{\\partial x} f \\left( x \\right) \\right] $$"
   ]
  },
  {
   "cell_type": "markdown",
   "metadata": {},
   "source": [
    "+ We can clearly see that the partial derivatives are not the same and the operators do not commute\n",
    "+ What of we subtract the two from each other?\n",
    "+ Well, we get the *commutator*\n",
    "+ For matrices this would be\n",
    "$$ \\left[ A,B \\right] = AB - BA $$\n",
    "+ For the two operators above we have\n",
    "$$ \\left[ \\hat x, \\hat p \\right] = \\hat x \\hat p - \\hat p \\hat x =  -i \\hbar f \\left( x \\right) $$"
   ]
  },
  {
   "cell_type": "markdown",
   "metadata": {},
   "source": [
    "### Let's just remember the superposition principle"
   ]
  },
  {
   "cell_type": "markdown",
   "metadata": {},
   "source": [
    "+ Remember that any wavefunction can be written as a sum of linearly independent wavefunctions\n",
    "$$ \\Psi \\left( x \\right) = \\sum {{c}_{a} {\\Psi}_{a} \\left( x \\right)} $$"
   ]
  },
  {
   "cell_type": "markdown",
   "metadata": {},
   "source": [
    "+ For the position operator we have the following\n",
    "$$ \\hat x, \\quad \\left\\{ \\delta \\left( x - {x}_{0} \\right), \\quad \\forall \\quad {x}_{0} \\right\\} $$\n",
    "+ We say that after measuring (applying the position operator) the wavefunction collapses to finding the quantum object at position *x*<sub>0</sub>\n",
    "+ Expanding our summation equation above, thus gives\n",
    "$$ \\Psi \\left( x \\right) = \\int _{-\\infty}^{\\infty} d{x}_{0} \\Psi \\left( {x}_{0} \\right) \\delta \\left( x - {x}_{0} \\right) $$"
   ]
  },
  {
   "cell_type": "markdown",
   "metadata": {},
   "source": [
    "### Time evolution"
   ]
  },
  {
   "cell_type": "markdown",
   "metadata": {},
   "source": [
    "+ Planck and then Einstein realized the quantized nature of the photon\n",
    "+ For momentum and energy we have\n",
    "$$ \\vec{p} = \\hbar \\vec{k} \\\\ E = \\hbar \\omega $$\n",
    "+ We know what the momentum operator is\n",
    "$$ -i \\hbar \\frac{\\partial}{\\partial{x}} $$\n",
    "+ We also know from befor that\n",
    "$$ \\Psi \\left( x,t \\right) = {e}^{i \\left( kx - \\omega t \\right)} $$\n",
    "+ Applying the momentum operator to this gives us\n",
    "$$ \\hbar k \\Psi \\left( x,t \\right) $$\n",
    "+ Can you see the eigenvalue is then the result of our experiemnt, it calculates the momentum\n",
    "+ The only operator that will give us an eigenvalue that is correct for energy is then\n",
    "$$ i \\hbar \\frac{\\partial}{\\partial{t}} $$"
   ]
  },
  {
   "cell_type": "markdown",
   "metadata": {},
   "source": [
    "+ So for any known energy, we can work out the time evolution of our quantum object (a photon in this case)\n",
    "$$ i \\hbar \\frac{\\partial}{\\partial x} \\Psi \\left( x,t \\right) = E \\Psi \\left( x,t \\right) $$"
   ]
  },
  {
   "cell_type": "markdown",
   "metadata": {},
   "source": [
    "+ But what if we do not know the energy?\n",
    "+ Schr&ouml;dinger had the inspiration to realize that we are dealing with the energy operator\n",
    "$$ i \\hbar \\frac{\\partial}{\\partial x} \\Psi \\left( x,t \\right) = \\hat{E} \\Psi \\left( x,t \\right) $$\n"
   ]
  },
  {
   "cell_type": "markdown",
   "metadata": {},
   "source": [
    "+ Now we have the Schr&ouml;dinger equation, a differential equation that is first order in time and second order in position\n",
    "$$ i \\hbar \\frac{\\partial}{\\partial{t}} \\Psi \\left( x,t \\right) = - \\frac{{\\hbar}^{2}}{2m} \\frac{{\\partial}^{2}}{\\partial {x}^{2}} \\Psi \\left( x,t \\right) + V \\left( x \\right) \\Psi \\left( x,t \\right) $$"
   ]
  },
  {
   "cell_type": "code",
   "execution_count": null,
   "metadata": {
    "collapsed": true
   },
   "outputs": [],
   "source": []
  }
 ],
 "metadata": {
  "kernelspec": {
   "display_name": "Python 3",
   "language": "python",
   "name": "python3"
  },
  "language_info": {
   "codemirror_mode": {
    "name": "ipython",
    "version": 3
   },
   "file_extension": ".py",
   "mimetype": "text/x-python",
   "name": "python",
   "nbconvert_exporter": "python",
   "pygments_lexer": "ipython3",
   "version": "3.4.3"
  }
 },
 "nbformat": 4,
 "nbformat_minor": 0
}
