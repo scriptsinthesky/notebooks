{
 "cells": [
  {
   "cell_type": "markdown",
   "metadata": {},
   "source": [
    "<a rel=\"license\" href=\"http://creativecommons.org/licenses/by-nc/4.0/\"><img alt=\"Creative Commons License\" style=\"border-width:0\" src=\"https://i.creativecommons.org/l/by-nc/4.0/88x31.png\" /></a><br /><span xmlns:dct=\"http://purl.org/dc/terms/\" property=\"dct:title\">Introduction to quantum mechanics</span> by <span xmlns:cc=\"http://creativecommons.org/ns#\" property=\"cc:attributionName\">Dr Juan H Klopper</span> is licensed under a <a rel=\"license\" href=\"http://creativecommons.org/licenses/by-nc/4.0/\">Creative Commons Attribution-NonCommercial 4.0 International License</a>."
   ]
  },
  {
   "cell_type": "code",
   "execution_count": 1,
   "metadata": {
    "collapsed": false
   },
   "outputs": [
    {
     "data": {
      "text/html": [
       "<link href='http://fonts.googleapis.com/css?family=Alegreya+Sans:100,300,400,500,700,800,900,100italic,300italic,400italic,500italic,700italic,800italic,900italic' rel='stylesheet' type='text/css'>\n",
       "<link href='http://fonts.googleapis.com/css?family=Arvo:400,700,400italic' rel='stylesheet' type='text/css'>\n",
       "<link href='http://fonts.googleapis.com/css?family=PT+Mono' rel='stylesheet' type='text/css'>\n",
       "<link href='http://fonts.googleapis.com/css?family=Shadows+Into+Light' rel='stylesheet' type='text/css'>\n",
       "<link href='http://fonts.googleapis.com/css?family=Philosopher:400,700,400italic,700italic' rel='stylesheet' type='text/css'>\n",
       "\n",
       "<style>\n",
       "\n",
       "@font-face {\n",
       "    font-family: \"Computer Modern\";\n",
       "    src: url('http://mirrors.ctan.org/fonts/cm-unicode/fonts/otf/cmunss.otf');\n",
       "}\n",
       "\n",
       "#notebook_panel { /* main background */\n",
       "    background: #ddd;\n",
       "    color: #000000;\n",
       "}\n",
       "\n",
       "\n",
       "\n",
       "/* Formatting for header cells */\n",
       ".text_cell_render h1 {\n",
       "    font-family: 'Philosopher', sans-serif;\n",
       "    font-weight: 400;\n",
       "    font-size: 2.2em;\n",
       "    line-height: 100%;\n",
       "    color: rgb(0, 80, 120);\n",
       "    margin-bottom: 0.1em;\n",
       "    margin-top: 0.1em;\n",
       "    display: block;\n",
       "}\t\n",
       ".text_cell_render h2 {\n",
       "    font-family: 'Philosopher', serif;\n",
       "    font-weight: 400;\n",
       "    font-size: 1.9em;\n",
       "    line-height: 100%;\n",
       "    color: rgb(200,100,0);\n",
       "    margin-bottom: 0.1em;\n",
       "    margin-top: 0.1em;\n",
       "    display: block;\n",
       "}\t\n",
       "\n",
       ".text_cell_render h3 {\n",
       "    font-family: 'Philosopher', serif;\n",
       "    margin-top:12px;\n",
       "    margin-bottom: 3px;\n",
       "    font-style: italic;\n",
       "    color: rgb(94,127,192);\n",
       "}\n",
       "\n",
       ".text_cell_render h4 {\n",
       "    font-family: 'Philosopher', serif;\n",
       "}\n",
       "\n",
       ".text_cell_render h5 {\n",
       "    font-family: 'Alegreya Sans', sans-serif;\n",
       "    font-weight: 300;\n",
       "    font-size: 16pt;\n",
       "    color: grey;\n",
       "    font-style: italic;\n",
       "    margin-bottom: .1em;\n",
       "    margin-top: 0.1em;\n",
       "    display: block;\n",
       "}\n",
       "\n",
       ".text_cell_render h6 {\n",
       "    font-family: 'PT Mono', sans-serif;\n",
       "    font-weight: 300;\n",
       "    font-size: 10pt;\n",
       "    color: grey;\n",
       "    margin-bottom: 1px;\n",
       "    margin-top: 1px;\n",
       "}\n",
       "\n",
       ".CodeMirror{\n",
       "        font-family: \"PT Mono\";\n",
       "        font-size: 100%;\n",
       "}\n",
       "\n",
       "</style>\n",
       "\n"
      ],
      "text/plain": [
       "<IPython.core.display.HTML object>"
      ]
     },
     "execution_count": 1,
     "metadata": {},
     "output_type": "execute_result"
    }
   ],
   "source": [
    "from IPython.core.display import HTML, Image\n",
    "css_file = 'style.css'\n",
    "HTML(open(css_file, 'r').read())"
   ]
  },
  {
   "cell_type": "code",
   "execution_count": 2,
   "metadata": {
    "collapsed": true
   },
   "outputs": [],
   "source": [
    "from sympy import init_printing # Latex printing to screen\n",
    "from warnings import filterwarnings # Ignoring ugly pink warnings"
   ]
  },
  {
   "cell_type": "code",
   "execution_count": 3,
   "metadata": {
    "collapsed": true
   },
   "outputs": [],
   "source": [
    "init_printing(use_latex = 'mathjax')\n",
    "filterwarnings('ignore')"
   ]
  },
  {
   "cell_type": "markdown",
   "metadata": {
    "collapsed": true
   },
   "source": [
    "# Probability"
   ]
  },
  {
   "cell_type": "markdown",
   "metadata": {},
   "source": [
    "## Introduction"
   ]
  },
  {
   "cell_type": "markdown",
   "metadata": {},
   "source": [
    "+ Up until now we have been dealing with operators and state vectors in finite dimensions, the so-called matrix mechanics of Heisenberg\n",
    "+ We have to develop the concept, though, of infinite-dimensional basis\n",
    "+ For this we start our journey with probability and end with the Shrodinger equation\n",
    "+ Probability takes the place of certainty in quantum mechanics and is a very important topic"
   ]
  },
  {
   "cell_type": "markdown",
   "metadata": {},
   "source": [
    "## Discrete variable probability"
   ]
  },
  {
   "cell_type": "markdown",
   "metadata": {},
   "source": [
    "+ We start off with a simple example so as to introduce notation and terminology"
   ]
  },
  {
   "cell_type": "markdown",
   "metadata": {},
   "source": [
    "+ Consider a room with 14 people, their ages being 14, 15, 16, 16, 16, 22, 22, 24, 24, 25, 25, 25, 25 and 25\n",
    "+ We write the number of people with a certain age *j* as follows:\n",
    "$$ {N}\\left({j}\\right) $$\n",
    "+ For our example we have:\n",
    "$$ N\\left( 14 \\right) =1\\\\ N\\left( 15 \\right) =1\\\\ N\\left( 16 \\right) =3\\\\ N\\left( 22 \\right) =2\\\\ N\\left( 24 \\right) =2\\\\ N\\left( 25 \\right) =5 $$\n",
    "+ We could have had any age represented, but these are the ones we ended up with\n",
    "+ To get to the total of 14 people we have:\n",
    "$$ N(14)+N(15)+N(16)+N(22)+N(24)+N(25) \\\\ \\lim _{ n\\rightarrow \\infty  }{ \\sum _{ j=0 }^{ n }{ N\\left( j \\right)  }  } =N $$"
   ]
  },
  {
   "cell_type": "markdown",
   "metadata": {},
   "source": [
    "### Probability of picking someone of a certain age"
   ]
  },
  {
   "cell_type": "markdown",
   "metadata": {},
   "source": [
    "+ Now let's pick someone from the group and ask, what was the probability of picking someone aged 17?\n",
    "    + Absolutely zero, as no-one is aged 17\n",
    "+ What about picking someone at random and that person being 16?\n",
    "    + Three out of the 14 are aged 16\n",
    "    + The probability of having done this is thus <sup>3</sup>/<sub>14</sub>\n",
    "+ We can represent the probability of picking someone of age *j* as a function P(*j*):\n",
    "$$ {P}\\left({j}\\right)=\\frac{{N}\\left({j}\\right)}{N} $$\n",
    "+ In our last question about the probability of picking someone aged 16 we would have:\n",
    "$$ {P}\\left({16}\\right)=\\frac{{N}\\left({16}\\right)}{N} = \\frac{3}{14}  $$"
   ]
  },
  {
   "cell_type": "markdown",
   "metadata": {},
   "source": [
    "+ If we were tasked with calculating the probability of picking someone aged 14 **or** 15, we add (sum) N(14) and N(15):\n",
    "$$ \\frac{1+1}{14} = \\frac{1}{7} $$"
   ]
  },
  {
   "cell_type": "markdown",
   "metadata": {},
   "source": [
    "+ An important topic is summing over all the probabilities:\n",
    "$$ \\frac{1+1+3+2+2+5}{14} = 1 \\\\ \\lim _{ n\\rightarrow \\infty  }{ \\sum _{ j=0 }^{ n }{ P\\left( j \\right)  }  } =1 $$"
   ]
  },
  {
   "cell_type": "markdown",
   "metadata": {},
   "source": [
    "+ This fraction 1.0 represents 100%\n",
    "+ Indeed probability is always contained in [0,1]"
   ]
  },
  {
   "cell_type": "markdown",
   "metadata": {},
   "source": [
    "### Picking the most probable age"
   ]
  },
  {
   "cell_type": "markdown",
   "metadata": {},
   "source": [
    "+ Now we can ask what the most probable age is if someone is picked at random\n",
    "+ This is the *j* for which P(*j*) is at a maximum, thus 25, with a probability of <sup>5</sup>/<sub>14</sub>"
   ]
  },
  {
   "cell_type": "markdown",
   "metadata": {},
   "source": [
    "### The median age"
   ]
  },
  {
   "cell_type": "markdown",
   "metadata": {},
   "source": [
    "+ What is the median age of our group of 14?\n",
    "+ The median age is the *j*, for which half (&frac12;N) has an age less than or equal to *j* and the other half more than or equal to *j*\n",
    "+ The actual value of *j* might not be represented in the group\n",
    "+ In our example *j* = 23, as 7 people are younger and 7 are older\n",
    "+ The value was going to fall between 22 and 24 and we took the average of 22 and 24 to get 23"
   ]
  },
  {
   "cell_type": "markdown",
   "metadata": {},
   "source": [
    "### The average or mean age (or expectation value)"
   ]
  },
  {
   "cell_type": "markdown",
   "metadata": {},
   "source": [
    "+ What is the average age of our group if 14?\n",
    "+ We simply add all the ages and divide by the number of people\n",
    "$$ \\frac{14+15+16+16+16+22+2+24+24+25+25+25+25+25}{14}=\\frac{294}{14}=21 $$\n",
    "+ A simpler way would just be to weight each individual age:\n",
    "$$ \\frac{(14)+(15)+3(16)+2(22)+2(24)+5(25)}{14}=21 $$"
   ]
  },
  {
   "cell_type": "markdown",
   "metadata": {},
   "source": [
    "+ We can represent the average value is a few ways:\n",
    "$$ \\bar{j} = \\left<{j}\\right> $$\n",
    "+ To calculate the age we do what we did above using the simpler weighting method, which was to multiple the age by the number of people with that age:\n",
    "$$ \\left<{j}\\right>=\\lim _{ n\\rightarrow \\infty  }{ \\sum _{ j=0 }^{ n }{ \\frac { { j }N\\left( { j } \\right)  }{ N }  }  }  $$\n",
    "+ From:\n",
    "$$ P\\left( j \\right) =\\frac { N\\left( j \\right)  }{ N }  $$\n",
    "+ We have:\n",
    "$$ \\left<{j}\\right>=\\lim _{ n\\rightarrow \\infty  }{ \\sum _{ j=0 }^{ n }{ jP\\left( j \\right)  }  }  $$"
   ]
  },
  {
   "cell_type": "markdown",
   "metadata": {},
   "source": [
    "+ I specifically stuck with the limit notation, starting at zero and ending at infinity\n",
    "+ This is to remind of the fact that the average here is the *expectation value*, i.e. the value that comes out on average if an experiment is repeated many times (although the term sound more like *the most likely* number to occur)"
   ]
  },
  {
   "cell_type": "markdown",
   "metadata": {},
   "source": [
    "### The average of the square of the ages"
   ]
  },
  {
   "cell_type": "markdown",
   "metadata": {},
   "source": [
    "+ Here we are asking for:\n",
    "$$ \\left<{j}^{2}\\right> $$\n",
    "+ We could do it the long way:\n",
    "$$ \\left<{j}^{2}\\right>=\\frac { { 14 }^{ 2 }+{ 15 }^{ 2 }+{ 16 }^{ 2 }+{ 16 }^{ 2 }+{ 16 }^{ 2 }+{ 22 }^{ 2 }+{ 22 }^{ 2 }+{ 25 }^{ 2 }+{ 25 }^{ 2 }+{ 25 }^{ 2 }+{ 25 }^{ 2 }+{ 25 }^{ 2 } }{ 14 }  $$"
   ]
  },
  {
   "cell_type": "markdown",
   "metadata": {},
   "source": [
    "+ It easy to see that we could just use the last equation we used for the expectation value:\n",
    "$$ \\left<{j}^{2}\\right>=\\lim _{ n\\rightarrow \\infty  }{ \\sum _{ j=0 }^{ n }{ {j}^{2}P\\left( {j} \\right)  }  } $$"
   ]
  },
  {
   "cell_type": "markdown",
   "metadata": {},
   "source": [
    "### The average value of a function"
   ]
  },
  {
   "cell_type": "markdown",
   "metadata": {},
   "source": [
    "+ Imagine *j* was not an integer, but a function of *j*\n",
    "+ The average value of some function of *j* is:\n",
    "$$ \\left< f\\left( j \\right) \\right> =\\lim _{ n\\rightarrow \\infty  }{ \\sum _{ j=0 }^{ n }{ f\\left( j \\right)P\\left( j \\right) }  }  $$"
   ]
  },
  {
   "cell_type": "markdown",
   "metadata": {},
   "source": [
    "### The variance"
   ]
  },
  {
   "cell_type": "markdown",
   "metadata": {},
   "source": [
    "+ We also need to consider how far all the values are from the average\n",
    "+ Imagine plotting all the ages on the real line and marking off the average\n",
    "+ We want to know the average distance that all the marks are away from the average\n",
    "+ Some will be more than and some less than the average\n",
    "+ Simply considering the *distance* away as *average - specific value* will leave some negatives\n",
    "+ Taking the absolute value is cumbersome\n",
    "+ Instead we just square all the distances (differences)\n",
    "+ In general we have:\n",
    "$$ \\Delta j=j-\\left< j \\right>  $$\n",
    "+ Squaring these become:\n",
    "$$ \\left<\\left({\\Delta j}\\right)^{2}\\right>={\\left(j-\\left< j \\right>\\right)}^{2} $$\n",
    "+ The symbol for variance is *&sigma;*<sup>2</sup>\n",
    "+ We take the square root of this to end up with the standard deviation, the actual average distance all values are away from the average!\n",
    "$$ { \\sigma  }^{ 2 }={ \\left( \\left< \\Delta j \\right>  \\right)  }^{ 2 }=\\sum { { \\left( \\Delta j \\right)  }^{ 2 }P\\left( j \\right)  } \\\\ { \\sigma  }^{ 2 }=\\sum { { \\left( j-\\left< j \\right>  \\right)  }^{ 2 }P\\left( j \\right)  } \\\\ { \\sigma  }^{ 2 }=\\sum { \\left( { j }^{ 2 }-2j\\left< j \\right> +{ \\left< j \\right>  }^{ 2 } \\right) P\\left( j \\right)  } \\\\ { \\sigma  }^{ 2 }=\\sum { { j }^{ 2 }P\\left( j \\right) -2j\\left< j \\right> P\\left( j \\right) +{ \\left< j \\right>  }^{ 2 }P\\left( j \\right)  } \\\\ { \\sigma  }^{ 2 }=\\sum { { j }^{ 2 }P\\left( j \\right)  } -2\\left< j \\right> \\sum { jP\\left( j \\right)  } +{ \\left< j \\right>  }^{ 2 }\\sum { P\\left( j \\right)  } \\\\ { \\sigma  }^{ 2 }=\\left< { j }^{ 2 } \\right> -2\\left< j \\right> \\left< j \\right> +{ \\left< j \\right>  }^{ 2 }\\\\ { \\sigma  }^{ 2 }=\\left< { j }^{ 2 } \\right> -{ \\left< j \\right>  }^{ 2 }\\\\ \\sigma =\\sqrt { \\left< { j }^{ 2 } \\right> -{ \\left< j \\right>  }^{ 2 } }  $$"
   ]
  },
  {
   "cell_type": "markdown",
   "metadata": {},
   "source": [
    "+ From this we deduce that the average of the square of the values is more than or equal to the square of the average of the values:\n",
    "$$ \\left< { j }^{ 2 } \\right> \\ge { \\left< j \\right>  }^{ 2 } $$"
   ]
  },
  {
   "cell_type": "markdown",
   "metadata": {},
   "source": [
    "## Continuous variables"
   ]
  },
  {
   "cell_type": "markdown",
   "metadata": {},
   "source": [
    "+ Now we have to move away from discrete values\n",
    "+ We can no longer ask for the probability of a getting a value, but the probability of being between two values\n",
    "+ We can continuously shrink the gap down smaller and smaller, but by definition, never end with a single value\n",
    "+ Remember that we had:\n",
    "$$ \\left< j \\right> =\\sum { jP\\left( j \\right)  } = \\sum { P\\left( j \\right){j}  } $$\n",
    "+ Instead of P(*j*) we have probability density, *&rho;*(x), the probability between two values and instead of an actual value *j*, we have *dx* (the ever-shrinking gap)\n",
    "+ So, the probability of finding a value between two discrete values become:\n",
    "$$ { P }_{ ab }=\\int _{ a }^{ b }{ \\rho \\left( x \\right) } dx $$"
   ]
  },
  {
   "cell_type": "markdown",
   "metadata": {},
   "source": [
    "+ Finding the expectation value is easy:\n",
    "$$ \\left< x \\right> =\\int _{ -\\infty  }^{ \\infty  }{ x\\rho \\left( x \\right)  } dx $$\n",
    "+ Introducing a function becomes:\n",
    "$$ \\left< f\\left({x}\\right) \\right> =\\int _{ -\\infty  }^{ \\infty  }{ f\\left( {x} \\right)\\rho \\left( x \\right)  } dx $$"
   ]
  },
  {
   "cell_type": "markdown",
   "metadata": {},
   "source": [
    "### The dropping potato example"
   ]
  },
  {
   "cell_type": "markdown",
   "metadata": {},
   "source": [
    "+ Let's drop a potato (in a vacuum on earth and starting at rest) from a height *h*, so the only acceleration is *g*\n",
    "+ Now take a million randomly timed photos (with some awesome camera) during the time the potato is in free-fall\n",
    "+ On each subsequent image we measure the distance fallen and ask: At what height has half of the time elapsed?"
   ]
  },
  {
   "cell_type": "markdown",
   "metadata": {
    "collapsed": true
   },
   "source": [
    "+ Since our potato is falling from rest, it will spend most of its time at the *top* of the fall\n",
    "+ From classical mechanics we have:\n",
    "$$ x\\left( t \\right) ={ x }_{ 0 }+{ v }_{ o }t+\\frac { 1 }{ 2 } g{ t }^{ 2 }\\\\ x\\left( t \\right) =\\frac { 1 }{ 2 } g{ t }^{ 2 }\\\\ \\frac { dx }{ dt } =gt\\\\ x\\left( T \\right) =h\\\\ x\\left( T \\right) =h=\\frac { 1 }{ 2 } g{ T }^{ 2 }\\\\ { T }^{ 2 }=\\frac { 2h }{ g } \\\\ T=\\sqrt { \\frac { 2h }{ g }  }  $$\n",
    "+ Now, we need to consider the probability that the camera takes an image in a small time interval *dt*\n",
    "    + We noted a million litlle time gaps (images taken) in the total time *T*\n",
    "    + We only chose a million because it is a fairly large number\n",
    "    + <sup>1</sup>/<sub>1,000,000</sub><sup>th</sup> of this could be our small time interval *dt*\n",
    "    + The probability of an image being taken in that small instant is very small, indeed it is only:\n",
    "    $$ \\frac{1}{T}{dt} $$\n",
    "    + Adding all the little *dt* values add up to T and <sup>T</sup>/<sub>T</sub> = 1\n",
    "    + Note how this is dimensionless (as a probability should be)"
   ]
  },
  {
   "cell_type": "markdown",
   "metadata": {},
   "source": [
    "+ Some algebra:\n",
    "$$ \\because \\quad \\frac { 1 }{ T } =\\sqrt { \\frac { g }{ 2h }  } ;dt=\\frac { dx }{ gt } \\\\ \\frac { 1 }{ T } dt=\\frac { dx }{ gt } \\sqrt { \\frac { g }{ 2h }  } =\\frac { { g }^{ \\frac { 1 }{ 2 }  } }{ gt\\sqrt { 2h }  } dx\\\\ \\frac { 1 }{ T } dt=\\frac { 1 }{ t\\sqrt { 2gh }  } dx\\\\ \\because \\quad { x }_{ t }=\\frac { 1 }{ 2 } g{ t }^{ 2 }\\\\ { t }^{ 2 }=\\frac { 2x }{ g } \\\\ t=\\sqrt { \\frac { 2x }{ g }  } \\\\ \\therefore \\quad \\frac { 1 }{ T } dt=\\frac { 1 }{ \\sqrt { \\frac { 2x }{ g }  } \\sqrt { 2gh }  } dx\\\\ \\frac { 1 }{ T } dt=\\frac { 1 }{ \\sqrt { \\frac { { 2 }^{ 2 }xgh }{ g }  }  } dx\\\\ \\frac { 1 }{ T } dt=\\frac { 1 }{ 2\\sqrt { xh }  } dx $$"
   ]
  },
  {
   "cell_type": "markdown",
   "metadata": {},
   "source": [
    "+ This leaves us with a probability density:\n",
    "$$ \\rho\\left({x}\\right)=\\frac { 1 }{ 2\\sqrt { xh }  },\\quad \\left( 0\\le x\\le h \\right)  $$\n",
    "+ Outside of these constraints, the probability is zero\n",
    "+ Let's see what happens from 0 to *h*:\n",
    "$$ \\int _{ 0 }^{ h }{ \\frac { 1 }{ 2\\sqrt { xh }  }  } dx\\\\ =\\frac { 1 }{ 2\\sqrt { h }  } \\int _{ 0 }^{ h }{ { x }^{ \\frac { -1 }{ 2 }  } } dx\\\\ =\\frac { 1 }{ 2\\sqrt { h }  } \\left( 2 \\right) \\left( { x }^{ \\frac { 1 }{ 2 }  } \\right) { | }_{ 0 }^{ h }\\\\ =\\frac { 1 }{ { h }^{ \\frac { 1 }{ 2 }  } } \\left( { h }^{ \\frac { 1 }{ 2 }  }-0 \\right) \\\\ =1 $$\n",
    "+ Indeed, we find the probability is one (100%)\n",
    "+ Probability density can be a difficult concept\n",
    "    + Remember that it must satisfy these two constraints\n",
    "        + Probability must be &ge; 0\n",
    "        + Must total 1 over whole domain"
   ]
  },
  {
   "cell_type": "markdown",
   "metadata": {},
   "source": [
    "+ Now, for the average distance (expectation value)\n",
    "$$ \\left< x \\right> =\\int _{ 0 }^{ h }{ x\\frac { 1 }{ 2\\sqrt { hx }  }  } dx\\\\ \\left< x \\right> =\\frac { 1 }{ 2\\sqrt { h }  } \\int _{ 0 }^{ h }{ x\\frac { 1 }{ \\sqrt { x }  }  } dx\\\\ \\left< x \\right> =\\frac { 1 }{ 2 } { h }^{ \\frac { -1 }{ 2 }  }\\int _{ 0 }^{ h }{ { x }^{ \\frac { 1 }{ 2 }  } } dx\\\\ \\left< x \\right> =\\frac { 1 }{ 2 } { h }^{ \\frac { -1 }{ 2 }  }\\left( \\frac { 2 }{ 3 }  \\right) \\left( { x }^{ \\frac { 3 }{ 2 }  } \\right) { | }_{ 0 }^{ h }\\\\ \\left< x \\right> =\\frac { 1 }{ 3 } { h }^{ \\frac { -1 }{ 2 }  }\\left( { h }^{ \\frac { 3 }{ 2 }  }-0 \\right) \\\\ \\left< x \\right> =\\frac { 1 }{ 3 } h $$"
   ]
  },
  {
   "cell_type": "code",
   "execution_count": null,
   "metadata": {
    "collapsed": true
   },
   "outputs": [],
   "source": []
  }
 ],
 "metadata": {
  "kernelspec": {
   "display_name": "Python 3",
   "language": "python",
   "name": "python3"
  },
  "language_info": {
   "codemirror_mode": {
    "name": "ipython",
    "version": 3
   },
   "file_extension": ".py",
   "mimetype": "text/x-python",
   "name": "python",
   "nbconvert_exporter": "python",
   "pygments_lexer": "ipython3",
   "version": "3.4.1"
  }
 },
 "nbformat": 4,
 "nbformat_minor": 0
}
