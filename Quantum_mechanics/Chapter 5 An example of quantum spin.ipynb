{
 "cells": [
  {
   "cell_type": "markdown",
   "metadata": {},
   "source": [
    "<a rel=\"license\" href=\"http://creativecommons.org/licenses/by-nc/4.0/\"><img alt=\"Creative Commons License\" style=\"border-width:0\" src=\"https://i.creativecommons.org/l/by-nc/4.0/88x31.png\" /></a><br /><span xmlns:dct=\"http://purl.org/dc/terms/\" property=\"dct:title\">A first look at quantum mechanics</span> by <span xmlns:cc=\"http://creativecommons.org/ns#\" property=\"cc:attributionName\">Dr Juan H Klopper</span> is licensed under a <a rel=\"license\" href=\"http://creativecommons.org/licenses/by-nc/4.0/\">Creative Commons Attribution-NonCommercial 4.0 International License</a>."
   ]
  },
  {
   "cell_type": "code",
   "execution_count": 1,
   "metadata": {
    "collapsed": false
   },
   "outputs": [
    {
     "data": {
      "text/html": [
       "<link href='http://fonts.googleapis.com/css?family=Alegreya+Sans:100,300,400,500,700,800,900,100italic,300italic,400italic,500italic,700italic,800italic,900italic' rel='stylesheet' type='text/css'>\n",
       "<link href='http://fonts.googleapis.com/css?family=Arvo:400,700,400italic' rel='stylesheet' type='text/css'>\n",
       "<link href='http://fonts.googleapis.com/css?family=PT+Mono' rel='stylesheet' type='text/css'>\n",
       "<link href='http://fonts.googleapis.com/css?family=Shadows+Into+Light' rel='stylesheet' type='text/css'>\n",
       "<link href='http://fonts.googleapis.com/css?family=Philosopher:400,700,400italic,700italic' rel='stylesheet' type='text/css'>\n",
       "\n",
       "<style>\n",
       "\n",
       "@font-face {\n",
       "    font-family: \"Computer Modern\";\n",
       "    src: url('http://mirrors.ctan.org/fonts/cm-unicode/fonts/otf/cmunss.otf');\n",
       "}\n",
       "\n",
       "#notebook_panel { /* main background */\n",
       "    background: #ddd;\n",
       "    color: #000000;\n",
       "}\n",
       "\n",
       "\n",
       "\n",
       "/* Formatting for header cells */\n",
       ".text_cell_render h1 {\n",
       "    font-family: 'Philosopher', sans-serif;\n",
       "    font-weight: 400;\n",
       "    font-size: 2.2em;\n",
       "    line-height: 100%;\n",
       "    color: rgb(0, 80, 120);\n",
       "    margin-bottom: 0.1em;\n",
       "    margin-top: 0.1em;\n",
       "    display: block;\n",
       "}\t\n",
       ".text_cell_render h2 {\n",
       "    font-family: 'Philosopher', serif;\n",
       "    font-weight: 400;\n",
       "    font-size: 1.9em;\n",
       "    line-height: 100%;\n",
       "    color: rgb(200,100,0);\n",
       "    margin-bottom: 0.1em;\n",
       "    margin-top: 0.1em;\n",
       "    display: block;\n",
       "}\t\n",
       "\n",
       ".text_cell_render h3 {\n",
       "    font-family: 'Philosopher', serif;\n",
       "    margin-top:12px;\n",
       "    margin-bottom: 3px;\n",
       "    font-style: italic;\n",
       "    color: rgb(94,127,192);\n",
       "}\n",
       "\n",
       ".text_cell_render h4 {\n",
       "    font-family: 'Philosopher', serif;\n",
       "}\n",
       "\n",
       ".text_cell_render h5 {\n",
       "    font-family: 'Alegreya Sans', sans-serif;\n",
       "    font-weight: 300;\n",
       "    font-size: 16pt;\n",
       "    color: grey;\n",
       "    font-style: italic;\n",
       "    margin-bottom: .1em;\n",
       "    margin-top: 0.1em;\n",
       "    display: block;\n",
       "}\n",
       "\n",
       ".text_cell_render h6 {\n",
       "    font-family: 'PT Mono', sans-serif;\n",
       "    font-weight: 300;\n",
       "    font-size: 10pt;\n",
       "    color: grey;\n",
       "    margin-bottom: 1px;\n",
       "    margin-top: 1px;\n",
       "}\n",
       "\n",
       ".CodeMirror{\n",
       "        font-family: \"PT Mono\";\n",
       "        font-size: 100%;\n",
       "}\n",
       "\n",
       "</style>\n",
       "\n"
      ],
      "text/plain": [
       "<IPython.core.display.HTML object>"
      ]
     },
     "execution_count": 1,
     "metadata": {},
     "output_type": "execute_result"
    }
   ],
   "source": [
    "from IPython.core.display import HTML, Image\n",
    "css_file = 'style.css'\n",
    "HTML(open(css_file, 'r').read())"
   ]
  },
  {
   "cell_type": "code",
   "execution_count": 2,
   "metadata": {
    "collapsed": true
   },
   "outputs": [],
   "source": [
    "from sympy import init_printing # Latex printing to screen\n",
    "from warnings import filterwarnings # Ignoring ugly pink warnings\n",
    "\n",
    "init_printing(use_latex = 'mathjax')\n",
    "filterwarnings('ignore')"
   ]
  },
  {
   "cell_type": "code",
   "execution_count": 15,
   "metadata": {
    "collapsed": true
   },
   "outputs": [],
   "source": [
    "from sympy import Matrix, Rational, sqrt, I\n",
    "from sympy.physics.quantum import Dagger"
   ]
  },
  {
   "cell_type": "markdown",
   "metadata": {
    "collapsed": true
   },
   "source": [
    "# Spin state example"
   ]
  },
  {
   "cell_type": "markdown",
   "metadata": {},
   "source": [
    "## Introduction"
   ]
  },
  {
   "cell_type": "markdown",
   "metadata": {},
   "source": [
    "In this chapter we will take a first look at describing a system, once again using quantum spin.  It will give us the opportunity to put into practice some of what we have learned so far.  Nothing work better at explaining a concept than an example!"
   ]
  },
  {
   "cell_type": "markdown",
   "metadata": {},
   "source": [
    "## Setting up our system"
   ]
  },
  {
   "cell_type": "markdown",
   "metadata": {},
   "source": [
    "Let's use our apparatus to act upon out system.  We place it along the *z*-axis and we measure spin and find it to be +1.  We have set up the system and can now desribe it fully.  Remember that only two states are possible, +1 and -1.<br>\n",
    "We now turn our apparatus through *&pi;* radians and know that we might get either a +1 or a -1.<br>\n",
    "Let's create some vectors for the *z*-axis:\n",
    "$$ \\left|{u}\\right> = \\begin{pmatrix} 1 \\\\ 0 \\end{pmatrix} \\\\ \\left|{d}\\right>=\\begin{pmatrix} 0 \\\\ 1\\end{pmatrix} $$"
   ]
  },
  {
   "cell_type": "markdown",
   "metadata": {},
   "source": [
    "We'll create two column vectors that will represent out ket vectors."
   ]
  },
  {
   "cell_type": "code",
   "execution_count": 4,
   "metadata": {
    "collapsed": false
   },
   "outputs": [
    {
     "data": {
      "text/latex": [
       "$$\\left ( \\left[\\begin{matrix}1\\\\0\\end{matrix}\\right], \\quad \\left[\\begin{matrix}0\\\\1\\end{matrix}\\right]\\right )$$"
      ],
      "text/plain": [
       "⎛⎡1⎤, ⎡0⎤⎞\n",
       "⎜⎢ ⎥  ⎢ ⎥⎟\n",
       "⎝⎣0⎦  ⎣1⎦⎠"
      ]
     },
     "execution_count": 4,
     "metadata": {},
     "output_type": "execute_result"
    }
   ],
   "source": [
    "# Creating column matrices and assigning it to the computer variables up and down\n",
    "up = Matrix([[1], [0]])\n",
    "down = Matrix([[0], [1]])\n",
    "\n",
    "# Priting both column vectors to the screen\n",
    "up, down"
   ]
  },
  {
   "cell_type": "markdown",
   "metadata": {},
   "source": [
    "Note how these two ket vectors are orthonormal:\n",
    "$$ \\left< u|u \\right> = 1 \\\\ \\left< d|d \\right> = 1 \\\\ \\left<{u}|{d}\\right> = 0 \\\\ \\left<{d}|{u}\\right> = 0 $$"
   ]
  },
  {
   "cell_type": "code",
   "execution_count": 6,
   "metadata": {
    "collapsed": false
   },
   "outputs": [
    {
     "data": {
      "text/latex": [
       "$$\\left ( 1, \\quad 1\\right )$$"
      ],
      "text/plain": [
       "(1, 1)"
      ]
     },
     "execution_count": 6,
     "metadata": {},
     "output_type": "execute_result"
    }
   ],
   "source": [
    "up.norm(), down.norm()"
   ]
  },
  {
   "cell_type": "code",
   "execution_count": 10,
   "metadata": {
    "collapsed": false
   },
   "outputs": [
    {
     "data": {
      "text/latex": [
       "$$\\left ( \\left[\\begin{matrix}0\\end{matrix}\\right], \\quad \\left[\\begin{matrix}0\\end{matrix}\\right]\\right )$$"
      ],
      "text/plain": [
       "([0], [0])"
      ]
     },
     "execution_count": 10,
     "metadata": {},
     "output_type": "execute_result"
    }
   ],
   "source": [
    "Dagger(up) * down, Dagger(down) * up"
   ]
  },
  {
   "cell_type": "markdown",
   "metadata": {},
   "source": [
    "We can now describe the system including the probability densities:\n",
    "$$ {\\alpha}_{u} \\left|{u}\\right> + {\\alpha}_{d} \\left|{d}\\right> $$\n",
    "Remember that the probability densities squared and added must equal 1.  Since we have prepeared the system to show +1 for our first measurement, *&alpha;*<sub>d</sub> must be 0.<br>\n",
    "Also remember how we get to a total probability of 1:\n",
    "$$ { \\alpha  }_{ u }^{ * }{ \\alpha  }_{ u }+{ \\alpha  }_{ d }^{ * }{ \\alpha  }_{ d }=1 $$"
   ]
  },
  {
   "cell_type": "markdown",
   "metadata": {},
   "source": [
    "If *&alpha;*<sub>d</sub> = 0, then *&alpha;*<sub>u</sub> = 1.  We can now describe the system as such:\n",
    "$$  1\\left|{u}\\right> + 0\\left|{d}\\right> = \\begin{pmatrix} 1 \\\\ 0 \\end{pmatrix} $$"
   ]
  },
  {
   "cell_type": "code",
   "execution_count": null,
   "metadata": {
    "collapsed": true
   },
   "outputs": [],
   "source": []
  },
  {
   "cell_type": "markdown",
   "metadata": {},
   "source": [
    "## Turning to the *x*-axis"
   ]
  },
  {
   "cell_type": "markdown",
   "metadata": {},
   "source": [
    "We know that turning to the *x*-axis must end with +1's and -1's averaging to 0.  Let's describe this with probability densities *&alpha;*<sub>l</sub> and *&alpha;*<sub>r</sub> and desribe the system in terms of the *x*-axis for both |*r*> and |*l*>.<br>\n",
    "All our previous knowledge must still hold:\n",
    "+ Normality\n",
    "+ Orthogonality\n",
    "    + Both for up-down (*z*-axis) and right-left (*x*-axis), with right being positive"
   ]
  },
  {
   "cell_type": "markdown",
   "metadata": {},
   "source": [
    "We'll start with the right-side:\n",
    "$$ \\left|{r}\\right>={\\alpha}_{r} \\left|{u}\\right> + {\\alpha}_{d} \\left|{l}\\right> $$"
   ]
  },
  {
   "cell_type": "markdown",
   "metadata": {},
   "source": [
    "I'll let the cat out the bag and tell you the following, then we'll see if it works.\n",
    "$$ {\\alpha}_{r} = \\frac{1}{\\sqrt{2}} \\\\ {\\alpha}_{l} = \\frac{1}{\\sqrt{2}} $$"
   ]
  },
  {
   "cell_type": "code",
   "execution_count": 19,
   "metadata": {
    "collapsed": false
   },
   "outputs": [
    {
     "data": {
      "text/latex": [
       "$$\\left ( \\frac{\\sqrt{2}}{2}, \\quad \\frac{\\sqrt{2}}{2}\\right )$$"
      ],
      "text/plain": [
       "⎛  ___    ___⎞\n",
       "⎜╲╱ 2   ╲╱ 2 ⎟\n",
       "⎜─────, ─────⎟\n",
       "⎝  2      2  ⎠"
      ]
     },
     "execution_count": 19,
     "metadata": {},
     "output_type": "execute_result"
    }
   ],
   "source": [
    "alpha_right = 1 / sqrt(2)\n",
    "alpha_left = 1/ sqrt(2)\n",
    "\n",
    "# Python will simplify this to have an integer in the denominator\n",
    "alpha_right, alpha_left"
   ]
  },
  {
   "cell_type": "markdown",
   "metadata": {},
   "source": [
    "We must still have the following:\n",
    "$$ { \\alpha  }_{ r }^{ * }{ \\alpha  }_{ r }=\\frac { 1 }{ 2 } \\\\ { \\alpha  }_{ l }^{ * }{ \\alpha  }_{ l }=\\frac { 1 }{ 2 } \\\\ { \\alpha  }_{ r }^{ * }{ \\alpha  }_{ r }+{ \\alpha  }_{ l }^{ * }{ \\alpha  }_{ l }=1 $$"
   ]
  },
  {
   "cell_type": "code",
   "execution_count": 21,
   "metadata": {
    "collapsed": false
   },
   "outputs": [
    {
     "data": {
      "text/latex": [
       "$$\\frac{1}{2}$$"
      ],
      "text/plain": [
       "1/2"
      ]
     },
     "execution_count": 21,
     "metadata": {},
     "output_type": "execute_result"
    }
   ],
   "source": [
    "Dagger(alpha_right) * alpha_right"
   ]
  },
  {
   "cell_type": "code",
   "execution_count": 22,
   "metadata": {
    "collapsed": false
   },
   "outputs": [
    {
     "data": {
      "text/latex": [
       "$$\\frac{1}{2}$$"
      ],
      "text/plain": [
       "1/2"
      ]
     },
     "execution_count": 22,
     "metadata": {},
     "output_type": "execute_result"
    }
   ],
   "source": [
    "Dagger(alpha_left) * alpha_left"
   ]
  },
  {
   "cell_type": "code",
   "execution_count": 23,
   "metadata": {
    "collapsed": false
   },
   "outputs": [
    {
     "data": {
      "text/latex": [
       "$$1$$"
      ],
      "text/plain": [
       "1"
      ]
     },
     "execution_count": 23,
     "metadata": {},
     "output_type": "execute_result"
    }
   ],
   "source": [
    "Dagger(alpha_right) * alpha_right + Dagger(alpha_left) * alpha_left"
   ]
  },
  {
   "cell_type": "markdown",
   "metadata": {},
   "source": [
    "Now we can decribe |*r*>.\n",
    "$$ \\left| r \\right> ={ \\alpha  }_{ r }\\left| u \\right> +{ \\alpha  }_{ l }\\left| d \\right> \\\\ \\left| r \\right> =\\frac { 1 }{ \\sqrt { 2 }  } \\begin{pmatrix} 1 \\\\ 0 \\end{pmatrix}+\\frac { 1 }{ \\sqrt { 2 }  } \\begin{pmatrix} 0 \\\\ 1 \\end{pmatrix}\\\\ \\left| r \\right> =\\begin{pmatrix} \\frac { 1 }{ \\sqrt { 2 }  }  \\\\ 0 \\end{pmatrix}+\\begin{pmatrix} 0 \\\\ \\frac { 1 }{ \\sqrt { 2 }  }  \\end{pmatrix}\\\\ \\left| r \\right> =\\begin{pmatrix} \\frac { 1 }{ \\sqrt { 2 }  }  \\\\ \\frac { 1 }{ \\sqrt { 2 }  }  \\end{pmatrix}=\\begin{pmatrix} \\frac { 1 }{ \\sqrt { 2 }  } \\cdot \\frac { \\sqrt { 2 }  }{ \\sqrt { 2 }  }  \\\\ \\frac { 1 }{ \\sqrt { 2 }  } \\cdot \\frac { \\sqrt { 2 }  }{ \\sqrt { 2 }  }  \\end{pmatrix}\\\\ \\left| r \\right> =\\begin{pmatrix} \\frac { \\sqrt { 2 }  }{ 2 }  \\\\ \\frac { \\sqrt { 2 }  }{ 2 }  \\end{pmatrix} $$\n",
    "Let's use python&#8482;:"
   ]
  },
  {
   "cell_type": "code",
   "execution_count": 24,
   "metadata": {
    "collapsed": false
   },
   "outputs": [
    {
     "data": {
      "text/latex": [
       "$$\\left[\\begin{matrix}\\frac{\\sqrt{2}}{2}\\\\\\frac{\\sqrt{2}}{2}\\end{matrix}\\right]$$"
      ],
      "text/plain": [
       "⎡  ___⎤\n",
       "⎢╲╱ 2 ⎥\n",
       "⎢─────⎥\n",
       "⎢  2  ⎥\n",
       "⎢     ⎥\n",
       "⎢  ___⎥\n",
       "⎢╲╱ 2 ⎥\n",
       "⎢─────⎥\n",
       "⎣  2  ⎦"
      ]
     },
     "execution_count": 24,
     "metadata": {},
     "output_type": "execute_result"
    }
   ],
   "source": [
    "right_ket = alpha_right * up + alpha_left * down\n",
    "right_ket"
   ]
  },
  {
   "cell_type": "markdown",
   "metadata": {},
   "source": [
    "So far, so good.  What about |*l*>, though.  We know that we must have the following:\n",
    "$$ \\left< { r }|{ l } \\right> =0\\\\ \\left< { l }|{ r } \\right> =0 $$"
   ]
  },
  {
   "cell_type": "markdown",
   "metadata": {},
   "source": [
    "#### Important message<br>\n",
    "Even though we used up and down to be column matrix values that might have appeared to describe unit vectors along an *x*- and *y*-coordinate system, that is not what they represent.  They are orthogonal state vectors represented as kets, i.e. they are orthonormal.<br>\n",
    "The same goes for left-right."
   ]
  },
  {
   "cell_type": "markdown",
   "metadata": {},
   "source": [
    "Now, must look for *&alpha;*<sub>r</sub> and *&alpha;*<sub>l</sub> probability densities for which everything we known about these entities hold.  Again, I'll let the cat out the bag and we'll see if it holds.\n",
    "$$ \\left| l \\right> ={ \\alpha  }_{ r }\\left| u \\right> +{ \\alpha  }_{ l }\\left| d \\right> \\\\ \\left| l \\right> =\\frac { 1 }{ \\sqrt { 2 }  } \\begin{pmatrix} 1 \\\\ 0 \\end{pmatrix}+\\frac { -1 }{ \\sqrt { 2 }  } \\begin{pmatrix} 0 \\\\ 1 \\end{pmatrix}\\\\ \\left| l \\right> =\\begin{pmatrix} \\frac { 1 }{ \\sqrt { 2 }  }  \\\\ 0 \\end{pmatrix}+\\begin{pmatrix} 0 \\\\ \\frac { -1 }{ \\sqrt { 2 }  }  \\end{pmatrix}\\\\ \\left| l \\right> =\\begin{pmatrix} \\frac { 1 }{ \\sqrt { 2 }  }  \\\\ \\frac { -1 }{ \\sqrt { 2 }  }  \\end{pmatrix}=\\begin{pmatrix} \\frac { 1 }{ \\sqrt { 2 }  } \\cdot \\frac { \\sqrt { 2 }  }{ \\sqrt { 2 }  }  \\\\ \\frac { -1 }{ \\sqrt { 2 }  } \\cdot \\frac { \\sqrt { 2 }  }{ \\sqrt { 2 }  }  \\end{pmatrix}\\\\ \\left| l \\right> =\\begin{pmatrix} \\frac { \\sqrt { 2 }  }{ 2 }  \\\\ \\frac { -\\sqrt { 2 }  }{ 2 }  \\end{pmatrix} $$"
   ]
  },
  {
   "cell_type": "code",
   "execution_count": 25,
   "metadata": {
    "collapsed": true
   },
   "outputs": [],
   "source": [
    "alpha_left = -1 / sqrt(2)"
   ]
  },
  {
   "cell_type": "code",
   "execution_count": 26,
   "metadata": {
    "collapsed": false
   },
   "outputs": [
    {
     "data": {
      "text/latex": [
       "$$\\left[\\begin{matrix}\\frac{\\sqrt{2}}{2}\\\\- \\frac{\\sqrt{2}}{2}\\end{matrix}\\right]$$"
      ],
      "text/plain": [
       "⎡   ___ ⎤\n",
       "⎢ ╲╱ 2  ⎥\n",
       "⎢ ───── ⎥\n",
       "⎢   2   ⎥\n",
       "⎢       ⎥\n",
       "⎢   ___ ⎥\n",
       "⎢-╲╱ 2  ⎥\n",
       "⎢───────⎥\n",
       "⎣   2   ⎦"
      ]
     },
     "execution_count": 26,
     "metadata": {},
     "output_type": "execute_result"
    }
   ],
   "source": [
    "left_ket = alpha_right * up + alpha_left * down\n",
    "left_ket"
   ]
  },
  {
   "cell_type": "markdown",
   "metadata": {},
   "source": [
    "Let's see of |*r*> and |*l*> are orthonormal using python&#8482;:"
   ]
  },
  {
   "cell_type": "code",
   "execution_count": 29,
   "metadata": {
    "collapsed": false
   },
   "outputs": [
    {
     "data": {
      "text/latex": [
       "$$1$$"
      ],
      "text/plain": [
       "1"
      ]
     },
     "execution_count": 29,
     "metadata": {},
     "output_type": "execute_result"
    }
   ],
   "source": [
    "# Is |r> unit lenght?\n",
    "right_ket.norm()"
   ]
  },
  {
   "cell_type": "code",
   "execution_count": 30,
   "metadata": {
    "collapsed": false
   },
   "outputs": [
    {
     "data": {
      "text/latex": [
       "$$1$$"
      ],
      "text/plain": [
       "1"
      ]
     },
     "execution_count": 30,
     "metadata": {},
     "output_type": "execute_result"
    }
   ],
   "source": [
    "# Is |l> unit length?\n",
    "right_ket.norm()"
   ]
  },
  {
   "cell_type": "code",
   "execution_count": 27,
   "metadata": {
    "collapsed": false
   },
   "outputs": [
    {
     "data": {
      "text/latex": [
       "$$\\left[\\begin{matrix}0\\end{matrix}\\right]$$"
      ],
      "text/plain": [
       "[0]"
      ]
     },
     "execution_count": 27,
     "metadata": {},
     "output_type": "execute_result"
    }
   ],
   "source": [
    "# Is <l|r> = 0?\n",
    "Dagger(left_ket) * right_ket"
   ]
  },
  {
   "cell_type": "code",
   "execution_count": 28,
   "metadata": {
    "collapsed": false
   },
   "outputs": [
    {
     "data": {
      "text/latex": [
       "$$\\left[\\begin{matrix}0\\end{matrix}\\right]$$"
      ],
      "text/plain": [
       "[0]"
      ]
     },
     "execution_count": 28,
     "metadata": {},
     "output_type": "execute_result"
    }
   ],
   "source": [
    "# Is <r|l> = 0?\n",
    "Dagger(right_ket) * left_ket"
   ]
  },
  {
   "cell_type": "markdown",
   "metadata": {},
   "source": [
    "Let's also see of the sum of the probability densities also add to 1:\n",
    "$$ { \\alpha  }_{ r }^{ * }{ \\alpha  }_{ r }+{ \\alpha  }_{ l }^{ * }{ \\alpha  }_{ l }=1 $$"
   ]
  },
  {
   "cell_type": "code",
   "execution_count": 33,
   "metadata": {
    "collapsed": false
   },
   "outputs": [
    {
     "data": {
      "text/latex": [
       "$$1$$"
      ],
      "text/plain": [
       "1"
      ]
     },
     "execution_count": 33,
     "metadata": {},
     "output_type": "execute_result"
    }
   ],
   "source": [
    "Dagger(alpha_right) * alpha_right + Dagger(alpha_left) * alpha_left"
   ]
  },
  {
   "cell_type": "markdown",
   "metadata": {},
   "source": [
    "## Now for the *y*-axis"
   ]
  },
  {
   "cell_type": "markdown",
   "metadata": {},
   "source": [
    "This represents in and out, so let's do:\n",
    "$$ \\left|{i}\\right>={\\alpha}_{o}\\left|u\\right>+{\\alpha}_{i}\\left|{d}\\right> \\\\ \\left|{o}\\right>={\\alpha}_{o}\\left|u\\right>+{\\alpha}_{i}\\left|{d}\\right> $$"
   ]
  },
  {
   "cell_type": "markdown",
   "metadata": {},
   "source": [
    "Long story short, these are the answers for the two probability densities.  It fits all the constraints:\n",
    "$$ \\left| i \\right> ={ \\alpha  }_{ i }\\left| u \\right> +{ \\alpha  }_{ o }\\left| d \\right> \\\\ \\left| i \\right> =\\frac { 1 }{ \\sqrt { 2 }  } \\begin{pmatrix} 1 \\\\ 0 \\end{pmatrix}+\\frac { i }{ \\sqrt { 2 }  } \\begin{pmatrix} 0 \\\\ 1 \\end{pmatrix}\\\\ \\left| i \\right> =\\begin{pmatrix} \\frac { 1 }{ \\sqrt { 2 }  }  \\\\ 0 \\end{pmatrix}+\\begin{pmatrix} 0 \\\\ \\frac { i }{ \\sqrt { 2 }  }  \\end{pmatrix}\\\\ \\left| i \\right> =\\begin{pmatrix} \\frac { 1 }{ \\sqrt { 2 }  }  \\\\ \\frac { i }{ \\sqrt { 2 }  }  \\end{pmatrix}=\\begin{pmatrix} \\frac { 1 }{ \\sqrt { 2 }  } \\cdot \\frac { \\sqrt { 2 }  }{ \\sqrt { 2 }  }  \\\\ \\frac { i }{ \\sqrt { 2 }  } \\cdot \\frac { \\sqrt { 2 }  }{ \\sqrt { 2 }  }  \\end{pmatrix}\\\\ \\left| i \\right> =\\begin{pmatrix} \\frac { \\sqrt { 2 }  }{ 2 }  \\\\ \\frac { i\\sqrt { 2 }  }{ 2 }  \\end{pmatrix} $$"
   ]
  },
  {
   "cell_type": "markdown",
   "metadata": {},
   "source": [
    "$$ \\left| o \\right> ={ \\alpha  }_{ i }\\left| u \\right> +{ \\alpha  }_{ o }\\left| d \\right> \\\\ \\left| o \\right> =\\frac { 1 }{ \\sqrt { 2 }  } \\begin{pmatrix} 1 \\\\ 0 \\end{pmatrix}+\\frac { -i }{ \\sqrt { 2 }  } \\begin{pmatrix} 0 \\\\ 1 \\end{pmatrix}\\\\ \\left| o \\right> =\\begin{pmatrix} \\frac { 1 }{ \\sqrt { 2 }  }  \\\\ 0 \\end{pmatrix}+\\begin{pmatrix} 0 \\\\ \\frac { -i }{ \\sqrt { 2 }  }  \\end{pmatrix}\\\\ \\left| o \\right> =\\begin{pmatrix} \\frac { 1 }{ \\sqrt { 2 }  }  \\\\ \\frac { -i }{ \\sqrt { 2 }  }  \\end{pmatrix}=\\begin{pmatrix} \\frac { 1 }{ \\sqrt { 2 }  } \\cdot \\frac { \\sqrt { 2 }  }{ \\sqrt { 2 }  }  \\\\ \\frac { -i }{ \\sqrt { 2 }  } \\cdot \\frac { \\sqrt { 2 }  }{ \\sqrt { 2 }  }  \\end{pmatrix}\\\\ \\left| o \\right> =\\begin{pmatrix} \\frac { \\sqrt { 2 }  }{ 2 }  \\\\ \\frac { -i\\sqrt { 2 }  }{ 2 }  \\end{pmatrix} $$"
   ]
  },
  {
   "cell_type": "markdown",
   "metadata": {},
   "source": [
    "We can verify all the constraints using python&#8482;."
   ]
  },
  {
   "cell_type": "code",
   "execution_count": 38,
   "metadata": {
    "collapsed": false
   },
   "outputs": [],
   "source": [
    "alpha_in = 1 / sqrt(2)\n",
    "alpha_out = I / sqrt(2)"
   ]
  },
  {
   "cell_type": "code",
   "execution_count": 39,
   "metadata": {
    "collapsed": true
   },
   "outputs": [],
   "source": [
    "in_ket = alpha_in * up + alpha_out * down\n",
    "out_ket = alpha_in * up + (-alpha_out * down)"
   ]
  },
  {
   "cell_type": "code",
   "execution_count": 40,
   "metadata": {
    "collapsed": false
   },
   "outputs": [
    {
     "data": {
      "text/latex": [
       "$$\\left[\\begin{matrix}0\\end{matrix}\\right]$$"
      ],
      "text/plain": [
       "[0]"
      ]
     },
     "execution_count": 40,
     "metadata": {},
     "output_type": "execute_result"
    }
   ],
   "source": [
    "Dagger(in_ket) * out_ket"
   ]
  },
  {
   "cell_type": "code",
   "execution_count": 42,
   "metadata": {
    "collapsed": false
   },
   "outputs": [
    {
     "data": {
      "text/latex": [
       "$$\\left[\\begin{matrix}0\\end{matrix}\\right]$$"
      ],
      "text/plain": [
       "[0]"
      ]
     },
     "execution_count": 42,
     "metadata": {},
     "output_type": "execute_result"
    }
   ],
   "source": [
    "Dagger(out_ket) * in_ket"
   ]
  },
  {
   "cell_type": "code",
   "execution_count": 44,
   "metadata": {
    "collapsed": false
   },
   "outputs": [
    {
     "data": {
      "text/latex": [
       "$$\\frac{1}{2}$$"
      ],
      "text/plain": [
       "1/2"
      ]
     },
     "execution_count": 44,
     "metadata": {},
     "output_type": "execute_result"
    }
   ],
   "source": [
    "Dagger(alpha_in) * alpha_in"
   ]
  },
  {
   "cell_type": "code",
   "execution_count": 45,
   "metadata": {
    "collapsed": false
   },
   "outputs": [
    {
     "data": {
      "text/latex": [
       "$$\\frac{1}{2}$$"
      ],
      "text/plain": [
       "1/2"
      ]
     },
     "execution_count": 45,
     "metadata": {},
     "output_type": "execute_result"
    }
   ],
   "source": [
    "Dagger(alpha_out) * alpha_out"
   ]
  },
  {
   "cell_type": "code",
   "execution_count": 46,
   "metadata": {
    "collapsed": false
   },
   "outputs": [
    {
     "data": {
      "text/latex": [
       "$$\\frac{1}{2}$$"
      ],
      "text/plain": [
       "1/2"
      ]
     },
     "execution_count": 46,
     "metadata": {},
     "output_type": "execute_result"
    }
   ],
   "source": [
    "Dagger(-alpha_out) * (-alpha_out)"
   ]
  },
  {
   "cell_type": "code",
   "execution_count": null,
   "metadata": {
    "collapsed": true
   },
   "outputs": [],
   "source": []
  }
 ],
 "metadata": {
  "kernelspec": {
   "display_name": "Python 3",
   "language": "python",
   "name": "python3"
  },
  "language_info": {
   "codemirror_mode": {
    "name": "ipython",
    "version": 3
   },
   "file_extension": ".py",
   "mimetype": "text/x-python",
   "name": "python",
   "nbconvert_exporter": "python",
   "pygments_lexer": "ipython3",
   "version": "3.4.3"
  }
 },
 "nbformat": 4,
 "nbformat_minor": 0
}
