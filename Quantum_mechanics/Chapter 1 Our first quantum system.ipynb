{
 "cells": [
  {
   "cell_type": "markdown",
   "metadata": {},
   "source": [
    "<a rel=\"license\" href=\"http://creativecommons.org/licenses/by-nc/4.0/\"><img alt=\"Creative Commons License\" style=\"border-width:0\" src=\"https://i.creativecommons.org/l/by-nc/4.0/88x31.png\" /></a><br /><span xmlns:dct=\"http://purl.org/dc/terms/\" property=\"dct:title\">A first look at quantum mechanics</span> by <span xmlns:cc=\"http://creativecommons.org/ns#\" property=\"cc:attributionName\">Dr Juan H Klopper</span> is licensed under a <a rel=\"license\" href=\"http://creativecommons.org/licenses/by-nc/4.0/\">Creative Commons Attribution-NonCommercial 4.0 International License</a>."
   ]
  },
  {
   "cell_type": "code",
   "execution_count": 1,
   "metadata": {
    "collapsed": false
   },
   "outputs": [
    {
     "data": {
      "text/html": [
       "<link href='http://fonts.googleapis.com/css?family=Alegreya+Sans:100,300,400,500,700,800,900,100italic,300italic,400italic,500italic,700italic,800italic,900italic' rel='stylesheet' type='text/css'>\n",
       "<link href='http://fonts.googleapis.com/css?family=Arvo:400,700,400italic' rel='stylesheet' type='text/css'>\n",
       "<link href='http://fonts.googleapis.com/css?family=PT+Mono' rel='stylesheet' type='text/css'>\n",
       "<link href='http://fonts.googleapis.com/css?family=Shadows+Into+Light' rel='stylesheet' type='text/css'>\n",
       "<link href='http://fonts.googleapis.com/css?family=Philosopher:400,700,400italic,700italic' rel='stylesheet' type='text/css'>\n",
       "\n",
       "<style>\n",
       "\n",
       "@font-face {\n",
       "    font-family: \"Computer Modern\";\n",
       "    src: url('http://mirrors.ctan.org/fonts/cm-unicode/fonts/otf/cmunss.otf');\n",
       "}\n",
       "\n",
       "#notebook_panel { /* main background */\n",
       "    background: #ddd;\n",
       "    color: #000000;\n",
       "}\n",
       "\n",
       "\n",
       "\n",
       "/* Formatting for header cells */\n",
       ".text_cell_render h1 {\n",
       "    font-family: 'Philosopher', sans-serif;\n",
       "    font-weight: 400;\n",
       "    font-size: 2.2em;\n",
       "    line-height: 100%;\n",
       "    color: rgb(0, 80, 120);\n",
       "    margin-bottom: 0.1em;\n",
       "    margin-top: 0.1em;\n",
       "    display: block;\n",
       "}\t\n",
       ".text_cell_render h2 {\n",
       "    font-family: 'Philosopher', serif;\n",
       "    font-weight: 400;\n",
       "    font-size: 1.9em;\n",
       "    line-height: 100%;\n",
       "    color: rgb(200,100,0);\n",
       "    margin-bottom: 0.1em;\n",
       "    margin-top: 0.1em;\n",
       "    display: block;\n",
       "}\t\n",
       "\n",
       ".text_cell_render h3 {\n",
       "    font-family: 'Philosopher', serif;\n",
       "    margin-top:12px;\n",
       "    margin-bottom: 3px;\n",
       "    font-style: italic;\n",
       "    color: rgb(94,127,192);\n",
       "}\n",
       "\n",
       ".text_cell_render h4 {\n",
       "    font-family: 'Philosopher', serif;\n",
       "}\n",
       "\n",
       ".text_cell_render h5 {\n",
       "    font-family: 'Alegreya Sans', sans-serif;\n",
       "    font-weight: 300;\n",
       "    font-size: 16pt;\n",
       "    color: grey;\n",
       "    font-style: italic;\n",
       "    margin-bottom: .1em;\n",
       "    margin-top: 0.1em;\n",
       "    display: block;\n",
       "}\n",
       "\n",
       ".text_cell_render h6 {\n",
       "    font-family: 'PT Mono', sans-serif;\n",
       "    font-weight: 300;\n",
       "    font-size: 10pt;\n",
       "    color: grey;\n",
       "    margin-bottom: 1px;\n",
       "    margin-top: 1px;\n",
       "}\n",
       "\n",
       ".CodeMirror{\n",
       "        font-family: \"PT Mono\";\n",
       "        font-size: 100%;\n",
       "}\n",
       "\n",
       "</style>\n",
       "\n"
      ],
      "text/plain": [
       "<IPython.core.display.HTML object>"
      ]
     },
     "execution_count": 1,
     "metadata": {},
     "output_type": "execute_result"
    }
   ],
   "source": [
    "from IPython.core.display import HTML, Image\n",
    "css_file = 'style.css'\n",
    "HTML(open(css_file, 'r').read())"
   ]
  },
  {
   "cell_type": "code",
   "execution_count": 16,
   "metadata": {
    "collapsed": true
   },
   "outputs": [],
   "source": [
    "from sympy import init_printing # Latex printing to screen\n",
    "from sympy import Matrix, I, sqrt\n",
    "from sympy.physics.quantum import Dagger\n",
    "from warnings import filterwarnings # Ignoring ugly pink warnings\n",
    "\n",
    "init_printing(use_latex = 'mathjax')\n",
    "filterwarnings('ignore')"
   ]
  },
  {
   "cell_type": "code",
   "execution_count": 3,
   "metadata": {
    "collapsed": false
   },
   "outputs": [],
   "source": [
    "from sympy import Matrix"
   ]
  },
  {
   "cell_type": "markdown",
   "metadata": {},
   "source": [
    "# Our first quantum system"
   ]
  },
  {
   "cell_type": "markdown",
   "metadata": {},
   "source": [
    "## Introduction"
   ]
  },
  {
   "cell_type": "markdown",
   "metadata": {},
   "source": [
    "Where to start?  Quantum mechanics (QM) is very, very counterintuitive.  There is so much to get use to.  Even worse, understanding one concept depends on understanding something else, which in turn actually needs understanding of the original concept.  Around and around we go.  This really is a bit of a dilemma when you starting to learn QM.  You will note a different approach in every textbook."
   ]
  },
  {
   "cell_type": "markdown",
   "metadata": {},
   "source": [
    "In this set of IPython notebooks we will start with a smile quantum concept called spin.  It won't make much sense, but it serves a purpose.  So without further adieu, let's get going and then jump into some mathematics."
   ]
  },
  {
   "cell_type": "markdown",
   "metadata": {},
   "source": [
    "## Spin"
   ]
  },
  {
   "cell_type": "markdown",
   "metadata": {},
   "source": [
    "*Quantum spin* is a property of a quantum system such as an electron.  A subatomic particle such as an electron has other properties too such as mass, charge, and position.  We could group these as properties of classical mechanics.  Quantum spin is great, because we can study it all on its own, separate from the electron, allowing us to get our first taste of QM."
   ]
  },
  {
   "cell_type": "markdown",
   "metadata": {},
   "source": [
    "+ Let's introduce our space of possible states\n",
    "+ The role of a die has six possible outcomes, the measurement of spin only has two outcomes\n",
    "    + We'll call them by a lowercase Greek letter\n",
    "        + *&sigma;* = +1\n",
    "        + *&sigma;* = -1\n",
    "+ So, instead of rolling a die, we measure spin and find it in one of these two states\n",
    "+ In classical mechanics we could just measure something, say position by placing an arbitrary inertial reference frame and reading off the three-dimensional coordinates\n",
    "+ In quantum mechanics (and for the sake of this example) we introduce a piece of equipment that interacts with our spin system and out pops a result\n",
    "    + Later we'll see that this piece of equipment is an operator, which is nothing other than a matrix\n",
    "+ Alright, out pops a value for *&sigma;*\n",
    "+ Just as we don't know what the die will show, we don't know beforehand what the result of our apparatus acting on the system will give us\n",
    "+ Now, let's deviate from the die rolling world\n",
    "    + Suppose we get a result of *&sigma;* = +1\n",
    "+ The next time the apparatus acts on the system we will get +1 again and again and again... (same for -1)\n",
    "+ Just one little quirk\n",
    "    + The apparatus is positioned in a certain direction and we need to keep it that way oriented every time\n",
    "+ Now let's alter this orientation so that the apparatus is turned through *&pi;* radians, i.e. it is now upside down\n",
    "+ Suddenly on interacting with the system we find that the sign flips as well!\n",
    "    + +1 would become -1\n",
    "    + -1 would become +1"
   ]
  },
  {
   "cell_type": "markdown",
   "metadata": {},
   "source": [
    "+ Now for something truly awesome; let's turn the apparatus through <sup>*&pi;*</sup>/<sub>2</sub> radians\n",
    "+ What do we see?\n",
    "+ In classical mechanics, seeing the original result as a vector, i.e. we measured *&sigma;*<sub>y</sub>, which was either +1 or -1 (with the opposite in the other direction) we would expect a big fat old **zero** (the component of spin along the *x*-axis = 0)\n",
    "+ But off course that's not what we find; we find a random spattering of +1 and -1 as we keep on acting on the system with our equipment in this orientation!\n",
    "+ Averaging the outcomes of measuring along this axis many, many times, though, gives us the **zero** that we desired\n",
    "+ Welcome to the world of probability"
   ]
  },
  {
   "cell_type": "markdown",
   "metadata": {
    "collapsed": true
   },
   "source": [
    "We have to take this all one step further.  Consider that we turned our apparatus through <sup>*&pi;*</sup>/<sub>*2*</sub> radians and let the apparatus act on our system>  We have already seen that repeated measurements in this new direction will average out to be zero.  What would happen, though, if we turned the apparatus back to its original orientation and let it act on the system?  Would it measure the repeated +1 or -1 again?"
   ]
  },
  {
   "cell_type": "markdown",
   "metadata": {},
   "source": [
    "The answer is a resounding no!  Why is this so?  The quick answer is that we are dealing with a quantum system and not a classical system.  In the former, the apparatus with which we make a measurement can be set up so that it interacts minimally with the system.  not so in quantum mechanics.  You might have noticed that I used the terms '*the apparatus acts on the system*'.  That is exactly what happens.  By acting on the system to make a measurement, the apparatus changes the system."
   ]
  },
  {
   "cell_type": "markdown",
   "metadata": {
    "collapsed": true
   },
   "source": [
    "## Summary"
   ]
  },
  {
   "cell_type": "markdown",
   "metadata": {},
   "source": [
    "+ In order to explain the practical findings seen with spin, we created three mutually orthogonal pairs of basis vectors\n",
    "    + $ \\left| u \\right> $ and $ \\left| d \\right> $\n",
    "    + $ \\left| r \\right> $ and $ \\left| l \\right> $\n",
    "    + $ \\left| i \\right> $ and $ \\left| o \\right> $\n",
    "+ They do not represent physical directions isn space\n",
    "+ They must be unit vectors, i.e. of unit length\n",
    "+ They must be mutually orthogonal\n",
    "    + $ \\left< u | d \\right> = \\left< d | u \\right> = 0 $\n",
    "    + $ \\left< r | l \\right> = \\left< l | r \\right> = 0 $\n",
    "    + $ \\left< i | o \\right> = \\left< o | i \\right> = 0 $\n",
    "+ We arbitrarily choose one of the pairs as two basis vectors and write any state as a linear superposition of these\n",
    "    + $ \\left| A \\right> = {\\alpha}_{u} \\left| u \\right> + {\\alpha}_{d} \\left| d \\right> $\n",
    "    + $ {\\alpha}_{u} $ and $ {\\alpha}_{d} $ are the component of $ \\left| A \\right> $ along the basis vectors\n",
    "    + These components can be calculated\n",
    "        + $  {\\alpha}_{u} = \\left< u|A \\right> $\n",
    "        + $  {\\alpha}_{d} = \\left< d|A \\right> $\n",
    "    + These componenents are called probability amplitudes such that their square gives the probability of fonding the state along the direction of the unit vector\n",
    "        + The probability is $ {\\alpha}_{u}^{*} {\\alpha}_{u} = \\left< A|u \\right>\\left< u|A \\right> $ and $ {\\alpha}_{d}^{*} {\\alpha}_{d} = \\left< A|d \\right>\\left< d|A \\right> $\n",
    "        + So given that the system has been prepared in state $ \\left| A \\right> $ the first probability above is the probability of measuring spin as $ {\\sigma}_{z} = +1 $\n",
    "+ The total probability must add to 1\n",
    "    $ {\\alpha}_{u}^{*} {\\alpha}_{u} + {\\alpha}_{d}^{*} {\\alpha}_{d} = 1 $, which is the same as saying that the state vector $ \\left| A \\right> $ is normalized to a unit vector, $ \\left< A|A \\right> = 1 $"
   ]
  },
  {
   "cell_type": "markdown",
   "metadata": {},
   "source": [
    "+ From the discussion above, we must be able to construct $ \\left| r \\right> $ from a linear combination of $ \\left| u \\right> $ and $ \\left| d \\right> $, with all the constraints in place\n",
    "+ The following fulfills these requirements\n",
    "    + $ {\\alpha}_{u} = \\frac{1}{\\sqrt{2}} + 0{i} $ and $ {\\alpha}_{u} = \\frac{1}{\\sqrt{2}} + 0{i} $\n",
    "+ For the rest of the state vectors we have the following\n",
    "    + $ \\left| r \\right> =\\frac { 1 }{ \\sqrt { 2 }  } \\left| u \\right> +\\frac { 1 }{ \\sqrt { 2 }  } \\left| d \\right> \\\\ \\left| l \\right> =\\frac { 1 }{ \\sqrt { 2 }  } \\left| u \\right> -\\frac { 1 }{ \\sqrt { 2 }  } \\left| d \\right> \\\\ \\left| i \\right> =\\frac { 1 }{ \\sqrt { 2 }  } \\left| u \\right> +\\frac { i }{ \\sqrt { 2 }  } \\left| d \\right> \\\\ \\left| o \\right> =\\frac { 1 }{ \\sqrt { 2 }  } \\left| u \\right> -\\frac { i }{ \\sqrt { 2 }  } \\left| d \\right>  $"
   ]
  },
  {
   "cell_type": "markdown",
   "metadata": {},
   "source": [
    "### Using the actual unit vectors"
   ]
  },
  {
   "cell_type": "code",
   "execution_count": 4,
   "metadata": {
    "collapsed": false
   },
   "outputs": [
    {
     "data": {
      "text/plain": [
       "(Matrix([\n",
       " [1],\n",
       " [0]]), Matrix([\n",
       " [0],\n",
       " [1]]))"
      ]
     },
     "execution_count": 4,
     "metadata": {},
     "output_type": "execute_result"
    }
   ],
   "source": [
    "up = Matrix([[1], [0]])\n",
    "down = Matrix([[0], [1]])\n",
    "up, down"
   ]
  },
  {
   "cell_type": "code",
   "execution_count": 5,
   "metadata": {
    "collapsed": false
   },
   "outputs": [
    {
     "data": {
      "text/plain": [
       "(sqrt(2)/2, sqrt(2)/2)"
      ]
     },
     "execution_count": 5,
     "metadata": {},
     "output_type": "execute_result"
    }
   ],
   "source": [
    "alpha_up_right = 1 / sqrt(2) + 0 * I\n",
    "alpha_down_right = 1 / sqrt(2) + 0 * I\n",
    "alpha_up_right, alpha_down_right"
   ]
  },
  {
   "cell_type": "code",
   "execution_count": 6,
   "metadata": {
    "collapsed": false
   },
   "outputs": [
    {
     "data": {
      "text/plain": [
       "1/2"
      ]
     },
     "execution_count": 6,
     "metadata": {},
     "output_type": "execute_result"
    }
   ],
   "source": [
    "alpha_up_right.conjugate() * alpha_up_right"
   ]
  },
  {
   "cell_type": "code",
   "execution_count": 7,
   "metadata": {
    "collapsed": false
   },
   "outputs": [
    {
     "data": {
      "text/plain": [
       "1/2"
      ]
     },
     "execution_count": 7,
     "metadata": {},
     "output_type": "execute_result"
    }
   ],
   "source": [
    "alpha_down_right.conjugate() * alpha_down_right"
   ]
  },
  {
   "cell_type": "code",
   "execution_count": 8,
   "metadata": {
    "collapsed": false
   },
   "outputs": [
    {
     "data": {
      "text/plain": [
       "Matrix([\n",
       "[sqrt(2)/2],\n",
       "[sqrt(2)/2]])"
      ]
     },
     "execution_count": 8,
     "metadata": {},
     "output_type": "execute_result"
    }
   ],
   "source": [
    "right_state = alpha_up_right * up + alpha_down_right * down\n",
    "right_state"
   ]
  },
  {
   "cell_type": "code",
   "execution_count": 9,
   "metadata": {
    "collapsed": false
   },
   "outputs": [
    {
     "data": {
      "text/plain": [
       "(sqrt(2)/2, -sqrt(2)/2)"
      ]
     },
     "execution_count": 9,
     "metadata": {},
     "output_type": "execute_result"
    }
   ],
   "source": [
    "alpha_up_left = 1 / sqrt(2) + 0 * I\n",
    "alpha_down_left = -1 / sqrt(2) + 0 * I\n",
    "alpha_up_left, alpha_down_left"
   ]
  },
  {
   "cell_type": "code",
   "execution_count": 10,
   "metadata": {
    "collapsed": false
   },
   "outputs": [
    {
     "data": {
      "text/plain": [
       "Matrix([\n",
       "[ sqrt(2)/2],\n",
       "[-sqrt(2)/2]])"
      ]
     },
     "execution_count": 10,
     "metadata": {},
     "output_type": "execute_result"
    }
   ],
   "source": [
    "left_state = alpha_up_left * up + alpha_down_left * down\n",
    "left_state"
   ]
  },
  {
   "cell_type": "code",
   "execution_count": 11,
   "metadata": {
    "collapsed": false
   },
   "outputs": [
    {
     "data": {
      "text/plain": [
       "(sqrt(2)/2, sqrt(2)*I/2)"
      ]
     },
     "execution_count": 11,
     "metadata": {},
     "output_type": "execute_result"
    }
   ],
   "source": [
    "alpha_up_in = 1 / sqrt(2) + 0 * I\n",
    "alpha_down_in = I / sqrt(2)\n",
    "alpha_up_in, alpha_down_in"
   ]
  },
  {
   "cell_type": "code",
   "execution_count": 12,
   "metadata": {
    "collapsed": false
   },
   "outputs": [
    {
     "data": {
      "text/plain": [
       "Matrix([\n",
       "[  sqrt(2)/2],\n",
       "[sqrt(2)*I/2]])"
      ]
     },
     "execution_count": 12,
     "metadata": {},
     "output_type": "execute_result"
    }
   ],
   "source": [
    "in_state = alpha_up_in * up + alpha_down_in * down\n",
    "in_state"
   ]
  },
  {
   "cell_type": "code",
   "execution_count": 13,
   "metadata": {
    "collapsed": false
   },
   "outputs": [
    {
     "data": {
      "text/plain": [
       "(sqrt(2)/2, -sqrt(2)*I/2)"
      ]
     },
     "execution_count": 13,
     "metadata": {},
     "output_type": "execute_result"
    }
   ],
   "source": [
    "alpha_up_out = 1 / sqrt(2) + 0 * I\n",
    "alpha_down_out = -I / sqrt(2)\n",
    "alpha_up_out, alpha_down_out"
   ]
  },
  {
   "cell_type": "code",
   "execution_count": 14,
   "metadata": {
    "collapsed": false
   },
   "outputs": [
    {
     "data": {
      "text/plain": [
       "Matrix([\n",
       "[   sqrt(2)/2],\n",
       "[-sqrt(2)*I/2]])"
      ]
     },
     "execution_count": 14,
     "metadata": {},
     "output_type": "execute_result"
    }
   ],
   "source": [
    "out_state = alpha_up_out * up + alpha_down_out * down\n",
    "out_state"
   ]
  },
  {
   "cell_type": "code",
   "execution_count": 20,
   "metadata": {
    "collapsed": false
   },
   "outputs": [
    {
     "data": {
      "text/plain": [
       "Matrix([[1/2]])"
      ]
     },
     "execution_count": 20,
     "metadata": {},
     "output_type": "execute_result"
    }
   ],
   "source": [
    "(Dagger(out_state) * up) * (Dagger(up) * out_state)"
   ]
  },
  {
   "cell_type": "code",
   "execution_count": null,
   "metadata": {
    "collapsed": true
   },
   "outputs": [],
   "source": []
  }
 ],
 "metadata": {
  "kernelspec": {
   "display_name": "Python 3",
   "language": "python",
   "name": "python3"
  },
  "language_info": {
   "codemirror_mode": {
    "name": "ipython",
    "version": 3
   },
   "file_extension": ".py",
   "mimetype": "text/x-python",
   "name": "python",
   "nbconvert_exporter": "python",
   "pygments_lexer": "ipython3",
   "version": "3.4.3"
  }
 },
 "nbformat": 4,
 "nbformat_minor": 0
}
