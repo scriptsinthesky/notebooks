{
 "cells": [
  {
   "cell_type": "markdown",
   "metadata": {},
   "source": [
    "<a rel=\"license\" href=\"http://creativecommons.org/licenses/by-nc/4.0/\"><img alt=\"Creative Commons License\" style=\"border-width:0\" src=\"https://i.creativecommons.org/l/by-nc/4.0/88x31.png\" /></a><br /><span xmlns:dct=\"http://purl.org/dc/terms/\" property=\"dct:title\">Introduction to quantum mechanics</span> by <span xmlns:cc=\"http://creativecommons.org/ns#\" property=\"cc:attributionName\">Dr Juan H Klopper</span> is licensed under a <a rel=\"license\" href=\"http://creativecommons.org/licenses/by-nc/4.0/\">Creative Commons Attribution-NonCommercial 4.0 International License</a>."
   ]
  },
  {
   "cell_type": "code",
   "execution_count": 1,
   "metadata": {
    "collapsed": false
   },
   "outputs": [
    {
     "data": {
      "text/html": [
       "<link href='http://fonts.googleapis.com/css?family=Alegreya+Sans:100,300,400,500,700,800,900,100italic,300italic,400italic,500italic,700italic,800italic,900italic' rel='stylesheet' type='text/css'>\n",
       "<link href='http://fonts.googleapis.com/css?family=Arvo:400,700,400italic' rel='stylesheet' type='text/css'>\n",
       "<link href='http://fonts.googleapis.com/css?family=PT+Mono' rel='stylesheet' type='text/css'>\n",
       "<link href='http://fonts.googleapis.com/css?family=Shadows+Into+Light' rel='stylesheet' type='text/css'>\n",
       "<link href='http://fonts.googleapis.com/css?family=Philosopher:400,700,400italic,700italic' rel='stylesheet' type='text/css'>\n",
       "\n",
       "<style>\n",
       "\n",
       "@font-face {\n",
       "    font-family: \"Computer Modern\";\n",
       "    src: url('http://mirrors.ctan.org/fonts/cm-unicode/fonts/otf/cmunss.otf');\n",
       "}\n",
       "\n",
       "#notebook_panel { /* main background */\n",
       "    background: #ddd;\n",
       "    color: #000000;\n",
       "}\n",
       "\n",
       "\n",
       "\n",
       "/* Formatting for header cells */\n",
       ".text_cell_render h1 {\n",
       "    font-family: 'Philosopher', sans-serif;\n",
       "    font-weight: 400;\n",
       "    font-size: 2.2em;\n",
       "    line-height: 100%;\n",
       "    color: rgb(0, 80, 120);\n",
       "    margin-bottom: 0.1em;\n",
       "    margin-top: 0.1em;\n",
       "    display: block;\n",
       "}\t\n",
       ".text_cell_render h2 {\n",
       "    font-family: 'Philosopher', serif;\n",
       "    font-weight: 400;\n",
       "    font-size: 1.9em;\n",
       "    line-height: 100%;\n",
       "    color: rgb(200,100,0);\n",
       "    margin-bottom: 0.1em;\n",
       "    margin-top: 0.1em;\n",
       "    display: block;\n",
       "}\t\n",
       "\n",
       ".text_cell_render h3 {\n",
       "    font-family: 'Philosopher', serif;\n",
       "    margin-top:12px;\n",
       "    margin-bottom: 3px;\n",
       "    font-style: italic;\n",
       "    color: rgb(94,127,192);\n",
       "}\n",
       "\n",
       ".text_cell_render h4 {\n",
       "    font-family: 'Philosopher', serif;\n",
       "}\n",
       "\n",
       ".text_cell_render h5 {\n",
       "    font-family: 'Alegreya Sans', sans-serif;\n",
       "    font-weight: 300;\n",
       "    font-size: 16pt;\n",
       "    color: grey;\n",
       "    font-style: italic;\n",
       "    margin-bottom: .1em;\n",
       "    margin-top: 0.1em;\n",
       "    display: block;\n",
       "}\n",
       "\n",
       ".text_cell_render h6 {\n",
       "    font-family: 'PT Mono', sans-serif;\n",
       "    font-weight: 300;\n",
       "    font-size: 10pt;\n",
       "    color: grey;\n",
       "    margin-bottom: 1px;\n",
       "    margin-top: 1px;\n",
       "}\n",
       "\n",
       ".CodeMirror{\n",
       "        font-family: \"PT Mono\";\n",
       "        font-size: 100%;\n",
       "}\n",
       "\n",
       "</style>\n",
       "\n"
      ],
      "text/plain": [
       "<IPython.core.display.HTML object>"
      ]
     },
     "execution_count": 1,
     "metadata": {},
     "output_type": "execute_result"
    }
   ],
   "source": [
    "from IPython.core.display import HTML, Image\n",
    "css_file = 'style.css'\n",
    "HTML(open(css_file, 'r').read())"
   ]
  },
  {
   "cell_type": "code",
   "execution_count": 2,
   "metadata": {
    "collapsed": true
   },
   "outputs": [],
   "source": [
    "from sympy import init_printing, Matrix, sqrt, symbols"
   ]
  },
  {
   "cell_type": "code",
   "execution_count": 3,
   "metadata": {
    "collapsed": true
   },
   "outputs": [],
   "source": [
    "init_printing(use_latex = 'mathjax')"
   ]
  },
  {
   "cell_type": "markdown",
   "metadata": {},
   "source": [
    "# Vectors in Dirac notation"
   ]
  },
  {
   "cell_type": "markdown",
   "metadata": {},
   "source": [
    "## Vectors"
   ]
  },
  {
   "cell_type": "markdown",
   "metadata": {},
   "source": [
    "### Ket vectors"
   ]
  },
  {
   "cell_type": "markdown",
   "metadata": {},
   "source": [
    "In quantum mechanics (QM) we often make us of state vectors.  In short, state vectors describe the state of a system in *n*-dimensions.  More so, though, it is used to describe probability.  It is most useful to introduce the topic by way of the roll of a pair of dice.  Yes, yes, we're back with the dice.\n",
    "When a pair of six-sided dice are rolled, the face-values can sum to any integer from two to 12.  There is a certain probability to each of these values coming up.  From experience you know that you are unlikely to roll double sixes (which sum to 12).\n",
    "Assuming a fair set of dice, which can both land with any face-value, each face being as likely to land up as any other, the probability that you end up with a total from two to 12 actually depends on the number of ways a number can be achieved.  If you think about it, you can end up with a seven by throwing a one and a six, or a six and a one, or a two and a five, or a five and a two, or a three and a four, or finally a four and a three.  I count six ways in which to roll a sum of seven.\n",
    "This opposed to only a single way of getting a two (by throwing two one's) or a twelve (two sixes)."
   ]
  },
  {
   "cell_type": "markdown",
   "metadata": {},
   "source": [
    "Here is a list with two columns.  On the left is a the sum of the two die and on the right the number of ways in which you can get that number:\n",
    "$$ \\begin{matrix}2&1\\\\3&2\\\\4&3\\\\5&4\\\\6&5\\\\7&6\\\\8&5\\\\9&4\\\\10&3\\\\11&2\\\\12&1\\end{matrix} $$"
   ]
  },
  {
   "cell_type": "markdown",
   "metadata": {},
   "source": [
    "You will note that there are a total of 36 different possibilities.  In QM we use the term *probability*.  So, if there are six ways in which to get a seven, the probability of rolling a total of seven is:\n",
    "$$ \\frac { 6 }{ 36 } =\\frac { 1 }{ 6 } \\approx 0.167=16.7\\% $$"
   ]
  },
  {
   "cell_type": "markdown",
   "metadata": {},
   "source": [
    "Note, also that of we add all the probabilities we get to 1.00 or 100%, which is quite right.  The only possibilities are two to 12, nothing else exists.  We include and exhasut all possibilities."
   ]
  },
  {
   "cell_type": "markdown",
   "metadata": {},
   "source": [
    "Now for the magic!  We write these probabilities as a column vector.  In this case we have an 11-dimensional vector.  This vector lives in a special space, called Hilbert space (which is actually a type of infinitely dimensional space with properties that will be quite useful to us).\n",
    "Here is our vector of ways to get to the outcome:\n",
    "$$ \\begin{bmatrix} 1 \\\\ 2 \\\\ 3 \\\\ 4 \\\\ 5 \\\\ 6 \\\\ 5 \\\\ 4 \\\\ 3 \\\\ 2 \\\\ 1 \\end{bmatrix} $$\n",
    "In QM we are more interested in the probability amplitudes, though.  This is the square root of each of the entries:\n",
    "$$ \\begin{bmatrix} 1 \\\\ \\sqrt { 2 }  \\\\ \\sqrt { 3 }  \\\\ 2 \\\\ \\sqrt { 5 }  \\\\ \\sqrt { 6 }  \\\\ \\sqrt { 5 }  \\\\ 2 \\\\ \\sqrt { 3 }  \\\\ \\sqrt { 2 }  \\\\ 1 \\end{bmatrix} $$"
   ]
  },
  {
   "cell_type": "markdown",
   "metadata": {},
   "source": [
    "We can normalize this vector.  Remember that normalization divides each entry by the length of the vector.  The equation for the length (norm) of a vector with each entry denoted by *a*<sub>i</sub> being:\n",
    "$$ \\sqrt { \\sum _{ i=1 }^{ n }{ { a }_{ i }^{ 2 } }  }  $$"
   ]
  },
  {
   "cell_type": "markdown",
   "metadata": {},
   "source": [
    "This probability vector in 11-dimensional probability-dice-space (Hilbert space) is then nothing other than a list of possible states that we can find the dice in after rolling them:\n",
    "$$ \\begin{bmatrix} \\begin{matrix} \\frac { 1 }{ 6 }  \\\\ \\frac { \\sqrt { 2 }  }{ 6 }  \\\\ \\frac { \\sqrt { 3 }  }{ 6 }  \\\\ \\frac { 2 }{ 6 }  \\\\ \\frac { \\sqrt { 5 }  }{ 6 }  \\\\ \\frac { \\sqrt { 6 }  }{ 6 }  \\\\ \\frac { \\sqrt { 5 }  }{ 6 }  \\\\ \\frac { 2 }{ 6 }  \\\\ \\frac { \\sqrt { 3 }  }{ 6 }  \\\\ \\frac { \\sqrt { 2 }  }{ 6 }  \\\\ \\frac { 1 }{ 6 }  \\end{matrix} \\end{bmatrix} $$"
   ]
  },
  {
   "cell_type": "markdown",
   "metadata": {},
   "source": [
    "We can achieve this using python&#8482;"
   ]
  },
  {
   "cell_type": "code",
   "execution_count": 4,
   "metadata": {
    "collapsed": false
   },
   "outputs": [
    {
     "data": {
      "text/latex": [
       "$$\\left[\\begin{matrix}1\\\\\\sqrt{2}\\\\\\sqrt{3}\\\\2\\\\\\sqrt{5}\\\\\\sqrt{6}\\\\\\sqrt{5}\\\\2\\\\\\sqrt{3}\\\\\\sqrt{2}\\\\1\\end{matrix}\\right]$$"
      ],
      "text/plain": [
       "⎡  1  ⎤\n",
       "⎢     ⎥\n",
       "⎢  ___⎥\n",
       "⎢╲╱ 2 ⎥\n",
       "⎢     ⎥\n",
       "⎢  ___⎥\n",
       "⎢╲╱ 3 ⎥\n",
       "⎢     ⎥\n",
       "⎢  2  ⎥\n",
       "⎢     ⎥\n",
       "⎢  ___⎥\n",
       "⎢╲╱ 5 ⎥\n",
       "⎢     ⎥\n",
       "⎢  ___⎥\n",
       "⎢╲╱ 6 ⎥\n",
       "⎢     ⎥\n",
       "⎢  ___⎥\n",
       "⎢╲╱ 5 ⎥\n",
       "⎢     ⎥\n",
       "⎢  2  ⎥\n",
       "⎢     ⎥\n",
       "⎢  ___⎥\n",
       "⎢╲╱ 3 ⎥\n",
       "⎢     ⎥\n",
       "⎢  ___⎥\n",
       "⎢╲╱ 2 ⎥\n",
       "⎢     ⎥\n",
       "⎣  1  ⎦"
      ]
     },
     "execution_count": 4,
     "metadata": {},
     "output_type": "execute_result"
    }
   ],
   "source": [
    "# Note the construction of a matrix, especially where to place the\n",
    "# parentheses and square brackets; i.e. each new row is in its own\n",
    "# set of square brackets\n",
    "# We store the matrix inside of a computer variable named A (by free choice)\n",
    "A = Matrix([[1], [sqrt(2)], [sqrt(3)], [sqrt(4)], [sqrt(5)], [sqrt(6)], [sqrt(5)], [sqrt(4)], [sqrt(3)], [sqrt(2)], [1]])\n",
    "A # Printing the content of A to the screen"
   ]
  },
  {
   "cell_type": "code",
   "execution_count": 5,
   "metadata": {
    "collapsed": false
   },
   "outputs": [
    {
     "data": {
      "text/latex": [
       "$$\\left[\\begin{matrix}\\frac{1}{6}\\\\\\frac{\\sqrt{2}}{6}\\\\\\frac{\\sqrt{3}}{6}\\\\\\frac{1}{3}\\\\\\frac{\\sqrt{5}}{6}\\\\\\frac{\\sqrt{6}}{6}\\\\\\frac{\\sqrt{5}}{6}\\\\\\frac{1}{3}\\\\\\frac{\\sqrt{3}}{6}\\\\\\frac{\\sqrt{2}}{6}\\\\\\frac{1}{6}\\end{matrix}\\right]$$"
      ],
      "text/plain": [
       "⎡ 1/6 ⎤\n",
       "⎢     ⎥\n",
       "⎢  ___⎥\n",
       "⎢╲╱ 2 ⎥\n",
       "⎢─────⎥\n",
       "⎢  6  ⎥\n",
       "⎢     ⎥\n",
       "⎢  ___⎥\n",
       "⎢╲╱ 3 ⎥\n",
       "⎢─────⎥\n",
       "⎢  6  ⎥\n",
       "⎢     ⎥\n",
       "⎢ 1/3 ⎥\n",
       "⎢     ⎥\n",
       "⎢  ___⎥\n",
       "⎢╲╱ 5 ⎥\n",
       "⎢─────⎥\n",
       "⎢  6  ⎥\n",
       "⎢     ⎥\n",
       "⎢  ___⎥\n",
       "⎢╲╱ 6 ⎥\n",
       "⎢─────⎥\n",
       "⎢  6  ⎥\n",
       "⎢     ⎥\n",
       "⎢  ___⎥\n",
       "⎢╲╱ 5 ⎥\n",
       "⎢─────⎥\n",
       "⎢  6  ⎥\n",
       "⎢     ⎥\n",
       "⎢ 1/3 ⎥\n",
       "⎢     ⎥\n",
       "⎢  ___⎥\n",
       "⎢╲╱ 3 ⎥\n",
       "⎢─────⎥\n",
       "⎢  6  ⎥\n",
       "⎢     ⎥\n",
       "⎢  ___⎥\n",
       "⎢╲╱ 2 ⎥\n",
       "⎢─────⎥\n",
       "⎢  6  ⎥\n",
       "⎢     ⎥\n",
       "⎣ 1/6 ⎦"
      ]
     },
     "execution_count": 5,
     "metadata": {},
     "output_type": "execute_result"
    }
   ],
   "source": [
    "A.normalized() # The method .normalize() divides each element by the\n",
    "# norm or length of the vector"
   ]
  },
  {
   "cell_type": "markdown",
   "metadata": {},
   "source": [
    "+ A moving particle can be in an infinite number of states\n",
    "+ This computer screen is already filled, even with a small 11-dimensional vector, so an infinitely long vector will be problematic\n",
    "+ Enter the notation of the famous physicist *Paul Dirac*\n",
    "    + The Dirac notation makes use of *kets* and *bras*, the so-called bra-ket notation\n",
    "    + The state vector above is a representation of a ket vector.  We write is like this:\n",
    "$$ | \\psi  >  $$"
   ]
  },
  {
   "cell_type": "markdown",
   "metadata": {},
   "source": [
    "+ To be more realistic, we'll have to mentioned functions.  These take the place of simple scalar values above.  Some of them will be of the form:\n",
    "$$ \\frac{1}{6}{e}^{ikx-\\omega t} \\\\ \\frac{\\sqrt{2}}{6}{e}^{i2kx-\\omega t} \\\\ \\vdots $$\n",
    "+ These are a bit difficult for now, so let's stick to functions such as polynomial:\n",
    "$$ {x}^{2} $$\n",
    "+ Now, functions can be used as components (elements) of state vectors as long as they are linearly independent.  What does this mean?.  Well, consider our polynomial above.  Any scalar multiple of this polynomial will not be a new linearly independent polynomial:\n",
    "    $$ \\frac{1}{2}{x}^{2} $$\n",
    "+ We need the components to be linearly independent so that they can reflect independent axes in Hilbert space.  An everyday example of this would be the *x* and *y* axes of a Cartesian plane and more specifically a unit vector along each axis.  They are linearly independent.  We can get to any spot on the plane by the sum of scalar multiples of these two vectors.<br>\n",
    "+ In fancy mathematical terms, we would state that a set of vectors **v**<sub>N</sub> in Hilbert space is linearly independent if the only solution to the following equation is that all the coefficients *c*<sub>n</sub> are zero:\n",
    "$$ \\sum _{ i=1 }^{ N }{ { c }_{ n }{ \\underline { v }  }_{ i } } =\\underline { 0 }  $$\n",
    "    + This is important to understand (the only way to get a zero vector is if the coefficient of both unit vectors are zero)\n",
    "+ Functions / vectors such as these form what is called a basis for the space. Think of the above mentioned unit vectors in two-dimensional Cartesian space written as column vectors (single column matrix):\n",
    "    $$ { \\hat { e }  }_{ i }=\\begin{pmatrix} 1 \\\\ 0 \\end{pmatrix}\\\\ { \\hat { e }  }_{ j }=\\begin{pmatrix} 0 \\\\ 1 \\end{pmatrix} $$\n",
    "+ We can get to any point on the Cartesian plane by adding constant multiples of these two unit vectors."
   ]
  },
  {
   "cell_type": "markdown",
   "metadata": {
    "collapsed": true
   },
   "source": [
    "### Bra vectors"
   ]
  },
  {
   "cell_type": "markdown",
   "metadata": {},
   "source": [
    "+ You might have been wondering when we get to the *bra* in bra-ket\n",
    "+ Before we get there, let's review the dot product of two vectors\n",
    "    + In simple notation we would have:\n",
    "$$ \\underline { u } ={ u }_{ x }+{ u }_{ y }\\\\ \\underline { v } ={ v }_{ x }+v_{ y }\\\\ \\underline { u } \\cdot \\underline { v } ={ u }_{ x }{ v }_{ x }+{ u }_{ y }{ v }_{ y } $$\n",
    "+ If we write these vectors in single column matrix form, though, we have:\n",
    "$$ \\underline { u } =\\begin{bmatrix} { u }_{ x } \\\\ { u }_{ v } \\end{bmatrix}\\\\ \\underline { v } =\\begin{bmatrix} { v }_{ x } \\\\ { v }_{ y } \\end{bmatrix} $$\n",
    "+ To do the dot product in matrix form, we need to use the transpose:\n",
    "$$ \\underline { u } \\cdot \\underline { v } ={ \\underline { v }  }^{ T }\\underline { u } \\\\ { \\begin{bmatrix} { v }_{ x } & { v }_{ y } \\end{bmatrix} }_{ 1\\times 2 }{ \\begin{bmatrix} { u }_{ x } \\\\ { u }_{ v } \\end{bmatrix} }_{ 2\\times 1 }={ \\begin{bmatrix} { u }_{ x }{ v }_{ x }+{ u }_{ y }{ v }_{ y } \\end{bmatrix} }_{ 1\\times 1 } $$"
   ]
  },
  {
   "cell_type": "markdown",
   "metadata": {},
   "source": [
    "+ The bra vector to our ket vector |*&psi;*> above is created in much the same way\n",
    "+ It is written as <*&psi;*| (on't get to hasty, though, there's a bit more to it)\n",
    "+ Not only do we have to take the transpose above, we need to change each entry into its *complex conjugate*. A complex conjugate take the coefficient of the imaginary part of a complex number and multiplies it by negative one (-1):\n",
    "$$  {a} + {b}{i} \\rightarrow {a} + {\\left( -1 \\right)}{b}{i} $$\n",
    "+ Our coefficients above were all real, so the coefficient of the imaginary part was zero\n",
    "+ In linear algebra terms, any matrix can be transposed and its elements changed into their complex conjugates\n",
    "+ This new matrix is called the *Hermitian matrix* of a matrix A\n",
    "    + It is denoted as A<sup>&dagger;</sup> (that's a dagger sign)."
   ]
  },
  {
   "cell_type": "markdown",
   "metadata": {},
   "source": [
    "We can do this in python&#8482; by importing a submodule from sympy:"
   ]
  },
  {
   "cell_type": "code",
   "execution_count": 25,
   "metadata": {
    "collapsed": true
   },
   "outputs": [],
   "source": [
    "from sympy.physics.quantum import Dagger\n",
    "from sympy import I"
   ]
  },
  {
   "cell_type": "code",
   "execution_count": 26,
   "metadata": {
    "collapsed": false
   },
   "outputs": [
    {
     "data": {
      "text/latex": [
       "$$\\left[\\begin{array}{ccccccccccc}\\frac{1}{6} & \\frac{\\sqrt{2}}{6} & \\frac{\\sqrt{3}}{6} & \\frac{1}{3} & \\frac{\\sqrt{5}}{6} & \\frac{\\sqrt{6}}{6} & \\frac{\\sqrt{5}}{6} & \\frac{1}{3} & \\frac{\\sqrt{3}}{6} & \\frac{\\sqrt{2}}{6} & \\frac{1}{6}\\end{array}\\right]$$"
      ],
      "text/plain": [
       "⎡       ___    ___         ___    ___    ___         ___    ___     ⎤\n",
       "⎢     ╲╱ 2   ╲╱ 3        ╲╱ 5   ╲╱ 6   ╲╱ 5        ╲╱ 3   ╲╱ 2      ⎥\n",
       "⎢1/6  ─────  ─────  1/3  ─────  ─────  ─────  1/3  ─────  ─────  1/6⎥\n",
       "⎣       6      6           6      6      6           6      6       ⎦"
      ]
     },
     "execution_count": 26,
     "metadata": {},
     "output_type": "execute_result"
    }
   ],
   "source": [
    "# Here I use the .normalized() method as an argument\n",
    "# inside of the Dagger function\n",
    "Dagger(A.normalized())"
   ]
  },
  {
   "cell_type": "markdown",
   "metadata": {},
   "source": [
    "What happens if we take a one column (vector matrix) and multiply it by it's transpose?  Let's do a simple example first:"
   ]
  },
  {
   "cell_type": "code",
   "execution_count": 27,
   "metadata": {
    "collapsed": false
   },
   "outputs": [
    {
     "data": {
      "text/latex": [
       "$$\\left[\\begin{matrix}v_{1}\\\\v_{2}\\\\v_{3}\\end{matrix}\\right]$$"
      ],
      "text/plain": [
       "⎡v₁⎤\n",
       "⎢  ⎥\n",
       "⎢v₂⎥\n",
       "⎢  ⎥\n",
       "⎣v₃⎦"
      ]
     },
     "execution_count": 27,
     "metadata": {},
     "output_type": "execute_result"
    }
   ],
   "source": [
    "# Creating algebraic symbols\n",
    "v1, v2, v3 = symbols('v1 v2 v3')\n",
    "\n",
    "# Creating a column matrix\n",
    "v_vect = Matrix([[v1], [v2], [v3]])\n",
    "v_vect"
   ]
  },
  {
   "cell_type": "code",
   "execution_count": 28,
   "metadata": {
    "collapsed": false
   },
   "outputs": [
    {
     "data": {
      "text/latex": [
       "$$\\left[\\begin{matrix}v_{1}^{2} + v_{2}^{2} + v_{3}^{2}\\end{matrix}\\right]$$"
      ],
      "text/plain": [
       "⎡  2     2     2⎤\n",
       "⎣v₁  + v₂  + v₃ ⎦"
      ]
     },
     "execution_count": 28,
     "metadata": {},
     "output_type": "execute_result"
    }
   ],
   "source": [
    "v_vect.transpose() * v_vect"
   ]
  },
  {
   "cell_type": "markdown",
   "metadata": {},
   "source": [
    "That's the sum of the squares of all the elements.  Guess what's going to happen to our dice vector?"
   ]
  },
  {
   "cell_type": "code",
   "execution_count": 29,
   "metadata": {
    "collapsed": false
   },
   "outputs": [
    {
     "data": {
      "text/latex": [
       "$$\\left[\\begin{matrix}1\\end{matrix}\\right]$$"
      ],
      "text/plain": [
       "[1]"
      ]
     },
     "execution_count": 29,
     "metadata": {},
     "output_type": "execute_result"
    }
   ],
   "source": [
    "Dagger(A.normalized()) * A.normalized()"
   ]
  },
  {
   "cell_type": "markdown",
   "metadata": {},
   "source": [
    "+ Yes, it returns a one, just as it should\n",
    "+ We are summing over the squares of all the probability amplitudes (which are square roots) and indeed, we must end up with one!"
   ]
  },
  {
   "cell_type": "markdown",
   "metadata": {},
   "source": [
    "+ In bra-ket notation we write the following: <*&psi;*|*&psi;*>"
   ]
  },
  {
   "cell_type": "markdown",
   "metadata": {},
   "source": [
    "+ There is a bit more beauty hidden in this Dirac notation\n",
    "+ Let's look at our two old friends, the unit vectors along the *x* and *y* axes of the Cartesian plane\n",
    "+ Note that they are normalized (have a length of one) and are orthogonal (at right angles to each other)\n",
    "    + We call these two vectors *orthonormal* (they are orthogonal and normalized)\n",
    "+ Let's call the *x* axis vector *psi* and the *y* axis vector *phi* (computer variable names of our choosing)\n",
    "$$ \\psi = \\begin{bmatrix}1\\\\0\\end{bmatrix} \\\\ \\phi = \\begin{bmatrix}0\\\\i\\end{bmatrix} $$"
   ]
  },
  {
   "cell_type": "code",
   "execution_count": 30,
   "metadata": {
    "collapsed": false
   },
   "outputs": [
    {
     "data": {
      "text/latex": [
       "$$\\left ( \\left[\\begin{matrix}1\\\\0\\end{matrix}\\right], \\quad \\left[\\begin{matrix}0\\\\i\\end{matrix}\\right]\\right )$$"
      ],
      "text/plain": [
       "⎛⎡1⎤, ⎡0⎤⎞\n",
       "⎜⎢ ⎥  ⎢ ⎥⎟\n",
       "⎝⎣0⎦  ⎣ⅈ⎦⎠"
      ]
     },
     "execution_count": 30,
     "metadata": {},
     "output_type": "execute_result"
    }
   ],
   "source": [
    "psi = Matrix([[1], [0]])\n",
    "phi = Matrix([[0], [I]])\n",
    "psi, phi"
   ]
  },
  {
   "cell_type": "markdown",
   "metadata": {},
   "source": [
    "Remember, the complex conjugate transpose (Hermitian) of the column vector times the column vector is written as <*&psi;*|*&psi;*>.  Let's do it for our two orthogonal vectors:"
   ]
  },
  {
   "cell_type": "code",
   "execution_count": 31,
   "metadata": {
    "collapsed": false
   },
   "outputs": [
    {
     "data": {
      "text/latex": [
       "$$\\left ( \\left[\\begin{matrix}1 & 0\\end{matrix}\\right], \\quad \\left[\\begin{matrix}1\\\\0\\end{matrix}\\right]\\right )$$"
      ],
      "text/plain": [
       "⎛[1  0], ⎡1⎤⎞\n",
       "⎜        ⎢ ⎥⎟\n",
       "⎝        ⎣0⎦⎠"
      ]
     },
     "execution_count": 31,
     "metadata": {},
     "output_type": "execute_result"
    }
   ],
   "source": [
    "Dagger(psi), psi # Just printing the two to the screen"
   ]
  },
  {
   "cell_type": "code",
   "execution_count": 32,
   "metadata": {
    "collapsed": false
   },
   "outputs": [
    {
     "data": {
      "text/latex": [
       "$$\\left[\\begin{matrix}1\\end{matrix}\\right]$$"
      ],
      "text/plain": [
       "[1]"
      ]
     },
     "execution_count": 32,
     "metadata": {},
     "output_type": "execute_result"
    }
   ],
   "source": [
    "Dagger(psi) * psi # Doing the acutal calculation"
   ]
  },
  {
   "cell_type": "markdown",
   "metadata": {},
   "source": [
    "+ We've learned something very important here\n",
    "+ The complex conjugate transpose of a column vector that is normalized multiplied by itself equals one (1)"
   ]
  },
  {
   "cell_type": "markdown",
   "metadata": {},
   "source": [
    "+ Now for the \\$1,000,000 question: What is <*&phi;*|*&psi;*>?\n",
    "+ Remember, this is the Hermitian of |*&phi;*> times |*&psi;*>\n",
    "+ Also, these two are orthogonal!  Let's see:"
   ]
  },
  {
   "cell_type": "code",
   "execution_count": 33,
   "metadata": {
    "collapsed": false
   },
   "outputs": [
    {
     "data": {
      "text/latex": [
       "$$\\left ( \\left[\\begin{matrix}0 & - i\\end{matrix}\\right], \\quad \\left[\\begin{matrix}1\\\\0\\end{matrix}\\right]\\right )$$"
      ],
      "text/plain": [
       "⎛[0  -ⅈ], ⎡1⎤⎞\n",
       "⎜         ⎢ ⎥⎟\n",
       "⎝         ⎣0⎦⎠"
      ]
     },
     "execution_count": 33,
     "metadata": {},
     "output_type": "execute_result"
    }
   ],
   "source": [
    "Dagger(phi), psi # Just printing the two to the screen"
   ]
  },
  {
   "cell_type": "code",
   "execution_count": 34,
   "metadata": {
    "collapsed": false
   },
   "outputs": [
    {
     "data": {
      "text/latex": [
       "$$\\left[\\begin{matrix}0\\end{matrix}\\right]$$"
      ],
      "text/plain": [
       "[0]"
      ]
     },
     "execution_count": 34,
     "metadata": {},
     "output_type": "execute_result"
    }
   ],
   "source": [
    "Dagger(phi) * psi"
   ]
  },
  {
   "cell_type": "markdown",
   "metadata": {},
   "source": [
    "+ Whoa!  So, if the two vectors are orthonormal (orthogonal to each other and each of unit length), then <*&phi;*|*&psi;*> = 0"
   ]
  },
  {
   "cell_type": "markdown",
   "metadata": {},
   "source": [
    "+ In QM we would use this the other way around, though, stating that if we found <*&phi;*|*&psi;*> = 0 (the inner product of two vectors), we deduce that the two kets |*&psi;*> and |*&phi;*> are orthogonal\n",
    "+ If a set of kets obey the following, they are orthonormal:\n",
    "    + $\\left<{\\psi}|{\\phi}\\right>=0$\n",
    "    + $\\left<{\\psi}|{\\psi}\\right>=1$\n",
    "    + $\\left<{\\phi}|{\\phi}\\right>=1$"
   ]
  },
  {
   "cell_type": "markdown",
   "metadata": {},
   "source": [
    "### Orthonomal basis vectors"
   ]
  },
  {
   "cell_type": "markdown",
   "metadata": {},
   "source": [
    "+ We can define the dimensions of a space by looking at how many orthonormal unit vectors it has\n",
    "+ Think of three-dimensional space\n",
    "+ We are familiar with the three unit vectors along the axes, $ \\hat{i},\\quad\\hat{j},\\quad\\hat{k} $\n",
    "+ We cannot construct a third vector that would be orthogonal to all three\n",
    "+ That would require a four-dimensional space.<br>\n",
    "+ In three-dimensional space, the unit vectors $ \\hat{i},\\quad\\hat{j},\\quad\\hat{k} $ constitute a basis for the space as we can reconstruct any vector in this space by a linear combination of these three vectors\n",
    "+ In this case, though, they are all unit vectors and orthogonal to each other, so we call them an *orthonormal basis*\n",
    "+ This can also be constructed for complex spaces\n",
    "+ Consider an *N*-dimensional space with an orthonormal basis of ket vectors, $ \\left|{i}\\right> $, with *i* from 1 to *N*\n",
    "+ We can now construct a vector **B** in this space with complex components $ {\\beta}_{i} $ and get $ \\left|{B}\\right>=\\sum _{ i }^{ N }{ { \\beta  }_{ i } } \\left| i \\right>  $.<br>\n",
    "+ To calculate the complex components we multiply both sides by multiplying both sides by a basis bra $ \\left<{j}\\right| $\n",
    "+ In other words we get the following:\n",
    "$$ \\left< { j }|{ B } \\right> = \\sum _{ i }^{ N }{ { \\beta  }_{ i }\\left< { j }|i \\right>  }  $$"
   ]
  },
  {
   "cell_type": "markdown",
   "metadata": {},
   "source": [
    "+ Because we have orthonormal basis vectors we will have $ \\left< { j }|i \\right> =0 $ if $ i\\neq j $\n",
    "+ Conversely, $ \\left< { j }|i \\right> =1 $ if $ i=j $, which will off course only occur once, so that $ \\left< { j }|B \\right> ={ \\beta  }_{ j } $"
   ]
  },
  {
   "cell_type": "markdown",
   "metadata": {},
   "source": [
    "### The Schwarz inequality and Heisenberg's uncertainty pricnicple"
   ]
  },
  {
   "cell_type": "markdown",
   "metadata": {},
   "source": [
    "+ We have to talk about the *Schwarz inequality*\n",
    "+ You may have been introduced to it in linear algebra as the vector inequality:\n",
    "$$ { \\left| A\\cdot B \\right|  }^{ 2 }\\le { \\left| A \\right|  }^{ 2 }{ \\left| B \\right|  }^{ 2 } $$\n",
    "+ In bra-ket for we have:\n",
    "$$ { \\left| \\left< \\psi |\\phi  \\right>  \\right|  }^{ 2 }\\le \\left< \\psi |\\psi  \\right> \\left< \\phi |\\phi  \\right>   $$\n",
    "+ Heard of Heisenberg?\n",
    "    + Well, we can derive his uncertainty principle from this inequality"
   ]
  },
  {
   "cell_type": "markdown",
   "metadata": {
    "collapsed": true
   },
   "source": [
    "## Sympy notation"
   ]
  },
  {
   "cell_type": "markdown",
   "metadata": {},
   "source": [
    "+ We can use the *physics.quantum* submodule to do some basic bra-ket expressions"
   ]
  },
  {
   "cell_type": "code",
   "execution_count": 16,
   "metadata": {
    "collapsed": true
   },
   "outputs": [],
   "source": [
    "from sympy.physics.quantum import Bra, Ket"
   ]
  },
  {
   "cell_type": "code",
   "execution_count": 17,
   "metadata": {
    "collapsed": true
   },
   "outputs": [],
   "source": [
    "k = Ket('psi')"
   ]
  },
  {
   "cell_type": "code",
   "execution_count": 18,
   "metadata": {
    "collapsed": false
   },
   "outputs": [
    {
     "data": {
      "text/latex": [
       "$${\\left|\\psi\\right\\rangle }$$"
      ],
      "text/plain": [
       "❘ψ⟩"
      ]
     },
     "execution_count": 18,
     "metadata": {},
     "output_type": "execute_result"
    }
   ],
   "source": [
    "k"
   ]
  },
  {
   "cell_type": "markdown",
   "metadata": {},
   "source": [
    "+ We can print the associated bra vector to the screen"
   ]
  },
  {
   "cell_type": "code",
   "execution_count": 19,
   "metadata": {
    "collapsed": false
   },
   "outputs": [
    {
     "data": {
      "text/latex": [
       "$${\\left\\langle \\psi\\right|}$$"
      ],
      "text/plain": [
       "⟨ψ❘"
      ]
     },
     "execution_count": 19,
     "metadata": {},
     "output_type": "execute_result"
    }
   ],
   "source": [
    "k.dual"
   ]
  },
  {
   "cell_type": "markdown",
   "metadata": {},
   "source": [
    "+ Same goes for the bra vector"
   ]
  },
  {
   "cell_type": "code",
   "execution_count": 20,
   "metadata": {
    "collapsed": true
   },
   "outputs": [],
   "source": [
    "b = Bra('phi')"
   ]
  },
  {
   "cell_type": "code",
   "execution_count": 21,
   "metadata": {
    "collapsed": false
   },
   "outputs": [
    {
     "data": {
      "text/latex": [
       "$${\\left\\langle \\phi\\right|}$$"
      ],
      "text/plain": [
       "⟨φ❘"
      ]
     },
     "execution_count": 21,
     "metadata": {},
     "output_type": "execute_result"
    }
   ],
   "source": [
    "b"
   ]
  },
  {
   "cell_type": "code",
   "execution_count": 22,
   "metadata": {
    "collapsed": false
   },
   "outputs": [
    {
     "data": {
      "text/latex": [
       "$${\\left|\\phi\\right\\rangle }$$"
      ],
      "text/plain": [
       "❘φ⟩"
      ]
     },
     "execution_count": 22,
     "metadata": {},
     "output_type": "execute_result"
    }
   ],
   "source": [
    "b.dual"
   ]
  },
  {
   "cell_type": "code",
   "execution_count": 23,
   "metadata": {
    "collapsed": false
   },
   "outputs": [
    {
     "data": {
      "text/latex": [
       "$$\\left\\langle \\phi \\right. {\\left|\\psi\\right\\rangle }$$"
      ],
      "text/plain": [
       "⟨φ❘ψ⟩"
      ]
     },
     "execution_count": 23,
     "metadata": {},
     "output_type": "execute_result"
    }
   ],
   "source": [
    "b * k"
   ]
  },
  {
   "cell_type": "code",
   "execution_count": 24,
   "metadata": {
    "collapsed": false
   },
   "outputs": [
    {
     "data": {
      "text/latex": [
       "$$\\left\\langle \\psi \\right. {\\left|\\psi\\right\\rangle }$$"
      ],
      "text/plain": [
       "⟨ψ❘ψ⟩"
      ]
     },
     "execution_count": 24,
     "metadata": {},
     "output_type": "execute_result"
    }
   ],
   "source": [
    "k.dual * k"
   ]
  },
  {
   "cell_type": "code",
   "execution_count": null,
   "metadata": {
    "collapsed": true
   },
   "outputs": [],
   "source": []
  }
 ],
 "metadata": {
  "kernelspec": {
   "display_name": "Python 3",
   "language": "python",
   "name": "python3"
  },
  "language_info": {
   "codemirror_mode": {
    "name": "ipython",
    "version": 3
   },
   "file_extension": ".py",
   "mimetype": "text/x-python",
   "name": "python",
   "nbconvert_exporter": "python",
   "pygments_lexer": "ipython3",
   "version": "3.5.0"
  }
 },
 "nbformat": 4,
 "nbformat_minor": 0
}
