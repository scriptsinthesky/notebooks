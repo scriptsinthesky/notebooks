{
 "cells": [
  {
   "cell_type": "code",
   "execution_count": null,
   "metadata": {
    "collapsed": true
   },
   "outputs": [],
   "source": []
  },
  {
   "cell_type": "markdown",
   "metadata": {},
   "source": [
    "# Principles of quantum mechanics"
   ]
  },
  {
   "cell_type": "markdown",
   "metadata": {},
   "source": [
    "## Mathematics of linear operators"
   ]
  },
  {
   "cell_type": "markdown",
   "metadata": {},
   "source": [
    "### Machines and matrices"
   ]
  },
  {
   "cell_type": "markdown",
   "metadata": {},
   "source": [
    "+ *States* in quantum mechanics (QM) are described mathematically as **vectors in a vector space**\n",
    "+ Things that are measurable are called physical *observables* and are described as **linear operators**\n",
    "+ Examples of observables\n",
    "    + $ {\\sigma}_{z} $ in our previous disccussions\n",
    "    + Coordinates of a particle\n",
    "    + Energy of a system\n",
    "    + Momentum of a system\n",
    "    + Angular momentum of a system\n",
    "    + Electrtic field at a point in space\n",
    "+ Observables are associated with a vector space (they are not state vectors, though)\n",
    "+ The process of doing a quantum calculation has been described as starting with a vector, say $ \\left| B \\right> $, putting it through a machine, **M**, and getting a result, which is another vector, say $ \\left| B \\right> $\n",
    "+ In bra-ket notation that would be $ M\\left|A\\right>=\\left|B\\right> $\n",
    "+ There are plenty constraints on the linear operator $M$ (they will become clear in time)\n",
    "    + A linear operator must give a unique output for every vector in the vectors (state) space\n",
    "    + When acting on a scalr multiple of a vector it must give the same scalar multiple of the output vector, $Mz\\left|A\\right>=z\\left|B\\right>$\n",
    "    + $M$ acting on the sum of vectors must equal the sum of $M$ acting on each vector, $M\\left\\{\\left|A\\right>+\\left|B\\right>\\right\\}=M\\left|A\\right>+M\\left|B\\right>$\n",
    "+ We have seen before that a vector in a chosen vector space is a linear combination of orthonomal basis vectors for that spacce\n",
    "    + Let's say for a orthonormal basis vector set, $\\left|j\\right>$, we have $\\left| A \\right> =\\sum _{ j }^{  }{ { \\alpha  }_{ j }\\left |j \\right>  } $\n",
    "    + This makes $\\left|B\\right>={\\beta}_{j}\\left|j\\right>$, leaving $\\sum _{ j }^{  }{ M\\left| j \\right> { \\alpha  }_{ j } } =\\sum _{ j }^{  }{ { \\beta  }_{ j }\\left |j \\right>  } $\n",
    "    + If we take the inner product of both sides with a particular basis vector, $\\left<k\\right|$, we get $\\sum _{ j }^{  }{ \\left< k|M|j \\right> { \\alpha  }_{ j } } =\\sum _{ j }^{  }{ { \\beta  }_{ j }\\left< k|j \\right>  } $\n",
    "    + Becasue of the orthonormal basis vectors we have the right-hand side equal to zero, unless $j$ and $k$ are equal, resulting in a right-hand side of ${\\beta}_{k}$"
   ]
  },
  {
   "cell_type": "code",
   "execution_count": null,
   "metadata": {
    "collapsed": true
   },
   "outputs": [],
   "source": []
  }
 ],
 "metadata": {
  "kernelspec": {
   "display_name": "Python 3",
   "language": "python",
   "name": "python3"
  },
  "language_info": {
   "codemirror_mode": {
    "name": "ipython",
    "version": 3
   },
   "file_extension": ".py",
   "mimetype": "text/x-python",
   "name": "python",
   "nbconvert_exporter": "python",
   "pygments_lexer": "ipython3",
   "version": "3.5.0"
  }
 },
 "nbformat": 4,
 "nbformat_minor": 0
}
