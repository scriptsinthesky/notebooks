{
 "cells": [
  {
   "cell_type": "markdown",
   "metadata": {},
   "source": [
    "<a rel=\"license\" href=\"http://creativecommons.org/licenses/by-nc/4.0/\"><img alt=\"Creative Commons License\" style=\"border-width:0\" src=\"https://i.creativecommons.org/l/by-nc/4.0/88x31.png\" /></a><br /><span xmlns:dct=\"http://purl.org/dc/terms/\" property=\"dct:title\">Introduction to quantum mechanics</span> by <span xmlns:cc=\"http://creativecommons.org/ns#\" property=\"cc:attributionName\">Dr Juan H Klopper</span> is licensed under a <a rel=\"license\" href=\"http://creativecommons.org/licenses/by-nc/4.0/\">Creative Commons Attribution-NonCommercial 4.0 International License</a>."
   ]
  },
  {
   "cell_type": "code",
   "execution_count": 1,
   "metadata": {
    "collapsed": false
   },
   "outputs": [
    {
     "data": {
      "text/html": [
       "<link href='http://fonts.googleapis.com/css?family=Alegreya+Sans:100,300,400,500,700,800,900,100italic,300italic,400italic,500italic,700italic,800italic,900italic' rel='stylesheet' type='text/css'>\n",
       "<link href='http://fonts.googleapis.com/css?family=Arvo:400,700,400italic' rel='stylesheet' type='text/css'>\n",
       "<link href='http://fonts.googleapis.com/css?family=PT+Mono' rel='stylesheet' type='text/css'>\n",
       "<link href='http://fonts.googleapis.com/css?family=Shadows+Into+Light' rel='stylesheet' type='text/css'>\n",
       "<link href='http://fonts.googleapis.com/css?family=Philosopher:400,700,400italic,700italic' rel='stylesheet' type='text/css'>\n",
       "\n",
       "<style>\n",
       "\n",
       "@font-face {\n",
       "    font-family: \"Computer Modern\";\n",
       "    src: url('http://mirrors.ctan.org/fonts/cm-unicode/fonts/otf/cmunss.otf');\n",
       "}\n",
       "\n",
       "#notebook_panel { /* main background */\n",
       "    background: #ddd;\n",
       "    color: #000000;\n",
       "}\n",
       "\n",
       "\n",
       "\n",
       "/* Formatting for header cells */\n",
       ".text_cell_render h1 {\n",
       "    font-family: 'Philosopher', sans-serif;\n",
       "    font-weight: 400;\n",
       "    font-size: 2.2em;\n",
       "    line-height: 100%;\n",
       "    color: rgb(0, 80, 120);\n",
       "    margin-bottom: 0.1em;\n",
       "    margin-top: 0.1em;\n",
       "    display: block;\n",
       "}\t\n",
       ".text_cell_render h2 {\n",
       "    font-family: 'Philosopher', serif;\n",
       "    font-weight: 400;\n",
       "    font-size: 1.9em;\n",
       "    line-height: 100%;\n",
       "    color: rgb(200,100,0);\n",
       "    margin-bottom: 0.1em;\n",
       "    margin-top: 0.1em;\n",
       "    display: block;\n",
       "}\t\n",
       "\n",
       ".text_cell_render h3 {\n",
       "    font-family: 'Philosopher', serif;\n",
       "    margin-top:12px;\n",
       "    margin-bottom: 3px;\n",
       "    font-style: italic;\n",
       "    color: rgb(94,127,192);\n",
       "}\n",
       "\n",
       ".text_cell_render h4 {\n",
       "    font-family: 'Philosopher', serif;\n",
       "}\n",
       "\n",
       ".text_cell_render h5 {\n",
       "    font-family: 'Alegreya Sans', sans-serif;\n",
       "    font-weight: 300;\n",
       "    font-size: 16pt;\n",
       "    color: grey;\n",
       "    font-style: italic;\n",
       "    margin-bottom: .1em;\n",
       "    margin-top: 0.1em;\n",
       "    display: block;\n",
       "}\n",
       "\n",
       ".text_cell_render h6 {\n",
       "    font-family: 'PT Mono', sans-serif;\n",
       "    font-weight: 300;\n",
       "    font-size: 10pt;\n",
       "    color: grey;\n",
       "    margin-bottom: 1px;\n",
       "    margin-top: 1px;\n",
       "}\n",
       "\n",
       ".CodeMirror{\n",
       "        font-family: \"PT Mono\";\n",
       "        font-size: 100%;\n",
       "}\n",
       "\n",
       "</style>\n",
       "\n"
      ],
      "text/plain": [
       "<IPython.core.display.HTML object>"
      ]
     },
     "execution_count": 1,
     "metadata": {},
     "output_type": "execute_result"
    }
   ],
   "source": [
    "from IPython.core.display import HTML, Image\n",
    "css_file = 'style.css'\n",
    "HTML(open(css_file, 'r').read())"
   ]
  },
  {
   "cell_type": "code",
   "execution_count": 2,
   "metadata": {
    "collapsed": true
   },
   "outputs": [],
   "source": [
    "from sympy import init_printing\n",
    "from warnings import filterwarnings"
   ]
  },
  {
   "cell_type": "code",
   "execution_count": 3,
   "metadata": {
    "collapsed": true
   },
   "outputs": [],
   "source": [
    "init_printing(use_latex = 'mathjax')\n",
    "filterwarnings('ignore')"
   ]
  },
  {
   "cell_type": "markdown",
   "metadata": {
    "collapsed": true
   },
   "source": [
    "# Eigenvalues and eigenvectors"
   ]
  },
  {
   "cell_type": "markdown",
   "metadata": {
    "collapsed": true
   },
   "source": [
    "## Introduction"
   ]
  },
  {
   "cell_type": "markdown",
   "metadata": {},
   "source": [
    "+ We looked at eigenvalues and eigenvectors in the previous chapter\n",
    "+ In this chapter we'll take a little detour to look at them a little closer\n",
    "+ *Eigen* is German for *innate* or *natural*\n",
    "+ An eigenvalues and eigenvector represent the right-had side of the equation:\n",
    "    + In matrix form\n",
    "    $$ A \\underline {b} = \\lambda \\underline {b} $$\n",
    "    + In Dirac notation:\n",
    "    $$ {\\hat H} | \\psi > = \\lambda | \\psi > $$\n",
    "+ A and H are square matrices of size *n* &times; *n* and **b** and *&psi;* are column vectors of size *n* &times; 1"
   ]
  },
  {
   "cell_type": "markdown",
   "metadata": {},
   "source": [
    "+ Let's look at the matrix equation first\n",
    "$$ {A}\\underline{b}-{\\lambda}\\underline{b}=\\underline{0} $$\n",
    "+ To isolate the vector **b** we need to multiple *&lambda;* with the identity matrix of similar size to the square matrix A\n",
    "$$ \\left( A - \\lambda {I} \\right) \\underline {b} = \\underline {0} $$\n",
    "+ With **b** not being a zero column vector, the only was that this equations is true is for (A - *&lambda;*I) to be a singular matrix\n",
    "+ We are thus asking what we have to do (subtract) from A to make it a singular matrix\n",
    "+ This something that we are subtracting is a scalar *&lambda;* times the correctly-sized identity matrix\n",
    "+ For any matrix A (and size depending) there can be more than one eigenvalue, eigenvalues can be repeated, and they can be real or imaginary"
   ]
  },
  {
   "cell_type": "markdown",
   "metadata": {},
   "source": [
    "### Some examples"
   ]
  },
  {
   "cell_type": "code",
   "execution_count": 4,
   "metadata": {
    "collapsed": true
   },
   "outputs": [],
   "source": [
    "from sympy import Matrix"
   ]
  },
  {
   "cell_type": "code",
   "execution_count": 5,
   "metadata": {
    "collapsed": false
   },
   "outputs": [
    {
     "data": {
      "text/latex": [
       "$$\\left[\\begin{matrix}1 & 3\\\\-1 & 2\\end{matrix}\\right]$$"
      ],
      "text/plain": [
       "⎡1   3⎤\n",
       "⎢     ⎥\n",
       "⎣-1  2⎦"
      ]
     },
     "execution_count": 5,
     "metadata": {},
     "output_type": "execute_result"
    }
   ],
   "source": [
    "A = Matrix([[1, 3], [-1, 2]])\n",
    "A"
   ]
  },
  {
   "cell_type": "markdown",
   "metadata": {},
   "source": [
    "+ This matrix does not have a determinant of zero"
   ]
  },
  {
   "cell_type": "code",
   "execution_count": 6,
   "metadata": {
    "collapsed": false
   },
   "outputs": [
    {
     "data": {
      "text/latex": [
       "$$5$$"
      ],
      "text/plain": [
       "5"
      ]
     },
     "execution_count": 6,
     "metadata": {},
     "output_type": "execute_result"
    }
   ],
   "source": [
    "A.det()"
   ]
  },
  {
   "cell_type": "markdown",
   "metadata": {},
   "source": [
    "+ Let's look at the eigenvalue and eigenvectors"
   ]
  },
  {
   "cell_type": "code",
   "execution_count": 7,
   "metadata": {
    "collapsed": false
   },
   "outputs": [
    {
     "data": {
      "text/latex": [
       "$$\\left \\{ \\frac{3}{2} - \\frac{\\sqrt{11} i}{2} : 1, \\quad \\frac{3}{2} + \\frac{\\sqrt{11} i}{2} : 1\\right \\}$$"
      ],
      "text/plain": [
       "⎧      ____             ____     ⎫\n",
       "⎪3   ╲╱ 11 ⋅ⅈ     3   ╲╱ 11 ⋅ⅈ   ⎪\n",
       "⎨─ - ────────: 1, ─ + ────────: 1⎬\n",
       "⎪2      2         2      2       ⎪\n",
       "⎩                                ⎭"
      ]
     },
     "execution_count": 7,
     "metadata": {},
     "output_type": "execute_result"
    }
   ],
   "source": [
    "A.eigenvals()\n",
    "# The solution lists the eigenvalues\n",
    "# Each eigenvalue is followed by a colon and then a\n",
    "# number representing how many times that eigenvalue exists"
   ]
  },
  {
   "cell_type": "code",
   "execution_count": 8,
   "metadata": {
    "collapsed": false
   },
   "outputs": [
    {
     "data": {
      "text/latex": [
       "$$\\left [ \\left ( \\frac{3}{2} - \\frac{\\sqrt{11} i}{2}, \\quad 1, \\quad \\left [ \\left[\\begin{matrix}- \\frac{3}{- \\frac{1}{2} + \\frac{\\sqrt{11} i}{2}}\\\\1\\end{matrix}\\right]\\right ]\\right ), \\quad \\left ( \\frac{3}{2} + \\frac{\\sqrt{11} i}{2}, \\quad 1, \\quad \\left [ \\left[\\begin{matrix}- \\frac{3}{- \\frac{1}{2} - \\frac{\\sqrt{11} i}{2}}\\\\1\\end{matrix}\\right]\\right ]\\right )\\right ]$$"
      ],
      "text/plain": [
       "⎡⎛      ____                         ⎞  ⎛      ____                         ⎞⎤\n",
       "⎢⎜3   ╲╱ 11 ⋅ⅈ     ⎡⎡     -3       ⎤⎤⎟  ⎜3   ╲╱ 11 ⋅ⅈ     ⎡⎡     -3       ⎤⎤⎟⎥\n",
       "⎢⎜─ - ────────, 1, ⎢⎢──────────────⎥⎥⎟, ⎜─ + ────────, 1, ⎢⎢──────────────⎥⎥⎟⎥\n",
       "⎢⎜2      2         ⎢⎢        ____  ⎥⎥⎟  ⎜2      2         ⎢⎢        ____  ⎥⎥⎟⎥\n",
       "⎢⎜                 ⎢⎢  1   ╲╱ 11 ⋅ⅈ⎥⎥⎟  ⎜                 ⎢⎢  1   ╲╱ 11 ⋅ⅈ⎥⎥⎟⎥\n",
       "⎢⎜                 ⎢⎢- ─ + ────────⎥⎥⎟  ⎜                 ⎢⎢- ─ - ────────⎥⎥⎟⎥\n",
       "⎢⎜                 ⎢⎢  2      2    ⎥⎥⎟  ⎜                 ⎢⎢  2      2    ⎥⎥⎟⎥\n",
       "⎢⎜                 ⎢⎢              ⎥⎥⎟  ⎜                 ⎢⎢              ⎥⎥⎟⎥\n",
       "⎣⎝                 ⎣⎣      1       ⎦⎦⎠  ⎝                 ⎣⎣      1       ⎦⎦⎠⎦"
      ]
     },
     "execution_count": 8,
     "metadata": {},
     "output_type": "execute_result"
    }
   ],
   "source": [
    "A.eigenvects()\n",
    "# The solution lists the eigenvalue, how many times it occurs, and\n",
    "# its eigenvector"
   ]
  },
  {
   "cell_type": "markdown",
   "metadata": {},
   "source": [
    "+ Let's do a matrix A with real-values eigenvalues"
   ]
  },
  {
   "cell_type": "code",
   "execution_count": 9,
   "metadata": {
    "collapsed": false
   },
   "outputs": [
    {
     "data": {
      "text/latex": [
       "$$\\left[\\begin{matrix}-1 & -1\\\\2 & -4\\end{matrix}\\right]$$"
      ],
      "text/plain": [
       "⎡-1  -1⎤\n",
       "⎢      ⎥\n",
       "⎣2   -4⎦"
      ]
     },
     "execution_count": 9,
     "metadata": {},
     "output_type": "execute_result"
    }
   ],
   "source": [
    "A = Matrix([[-1, -1], [2, -4]])\n",
    "A"
   ]
  },
  {
   "cell_type": "code",
   "execution_count": 10,
   "metadata": {
    "collapsed": false
   },
   "outputs": [
    {
     "data": {
      "text/latex": [
       "$$6$$"
      ],
      "text/plain": [
       "6"
      ]
     },
     "execution_count": 10,
     "metadata": {},
     "output_type": "execute_result"
    }
   ],
   "source": [
    "A.det()"
   ]
  },
  {
   "cell_type": "code",
   "execution_count": 11,
   "metadata": {
    "collapsed": false
   },
   "outputs": [
    {
     "data": {
      "text/latex": [
       "$$\\left [ \\left ( -3, \\quad 1, \\quad \\left [ \\left[\\begin{matrix}\\frac{1}{2}\\\\1\\end{matrix}\\right]\\right ]\\right ), \\quad \\left ( -2, \\quad 1, \\quad \\left [ \\left[\\begin{matrix}1\\\\1\\end{matrix}\\right]\\right ]\\right )\\right ]$$"
      ],
      "text/plain": [
       "⎡⎛-3, 1, ⎡⎡1/2⎤⎤⎞, ⎛-2, 1, ⎡⎡1⎤⎤⎞⎤\n",
       "⎢⎜       ⎢⎢   ⎥⎥⎟  ⎜       ⎢⎢ ⎥⎥⎟⎥\n",
       "⎣⎝       ⎣⎣ 1 ⎦⎦⎠  ⎝       ⎣⎣1⎦⎦⎠⎦"
      ]
     },
     "execution_count": 11,
     "metadata": {},
     "output_type": "execute_result"
    }
   ],
   "source": [
    "A.eigenvects()"
   ]
  },
  {
   "cell_type": "markdown",
   "metadata": {},
   "source": [
    "## Decomposition of A"
   ]
  },
  {
   "cell_type": "markdown",
   "metadata": {},
   "source": [
    "+ Using eigenvalues and eigenvectors we can deconstruct A into the form\n",
    "$$  {A} = {S}{\\Lambda}{S}^{-1} $$\n",
    "+ S is the matrix whose column are the eigenvectors\n",
    "+ &Lambda; is a matrix with the eigenvalues along the main diagonal (zeros everywhere else)"
   ]
  },
  {
   "cell_type": "code",
   "execution_count": 12,
   "metadata": {
    "collapsed": true
   },
   "outputs": [],
   "source": [
    "from sympy import Rational\n",
    "# Rational construct a rational fraction"
   ]
  },
  {
   "cell_type": "code",
   "execution_count": 13,
   "metadata": {
    "collapsed": false
   },
   "outputs": [
    {
     "data": {
      "text/latex": [
       "$$\\left ( \\left[\\begin{matrix}-1 & -1\\\\2 & -4\\end{matrix}\\right], \\quad \\left[\\begin{matrix}\\frac{1}{2} & 1\\\\1 & 1\\end{matrix}\\right], \\quad \\left[\\begin{matrix}-3 & 0\\\\0 & -2\\end{matrix}\\right]\\right )$$"
      ],
      "text/plain": [
       "⎛⎡-1  -1⎤, ⎡1/2  1⎤, ⎡-3  0 ⎤⎞\n",
       "⎜⎢      ⎥  ⎢      ⎥  ⎢      ⎥⎟\n",
       "⎝⎣2   -4⎦  ⎣ 1   1⎦  ⎣0   -2⎦⎠"
      ]
     },
     "execution_count": 13,
     "metadata": {},
     "output_type": "execute_result"
    }
   ],
   "source": [
    "A = Matrix([[-1, -1], [2, -4]])\n",
    "S = Matrix([[Rational(1, 2), 1], [1, 1]])\n",
    "L = Matrix([[-3, 0], [0, -2]])\n",
    "A, S, L"
   ]
  },
  {
   "cell_type": "code",
   "execution_count": 14,
   "metadata": {
    "collapsed": false
   },
   "outputs": [
    {
     "data": {
      "text/latex": [
       "$$\\left[\\begin{matrix}-1 & -1\\\\2 & -4\\end{matrix}\\right]$$"
      ],
      "text/plain": [
       "⎡-1  -1⎤\n",
       "⎢      ⎥\n",
       "⎣2   -4⎦"
      ]
     },
     "execution_count": 14,
     "metadata": {},
     "output_type": "execute_result"
    }
   ],
   "source": [
    "S * L * S.inv()\n",
    "# The .inv() method takes the inverse of a matrix"
   ]
  },
  {
   "cell_type": "code",
   "execution_count": 15,
   "metadata": {
    "collapsed": false
   },
   "outputs": [
    {
     "data": {
      "text/plain": [
       "True"
      ]
     },
     "execution_count": 15,
     "metadata": {},
     "output_type": "execute_result"
    }
   ],
   "source": [
    "A == S * L * S.inv() # Checking with Boolean logic"
   ]
  },
  {
   "cell_type": "code",
   "execution_count": null,
   "metadata": {
    "collapsed": true
   },
   "outputs": [],
   "source": []
  }
 ],
 "metadata": {
  "kernelspec": {
   "display_name": "Python 3",
   "language": "python",
   "name": "python3"
  },
  "language_info": {
   "codemirror_mode": {
    "name": "ipython",
    "version": 3
   },
   "file_extension": ".py",
   "mimetype": "text/x-python",
   "name": "python",
   "nbconvert_exporter": "python",
   "pygments_lexer": "ipython3",
   "version": "3.5.0"
  }
 },
 "nbformat": 4,
 "nbformat_minor": 0
}
