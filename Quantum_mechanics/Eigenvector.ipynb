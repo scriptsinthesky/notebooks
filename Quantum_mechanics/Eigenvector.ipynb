{
 "cells": [
  {
   "cell_type": "markdown",
   "metadata": {},
   "source": [
    "<a rel=\"license\" href=\"http://creativecommons.org/licenses/by-nc/4.0/\"><img alt=\"Creative Commons License\" style=\"border-width:0\" src=\"https://i.creativecommons.org/l/by-nc/4.0/88x31.png\" /></a><br /><span xmlns:dct=\"http://purl.org/dc/terms/\" property=\"dct:title\">Introduction to quantum mechanics</span> by <span xmlns:cc=\"http://creativecommons.org/ns#\" property=\"cc:attributionName\">Dr Juan H Klopper</span> is licensed under a <a rel=\"license\" href=\"http://creativecommons.org/licenses/by-nc/4.0/\">Creative Commons Attribution-NonCommercial 4.0 International License</a>."
   ]
  },
  {
   "cell_type": "code",
   "execution_count": 1,
   "metadata": {
    "collapsed": false
   },
   "outputs": [
    {
     "data": {
      "text/html": [
       "<link href='http://fonts.googleapis.com/css?family=Alegreya+Sans:100,300,400,500,700,800,900,100italic,300italic,400italic,500italic,700italic,800italic,900italic' rel='stylesheet' type='text/css'>\n",
       "<link href='http://fonts.googleapis.com/css?family=Arvo:400,700,400italic' rel='stylesheet' type='text/css'>\n",
       "<link href='http://fonts.googleapis.com/css?family=PT+Mono' rel='stylesheet' type='text/css'>\n",
       "<link href='http://fonts.googleapis.com/css?family=Shadows+Into+Light' rel='stylesheet' type='text/css'>\n",
       "<link href='http://fonts.googleapis.com/css?family=Philosopher:400,700,400italic,700italic' rel='stylesheet' type='text/css'>\n",
       "\n",
       "<style>\n",
       "\n",
       "@font-face {\n",
       "    font-family: \"Computer Modern\";\n",
       "    src: url('http://mirrors.ctan.org/fonts/cm-unicode/fonts/otf/cmunss.otf');\n",
       "}\n",
       "\n",
       "#notebook_panel { /* main background */\n",
       "    background: #ddd;\n",
       "    color: #000000;\n",
       "}\n",
       "\n",
       "\n",
       "\n",
       "/* Formatting for header cells */\n",
       ".text_cell_render h1 {\n",
       "    font-family: 'Philosopher', sans-serif;\n",
       "    font-weight: 400;\n",
       "    font-size: 2.2em;\n",
       "    line-height: 100%;\n",
       "    color: rgb(0, 80, 120);\n",
       "    margin-bottom: 0.1em;\n",
       "    margin-top: 0.1em;\n",
       "    display: block;\n",
       "}\t\n",
       ".text_cell_render h2 {\n",
       "    font-family: 'Philosopher', serif;\n",
       "    font-weight: 400;\n",
       "    font-size: 1.9em;\n",
       "    line-height: 100%;\n",
       "    color: rgb(200,100,0);\n",
       "    margin-bottom: 0.1em;\n",
       "    margin-top: 0.1em;\n",
       "    display: block;\n",
       "}\t\n",
       "\n",
       ".text_cell_render h3 {\n",
       "    font-family: 'Philosopher', serif;\n",
       "    margin-top:12px;\n",
       "    margin-bottom: 3px;\n",
       "    font-style: italic;\n",
       "    color: rgb(94,127,192);\n",
       "}\n",
       "\n",
       ".text_cell_render h4 {\n",
       "    font-family: 'Philosopher', serif;\n",
       "}\n",
       "\n",
       ".text_cell_render h5 {\n",
       "    font-family: 'Alegreya Sans', sans-serif;\n",
       "    font-weight: 300;\n",
       "    font-size: 16pt;\n",
       "    color: grey;\n",
       "    font-style: italic;\n",
       "    margin-bottom: .1em;\n",
       "    margin-top: 0.1em;\n",
       "    display: block;\n",
       "}\n",
       "\n",
       ".text_cell_render h6 {\n",
       "    font-family: 'PT Mono', sans-serif;\n",
       "    font-weight: 300;\n",
       "    font-size: 10pt;\n",
       "    color: grey;\n",
       "    margin-bottom: 1px;\n",
       "    margin-top: 1px;\n",
       "}\n",
       "\n",
       ".CodeMirror{\n",
       "        font-family: \"PT Mono\";\n",
       "        font-size: 100%;\n",
       "}\n",
       "\n",
       "</style>\n",
       "\n"
      ],
      "text/plain": [
       "<IPython.core.display.HTML object>"
      ]
     },
     "execution_count": 1,
     "metadata": {},
     "output_type": "execute_result"
    }
   ],
   "source": [
    "from IPython.core.display import HTML, Image\n",
    "css_file = 'style.css'\n",
    "HTML(open(css_file, 'r').read())"
   ]
  },
  {
   "cell_type": "code",
   "execution_count": 12,
   "metadata": {
    "collapsed": true
   },
   "outputs": [],
   "source": [
    "from sympy import init_printing, Matrix, I, sqrt\n",
    "from sympy.physics.quantum import Dagger\n",
    "from warnings import filterwarnings"
   ]
  },
  {
   "cell_type": "code",
   "execution_count": 3,
   "metadata": {
    "collapsed": true
   },
   "outputs": [],
   "source": [
    "init_printing(use_latex = 'mathjax')\n",
    "filterwarnings(\"ignore\")"
   ]
  },
  {
   "cell_type": "code",
   "execution_count": 4,
   "metadata": {
    "collapsed": false
   },
   "outputs": [
    {
     "data": {
      "text/latex": [
       "$$\\left[\\begin{matrix}2 & 2 + i\\\\2 - i & 4\\end{matrix}\\right]$$"
      ],
      "text/plain": [
       "⎡  2    2 + ⅈ⎤\n",
       "⎢            ⎥\n",
       "⎣2 - ⅈ    4  ⎦"
      ]
     },
     "execution_count": 4,
     "metadata": {},
     "output_type": "execute_result"
    }
   ],
   "source": [
    "# Constructing a square matrix with complex elements\n",
    "A = Matrix([[2, 2 + I], [2 - I, 4]])\n",
    "A"
   ]
  },
  {
   "cell_type": "code",
   "execution_count": 5,
   "metadata": {
    "collapsed": false
   },
   "outputs": [
    {
     "data": {
      "text/latex": [
       "$$\\left[\\begin{matrix}2 & 2 - i\\\\2 + i & 4\\end{matrix}\\right]$$"
      ],
      "text/plain": [
       "⎡  2    2 - ⅈ⎤\n",
       "⎢            ⎥\n",
       "⎣2 + ⅈ    4  ⎦"
      ]
     },
     "execution_count": 5,
     "metadata": {},
     "output_type": "execute_result"
    }
   ],
   "source": [
    "# The transpose of the matrix\n",
    "A.transpose()"
   ]
  },
  {
   "cell_type": "code",
   "execution_count": 6,
   "metadata": {
    "collapsed": false
   },
   "outputs": [
    {
     "data": {
      "text/latex": [
       "$$\\left[\\begin{matrix}2 & 2 + i\\\\2 - i & 4\\end{matrix}\\right]$$"
      ],
      "text/plain": [
       "⎡  2    2 + ⅈ⎤\n",
       "⎢            ⎥\n",
       "⎣2 - ⅈ    4  ⎦"
      ]
     },
     "execution_count": 6,
     "metadata": {},
     "output_type": "execute_result"
    }
   ],
   "source": [
    "# The adjoint transposes the matrix and converts every element to its complex conjugate\n",
    "A.adjoint()"
   ]
  },
  {
   "cell_type": "code",
   "execution_count": 7,
   "metadata": {
    "collapsed": false
   },
   "outputs": [
    {
     "data": {
      "text/latex": [
       "$$\\left[\\begin{matrix}2 & 2 + i\\\\2 - i & 4\\end{matrix}\\right]$$"
      ],
      "text/plain": [
       "⎡  2    2 + ⅈ⎤\n",
       "⎢            ⎥\n",
       "⎣2 - ⅈ    4  ⎦"
      ]
     },
     "execution_count": 7,
     "metadata": {},
     "output_type": "execute_result"
    }
   ],
   "source": [
    "# This can also be done with the Dagger() function\n",
    "Dagger(A)"
   ]
  },
  {
   "cell_type": "code",
   "execution_count": 8,
   "metadata": {
    "collapsed": false
   },
   "outputs": [
    {
     "data": {
      "text/plain": [
       "True"
      ]
     },
     "execution_count": 8,
     "metadata": {},
     "output_type": "execute_result"
    }
   ],
   "source": [
    "# Checking to see if A is an Hermetian matrix\n",
    "A == A.adjoint()"
   ]
  },
  {
   "cell_type": "code",
   "execution_count": 9,
   "metadata": {
    "collapsed": false
   },
   "outputs": [
    {
     "data": {
      "text/latex": [
       "$$\\left \\{ - \\sqrt{6} + 3 : 1, \\quad \\sqrt{6} + 3 : 1\\right \\}$$"
      ],
      "text/plain": [
       "⎧    ___           ___       ⎫\n",
       "⎨- ╲╱ 6  + 3: 1, ╲╱ 6  + 3: 1⎬\n",
       "⎩                            ⎭"
      ]
     },
     "execution_count": 9,
     "metadata": {},
     "output_type": "execute_result"
    }
   ],
   "source": [
    "# The eigenvalues of A\n",
    "A.eigenvals()"
   ]
  },
  {
   "cell_type": "code",
   "execution_count": 10,
   "metadata": {
    "collapsed": false
   },
   "outputs": [
    {
     "data": {
      "text/latex": [
       "$$\\left [ \\left ( - \\sqrt{6} + 3, \\quad 1, \\quad \\left [ \\left[\\begin{matrix}- \\frac{2 + i}{-1 + \\sqrt{6}}\\\\1\\end{matrix}\\right]\\right ]\\right ), \\quad \\left ( \\sqrt{6} + 3, \\quad 1, \\quad \\left [ \\left[\\begin{matrix}- \\frac{2 + i}{- \\sqrt{6} - 1}\\\\1\\end{matrix}\\right]\\right ]\\right )\\right ]$$"
      ],
      "text/plain": [
       "⎡⎛    ___         ⎡⎡-(2 + ⅈ)  ⎤⎤⎞  ⎛  ___         ⎡⎡ -(2 + ⅈ)  ⎤⎤⎞⎤\n",
       "⎢⎜- ╲╱ 6  + 3, 1, ⎢⎢──────────⎥⎥⎟, ⎜╲╱ 6  + 3, 1, ⎢⎢───────────⎥⎥⎟⎥\n",
       "⎢⎜                ⎢⎢       ___⎥⎥⎟  ⎜              ⎢⎢    ___    ⎥⎥⎟⎥\n",
       "⎢⎜                ⎢⎢-1 + ╲╱ 6 ⎥⎥⎟  ⎜              ⎢⎢- ╲╱ 6  - 1⎥⎥⎟⎥\n",
       "⎢⎜                ⎢⎢          ⎥⎥⎟  ⎜              ⎢⎢           ⎥⎥⎟⎥\n",
       "⎣⎝                ⎣⎣    1     ⎦⎦⎠  ⎝              ⎣⎣     1     ⎦⎦⎠⎦"
      ]
     },
     "execution_count": 10,
     "metadata": {},
     "output_type": "execute_result"
    }
   ],
   "source": [
    "# The eigenvectors of A\n",
    "A.eigenvects()"
   ]
  },
  {
   "cell_type": "code",
   "execution_count": 15,
   "metadata": {
    "collapsed": true
   },
   "outputs": [],
   "source": [
    "# Creating one of the eigenvectors\n",
    "psi_vec_1 = Matrix([[-(2 + I) / (sqrt(6) - 1)], [1]])"
   ]
  },
  {
   "cell_type": "code",
   "execution_count": 16,
   "metadata": {
    "collapsed": false
   },
   "outputs": [],
   "source": [
    "# Creating the eigenvector's eigenvalue\n",
    "eig_1 = 3 - sqrt(6)"
   ]
  },
  {
   "cell_type": "code",
   "execution_count": 18,
   "metadata": {
    "collapsed": false
   },
   "outputs": [
    {
     "data": {
      "text/latex": [
       "$$\\left[\\begin{matrix}2 + \\frac{-4 - 2 i}{-1 + \\sqrt{6}} + i\\\\\\frac{\\left(-2 - i\\right) \\left(2 - i\\right)}{-1 + \\sqrt{6}} + 4\\end{matrix}\\right]$$"
      ],
      "text/plain": [
       "⎡     2⋅(-2 - ⅈ)     ⎤\n",
       "⎢ 2 + ────────── + ⅈ ⎥\n",
       "⎢            ___     ⎥\n",
       "⎢     -1 + ╲╱ 6      ⎥\n",
       "⎢                    ⎥\n",
       "⎢(-2 - ⅈ)⋅(2 - ⅈ)    ⎥\n",
       "⎢──────────────── + 4⎥\n",
       "⎢          ___       ⎥\n",
       "⎣   -1 + ╲╱ 6        ⎦"
      ]
     },
     "execution_count": 18,
     "metadata": {},
     "output_type": "execute_result"
    }
   ],
   "source": [
    "# The original Hermitian matrix times the eigenvector\n",
    "A * psi_vec_1"
   ]
  },
  {
   "cell_type": "code",
   "execution_count": 19,
   "metadata": {
    "collapsed": false
   },
   "outputs": [
    {
     "data": {
      "text/latex": [
       "$$\\left[\\begin{matrix}\\frac{1}{-1 + \\sqrt{6}} \\left(-2 - i\\right) \\left(- \\sqrt{6} + 3\\right)\\\\- \\sqrt{6} + 3\\end{matrix}\\right]$$"
      ],
      "text/plain": [
       "⎡         ⎛    ___    ⎞⎤\n",
       "⎢(-2 - ⅈ)⋅⎝- ╲╱ 6  + 3⎠⎥\n",
       "⎢──────────────────────⎥\n",
       "⎢             ___      ⎥\n",
       "⎢      -1 + ╲╱ 6       ⎥\n",
       "⎢                      ⎥\n",
       "⎢         ___          ⎥\n",
       "⎣     - ╲╱ 6  + 3      ⎦"
      ]
     },
     "execution_count": 19,
     "metadata": {},
     "output_type": "execute_result"
    }
   ],
   "source": [
    "# The eigenvalue times the eigenvector\n",
    "eig_1 * psi_vec_1"
   ]
  },
  {
   "cell_type": "code",
   "execution_count": null,
   "metadata": {
    "collapsed": true
   },
   "outputs": [],
   "source": []
  }
 ],
 "metadata": {
  "kernelspec": {
   "display_name": "Python 3",
   "language": "python",
   "name": "python3"
  },
  "language_info": {
   "codemirror_mode": {
    "name": "ipython",
    "version": 3
   },
   "file_extension": ".py",
   "mimetype": "text/x-python",
   "name": "python",
   "nbconvert_exporter": "python",
   "pygments_lexer": "ipython3",
   "version": "3.5.0"
  }
 },
 "nbformat": 4,
 "nbformat_minor": 0
}
