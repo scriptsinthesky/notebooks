{
 "cells": [
  {
   "cell_type": "code",
   "execution_count": 1,
   "metadata": {
    "collapsed": true
   },
   "outputs": [],
   "source": [
    "# It is useful to look at QSTK_Tutorial_1 and QSTK_Tutorial_3, but please realize that the method in Tutorial 3 assumes daily rebalancing, which we do not use here.\n",
    "# Here is a suggested outline for your simulation() code:\n",
    "#   Read in adjusted closing prices for the 4 equities.\n",
    "#   Normalize the prices according to the first day. The first row for each stock should have a value of 1.0 at this point.\n",
    "#   Multiply each column by the allocation to the corresponding equity.\n",
    "#   Sum each row for each day. That is your cumulative daily portfolio value.\n",
    "#   Compute statistics from the total portfolio value.\n",
    "# Here are some notes and assumptions:\n",
    "#   When we compute statistics on the portfolio value, we include the first day.\n",
    "#   We assume you are using the data provided with QSTK. If you use other data your results may turn out different from ours. Yahoo's online data changes every day. We could not build a consistent \"correct\" answer based on \"live\" Yahoo data.\n",
    "#   Assume 252 trading days/year."
   ]
  },
  {
   "cell_type": "code",
   "execution_count": 2,
   "metadata": {
    "collapsed": false
   },
   "outputs": [
    {
     "name": "stderr",
     "output_type": "stream",
     "text": [
      "/usr/local/lib/python2.7/dist-packages/QSTK-0.2.8-py2.7.egg/QSTK/qstkutil/qsdateutil.py:36: FutureWarning: TimeSeries is deprecated. Please use Series\n",
      "  return pd.TimeSeries(index=dates, data=dates)\n"
     ]
    }
   ],
   "source": [
    "#\n",
    "# http://wiki.quantsoftware.org/index.php?title=CompInvestI_Homework_1\n",
    "#\n",
    "import QSTK.qstkutil.qsdateutil as du\n",
    "import QSTK.qstkutil.tsutil as tsu\n",
    "import QSTK.qstkutil.DataAccess as da\n",
    "\n",
    "import datetime as dt\n",
    "import matplotlib.pyplot as plt\n",
    "import pandas as pd\n",
    "import numpy as np\n",
    "import math\n",
    "import itertools\n",
    "import csv\n",
    "\n",
    "%matplotlib inline"
   ]
  },
  {
   "cell_type": "code",
   "execution_count": 3,
   "metadata": {
    "collapsed": true
   },
   "outputs": [],
   "source": [
    "def normalizePrice(na_price):\n",
    "    \n",
    "    norm = na_price / na_price[0, :]\n",
    "    \n",
    "    #print norm\n",
    "    \n",
    "    return norm"
   ]
  },
  {
   "cell_type": "code",
   "execution_count": 4,
   "metadata": {
    "collapsed": false
   },
   "outputs": [],
   "source": [
    "# Return:\n",
    "#  Standard deviation of daily returns of the total portfolio\n",
    "#  Average daily return of the total portfolio\n",
    "#  Sharpe ratio (Always assume you have 252 trading days in an year. And risk free rate = 0) of the total portfolio\n",
    "#  Cumulative return of the total portfolio\n",
    "\n",
    "def analyzePortfolio(dt_start, dt_end, securities, allocations):\n",
    "    \n",
    "    dt_timeofday = dt.timedelta(hours=16)\n",
    "    ldt_timestamps = du.getNYSEdays(dt_start, dt_end, dt_timeofday)\n",
    "    \n",
    "    c_dataobj = da.DataAccess('Yahoo')\n",
    "    ls_keys = ['open', 'high', 'low', 'close', 'volume', 'actual_close']\n",
    "    ldf_data = c_dataobj.get_data(ldt_timestamps, securities, ls_keys)\n",
    "    d_data = dict(zip(ls_keys, ldf_data))\n",
    "    \n",
    "    # Get the close\n",
    "    na_price = d_data['close'].values\n",
    "    \n",
    "    # Normalize\n",
    "    na_normalized_price = normalizePrice(na_price)\n",
    "    \n",
    "    #print na_normalized_price\n",
    "\n",
    "    # create an array with the allocations that can be multiplied against the dataset\n",
    "    arr = np.array(allocations)\n",
    "    allocTable = np.repeat(arr, na_normalized_price.shape[0], axis=0)\n",
    "    \n",
    "    #print allocTable\n",
    "    \n",
    "    allocated_price = pd.DataFrame(na_normalized_price * allocTable)\n",
    "    \n",
    "    #print allocated_price\n",
    "    \n",
    "    # Get the daily sum\n",
    "    allocated_price['daily_value'] = allocated_price.sum(axis=1)\n",
    "\n",
    "    allocated_price['daily_return'] = allocated_price['daily_value'].pct_change()\n",
    "                                       \n",
    "    #print \"Start Date:\" + dt_start.isoformat()\n",
    "    #print \"End Date:\" + dt_end.isoformat()\n",
    "    #print \"Symbols: [%s]\" % \", \".join(map(str, securities))\n",
    "    #print \"Allocations: [%s]\" % \", \".join(map(str, allocations))\n",
    "    \n",
    "    #print allocated_price\n",
    "    \n",
    "    stddev = allocated_price['daily_return'].std(axis=0)\n",
    "    \n",
    "    #print \"Volatility (stdev of daily returns):\" + str(stddev)\n",
    "    \n",
    "    mean = allocated_price['daily_return'].mean(axis=0)\n",
    "    \n",
    "    #print \"Average Daily Return: \" + str(mean)\n",
    "    \n",
    "    retSum = allocated_price['daily_return'].sum(axis=0) + 1\n",
    "    \n",
    "    #print \"Cumulative Return: \" + str(retSum)\n",
    "\n",
    "    sharpe = math.sqrt(252) * (mean/stddev)\n",
    "    #print \"Sharpe Ratio:\" + str(sharpe)\n",
    "    \n",
    "    return sharpe, stddev, mean, retSum\n"
   ]
  },
  {
   "cell_type": "code",
   "execution_count": null,
   "metadata": {
    "collapsed": false
   },
   "outputs": [],
   "source": [
    "symList = open('/home/pi/stockSymbols.txt', 'r')\n",
    "x = symList.read().splitlines()\n",
    "\n",
    "portFile = open('/home/pi/portfolios.csv', 'w')\n",
    "\n",
    "comb = itertools.combinations(x, 4)\n",
    "\n",
    "for combo in comb:\n",
    "    portFile.write( \"%s\\n\" % list(combo) )\n",
    "\n"
   ]
  },
  {
   "cell_type": "code",
   "execution_count": 204,
   "metadata": {
    "collapsed": false
   },
   "outputs": [
    {
     "name": "stdout",
     "output_type": "stream",
     "text": [
      "New best sharpe: 1.29261812328\n",
      "New best sharpe: 1.36700398745\n",
      "New best sharpe: 1.3671748717\n",
      "Finished, best sharpe: 1.3671748717 : [1.3671748717, 0.0105157105032, 0.000905654227457, 1.22641355686, [[0.20000000000000001, 0.0, 0.0, 0.80000000000000004]]]\n"
     ]
    }
   ],
   "source": [
    "# Calibration example\n",
    "# Start Date: January 1, 2011\n",
    "# End Date: December 31, 2011\n",
    "# Symbols: ['AAPL', 'GLD', 'GOOG', 'XOM']\n",
    "# Optimal Allocations: [0.4, 0.4, 0.0, 0.2]\n",
    "# Sharpe Ratio: 1.02828403099\n",
    "# Volatility (stdev of daily returns):  0.0101467067654\n",
    "# Average Daily Return:  0.000657261102001\n",
    "# Cumulative Return:  1.16487261965\n",
    "\n",
    "#ls_symbols = [\"AAPL\", \"GLD\", \"GOOG\", \"XOM\"]\n",
    "#ls_allocations = [[0.4, 0.4, 0.0, 0.2]]\n",
    "#dt_start = dt.datetime(2011, 1, 1)\n",
    "#dt_end = dt.datetime(2011, 12, 31)\n",
    "\n",
    "# Start Date: January 1, 2010\n",
    "# End Date: December 31, 2010\n",
    "# Symbols: ['AXP', 'HPQ', 'IBM', 'HNZ']\n",
    "# Optimal Allocations:  [0.0, 0.0, 0.0, 1.0]\n",
    "# Sharpe Ratio: 1.29889334008\n",
    "# Volatility (stdev of daily returns): 0.00924299255937\n",
    "# Average Daily Return: 0.000756285585593\n",
    "# Cumulative Return: 1.1960583568\n",
    "\n",
    "#ls_symbols = ['AXP', 'HPQ', 'IBM', 'HNZ']\n",
    "#ls_allocations = [[0.0, 0.0, 0.0, 1.0]]\n",
    "#dt_start = dt.datetime(2010, 1, 1)\n",
    "#dt_end = dt.datetime(2010, 12, 31)\n",
    "\n",
    "ls_symbols =   ['C', 'GS', 'IBM', 'HNZ']\n",
    "ls_allocations = [[0.0, 0.0, 0.0, 1.0]]\n",
    "dt_start = dt.datetime(2010, 1, 1)\n",
    "dt_end = dt.datetime(2010, 12, 31)\n",
    "\n",
    "stock1 = np.arange(0,1,0.1)\n",
    "stock2 = np.arange(0,1,0.1)\n",
    "stock3 = np.arange(0,1,0.1)\n",
    "stock4 = np.arange(0,1,0.1)\n",
    "\n",
    "maxSharpe = 0\n",
    "bestPortfolio = None\n",
    "\n",
    "for a in stock1:\n",
    "    for b in stock2:\n",
    "        for c in stock3:\n",
    "            for d in stock4:                \n",
    "                if a + b + c + d == 1.0:\n",
    "                    ls_allocations = [[a, b, c, d]]\n",
    "                    #print \"Found allocation: \" + np.array_str(ls_allocations)\n",
    "                    sharpe, stddev, avgret, cumret = analyzePortfolio(dt_start, dt_end, ls_symbols, ls_allocations)\n",
    "                    \n",
    "                    if sharpe > maxSharpe:\n",
    "                        print \"New best sharpe: \" + str(sharpe)\n",
    "                        bestPortfolio = [sharpe, stddev, avgret, cumret, ls_allocations]\n",
    "                        maxSharpe = sharpe\n",
    "                        \n",
    "print \"Finished, best sharpe: \" + str(maxSharpe) + \" : [%s]\" % \", \".join(map(str, bestPortfolio))"
   ]
  },
  {
   "cell_type": "code",
   "execution_count": null,
   "metadata": {
    "collapsed": true
   },
   "outputs": [],
   "source": []
  }
 ],
 "metadata": {
  "kernelspec": {
   "display_name": "Python 2",
   "language": "python",
   "name": "python2"
  },
  "language_info": {
   "codemirror_mode": {
    "name": "ipython",
    "version": 2
   },
   "file_extension": ".py",
   "mimetype": "text/x-python",
   "name": "python",
   "nbconvert_exporter": "python",
   "pygments_lexer": "ipython2",
   "version": "2.7.9"
  }
 },
 "nbformat": 4,
 "nbformat_minor": 0
}
