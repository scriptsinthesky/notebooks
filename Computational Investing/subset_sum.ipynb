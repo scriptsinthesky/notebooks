{
 "cells": [
  {
   "cell_type": "code",
   "execution_count": 1,
   "metadata": {
    "collapsed": true
   },
   "outputs": [],
   "source": [
    "def subset_sum(numbers, target, partial=[]):\n",
    "    s = sum(partial)\n",
    "\n",
    "    # check if the partial sum is equals to target\n",
    "    if s == target: \n",
    "        print \"sum(%s)=%s\" % (partial, target)\n",
    "    if s >= target:\n",
    "        return  # if we reach the number why bother to continue\n",
    "\n",
    "    for i in range(len(numbers)):\n",
    "        n = numbers[i]\n",
    "        remaining = numbers[i+1:]\n",
    "        subset_sum(remaining, target, partial + [n]) "
   ]
  },
  {
   "cell_type": "code",
   "execution_count": 3,
   "metadata": {
    "collapsed": false
   },
   "outputs": [
    {
     "name": "stdout",
     "output_type": "stream",
     "text": [
      "sum([3, 8, 4])=15\n",
      "sum([3, 5, 7])=15\n",
      "sum([8, 7])=15\n",
      "sum([5, 10])=15\n"
     ]
    }
   ],
   "source": [
    "subset_sum([3,9,8,4,5,7,10],15)"
   ]
  },
  {
   "cell_type": "code",
   "execution_count": null,
   "metadata": {
    "collapsed": true
   },
   "outputs": [],
   "source": []
  }
 ],
 "metadata": {
  "kernelspec": {
   "display_name": "Python 2",
   "language": "python",
   "name": "python2"
  },
  "language_info": {
   "codemirror_mode": {
    "name": "ipython",
    "version": 2
   },
   "file_extension": ".py",
   "mimetype": "text/x-python",
   "name": "python",
   "nbconvert_exporter": "python",
   "pygments_lexer": "ipython2",
   "version": "2.7.9"
  }
 },
 "nbformat": 4,
 "nbformat_minor": 0
}
