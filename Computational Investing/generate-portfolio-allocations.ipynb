{
 "cells": [
  {
   "cell_type": "code",
   "execution_count": 1,
   "metadata": {
    "collapsed": true
   },
   "outputs": [],
   "source": [
    "# It is useful to look at QSTK_Tutorial_1 and QSTK_Tutorial_3, but please realize that the method in Tutorial 3 assumes daily rebalancing, which we do not use here.\n",
    "# Here is a suggested outline for your simulation() code:\n",
    "#   Read in adjusted closing prices for the 4 equities.\n",
    "#   Normalize the prices according to the first day. The first row for each stock should have a value of 1.0 at this point.\n",
    "#   Multiply each column by the allocation to the corresponding equity.\n",
    "#   Sum each row for each day. That is your cumulative daily portfolio value.\n",
    "#   Compute statistics from the total portfolio value.\n",
    "# Here are some notes and assumptions:\n",
    "#   When we compute statistics on the portfolio value, we include the first day.\n",
    "#   We assume you are using the data provided with QSTK. If you use other data your results may turn out different from ours. Yahoo's online data changes every day. We could not build a consistent \"correct\" answer based on \"live\" Yahoo data.\n",
    "#   Assume 252 trading days/year."
   ]
  },
  {
   "cell_type": "code",
   "execution_count": 1,
   "metadata": {
    "collapsed": false
   },
   "outputs": [
    {
     "name": "stderr",
     "output_type": "stream",
     "text": [
      "/usr/local/lib/python2.7/dist-packages/QSTK-0.2.8-py2.7.egg/QSTK/qstkutil/qsdateutil.py:36: FutureWarning: TimeSeries is deprecated. Please use Series\n",
      "  return pd.TimeSeries(index=dates, data=dates)\n"
     ]
    }
   ],
   "source": [
    "#\n",
    "# http://wiki.quantsoftware.org/index.php?title=CompInvestI_Homework_1\n",
    "#\n",
    "import QSTK.qstkutil.qsdateutil as du\n",
    "import QSTK.qstkutil.tsutil as tsu\n",
    "import QSTK.qstkutil.DataAccess as da\n",
    "\n",
    "import datetime as dt\n",
    "import matplotlib.pyplot as plt\n",
    "import pandas as pd\n",
    "import numpy as np\n",
    "import math\n",
    "import itertools\n",
    "import sys\n",
    "from ast import literal_eval\n",
    "    \n",
    "%matplotlib inline"
   ]
  },
  {
   "cell_type": "code",
   "execution_count": 2,
   "metadata": {
    "collapsed": false,
    "scrolled": true
   },
   "outputs": [],
   "source": [
    "stock1 = np.arange(0,1,0.1)\n",
    "stock2 = np.arange(0,1,0.1)\n",
    "stock3 = np.arange(0,1,0.1)\n",
    "stock4 = np.arange(0,1,0.1)\n",
    "\n",
    "allocationsFile = open('/home/pi/allocations.csv', 'w')\n",
    "\n",
    "for a in stock1:\n",
    "    for b in stock2:\n",
    "        for c in stock3:\n",
    "            for d in stock4:                \n",
    "                if a + b + c + d == 1.0:\n",
    "                    ls_allocations = [a, b, c, d]\n",
    "                    allocationsFile.write( \"%s\\n\" % list(ls_allocations) )"
   ]
  },
  {
   "cell_type": "code",
   "execution_count": null,
   "metadata": {
    "collapsed": true
   },
   "outputs": [],
   "source": []
  },
  {
   "cell_type": "code",
   "execution_count": null,
   "metadata": {
    "collapsed": true
   },
   "outputs": [],
   "source": []
  },
  {
   "cell_type": "code",
   "execution_count": null,
   "metadata": {
    "collapsed": true
   },
   "outputs": [],
   "source": []
  }
 ],
 "metadata": {
  "kernelspec": {
   "display_name": "Python 2",
   "language": "python",
   "name": "python2"
  },
  "language_info": {
   "codemirror_mode": {
    "name": "ipython",
    "version": 2
   },
   "file_extension": ".py",
   "mimetype": "text/x-python",
   "name": "python",
   "nbconvert_exporter": "python",
   "pygments_lexer": "ipython2",
   "version": "2.7.9"
  }
 },
 "nbformat": 4,
 "nbformat_minor": 0
}
