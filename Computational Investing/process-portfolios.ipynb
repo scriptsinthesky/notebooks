{
 "cells": [
  {
   "cell_type": "code",
   "execution_count": 1,
   "metadata": {
    "collapsed": false
   },
   "outputs": [
    {
     "name": "stderr",
     "output_type": "stream",
     "text": [
      "/usr/local/lib/python2.7/dist-packages/QSTK-0.2.8-py2.7.egg/QSTK/qstkutil/qsdateutil.py:36: FutureWarning: TimeSeries is deprecated. Please use Series\n",
      "  return pd.TimeSeries(index=dates, data=dates)\n"
     ]
    }
   ],
   "source": [
    "#\n",
    "# http://wiki.quantsoftware.org/index.php?title=CompInvestI_Homework_1\n",
    "#\n",
    "import QSTK.qstkutil.qsdateutil as du\n",
    "import QSTK.qstkutil.tsutil as tsu\n",
    "import QSTK.qstkutil.DataAccess as da\n",
    "\n",
    "import datetime as dt\n",
    "import matplotlib.pyplot as plt\n",
    "import pandas as pd\n",
    "import numpy as np\n",
    "import math\n",
    "import itertools\n",
    "import sys\n",
    "from ast import literal_eval\n",
    "\n",
    "dt_start = dt.datetime(2010, 1, 1)\n",
    "dt_end = dt.datetime(2010, 12, 31)\n",
    "\n",
    "dt_timeofday = dt.timedelta(hours=16)\n",
    "ldt_timestamps = du.getNYSEdays(dt_start, dt_end, dt_timeofday)\n",
    "    \n",
    "c_dataobj = da.DataAccess('Yahoo')\n",
    "ls_keys = ['open', 'high', 'low', 'close', 'volume', 'actual_close']\n",
    "    \n",
    "%matplotlib inline"
   ]
  },
  {
   "cell_type": "code",
   "execution_count": 2,
   "metadata": {
    "collapsed": true
   },
   "outputs": [],
   "source": [
    "def normalizePrice(na_price):\n",
    "    \n",
    "    norm = na_price / na_price[0, :]\n",
    "    \n",
    "    #print norm\n",
    "    \n",
    "    return norm"
   ]
  },
  {
   "cell_type": "code",
   "execution_count": null,
   "metadata": {
    "collapsed": false
   },
   "outputs": [],
   "source": [
    "# Return:\n",
    "#  Standard deviation of daily returns of the total portfolio\n",
    "#  Average daily return of the total portfolio\n",
    "#  Sharpe ratio (Always assume you have 252 trading days in an year. And risk free rate = 0) of the total portfolio\n",
    "#  Cumulative return of the total portfolio\n",
    "\n",
    "def analyzePortfolio(securities, allocations):\n",
    "    \n",
    "    dt_start = dt.datetime(2010, 1, 1)\n",
    "    dt_end = dt.datetime(2010, 12, 31)\n",
    "\n",
    "    dt_timeofday = dt.timedelta(hours=16)\n",
    "    ldt_timestamps = du.getNYSEdays(dt_start, dt_end, dt_timeofday)\n",
    "\n",
    "    c_dataobj = da.DataAccess('Yahoo')\n",
    "    ls_keys = ['open', 'high', 'low', 'close', 'volume', 'actual_close']\n",
    "    \n",
    "    ldf_data = c_dataobj.get_data(ldt_timestamps, securities, ls_keys)\n",
    "    d_data = dict(zip(ls_keys, ldf_data))\n",
    "    \n",
    "    # Get the close\n",
    "    na_price = d_data['close'].values\n",
    "    \n",
    "    # Normalize\n",
    "    na_normalized_price = normalizePrice(na_price)\n",
    "    \n",
    "    #print na_normalized_price\n",
    "\n",
    "    # create an array with the allocations that can be multiplied against the dataset\n",
    "    arr = np.array(allocations)\n",
    "    allocTable = np.repeat(arr, na_normalized_price.shape[0], axis=0)\n",
    "    \n",
    "    #print allocTable\n",
    "    allocated_price = pd.DataFrame(na_normalized_price * allocTable)\n",
    "    \n",
    "    #print allocated_price\n",
    "    \n",
    "    # Get the daily sum\n",
    "    allocated_price['daily_value'] = allocated_price.sum(axis=1)\n",
    "\n",
    "    allocated_price['daily_return'] = allocated_price['daily_value'].pct_change()\n",
    "                                       \n",
    "    #print \"Start Date:\" + dt_start.isoformat()\n",
    "    #print \"End Date:\" + dt_end.isoformat()\n",
    "    #print \"Symbols: [%s]\" % \", \".join(map(str, securities))\n",
    "    #print \"Allocations: [%s]\" % \", \".join(map(str, allocations))\n",
    "    \n",
    "    #print allocated_price\n",
    "    \n",
    "    stddev = allocated_price['daily_return'].std(axis=0)\n",
    "    \n",
    "    #print \"Volatility (stdev of daily returns):\" + str(stddev)\n",
    "    \n",
    "    mean = allocated_price['daily_return'].mean(axis=0)\n",
    "    \n",
    "    #print \"Average Daily Return: \" + str(mean)\n",
    "    \n",
    "    retSum = allocated_price['daily_return'].sum(axis=0) + 1\n",
    "    \n",
    "    #print \"Cumulative Return: \" + str(retSum)\n",
    "\n",
    "    sharpe = math.sqrt(252) * (mean/stddev)\n",
    "    #print \"Sharpe Ratio:\" + str(sharpe)\n",
    "    \n",
    "    return sharpe, stddev, mean, retSum\n"
   ]
  },
  {
   "cell_type": "code",
   "execution_count": null,
   "metadata": {
    "collapsed": false,
    "scrolled": true
   },
   "outputs": [
    {
     "name": "stdout",
     "output_type": "stream",
     "text": [
      "Sharpe: 1.27310064813\n",
      "Sharpe: 1.27310064813\n",
      "Sharpe: 1.27310064813\n",
      "Sharpe: 1.6888049775\n",
      "Sharpe: 1.75530144413\n",
      "Sharpe: 1.77858032317\n",
      "Sharpe: 1.77898207029\n"
     ]
    }
   ],
   "source": [
    "num_portfolios = 9599234\n",
    "\n",
    "portFile = open('/home/pi/portfolios.csv', 'r')\n",
    "allocationsFile = open('/home/pi/allocations.csv', 'r')\n",
    "\n",
    "maxSharpe = 0\n",
    "bestPortfolio = None\n",
    "num_processed = 0\n",
    "\n",
    "optimizerOutput = open('/home/pi/optimizer.txt', 'w')\n",
    "\n",
    "for f in portFile:\n",
    "\n",
    "    portfolio = f.rstrip()\n",
    "    #print f\n",
    "    \n",
    "    try:\n",
    "        currentSecurities = literal_eval(portfolio)\n",
    "    except:\n",
    "        continue\n",
    "\n",
    "    #print \"%s\\n\" % \"\".join(currentSecurities)\n",
    "    #optimizerOutput.write( \"%s\\n\" % currentSecurities )\n",
    "    #optimizerOutput.flush()\n",
    "    \n",
    "    for allocation in allocationsFile:\n",
    "        ls_allocations = [literal_eval(allocation)]\n",
    "        #optimizerOutput.write( \"%s\\n\" % ls_allocations )\n",
    "        \n",
    "        #print \"Found allocation: \" + np.array_str(ls_allocations)\n",
    "        sharpe, stddev, avgret, cumret = analyzePortfolio(currentSecurities, ls_allocations)\n",
    "        if sharpe > maxSharpe:\n",
    "            print \"Sharpe: %s\" % str(sharpe)\n",
    "            bestPortfolio = [sharpe, stddev, avgret, cumret, currentSecurities, ls_allocations]\n",
    "            #print \"New best sharpe: \" + str(maxSharpe) + \" : [%s]\" % \", \".join(map(str, bestPortfolio))\n",
    "            optimizerOutput.write( \"%s\\n\" % bestPortfolio )\n",
    "            maxSharpe = sharpe\n",
    "\n",
    "    num_processed += 1\n",
    "    \n",
    "    if num_processed % 500000 == 0:\n",
    "        print \"%s complete, \" % str(((num_portfolios - num_processed)/num_portfolios) * 100)\n",
    "        print \"%s\" % bestPortfolio\n",
    "            \n",
    "optimizerOutput.write( \"%s\\n\" % bestPortfolio )\n",
    "print \"Finished, best sharpe: \" + str(maxSharpe) + \" : [%s]\" % \", \".join(map(str, bestPortfolio))"
   ]
  },
  {
   "cell_type": "code",
   "execution_count": null,
   "metadata": {
    "collapsed": true
   },
   "outputs": [],
   "source": []
  }
 ],
 "metadata": {
  "kernelspec": {
   "display_name": "Python 2",
   "language": "python",
   "name": "python2"
  },
  "language_info": {
   "codemirror_mode": {
    "name": "ipython",
    "version": 2
   },
   "file_extension": ".py",
   "mimetype": "text/x-python",
   "name": "python",
   "nbconvert_exporter": "python",
   "pygments_lexer": "ipython2",
   "version": "2.7.9"
  }
 },
 "nbformat": 4,
 "nbformat_minor": 0
}
