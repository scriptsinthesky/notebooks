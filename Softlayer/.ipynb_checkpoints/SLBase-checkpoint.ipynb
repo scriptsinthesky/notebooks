{
 "cells": [
  {
   "cell_type": "code",
   "execution_count": 1,
   "metadata": {},
   "outputs": [
    {
     "name": "stdout",
     "output_type": "stream",
     "text": [
      "Collecting softlayer\n",
      "\u001b[?25l  Downloading https://files.pythonhosted.org/packages/cb/c9/5161ed9b72a0555ad6ca8296b87f7332e424f4852453a6255f823859bea2/SoftLayer-5.7.2-py2.py3-none-any.whl (495kB)\n",
      "\u001b[K    100% |████████████████████████████████| 501kB 749kB/s ta 0:00:01\n",
      "\u001b[?25hRequirement already satisfied: urllib3>=1.24 in /opt/conda/lib/python3.7/site-packages (from softlayer) (1.24.2)\n",
      "Requirement already satisfied: requests>=2.20.0 in /opt/conda/lib/python3.7/site-packages (from softlayer) (2.21.0)\n",
      "Requirement already satisfied: click>=7 in /opt/conda/lib/python3.7/site-packages (from softlayer) (7.0)\n",
      "Requirement already satisfied: pygments>=2.0.0 in /opt/conda/lib/python3.7/site-packages (from softlayer) (2.3.1)\n",
      "Requirement already satisfied: prompt-toolkit>=0.53 in /opt/conda/lib/python3.7/site-packages (from softlayer) (2.0.9)\n",
      "Collecting ptable>=0.9.2 (from softlayer)\n",
      "  Downloading https://files.pythonhosted.org/packages/ab/b3/b54301811173ca94119eb474634f120a49cd370f257d1aae5a4abaf12729/PTable-0.9.2.tar.gz\n",
      "Requirement already satisfied: six>=1.7.0 in /opt/conda/lib/python3.7/site-packages (from softlayer) (1.12.0)\n",
      "Requirement already satisfied: chardet<3.1.0,>=3.0.2 in /opt/conda/lib/python3.7/site-packages (from requests>=2.20.0->softlayer) (3.0.4)\n",
      "Requirement already satisfied: certifi>=2017.4.17 in /opt/conda/lib/python3.7/site-packages (from requests>=2.20.0->softlayer) (2019.3.9)\n",
      "Requirement already satisfied: idna<2.9,>=2.5 in /opt/conda/lib/python3.7/site-packages (from requests>=2.20.0->softlayer) (2.8)\n",
      "Requirement already satisfied: wcwidth in /opt/conda/lib/python3.7/site-packages (from prompt-toolkit>=0.53->softlayer) (0.1.7)\n",
      "Building wheels for collected packages: ptable\n",
      "  Building wheel for ptable (setup.py) ... \u001b[?25ldone\n",
      "\u001b[?25h  Stored in directory: /home/jovyan/.cache/pip/wheels/22/cc/2e/55980bfe86393df3e9896146a01f6802978d09d7ebcba5ea56\n",
      "Successfully built ptable\n",
      "Installing collected packages: ptable, softlayer\n",
      "Successfully installed ptable-0.9.2 softlayer-5.7.2\n"
     ]
    }
   ],
   "source": [
    "# !pip install softlayer\n",
    "# https://github.com/softlayer/softlayer-python\n",
    "# https://softlayer-python.readthedocs.io/en/latest/index.html\n",
    "# https://sldn.softlayer.com/reference/softlayerapi/\n",
    "# https://sldn.softlayer.com/article/object-masks/\n",
    "# https://sldn.softlayer.com/python/"
   ]
  },
  {
   "cell_type": "code",
   "execution_count": null,
   "metadata": {},
   "outputs": [],
   "source": []
  }
 ],
 "metadata": {
  "kernelspec": {
   "display_name": "Python 3",
   "language": "python",
   "name": "python3"
  },
  "language_info": {
   "codemirror_mode": {
    "name": "ipython",
    "version": 3
   },
   "file_extension": ".py",
   "mimetype": "text/x-python",
   "name": "python",
   "nbconvert_exporter": "python",
   "pygments_lexer": "ipython3",
   "version": "3.7.3"
  }
 },
 "nbformat": 4,
 "nbformat_minor": 2
}
