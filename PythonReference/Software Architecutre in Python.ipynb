{
 "cells": [
  {
   "cell_type": "markdown",
   "metadata": {
    "toc": "true"
   },
   "source": [
    "# Table of Contents\n",
    " <p><div class=\"lev1 toc-item\"><a href=\"#Modifiability\" data-toc-modified-id=\"Modifiability-1\"><span class=\"toc-item-num\">1&nbsp;&nbsp;</span>Modifiability</a></div><div class=\"lev2 toc-item\"><a href=\"#Coding-styles\" data-toc-modified-id=\"Coding-styles-1.1\"><span class=\"toc-item-num\">1.1&nbsp;&nbsp;</span>Coding styles</a></div><div class=\"lev2 toc-item\"><a href=\"#Cohension-and-Coupling\" data-toc-modified-id=\"Cohension-and-Coupling-1.2\"><span class=\"toc-item-num\">1.2&nbsp;&nbsp;</span>Cohension and Coupling</a></div><div class=\"lev3 toc-item\"><a href=\"#Measure-Cohesion-and-Coupling\" data-toc-modified-id=\"Measure-Cohesion-and-Coupling-1.2.1\"><span class=\"toc-item-num\">1.2.1&nbsp;&nbsp;</span>Measure Cohesion and Coupling</a></div><div class=\"lev3 toc-item\"><a href=\"#Provide-good-cohesion-and-coupling\" data-toc-modified-id=\"Provide-good-cohesion-and-coupling-1.2.2\"><span class=\"toc-item-num\">1.2.2&nbsp;&nbsp;</span>Provide good cohesion and coupling</a></div><div class=\"lev3 toc-item\"><a href=\"#Late-Binding-Techniques\" data-toc-modified-id=\"Late-Binding-Techniques-1.2.3\"><span class=\"toc-item-num\">1.2.3&nbsp;&nbsp;</span>Late Binding Techniques</a></div><div class=\"lev2 toc-item\"><a href=\"#Metrics-–-tools-for-static-analysis\" data-toc-modified-id=\"Metrics-–-tools-for-static-analysis-1.3\"><span class=\"toc-item-num\">1.3&nbsp;&nbsp;</span>Metrics – tools for static analysis</a></div><div class=\"lev2 toc-item\"><a href=\"#What-are-Code-Smells?\" data-toc-modified-id=\"What-are-Code-Smells?-1.4\"><span class=\"toc-item-num\">1.4&nbsp;&nbsp;</span>What are Code Smells?</a></div><div class=\"lev2 toc-item\"><a href=\"#Cyclomatic-complexity-–-The-McCabe-metric\" data-toc-modified-id=\"Cyclomatic-complexity-–-The-McCabe-metric-1.5\"><span class=\"toc-item-num\">1.5&nbsp;&nbsp;</span>Cyclomatic complexity – The McCabe metric</a></div><div class=\"lev2 toc-item\"><a href=\"#Summary\" data-toc-modified-id=\"Summary-1.6\"><span class=\"toc-item-num\">1.6&nbsp;&nbsp;</span>Summary</a></div><div class=\"lev1 toc-item\"><a href=\"#Testability\" data-toc-modified-id=\"Testability-2\"><span class=\"toc-item-num\">2&nbsp;&nbsp;</span>Testability</a></div><div class=\"lev3 toc-item\"><a href=\"#Types-of-testing\" data-toc-modified-id=\"Types-of-testing-2.0.1\"><span class=\"toc-item-num\">2.0.1&nbsp;&nbsp;</span>Types of testing</a></div><div class=\"lev2 toc-item\"><a href=\"#Code-Coverage\" data-toc-modified-id=\"Code-Coverage-2.1\"><span class=\"toc-item-num\">2.1&nbsp;&nbsp;</span>Code Coverage</a></div>"
   ]
  },
  {
   "cell_type": "markdown",
   "metadata": {},
   "source": [
    "# Modifiability\n",
    "\n",
    "Readability: programming/naming standards\n",
    "Modularity: specific related functions, provides programmer friendly APIs\n",
    "Re-usability – Measures how much parts of a software system including code, tools, designs etc. can be reused in other parts of the system with zero or very little modifications. A good design would emphasize re usability from the\n",
    "beginning. DRY (don't repeat yourself)\n",
    "Maintainability – Maintainability of a software is the ease and efficiency at which the system can be updated and kept working in a useful state by its intended stakeholders. Maintainability is a metric that encompasses the aspects of Modifiability, Readability, Re-usability, Modularity and Testability"
   ]
  },
  {
   "cell_type": "code",
   "execution_count": 1,
   "metadata": {
    "collapsed": false
   },
   "outputs": [
    {
     "name": "stdout",
     "output_type": "stream",
     "text": [
      "The Zen of Python, by Tim Peters\n",
      "\n",
      "Beautiful is better than ugly.\n",
      "Explicit is better than implicit.\n",
      "Simple is better than complex.\n",
      "Complex is better than complicated.\n",
      "Flat is better than nested.\n",
      "Sparse is better than dense.\n",
      "Readability counts.\n",
      "Special cases aren't special enough to break the rules.\n",
      "Although practicality beats purity.\n",
      "Errors should never pass silently.\n",
      "Unless explicitly silenced.\n",
      "In the face of ambiguity, refuse the temptation to guess.\n",
      "There should be one-- and preferably only one --obvious way to do it.\n",
      "Although that way may not be obvious at first unless you're Dutch.\n",
      "Now is better than never.\n",
      "Although never is often better than *right* now.\n",
      "If the implementation is hard to explain, it's a bad idea.\n",
      "If the implementation is easy to explain, it may be a good idea.\n",
      "Namespaces are one honking great idea -- let's do more of those!\n"
     ]
    }
   ],
   "source": [
    "# Zen of Python\n",
    "\n",
    "import this"
   ]
  },
  {
   "cell_type": "markdown",
   "metadata": {},
   "source": [
    "## Coding styles\n",
    "\n",
    "Python programmers call well-written code keeping with the generally accepted best practices in the Python community and using its idioms as Pythonic. So the first code is Pythonic, but the second one is not.\n",
    "\n",
    "For Python, there is a clear set of coding style guidelines published by the Python\n",
    "programming community. This guideline, known as PEP-8 is available online as part of the\n",
    "“Python Enhancement Proposal” (PEP) set of documents.\n",
    "The full URL of PEP-8 is https://www.python.org/dev/peps/pep-0008/"
   ]
  },
  {
   "cell_type": "markdown",
   "metadata": {},
   "source": [
    "## Cohension and Coupling\n",
    "\n",
    "Cohesion refers to how tightly the responsibilities of a module are related to each other. A module which performs a specific task or group of related tasks has high cohesion. A module in which a lot of functionality is dumped without a thought as to the core\n",
    "functionality would have low Cohesion.\n",
    "\n",
    "Coupling is degree to which the functionality of two modules A & B are related. Two modules are strongly coupled if their functionality overlaps strongly at the code level – in terms of function or method calls. Any changes in module A , would probably require changes in module B.\n",
    "\n",
    "Strong coupling is always prohibitory for Modifiability as it increases the costs of maintaining the code base. Code which aim to increase modifiability should aim for High Cohesion and Low Coupling."
   ]
  },
  {
   "cell_type": "markdown",
   "metadata": {},
   "source": [
    "### Measure Cohesion and Coupling\n",
    "\n",
    "Module  \n",
    "Num of core functions : cohesion  \n",
    "Num of unrelated functions : low cohesion  \n",
    "Num of function dependencies : determines degree of coupling between modules, bidirectional  \n"
   ]
  },
  {
   "cell_type": "markdown",
   "metadata": {},
   "source": [
    "### Provide good cohesion and coupling\n",
    "\n",
    "Explicit interfaces  \n",
    "Reduce 2 way depedencies  \n",
    "Abstract common services  \n",
    "Use inheritance  "
   ]
  },
  {
   "cell_type": "markdown",
   "metadata": {},
   "source": [
    "### Late Binding Techniques\n",
    "Plugin: runtime code load and bind  \n",
    "Broker/registry lookup: dynamic lookup and calling  \n",
    "Notification services: pub/sub observer to hide keeping track of internal values  \n",
    "Deployment time bindings: store values in config files    \n",
    "Creational patterns: factory or builder  "
   ]
  },
  {
   "cell_type": "markdown",
   "metadata": {},
   "source": [
    "## Metrics – tools for static analysis\n",
    "Static code analysis tools can provide a rich summary of information on the static properties\n",
    "of your code which can provide insights into aspects like Complexity and\n",
    "Modifiability/Readability of the code.\n",
    "\n",
    "PyFlakes  \n",
    "Mcabe  \n",
    "Pylint  \n",
    "Flake 8  \n",
    "\n"
   ]
  },
  {
   "cell_type": "markdown",
   "metadata": {},
   "source": [
    "## What are Code Smells?\n",
    "Code smells are surface symptoms of deeper problems with your code. They usually\n",
    "indicate problems with the design which can cause bugs in the future or negatively impact\n",
    "development of the particular piece of code.  \n",
    "\n",
    "Code smells are not bugs themselves, but they are patterns that indicate that the approach\n",
    "to solving problems adopted in the code is not right and should be fixed by refactoring.\n",
    "Some of the common Code Smells are,  \n",
    "  \n",
    "At class level,\n",
    "GodObject – A class which tries to do too many things. In short this class lacks\n",
    "any kind of Cohesion.  \n",
    "Constant Class – A class which is nothing but a collection of constants which is\n",
    "used elsewhere and hence should not ideally belong here.  \n",
    "Refused Bequest – A class which doesn't honor the contract of the base class and\n",
    "hence breaks the substitution principle of inheritance.  \n",
    "Freeloader – A class with too little functions which does almost nothing and adds\n",
    "little value.  \n",
    "Feature Envy – A class which is dependent on methods of another class\n",
    "excessively. Indicates high Coupling.  \n",
    "At method/function level,\n",
    "Long Method – A method or function which has grown too big and complex.  \n",
    "Parameter creep – Too many parameters for a function or method. This makes the\n",
    "callability and testability of the function difficult.  \n",
    "Cyclomatic Complexity – A function or method with too many branches or loops,\n",
    "which creates a convoluted logic that is difficult to follow and can cause subtle\n",
    "bugs. Such a function should be refactored and broken down to multiple\n",
    "functions or the logic rewritten to avoid too much branching.   \n",
    "Overly long or short identifiers – A function which uses either overly long or\n",
    "overly short variable names that their purpose is not clear from their names. The\n",
    "Writing Modifiable, Readable Codesame is applicable to the function name as well.  \n",
    "A related antipattern to Code Smell is Design Smell which are surface symptoms in Design\n",
    "of a system that indicates underlying deeper problems in the Architecture."
   ]
  },
  {
   "cell_type": "markdown",
   "metadata": {},
   "source": [
    "## Cyclomatic complexity – The McCabe metric\n",
    "Cyclomatic Complexity is a measure of complexity of a computer program. It is computed\n",
    "as the number of linearly independent paths through the program's source code from start\n",
    "to finish.\n",
    "For a piece of code such as the one below with no branches at all, the cyclomatic complexity\n",
    "would be 1 as there is just one path through the code."
   ]
  },
  {
   "cell_type": "markdown",
   "metadata": {},
   "source": [
    "## Summary\n",
    "In this chapter, we looked at the architectural quality attribute of Modifiability and learned\n",
    "and looked at its different aspects. We discussed Readability in some detail including the\n",
    "pluses of writing Readable code and also some of the antipatterns with respect to\n",
    "Readability including various Coding antipatterns. During the discussion we understood\n",
    "that Python from its ground up is a language written for Readability.\n",
    "We looked at various techniques for improving Readability of code and spent some time\n",
    "with the various aspects of code commenting and looked at documentation strings in\n",
    "Python at function, class and module levels. We also looked at PEP-8, the official coding\n",
    "convention guideline for Python and also learned that continuous refactoring of code is\n",
    "important to keep up its modifiability and to reduce its maintenance costs in the long term.\n",
    "We then looked at some rules of thumb for code comments and went on to the\n",
    "fundamentals of modifiability namely Coupling and Cohesion of code. We looked at\n",
    "different cases of Coupling and Cohesion with a couple of examples. We then went on to\n",
    "discuss the strategies of improving modifiability of code such as providing explicit\n",
    "interfaces or APIs, avoiding two-way dependencies, abstracting common services to helper\n",
    "modules and using inheritance techniques. We looked at an example where we refactored a\n",
    "class hierarchy via inheritance to abstract away common code and improve the\n",
    "modifiability of the system.\n",
    "Towards the end we looked at different tools providing static code metrics in Python such\n",
    "as PyLint, flake8, PyFlakes etc. We learned what is McCabe Cyclomatic Complexity and\n",
    "tried a few examples. We used a piece of code which was written to demonstrate the power\n",
    "of different tools such as PyLint and PyFlakes. We learned what code smells are and\n",
    "performed a refactoring exercise to improve the quality of the piece of code we used for\n",
    "testing metrics in stages."
   ]
  },
  {
   "cell_type": "markdown",
   "metadata": {},
   "source": [
    "# Testability\n",
    "\n",
    "What is Testability  \n",
    "  \n",
    "Testability can be defined as,  \n",
    "  \n",
    "“The degree to which a software system or artifact demonstrates its faults in a given\n",
    "context”"
   ]
  },
  {
   "cell_type": "markdown",
   "metadata": {},
   "source": [
    "### Types of testing\n",
    "\n",
    "Functional  \n",
    "  \n",
    "White box  \n",
    "Black box  \n",
    "  \n",
    "Performance  \n",
    "  \n",
    "Load  \n",
    "Stress  \n",
    "Scale  \n",
    "\n",
    "Security  \n",
    "  \n",
    "Usability  \n",
    "\n",
    "Installation  \n",
    "  \n",
    "Accessibility  \n"
   ]
  },
  {
   "cell_type": "markdown",
   "metadata": {},
   "source": [
    "## Code Coverage\n",
    "Code coverage is measured as the degree to which the source code under test is covered by\n",
    "a specific test-suite. Ideally, test-suites should aim for higher code coverage as this would\n",
    "expose a larger percentage of the source code to tests and help to uncover bugs.\n",
    "Code coverage metrics are reported typically as percentage of LOC (Lines of Code) or\n",
    "percentage of sub-routines (functions) covered by a test-suite.\n",
    "Let us now look at different tools support for measuring code coverage. We will continue to\n",
    "use our test example (datetimehelper) for these illustrations too.\n"
   ]
  },
  {
   "cell_type": "code",
   "execution_count": null,
   "metadata": {
    "collapsed": true
   },
   "outputs": [],
   "source": []
  }
 ],
 "metadata": {
  "kernelspec": {
   "display_name": "Python (kern3.4)",
   "language": "python",
   "name": "kern3.4"
  },
  "language_info": {
   "codemirror_mode": {
    "name": "ipython",
    "version": 3
   },
   "file_extension": ".py",
   "mimetype": "text/x-python",
   "name": "python",
   "nbconvert_exporter": "python",
   "pygments_lexer": "ipython3",
   "version": "3.4.2"
  },
  "nav_menu": {},
  "toc": {
   "navigate_menu": true,
   "number_sections": true,
   "sideBar": false,
   "threshold": 6,
   "toc_cell": true,
   "toc_section_display": "block",
   "toc_window_display": false
  }
 },
 "nbformat": 4,
 "nbformat_minor": 0
}
