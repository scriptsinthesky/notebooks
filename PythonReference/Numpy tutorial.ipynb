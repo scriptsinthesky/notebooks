{
 "cells": [
  {
   "cell_type": "markdown",
   "metadata": {
    "toc": "true"
   },
   "source": [
    "# Table of Contents\n",
    " <p>"
   ]
  },
  {
   "cell_type": "code",
   "execution_count": 3,
   "metadata": {
    "collapsed": false,
    "jupyter": {
     "outputs_hidden": false
    }
   },
   "outputs": [
    {
     "name": "stdout",
     "output_type": "stream",
     "text": [
      "Importing numpy\n"
     ]
    }
   ],
   "source": [
    "# http://wiki.quantsoftware.org/index.php?title=Numpy_Tutorial_1\n",
    "########################################\n",
    "# A brief introduction to numpy arrays #\n",
    "########################################\n",
    "#\n",
    "# http://wiki.quantsoftware.org/index.php?title=Numpy_Tutorial_1\n",
    "#\n",
    "# Prereqs: Basic python. \"import\", built-in data types (numbers, lists, \n",
    "#          strings), range\n",
    "#\n",
    "# This short tutorial is mostly about introducing numpy arrays, how they're\n",
    "# different from basic python lists/tuples, and the various ways you can\n",
    "# manipulate them.  It's intended to be both a runnable python script, and\n",
    "# a step by step tutorial. \n",
    "#\n",
    "# This tutorial does NOT cover\n",
    "# \t1) Installing numpy/dependencies. For that see \n",
    "#\n",
    "#\t\t\thttp://docs.scipy.org/doc/numpy/user/install.html\n",
    "#\n",
    "#\t2) Basic python. This includes getting, installing, running the python\n",
    "#\t\tinterpreter, the basic python data types (strings, numbers, sequences),\n",
    "#\t\tif statements, or for loops. If you're new to python an excellent place\n",
    "#\t\tto start is here:\n",
    "#\n",
    "#\t\t\thttp://docs.python.org/2/tutorial/\n",
    "#\n",
    "#\t3) Any numpy libraries in depth. It may include references to utility\n",
    "#\t\tfunctions where necessary, but this is strictly a tutorial for \n",
    "#\t\tbeginners. More advanced documentation is available here:\n",
    "#\n",
    "#\t\t\t(Users guide)\n",
    "#\t\t\thttp://docs.scipy.org/doc/numpy/user/index.html\n",
    "#\t\t\t(Reference documentation)\n",
    "#\t\t\thttp://docs.scipy.org/doc/numpy/reference/\n",
    "#\n",
    "#\n",
    "#\n",
    "#\n",
    "## Lets get started!\n",
    "print(\"Importing numpy\")\n",
    "import numpy as np\n",
    "\n",
    "## This loads the numpy library and lets us refer to it by the shorthand \"np\",\n",
    "## which is the convention used in the numpy documentation and in many\n",
    "## online tutorials/examples "
   ]
  },
  {
   "cell_type": "code",
   "execution_count": 5,
   "metadata": {
    "collapsed": false,
    "jupyter": {
     "outputs_hidden": false
    }
   },
   "outputs": [
    {
     "name": "stdout",
     "output_type": "stream",
     "text": [
      "Creating arrays\n"
     ]
    },
    {
     "data": {
      "text/plain": [
       "array([[0., 0., 0.],\n",
       "       [0., 0., 0.]])"
      ]
     },
     "execution_count": 5,
     "metadata": {},
     "output_type": "execute_result"
    }
   ],
   "source": [
    "print(\"Creating arrays\")\n",
    "## Now lets make an array to play around with. You can make numpy arrays in\n",
    "## a number of ways,\n",
    "## Filled with zeros:\n",
    "zeroArray = np.zeros( (2,3) ) # [[ 0.  0.  0.]\n",
    "zeroArray               #  [ 0.  0.  0.]]"
   ]
  },
  {
   "cell_type": "code",
   "execution_count": 6,
   "metadata": {
    "collapsed": false,
    "jupyter": {
     "outputs_hidden": false
    }
   },
   "outputs": [
    {
     "data": {
      "text/plain": [
       "array([[1., 1., 1.],\n",
       "       [1., 1., 1.]])"
      ]
     },
     "execution_count": 6,
     "metadata": {},
     "output_type": "execute_result"
    }
   ],
   "source": [
    "## Or ones:\n",
    "oneArray = np.ones( (2,3) )   # [[ 1.  1.  1.]\n",
    "oneArray                #  [ 1.  1.  1.]]"
   ]
  },
  {
   "cell_type": "code",
   "execution_count": 8,
   "metadata": {
    "collapsed": false,
    "jupyter": {
     "outputs_hidden": false
    }
   },
   "outputs": [
    {
     "data": {
      "text/plain": [
       "array([[1., 1., 1.],\n",
       "       [1., 1., 1.]])"
      ]
     },
     "execution_count": 8,
     "metadata": {},
     "output_type": "execute_result"
    }
   ],
   "source": [
    "## Or filled with junk:\n",
    "emptyArray = np.empty( (2,3) ) \n",
    "emptyArray"
   ]
  },
  {
   "cell_type": "code",
   "execution_count": 9,
   "metadata": {
    "collapsed": false,
    "jupyter": {
     "outputs_hidden": false
    }
   },
   "outputs": [
    {
     "data": {
      "text/plain": [
       "array([[0.0691358 , 0.79006063, 0.30944038],\n",
       "       [0.24092443, 0.87997704, 0.26524898]])"
      ]
     },
     "execution_count": 9,
     "metadata": {},
     "output_type": "execute_result"
    }
   ],
   "source": [
    "## Note, emptyArray might look random, but it's just uninitialized which means\n",
    "## you shouldn't count on it having any particular data in it, even random\n",
    "## data! If you do want random data you can use random():\n",
    "randomArray = np.random.random( (2,3) )\n",
    "randomArray"
   ]
  },
  {
   "cell_type": "code",
   "execution_count": 27,
   "metadata": {
    "collapsed": false,
    "jupyter": {
     "outputs_hidden": false
    }
   },
   "outputs": [
    {
     "data": {
      "text/plain": [
       "array([[1, 2, 3],\n",
       "       [4, 5, 6]])"
      ]
     },
     "metadata": {},
     "output_type": "display_data"
    }
   ],
   "source": [
    "## If you're following along and trying these commands out, you should have\n",
    "## noticed that making randomArray took a lot longer than emptyArray. That's\n",
    "## because np.random.random(...) is actually using a random number generator\n",
    "## to fill in each of the spots in the array with a randomly sampled number\n",
    "## from 0 to 1.\n",
    "\n",
    "## You can also create an array by hand:\n",
    "foo = [ [1,2,3],\n",
    "        [4,5,6]]\n",
    "\n",
    "myArray = np.array(foo) # [[1 2 3] \n",
    "display(myArray )          #  [4 5 6]]"
   ]
  },
  {
   "cell_type": "code",
   "execution_count": 26,
   "metadata": {
    "collapsed": false,
    "jupyter": {
     "outputs_hidden": false
    }
   },
   "outputs": [
    {
     "name": "stdout",
     "output_type": "stream",
     "text": [
      "Reshaping arrays\n"
     ]
    },
    {
     "data": {
      "text/plain": [
       "array([[ 6,  7,  8],\n",
       "       [ 9, 10, 11]])"
      ]
     },
     "metadata": {},
     "output_type": "display_data"
    }
   ],
   "source": [
    "print(\"Reshaping arrays\")\n",
    "## Of course, if you're typing out a range for a larger matrix, it's easier to\n",
    "## use arange(...):\n",
    "rangeArray = np.arange(6,12).reshape( (2,3) ) # [[ 6  7  8]\n",
    "display(rangeArray)                             #  [ 9 10 11]]"
   ]
  },
  {
   "cell_type": "code",
   "execution_count": 25,
   "metadata": {
    "collapsed": false,
    "jupyter": {
     "outputs_hidden": false
    }
   },
   "outputs": [
    {
     "data": {
      "text/plain": [
       "array([ 6,  7,  8,  9, 10, 11])"
      ]
     },
     "metadata": {},
     "output_type": "display_data"
    },
    {
     "data": {
      "text/plain": [
       "array([[ 6,  7],\n",
       "       [ 8,  9],\n",
       "       [10, 11]])"
      ]
     },
     "metadata": {},
     "output_type": "display_data"
    },
    {
     "data": {
      "text/plain": [
       "array([[ 6,  7,  8],\n",
       "       [ 9, 10, 11]])"
      ]
     },
     "metadata": {},
     "output_type": "display_data"
    }
   ],
   "source": [
    "## there's two things going on here. First, the arange(...) function returns a\n",
    "## 1D array similar to what you'd get from using the built-in python function\n",
    "## range(...) with the same arguments, except it returns a numpy array\n",
    "## instead of a list.\n",
    "display(np.arange(6,12)) # [ 6  7  8  9 10 11 12]\n",
    "\n",
    "## the reshape method takes the data in an existing array, and stuffs it into\n",
    "## an array with the given shape and returns it.  \n",
    "display(rangeArray.reshape( (3,2) )) # [[ 6  7]\n",
    "                                  #  [ 8  9]\n",
    "                                  #  [10 11]]\n",
    "\n",
    "#The original array doesn't change though.\n",
    "display(rangeArray) # [[ 6  7  8]\n",
    "                 #  [ 9 10 11]"
   ]
  },
  {
   "cell_type": "code",
   "execution_count": 24,
   "metadata": {
    "collapsed": false,
    "jupyter": {
     "outputs_hidden": false
    }
   },
   "outputs": [
    {
     "name": "stdout",
     "output_type": "stream",
     "text": [
      "Accessing array elements\n"
     ]
    },
    {
     "data": {
      "text/plain": [
       "7"
      ]
     },
     "metadata": {},
     "output_type": "display_data"
    },
    {
     "data": {
      "text/plain": [
       "array([6, 7])"
      ]
     },
     "metadata": {},
     "output_type": "display_data"
    },
    {
     "data": {
      "text/plain": [
       "array([[1, 2],\n",
       "       [4, 5]])"
      ]
     },
     "metadata": {},
     "output_type": "display_data"
    }
   ],
   "source": [
    "## When you use reshape(...) the total number of things in the array must stay\n",
    "## the same. So reshaping an array with 2 rows and 3 columns into one with \n",
    "## 3 rows and 2 columns is fine, but 3x3 or 1x5 won't work\n",
    "#print rangeArray.reshape( (3,3) ) #ERROR\n",
    "squareArray = np.arange(1,10).reshape( (3,3) ) #this is fine, 9 elements\n",
    "\n",
    "\n",
    "print(\"Accessing array elements\")\n",
    "## Accessing an array is also pretty straight forward. You access a specific\n",
    "## spot in the table by referring to its row and column inside square braces\n",
    "## after the array:\n",
    "display(rangeArray[0,1]) #7\n",
    "\n",
    "## Note that row and column numbers start from 0, not 1! Numpy also lets you \n",
    "## refer to ranges inside an array:\n",
    "display(rangeArray[0,0:2]) #[6 7]\n",
    "display(squareArray[0:2,0:2]) #[[1 2]  # the top left corner of squareArray\n",
    "                           # [4 5]]"
   ]
  },
  {
   "cell_type": "code",
   "execution_count": 23,
   "metadata": {
    "collapsed": false,
    "jupyter": {
     "outputs_hidden": false
    }
   },
   "outputs": [
    {
     "data": {
      "text/plain": [
       "array([[1, 3],\n",
       "       [4, 6],\n",
       "       [1, 1]])"
      ]
     },
     "metadata": {},
     "output_type": "display_data"
    },
    {
     "data": {
      "text/plain": [
       "array([[1, 2, 3],\n",
       "       [4, 0, 6],\n",
       "       [1, 1, 1]])"
      ]
     },
     "metadata": {},
     "output_type": "display_data"
    }
   ],
   "source": [
    "## These ranges work just like slices and python lists. n:m:t specifies a range\n",
    "## that starts at n, and stops before m, in steps of size t. If any of these \n",
    "## are left off, they're assumed to be the start, the end+1, and 1 respectively\n",
    "display(squareArray[:,0:3:2]) #[[1 3]   #skip the middle column\n",
    "                           # [4 6]\n",
    "                           # [7 9]]\n",
    "\n",
    "## Also like python lists, you can assign values to specific positions, or\n",
    "## ranges of values to slices\n",
    "squareArray[0,:] = np.array(range(1,4)) #set the first row to 1,2,3\n",
    "squareArray[1,1] = 0                    # set the middle spot to zero\n",
    "squareArray[2,:] = 1                    # set the last row to ones\n",
    "display(squareArray)                      # [[1 2 3]\n",
    "                                        #  [4 0 6]\n",
    "                                        #  [1 1 1]]"
   ]
  },
  {
   "cell_type": "code",
   "execution_count": 22,
   "metadata": {
    "collapsed": false,
    "jupyter": {
     "outputs_hidden": false
    }
   },
   "outputs": [
    {
     "data": {
      "text/plain": [
       "array([[0.13156178],\n",
       "       [0.28966605],\n",
       "       [0.46903755],\n",
       "       [0.9029105 ],\n",
       "       [0.63616212],\n",
       "       [0.43856497],\n",
       "       [0.40467652],\n",
       "       [0.41827   ],\n",
       "       [0.5751149 ],\n",
       "       [0.33257905]])"
      ]
     },
     "metadata": {},
     "output_type": "display_data"
    },
    {
     "data": {
      "text/plain": [
       "array([[0.28966605],\n",
       "       [0.28966605],\n",
       "       [0.46903755],\n",
       "       [0.9029105 ]])"
      ]
     },
     "metadata": {},
     "output_type": "display_data"
    },
    {
     "data": {
      "text/plain": [
       "array([1, 3, 0, 1, 1])"
      ]
     },
     "metadata": {},
     "output_type": "display_data"
    }
   ],
   "source": [
    "## Something new to numpy arrays is indexing using an array of indices:\n",
    "fibIndices = np.array( [1, 1, 2, 3] )\n",
    "randomRow = np.random.random( (10,1) ) # an array of 10 random numbers\n",
    "display(randomRow)\n",
    "display(randomRow[fibIndices]) # the first, first, second and third element of\n",
    "                             # randomRow \n",
    "\n",
    "## You can also use an array of true/false values to index:\n",
    "boolIndices = np.array( [[ True, False,  True],\n",
    "                          [False,  True, False],\n",
    "                          [ True, False,  True]] )\n",
    "display(squareArray[boolIndices]) # a 1D array with the selected values\n",
    "                                # [1 3 0 1 1]"
   ]
  },
  {
   "cell_type": "code",
   "execution_count": 28,
   "metadata": {
    "collapsed": false,
    "jupyter": {
     "outputs_hidden": false
    }
   },
   "outputs": [
    {
     "data": {
      "text/plain": [
       "array([[1, 3],\n",
       "       [7, 9]])"
      ]
     },
     "metadata": {},
     "output_type": "display_data"
    },
    {
     "data": {
      "text/plain": [
       "array([4, 6])"
      ]
     },
     "metadata": {},
     "output_type": "display_data"
    },
    {
     "name": "stdout",
     "output_type": "stream",
     "text": [
      "Operations on arrays\n"
     ]
    },
    {
     "data": {
      "text/plain": [
       "array([[False, False, False],\n",
       "       [False, False,  True],\n",
       "       [ True,  True,  True]])"
      ]
     },
     "metadata": {},
     "output_type": "display_data"
    },
    {
     "data": {
      "text/plain": [
       "array([6, 7, 8, 9])"
      ]
     },
     "metadata": {},
     "output_type": "display_data"
    }
   ],
   "source": [
    "## It gets a little more complicated with 2D (and higher) arrays.  You need\n",
    "## two index arrays for a 2D array:\n",
    "rows = np.array( [[0,0],[2,2]] ) #get the corners of our square array\n",
    "cols = np.array( [[0,2],[0,2]] )\n",
    "display(squareArray[rows,cols])     #[[1 3]\n",
    "                                 # [1 1]]\n",
    "boolRows = np.array( [False, True, False] ) # just the middle row\n",
    "boolCols = np.array( [True, False, True] )  # Not the middle column\n",
    "display(squareArray[boolRows,boolCols])        # [4 6]\n",
    "\n",
    "print(\"Operations on arrays\")\n",
    "## One useful trick is to create a boolean matrix based on some test and use\n",
    "## that as an index in order to get the elements of a matrix that pass the\n",
    "## test:\n",
    "sqAverage = np.average(squareArray) # average(...) returns the average of all\n",
    "                                    # the elements in the given array\n",
    "betterThanAverage = squareArray > sqAverage\n",
    "display(betterThanAverage)             #[[False False  True]\n",
    "                                    # [ True False  True]\n",
    "                                    # [False False False]]\n",
    "display(squareArray[betterThanAverage]) #[3 4 6]"
   ]
  },
  {
   "cell_type": "code",
   "execution_count": 29,
   "metadata": {
    "collapsed": false,
    "jupyter": {
     "outputs_hidden": false
    }
   },
   "outputs": [
    {
     "data": {
      "text/plain": [
       "array([[2.4180111, 2.4180111, 3.       ],\n",
       "       [4.       , 5.       , 6.       ],\n",
       "       [7.       , 7.5819889, 7.5819889]])"
      ]
     },
     "execution_count": 29,
     "metadata": {},
     "output_type": "execute_result"
    }
   ],
   "source": [
    "## Indexing like this can also be used to assign values to elements of the\n",
    "## array. This is particularly useful if you want to filter an array, say by \n",
    "## making sure that all of its values are above/below a certain threshold:\n",
    "sqStdDev = np.std(squareArray) # std(...) returns the standard deviation of\n",
    "                               # all the elements in the given array\n",
    "clampedSqArray = np.array(squareArray.copy(), dtype=float) \n",
    "                                    # make a copy of squareArray that will\n",
    "                                    # be \"clamped\". It will only contain\n",
    "                                    # values within one standard deviation\n",
    "                                    # of the mean. Values that are too low\n",
    "                                    # or to high will be set to the min\n",
    "                                    # and max respectively. We set \n",
    "                                    # dtype=float because sqAverage\n",
    "                                    # and sqStdDev are floating point\n",
    "                                    # numbers, and we don't want to \n",
    "                                    # truncate them down to integers.\n",
    "clampedSqArray[ (squareArray-sqAverage) > sqStdDev ] = sqAverage+sqStdDev\n",
    "clampedSqArray[ (squareArray-sqAverage) < -sqStdDev ] = sqAverage-sqStdDev\n",
    "clampedSqArray # [[ 1.          2.          3.        ]\n",
    "                     #  [ 3.90272394  0.31949828  3.90272394]\n",
    "                     #  [ 1.          1.          1.        ]]"
   ]
  },
  {
   "cell_type": "code",
   "execution_count": 14,
   "metadata": {
    "collapsed": false,
    "jupyter": {
     "outputs_hidden": false
    }
   },
   "outputs": [
    {
     "name": "stdout",
     "output_type": "stream",
     "text": [
      "[[ 2  4  6]\n",
      " [ 8  0 12]\n",
      " [ 2  2  2]]\n",
      "[[ 2.  3.  4.]\n",
      " [ 5.  1.  7.]\n",
      " [ 2.  2.  2.]]\n",
      "[[ 1  4  9]\n",
      " [16  0 36]\n",
      " [ 7  8  9]]\n",
      "[[19 22]\n",
      " [43 50]]\n"
     ]
    }
   ],
   "source": [
    "## Multiplying and dividing arrays by numbers does what you'd expect. It\n",
    "## multiples/divides element-wise\n",
    "print squareArray * 2 # [[ 2  4  6]\n",
    "                      #  [ 8  0 12]\n",
    "                      #  [ 2  2  2]]\n",
    "\n",
    "## Addition works similarly:\n",
    "print squareArray + np.ones( (3,3) ) #[[2 3 4]\n",
    "                                     # [5 1 7]\n",
    "                                     # [2 2 2]]\n",
    "\n",
    "## Multiplying two arrays together (of the same size) is also element wise\n",
    "print squareArray * np.arange(1,10).reshape( (3,3) ) #[[ 1  4  9]\n",
    "                                                     # [16  0 36]\n",
    "                                                     # [ 7  8  9]]\n",
    "\n",
    "## Unless you use the dot(...) function, which does matrix multiplication\n",
    "## from linear algebra:\n",
    "matA = np.array( [[1,2],[3,4]] )\n",
    "matB = np.array( [[5,6],[7,8]] )\n",
    "print np.dot(matA,matB) #[[19 22]\n",
    "                        # [43 50]]\n",
    "\n",
    "## And thats it! There's a lot more to the numpy library, and there are a few\n",
    "## things I skipped over here, such as what happens when array dimensions\n",
    "## don't line up when you're indexing or multiplying them together, so if \n",
    "## you're interested, I strongly suggest you head over to the scipy wiki's\n",
    "## numpy tutorial for a more in depth look at using numpy arrays:\n",
    "##\n",
    "##\t\t\thttp://www.scipy.org/Tentative_NumPy_Tutorial"
   ]
  },
  {
   "cell_type": "code",
   "execution_count": null,
   "metadata": {
    "collapsed": true,
    "jupyter": {
     "outputs_hidden": true
    }
   },
   "outputs": [],
   "source": []
  }
 ],
 "metadata": {
  "kernelspec": {
   "display_name": "Python 3",
   "language": "python",
   "name": "python3"
  },
  "language_info": {
   "codemirror_mode": {
    "name": "ipython",
    "version": 3
   },
   "file_extension": ".py",
   "mimetype": "text/x-python",
   "name": "python",
   "nbconvert_exporter": "python",
   "pygments_lexer": "ipython3",
   "version": "3.6.3"
  },
  "nav_menu": {},
  "toc": {
   "navigate_menu": true,
   "number_sections": true,
   "sideBar": false,
   "threshold": 6,
   "toc_cell": true,
   "toc_section_display": "block",
   "toc_window_display": true
  }
 },
 "nbformat": 4,
 "nbformat_minor": 4
}
