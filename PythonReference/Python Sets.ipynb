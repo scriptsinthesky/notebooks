{
 "cells": [
  {
   "cell_type": "markdown",
   "metadata": {
    "toc": "true"
   },
   "source": [
    "# Table of Contents\n",
    " <p>"
   ]
  },
  {
   "cell_type": "code",
   "execution_count": 3,
   "metadata": {},
   "outputs": [],
   "source": [
    "#\n",
    "# Set notes\n",
    "#\n",
    "# Basically, Python lists are very flexible and can hold completely heterogeneous, arbitrary data, and they can be \n",
    "# appended to very efficiently, in amortized constant time. If you need to shrink and grow your array time-efficiently and \n",
    "# without hassle, they are the way to go. But they use a lot more space than C arrays.\n",
    "#\n",
    "# The array.array type, on the other hand, is just a thin wrapper on C arrays. It can hold only homogeneous data, \n",
    "# all of the same type, and so it uses only sizeof(one object) * length bytes of memory. Mostly, you should use it when \n",
    "# you need to expose a C array to an extension or a system call (for example, ioctl or fctnl). It's also a good way to \n",
    "# represent a mutable string (array('B', bytes)) until that actually becomes available in Python 3.0.\n",
    "#\n",
    "# However, if you want to do math on a homogeneous array of numeric data, then you're much better off using NumPy, which \n",
    "# can automatically vectorize operations on complex multi-dimensional arrays.\n",
    "#\n",
    "# To make a long story short: array.array is useful when you need a homogeneous C array of data for reasons other than doing math.\n",
    "#\n",
    "# Set vs Lists\n",
    "#\n",
    "# Sets are significantly faster when it comes to determining if an object is present in the set (as in x in s), \n",
    "# but are slower than lists when it comes to iterating over their contents.\n",
    "#\n",
    "# Sets can't contain duplicates\n",
    "# Sets are unordered\n",
    "# In order to find an element in a set, a hash lookup is used (which is why sets are unordered). \n",
    "#    This makes __contains__ (in operator) a lot more efficient for sets than lists.\n",
    "# Sets can only contain hashable items (see #3). If you try: set(([1],[2])) you'll get a TypeError.\n",
    "#\n",
    "# List is like array, it can be used to store homogeneous as well as heterogeneous data type \n",
    "# (It can store same data type as well as different data type). List are faster compared to array. \n",
    "# Individual element of List data can be accessed using indexing & can be manipulated.\n",
    "#\n",
    "#\n"
   ]
  },
  {
   "cell_type": "code",
   "execution_count": 4,
   "metadata": {},
   "outputs": [],
   "source": [
    "#\n",
    "# Define the sets\n",
    "#\n",
    "# As x = {'','',...}\n",
    "#\n",
    "\n",
    "programmers = {'Mike', 'Tom', 'Niraj'}\n",
    "engineers = {'Mike', 'Sam', 'Frank'}\n",
    "sales = {'John', 'Tom', 'Joe'}\n"
   ]
  },
  {
   "cell_type": "code",
   "execution_count": 5,
   "metadata": {},
   "outputs": [
    {
     "name": "stdout",
     "output_type": "stream",
     "text": [
      "{'Niraj', 'Joe', 'John', 'Mike', 'Tom'}\n"
     ]
    }
   ],
   "source": [
    "# Union\n",
    "\n",
    "print(programmers | sales)\n"
   ]
  },
  {
   "cell_type": "code",
   "execution_count": 7,
   "metadata": {},
   "outputs": [
    {
     "name": "stdout",
     "output_type": "stream",
     "text": [
      "{'Niraj', 'Joe', 'John', 'Mike', 'Tom'}\n"
     ]
    }
   ],
   "source": [
    "# Intersect\n",
    "\n",
    "print(sales | programmers)"
   ]
  },
  {
   "cell_type": "code",
   "execution_count": 8,
   "metadata": {},
   "outputs": [],
   "source": [
    "# Set Methods\n",
    "# Operation\tEquivalent\tResult\n",
    "# s.update(t)\ts |= t\treturn set s with elements added from t\n",
    "# s.intersection_update(t)\ts &= t\treturn set s keeping only elements also found in t\n",
    "# s.difference_update(t)\ts -= t\treturn set s after removing elements found in t\n",
    "# s.symmetric_difference_update(t)\ts ^= t\treturn set s with elements from s or t but not both\n",
    "# s.add(x)\t \tadd element x to set s\n",
    "# s.remove(x)\t \tremove x from set s; raises KeyError if not present\n",
    "# s.discard(x)\t \tremoves x from set s if present\n",
    "# s.pop()\t \tremove and return an arbitrary element from s; raises KeyError if empty\n",
    "# s.clear()\t \tremove all elements from set s"
   ]
  },
  {
   "cell_type": "code",
   "execution_count": 11,
   "metadata": {},
   "outputs": [
    {
     "name": "stdout",
     "output_type": "stream",
     "text": [
      "Niraj\n",
      "Joe\n",
      "John\n",
      "Mike\n",
      "Tom\n"
     ]
    }
   ],
   "source": [
    "# Iteration\n",
    "\n",
    "for myvar in (sales | programmers):\n",
    "    print(myvar)\n",
    "    "
   ]
  },
  {
   "cell_type": "code",
   "execution_count": 17,
   "metadata": {},
   "outputs": [
    {
     "data": {
      "text/plain": [
       "['__add__',\n",
       " '__class__',\n",
       " '__contains__',\n",
       " '__delattr__',\n",
       " '__delitem__',\n",
       " '__dir__',\n",
       " '__doc__',\n",
       " '__eq__',\n",
       " '__format__',\n",
       " '__ge__',\n",
       " '__getattribute__',\n",
       " '__getitem__',\n",
       " '__gt__',\n",
       " '__hash__',\n",
       " '__iadd__',\n",
       " '__imul__',\n",
       " '__init__',\n",
       " '__iter__',\n",
       " '__le__',\n",
       " '__len__',\n",
       " '__lt__',\n",
       " '__mul__',\n",
       " '__ne__',\n",
       " '__new__',\n",
       " '__reduce__',\n",
       " '__reduce_ex__',\n",
       " '__repr__',\n",
       " '__reversed__',\n",
       " '__rmul__',\n",
       " '__setattr__',\n",
       " '__setitem__',\n",
       " '__sizeof__',\n",
       " '__str__',\n",
       " '__subclasshook__',\n",
       " 'append',\n",
       " 'clear',\n",
       " 'copy',\n",
       " 'count',\n",
       " 'extend',\n",
       " 'index',\n",
       " 'insert',\n",
       " 'pop',\n",
       " 'remove',\n",
       " 'reverse',\n",
       " 'sort']"
      ]
     },
     "execution_count": 17,
     "metadata": {},
     "output_type": "execute_result"
    }
   ],
   "source": [
    "# Convert to list\n",
    "#\n",
    "# Sets are significantly faster when it comes to determining if an object is present in the set (as in x in s), \n",
    "# but are slower than lists when it comes to iterating over their contents.\n",
    "#\n",
    "# Set vs Lists\n",
    "# Sets can't contain duplicates\n",
    "# Sets are unordered\n",
    "# In order to find an element in a set, a hash lookup is used (which is why sets are unordered). \n",
    "#    This makes __contains__ (in operator) a lot more efficient for sets than lists.\n",
    "# Sets can only contain hashable items (see #3). If you try: set(([1],[2])) you'll get a TypeError.\n",
    "#\n",
    "# List is like array, it can be used to store homogeneous as well as heterogeneous data type \n",
    "# (It can store same data type as well as different data type). List are faster compared to array. \n",
    "# Individual element of List data can be accessed using indexing & can be manipulated.\n",
    "\n",
    "lProg = list(programmers)\n",
    "type(lProg)\n",
    "dir(lProg)"
   ]
  },
  {
   "cell_type": "code",
   "execution_count": 20,
   "metadata": {},
   "outputs": [
    {
     "name": "stdout",
     "output_type": "stream",
     "text": [
      "Mike\n",
      "Niraj\n",
      "Tom\n"
     ]
    }
   ],
   "source": [
    "for myvar in range(3):\n",
    "    print(lProg[myvar])\n",
    "    "
   ]
  },
  {
   "cell_type": "code",
   "execution_count": 46,
   "metadata": {},
   "outputs": [
    {
     "data": {
      "text/plain": [
       "['The', 'earth', 'revolves', 'around', 'sun']"
      ]
     },
     "execution_count": 46,
     "metadata": {},
     "output_type": "execute_result"
    }
   ],
   "source": [
    "# List creation\n",
    "myList = [\"The\", \"earth\", \"revolves\", \"around\", \"sun\"]\n",
    "myList\n"
   ]
  },
  {
   "cell_type": "code",
   "execution_count": 22,
   "metadata": {},
   "outputs": [
    {
     "name": "stdout",
     "output_type": "stream",
     "text": [
      "('Sunday', 'Monday', 'Tuesday', 'Wednesday', 'Thursday', 'Friday', 'Saturday')\n"
     ]
    }
   ],
   "source": [
    "# Tuples are similar to lists, but there data can be changed once created throught the execution of program. \n",
    "# Individual element of Tuples can be accessed using indexing.\n",
    "\n",
    "days = (\"Sunday\", \"Monday\", \"Tuesday\", \"Wednesday\", \"Thursday\", \"Friday\", \"Saturday\")\n",
    "print(days)\n"
   ]
  },
  {
   "cell_type": "code",
   "execution_count": 43,
   "metadata": {},
   "outputs": [
    {
     "name": "stdout",
     "output_type": "stream",
     "text": [
      "Bharat\n",
      "Mother Teresa\n",
      "Y\n"
     ]
    }
   ],
   "source": [
    "# Dictionary are similar to what their name is. In a dictionary, In python, the word is called a 'key', \n",
    "# and the definition a 'value'. Dictionaries consist of pairs of keys and their corresponding values.\n",
    "\n",
    "dict1 = {'India': 'Bharat', 'Angel': 'Mother Teresa', 'Cartoon': 'Mickey'}\n",
    "print(dict1['India'])\n",
    "print(dict1['Angel'])\n",
    "#dir(dict1)\n",
    "dict1.update({'X': 'Y'})\n",
    "print(dict1['X'])\n",
    "dict1.update({'programmers': lProg})"
   ]
  },
  {
   "cell_type": "code",
   "execution_count": 44,
   "metadata": {},
   "outputs": [
    {
     "data": {
      "text/plain": [
       "'{\"India\": \"Bharat\", \"programmers\": [\"Mike\", \"Niraj\", \"Tom\"], \"Cartoon\": \"Mickey\", \"Angel\": \"Mother Teresa\", \"X\": \"Y\"}'"
      ]
     },
     "execution_count": 44,
     "metadata": {},
     "output_type": "execute_result"
    }
   ],
   "source": [
    "# JSON\n",
    "import json\n",
    "json.dumps(lProg)\n",
    "json.dumps(dict1)"
   ]
  },
  {
   "cell_type": "code",
   "execution_count": 45,
   "metadata": {},
   "outputs": [
    {
     "name": "stdout",
     "output_type": "stream",
     "text": [
      "1\n",
      "2\n",
      "3\n",
      "4\n",
      "5\n"
     ]
    }
   ],
   "source": [
    "# Arrays\n",
    "from array import *\n",
    "my_array = array('i', [1,2,3,4,5])\n",
    "for i in my_array:\n",
    "    print(i)"
   ]
  },
  {
   "cell_type": "code",
   "execution_count": 47,
   "metadata": {},
   "outputs": [
    {
     "name": "stdout",
     "output_type": "stream",
     "text": [
      "factorial has been called with n = 5\n",
      "factorial has been called with n = 4\n",
      "factorial has been called with n = 3\n",
      "factorial has been called with n = 2\n",
      "factorial has been called with n = 1\n",
      "intermediate result for  2  * factorial( 1 ):  2\n",
      "intermediate result for  3  * factorial( 2 ):  6\n",
      "intermediate result for  4  * factorial( 3 ):  24\n",
      "intermediate result for  5  * factorial( 4 ):  120\n",
      "120\n"
     ]
    }
   ],
   "source": [
    "def factorial(n):\n",
    "    print(\"factorial has been called with n = \" + str(n))\n",
    "    if n == 1:\n",
    "        return 1\n",
    "    else:\n",
    "        res = n * factorial(n-1)\n",
    "        print(\"intermediate result for \", n, \" * factorial(\" ,n-1, \"): \",res)\n",
    "        return res\t\n",
    "\n",
    "print(factorial(5))"
   ]
  },
  {
   "cell_type": "code",
   "execution_count": null,
   "metadata": {
    "collapsed": true
   },
   "outputs": [],
   "source": [
    "squares = map(lambda x: x*x, varray) # Calculate squares of velocities"
   ]
  }
 ],
 "metadata": {
  "kernelspec": {
   "display_name": "Python 3",
   "language": "python",
   "name": "python3"
  },
  "language_info": {
   "codemirror_mode": {
    "name": "ipython",
    "version": 3
   },
   "file_extension": ".py",
   "mimetype": "text/x-python",
   "name": "python",
   "nbconvert_exporter": "python",
   "pygments_lexer": "ipython3",
   "version": "3.7.3"
  },
  "nav_menu": {},
  "toc": {
   "navigate_menu": true,
   "number_sections": true,
   "sideBar": false,
   "threshold": 6,
   "toc_cell": true,
   "toc_section_display": "block",
   "toc_window_display": false
  }
 },
 "nbformat": 4,
 "nbformat_minor": 1
}
